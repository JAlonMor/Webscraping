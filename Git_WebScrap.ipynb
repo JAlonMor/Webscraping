{
  "nbformat": 4,
  "nbformat_minor": 0,
  "metadata": {
    "colab": {
      "name": "Git_WebScrap.ipynb",
      "provenance": [],
      "collapsed_sections": [],
      "mount_file_id": "1OGHh6AKYA-yLNOZk-0EodW5zhkHFsKzE",
      "authorship_tag": "ABX9TyOF47B30p+BVNAHg66sIkcq",
      "include_colab_link": true
    },
    "kernelspec": {
      "name": "python3",
      "display_name": "Python 3"
    },
    "language_info": {
      "name": "python"
    }
  },
  "cells": [
    {
      "cell_type": "markdown",
      "metadata": {
        "id": "view-in-github",
        "colab_type": "text"
      },
      "source": [
        "<a href=\"https://colab.research.google.com/github/JAlonMor/Webscraping/blob/main/Git_WebScrap.ipynb\" target=\"_parent\"><img src=\"https://colab.research.google.com/assets/colab-badge.svg\" alt=\"Open In Colab\"/></a>"
      ]
    },
    {
      "cell_type": "code",
      "source": [
        "# Instalo fake_useragent\n",
        "\n",
        "! pip install fake_useragent\n",
        "! pip install xmltojson\n",
        "! pip install utils"
      ],
      "metadata": {
        "id": "uRKXIOlyZvx_",
        "colab": {
          "base_uri": "https://localhost:8080/"
        },
        "outputId": "bfe4fccd-6543-4a63-946f-fbec86fec38d"
      },
      "execution_count": 2,
      "outputs": [
        {
          "output_type": "stream",
          "name": "stdout",
          "text": [
            "Collecting fake_useragent\n",
            "  Downloading fake-useragent-0.1.11.tar.gz (13 kB)\n",
            "Building wheels for collected packages: fake-useragent\n",
            "  Building wheel for fake-useragent (setup.py) ... \u001b[?25l\u001b[?25hdone\n",
            "  Created wheel for fake-useragent: filename=fake_useragent-0.1.11-py3-none-any.whl size=13502 sha256=e90f9b780655e4fca2653d259ddd4b34683ac606c5084b42799e6a1a1ac21ff5\n",
            "  Stored in directory: /root/.cache/pip/wheels/ed/f7/62/50ab6c9a0b5567267ab76a9daa9d06315704209b2c5d032031\n",
            "Successfully built fake-useragent\n",
            "Installing collected packages: fake-useragent\n",
            "Successfully installed fake-useragent-0.1.11\n",
            "Collecting xmltojson\n",
            "  Downloading xmltojson-2.0.1-py3-none-any.whl (7.7 kB)\n",
            "Collecting xmltodict<0.13.0,>=0.12.0\n",
            "  Downloading xmltodict-0.12.0-py2.py3-none-any.whl (9.2 kB)\n",
            "Installing collected packages: xmltodict, xmltojson\n",
            "Successfully installed xmltodict-0.12.0 xmltojson-2.0.1\n",
            "Collecting utils\n",
            "  Downloading utils-1.0.1-py2.py3-none-any.whl (21 kB)\n",
            "Installing collected packages: utils\n",
            "Successfully installed utils-1.0.1\n"
          ]
        }
      ]
    },
    {
      "cell_type": "code",
      "execution_count": 3,
      "metadata": {
        "id": "zYtXK6oe0itf"
      },
      "outputs": [],
      "source": [
        "import requests\n",
        "import json\n",
        "import csv\n",
        "import pandas as pd\n",
        "import numpy as np\n",
        "from IPython.core.display import HTML\n",
        "from bs4 import BeautifulSoup\n",
        "from urllib.parse import urljoin\n",
        "from urllib import request as urllib2\n",
        "import re\n",
        "from fake_useragent import UserAgent\n",
        "import random\n",
        "\n",
        "import time\n",
        "\n",
        "import http.client  # or http.client if you're on Python 3\n",
        "http.client._MAXHEADERS = 1000"
      ]
    },
    {
      "cell_type": "code",
      "source": [
        "# Funciones\n",
        "\n",
        "def check_url(pagina):\n",
        "    \n",
        "    languaje = ['fr-CH, fr', 'en-US,es', 'es-ES,es', 'en-US,en', 'de-CH', 'es']\n",
        "    languaje_header = random.choice(languaje)\n",
        "    \n",
        "    url_base = 'https://www.coches.net/segunda-mano/?MakeId=28&ModelId=8&MinYear=2014&pg=' +str(pagina)\n",
        "    \n",
        "    headers = {'User-Agent': 'Mozilla/5.0 (Macintosh; Intel Mac OS X 10_10_1) AppleWebKit/537.36 (KHTML, like Gecko) Chrome/39.0.2171.95 Safari/537.36'}\n",
        "    ua=UserAgent()\n",
        "    hdr = {'User-Agent': ua.random,\n",
        "          'Accept': 'text/html,application/xhtml+xml,application/xml;q=0.9,*/*;q=0.8',\n",
        "          'Accept-Charset': 'ISO-8859-1,utf-8;q=0.7,*;q=0.3',\n",
        "          'Accept-Encoding': 'none',\n",
        "          'Accept-Language': languaje_header, #+ ';q=0.9,en;q=0.8'\n",
        "          'Connection': 'keep-alive'}\n",
        "\n",
        "    r = requests.get(url_base, headers=hdr)\n",
        "    html = r.content\n",
        "    status = r.status_code\n",
        "    return status, html\n"
      ],
      "metadata": {
        "id": "N2zidje8p7yh"
      },
      "execution_count": 4,
      "outputs": []
    },
    {
      "cell_type": "code",
      "source": [
        "# Defino archivo de salida\n",
        "f_csv = 'coches_net.csv'#'coches_net.csv'\n",
        "\n",
        "\n",
        "with open(f_csv, 'w') as f:\n",
        "\n",
        "  writer = csv.writer(f)\n",
        "\n",
        "  writer.writerow(['titulo', 'precio', 'kilometros', 'año', 'combustible', 'ciudad', 'garantia', 'url'])\n",
        "\n",
        "  # Contador segun status html\n",
        "  status = 0\n",
        "  pagina = 0\n",
        "  es_ultima = False\n",
        "\n",
        "  # Genero una búsqueda en las primeras 65 páginas, con lo obtendré más de 2000 resultados\n",
        "  \n",
        "  while es_ultima == False:\n",
        "\n",
        "    pagina = pagina +1\n",
        "    \n",
        "    time.sleep(random.randrange(7,22,1))\n",
        "    url_result = check_url(pagina)\n",
        "    html_url = url_result[1]\n",
        "    status = len(html_url)\n",
        "\n",
        "    if status >= 10000:\n",
        "      \n",
        "      print('pagina ', pagina)\n",
        "        \n",
        "    \n",
        "      # Convertir a BeatifulSoup\n",
        "      soup  = BeautifulSoup(html_url,'lxml')\n",
        "\n",
        "      # Compruebo si es la última página\n",
        "      paginacion = soup.find_all('li', attrs={'class':'sui-MoleculePagination-item'})\n",
        "      paginacion\n",
        "      pagina_siguiente = paginacion[-1].find('a').get('href')\n",
        "\n",
        "      if 'null' in pagina_siguiente:\n",
        "        es_ultima == True\n",
        "      else:\n",
        "        es_ultima == False\n",
        "\n",
        "\n",
        "      scripts = soup.find_all('script')\n",
        "      script_coches = scripts[-2]\n",
        "\n",
        "      # Extraigo script\n",
        "      js = 'window = {};\\n'+script_coches.text.strip()+';\\nprocess.stdout.write(JSON.stringify(window.__INITIAL_PROPS__));'\n",
        "\n",
        "      # Exporto a archivo temporal .js y creo objeto JSON\n",
        "      with open('temp.js','w') as f:\n",
        "        f.write(js)\n",
        "\n",
        "      from subprocess import check_output\n",
        "      script_JS = check_output(['node','temp.js'])\n",
        "\n",
        "      info_coches_js = json.loads(script_JS)\n",
        "\n",
        "      # cálculo número de anuncios en cada pagina\n",
        "      items = len(info_coches_js['initialResults']['items'])\n",
        "    \n",
        "      # Itero por todos los elementos de interés del JSON\n",
        "      for item in range(0,items-1):\n",
        "\n",
        "        titulo = info_coches_js['initialResults']['items'][item]['title'] if 'title' in info_coches_js['initialResults']['items'][item] else None\n",
        "        precio = info_coches_js['initialResults']['items'][item]['price'] if 'price' in info_coches_js['initialResults']['items'][item] else None\n",
        "        kilometros = info_coches_js['initialResults']['items'][item]['km'] if 'km' in info_coches_js['initialResults']['items'][item] else None\n",
        "        año = info_coches_js['initialResults']['items'][item]['year'] if 'year' in info_coches_js['initialResults']['items'][item] else None\n",
        "        combustible = info_coches_js['initialResults']['items'][item]['fuelTypeId'] if 'fuelTypeId' in info_coches_js['initialResults']['items'][item] else None\n",
        "        ciudad = info_coches_js['initialResults']['items'][item]['location']['mainProvince'] if 'mainProvince' in info_coches_js['initialResults']['items'][item]['location'] else None\n",
        "        garantia = info_coches_js['initialResults']['items'][item]['hasWarranty'] if 'hasWarranty' in info_coches_js['initialResults']['items'][item] else None\n",
        "        url = info_coches_js['initialResults']['items'][item]['url'] if 'url' in info_coches_js['initialResults']['items'][item] else None\n",
        "\n",
        "        writer.writerow([titulo, precio, kilometros, año, combustible, ciudad, garantia, url])\n",
        "\n",
        "    else:\n",
        "\n",
        "      time.sleep(30 + random.randrange(17,200,1))\n",
        "      pagina = pagina - 1\n",
        "      es_ultima == False\n",
        "      \n",
        "    \n",
        "    \n",
        "print(status)\n",
        "print('FIN')\n",
        "\n",
        "\n",
        "\n",
        "\n",
        "\n",
        "\n",
        "\n",
        "\n",
        "\n"
      ],
      "metadata": {
        "colab": {
          "base_uri": "https://localhost:8080/",
          "height": 253
        },
        "id": "LayuFVZgiIcs",
        "outputId": "9d91f4a8-ae2c-49f4-80d4-1f3e2226d78a"
      },
      "execution_count": 7,
      "outputs": [
        {
          "output_type": "stream",
          "name": "stdout",
          "text": [
            "pagina  1\n"
          ]
        },
        {
          "output_type": "error",
          "ename": "KeyboardInterrupt",
          "evalue": "ignored",
          "traceback": [
            "\u001b[0;31m---------------------------------------------------------------------------\u001b[0m",
            "\u001b[0;31mKeyboardInterrupt\u001b[0m                         Traceback (most recent call last)",
            "\u001b[0;32m<ipython-input-7-76bf8875daaf>\u001b[0m in \u001b[0;36m<module>\u001b[0;34m()\u001b[0m\n\u001b[1;32m     20\u001b[0m     \u001b[0mpagina\u001b[0m \u001b[0;34m=\u001b[0m \u001b[0mpagina\u001b[0m \u001b[0;34m+\u001b[0m\u001b[0;36m1\u001b[0m\u001b[0;34m\u001b[0m\u001b[0;34m\u001b[0m\u001b[0m\n\u001b[1;32m     21\u001b[0m \u001b[0;34m\u001b[0m\u001b[0m\n\u001b[0;32m---> 22\u001b[0;31m     \u001b[0mtime\u001b[0m\u001b[0;34m.\u001b[0m\u001b[0msleep\u001b[0m\u001b[0;34m(\u001b[0m\u001b[0mrandom\u001b[0m\u001b[0;34m.\u001b[0m\u001b[0mrandrange\u001b[0m\u001b[0;34m(\u001b[0m\u001b[0;36m7\u001b[0m\u001b[0;34m,\u001b[0m\u001b[0;36m22\u001b[0m\u001b[0;34m,\u001b[0m\u001b[0;36m1\u001b[0m\u001b[0;34m)\u001b[0m\u001b[0;34m)\u001b[0m\u001b[0;34m\u001b[0m\u001b[0;34m\u001b[0m\u001b[0m\n\u001b[0m\u001b[1;32m     23\u001b[0m     \u001b[0murl_result\u001b[0m \u001b[0;34m=\u001b[0m \u001b[0mcheck_url\u001b[0m\u001b[0;34m(\u001b[0m\u001b[0mpagina\u001b[0m\u001b[0;34m)\u001b[0m\u001b[0;34m\u001b[0m\u001b[0;34m\u001b[0m\u001b[0m\n\u001b[1;32m     24\u001b[0m     \u001b[0mhtml_url\u001b[0m \u001b[0;34m=\u001b[0m \u001b[0murl_result\u001b[0m\u001b[0;34m[\u001b[0m\u001b[0;36m1\u001b[0m\u001b[0;34m]\u001b[0m\u001b[0;34m\u001b[0m\u001b[0;34m\u001b[0m\u001b[0m\n",
            "\u001b[0;31mKeyboardInterrupt\u001b[0m: "
          ]
        }
      ]
    },
    {
      "cell_type": "code",
      "source": [
        ""
      ],
      "metadata": {
        "id": "mD5_NOUvalkB"
      },
      "execution_count": null,
      "outputs": []
    }
  ]
}