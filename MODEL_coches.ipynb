{
  "nbformat": 4,
  "nbformat_minor": 0,
  "metadata": {
    "colab": {
      "name": "MODEL_coches.ipynb",
      "provenance": [],
      "collapsed_sections": [],
      "authorship_tag": "ABX9TyMQJNJ2Y14eRox8zQ3fgW9Y",
      "include_colab_link": true
    },
    "kernelspec": {
      "name": "python3",
      "display_name": "Python 3"
    },
    "language_info": {
      "name": "python"
    }
  },
  "cells": [
    {
      "cell_type": "markdown",
      "metadata": {
        "id": "view-in-github",
        "colab_type": "text"
      },
      "source": [
        "<a href=\"https://colab.research.google.com/github/JAlonMor/Webscraping/blob/main/MODEL_coches.ipynb\" target=\"_parent\"><img src=\"https://colab.research.google.com/assets/colab-badge.svg\" alt=\"Open In Colab\"/></a>"
      ]
    },
    {
      "cell_type": "code",
      "execution_count": 1,
      "metadata": {
        "colab": {
          "base_uri": "https://localhost:8080/"
        },
        "id": "J4NjUWX1v3xJ",
        "outputId": "aeb8fb03-ead9-4caf-af39-6bd71f6e40aa"
      },
      "outputs": [
        {
          "output_type": "stream",
          "name": "stdout",
          "text": [
            "fatal: destination path 'Webscraping' already exists and is not an empty directory.\n"
          ]
        }
      ],
      "source": [
        "# Clonar repositorio de GitHub si no está disponible\n",
        "\n",
        "import os\n",
        "curr_dir = os.getcwd()\n",
        "\n",
        "if not os.path.exists(os.path.join(curr_dir, '../.ROOT_DIR')):\n",
        "  !git clone https://github.com/JAlonMor/Webscraping.git\n",
        "  os.chdir(os.path.join(curr_dir, 'Webscraping/EDA'))"
      ]
    },
    {
      "cell_type": "code",
      "source": [
        "import numpy as np\n",
        "import pandas as pd\n",
        "import seaborn as sns\n",
        "import plotly.express as px\n",
        "import matplotlib.pyplot as plt\n",
        "%matplotlib inline\n",
        "\n",
        "import warnings\n",
        "warnings.filterwarnings('ignore')\n",
        "\n",
        "from sklearn.preprocessing import StandardScaler, Normalizer, MinMaxScaler, MaxAbsScaler\n",
        "from sklearn import preprocessing\n",
        "from sklearn.model_selection import train_test_split\n",
        "from sklearn.compose import ColumnTransformer , TransformedTargetRegressor\n",
        "from sklearn.impute import SimpleImputer\n",
        "from sklearn.ensemble import RandomForestRegressor\n",
        "from sklearn.pipeline import Pipeline\n",
        "from sklearn.preprocessing import FunctionTransformer\n",
        "from sklearn.model_selection import GridSearchCV\n",
        "from sklearn.metrics import mean_squared_error\n",
        "from sklearn.svm import SVR\n",
        "\n",
        "\n",
        "# Amplio límtes de visualización\n",
        "pd.options.display.max_rows = 200\n",
        "pd.options.display.max_colwidth = 200\n",
        "pd.options.display.max_columns = 200"
      ],
      "metadata": {
        "id": "ltfy307NwBQ8"
      },
      "execution_count": 2,
      "outputs": []
    },
    {
      "cell_type": "code",
      "source": [
        "# Creo DataFrame a partir de los datos obtenidos mediante web scraping\n",
        "\n",
        "model_coches = pd.read_csv(\"/content/Webscraping/EDA/cochesEDA_Output.csv\")"
      ],
      "metadata": {
        "id": "js4LfZphwH0j"
      },
      "execution_count": 3,
      "outputs": []
    },
    {
      "cell_type": "code",
      "source": [
        "model_coches.head()"
      ],
      "metadata": {
        "id": "KMjtoZbgwn1l",
        "outputId": "bc958b54-93d4-4e68-d69d-0f66afbb3ad8",
        "colab": {
          "base_uri": "https://localhost:8080/",
          "height": 270
        }
      },
      "execution_count": 4,
      "outputs": [
        {
          "output_type": "execute_result",
          "data": {
            "text/plain": [
              "   precio  kilometros  garantia  AMG  años  gasolina  hibrido  hib_enchufable  \\\n",
              "0   16200      281000         0    0     5         0        0               0   \n",
              "1   26900      114336         1    0     5         0        0               0   \n",
              "2   11000      287500         0    0     7         0        0               0   \n",
              "3   22900      110000         1    0     7         0        0               0   \n",
              "4   68000       10650         1    0     1         0        1               0   \n",
              "\n",
              "   tipo_200  tipo_220  tipo_250  tipo_300  tipo_350  tipo_400  tipo_43  \\\n",
              "0         0         1         0         0         0         0        0   \n",
              "1         0         1         0         0         0         0        0   \n",
              "2         0         1         0         0         0         0        0   \n",
              "3         0         1         0         0         0         0        0   \n",
              "4         0         0         0         1         0         0        0   \n",
              "\n",
              "   tipo_45  tipo_450  tipo_63  tipo_NoInfo  coupe  berlina  ranchera  4MATIC  \\\n",
              "0        0         0        0            0      0        1         0       0   \n",
              "1        0         0        0            0      0        0         1       0   \n",
              "2        0         0        0            0      0        0         1       0   \n",
              "3        0         0        0            0      0        1         0       0   \n",
              "4        0         0        0            0      0        1         0       0   \n",
              "\n",
              "   Avantgarde  BlueTEC  Sportive  Exclusive  S_Edition  d_Edition  \n",
              "0           0        0         0          0          0          0  \n",
              "1           0        0         0          0          0          0  \n",
              "2           1        0         0          0          0          0  \n",
              "3           1        0         0          0          0          0  \n",
              "4           0        0         0          0          0          0  "
            ],
            "text/html": [
              "\n",
              "  <div id=\"df-f66b4cb2-58e9-4938-a04c-8ab6e9ce6124\">\n",
              "    <div class=\"colab-df-container\">\n",
              "      <div>\n",
              "<style scoped>\n",
              "    .dataframe tbody tr th:only-of-type {\n",
              "        vertical-align: middle;\n",
              "    }\n",
              "\n",
              "    .dataframe tbody tr th {\n",
              "        vertical-align: top;\n",
              "    }\n",
              "\n",
              "    .dataframe thead th {\n",
              "        text-align: right;\n",
              "    }\n",
              "</style>\n",
              "<table border=\"1\" class=\"dataframe\">\n",
              "  <thead>\n",
              "    <tr style=\"text-align: right;\">\n",
              "      <th></th>\n",
              "      <th>precio</th>\n",
              "      <th>kilometros</th>\n",
              "      <th>garantia</th>\n",
              "      <th>AMG</th>\n",
              "      <th>años</th>\n",
              "      <th>gasolina</th>\n",
              "      <th>hibrido</th>\n",
              "      <th>hib_enchufable</th>\n",
              "      <th>tipo_200</th>\n",
              "      <th>tipo_220</th>\n",
              "      <th>tipo_250</th>\n",
              "      <th>tipo_300</th>\n",
              "      <th>tipo_350</th>\n",
              "      <th>tipo_400</th>\n",
              "      <th>tipo_43</th>\n",
              "      <th>tipo_45</th>\n",
              "      <th>tipo_450</th>\n",
              "      <th>tipo_63</th>\n",
              "      <th>tipo_NoInfo</th>\n",
              "      <th>coupe</th>\n",
              "      <th>berlina</th>\n",
              "      <th>ranchera</th>\n",
              "      <th>4MATIC</th>\n",
              "      <th>Avantgarde</th>\n",
              "      <th>BlueTEC</th>\n",
              "      <th>Sportive</th>\n",
              "      <th>Exclusive</th>\n",
              "      <th>S_Edition</th>\n",
              "      <th>d_Edition</th>\n",
              "    </tr>\n",
              "  </thead>\n",
              "  <tbody>\n",
              "    <tr>\n",
              "      <th>0</th>\n",
              "      <td>16200</td>\n",
              "      <td>281000</td>\n",
              "      <td>0</td>\n",
              "      <td>0</td>\n",
              "      <td>5</td>\n",
              "      <td>0</td>\n",
              "      <td>0</td>\n",
              "      <td>0</td>\n",
              "      <td>0</td>\n",
              "      <td>1</td>\n",
              "      <td>0</td>\n",
              "      <td>0</td>\n",
              "      <td>0</td>\n",
              "      <td>0</td>\n",
              "      <td>0</td>\n",
              "      <td>0</td>\n",
              "      <td>0</td>\n",
              "      <td>0</td>\n",
              "      <td>0</td>\n",
              "      <td>0</td>\n",
              "      <td>1</td>\n",
              "      <td>0</td>\n",
              "      <td>0</td>\n",
              "      <td>0</td>\n",
              "      <td>0</td>\n",
              "      <td>0</td>\n",
              "      <td>0</td>\n",
              "      <td>0</td>\n",
              "      <td>0</td>\n",
              "    </tr>\n",
              "    <tr>\n",
              "      <th>1</th>\n",
              "      <td>26900</td>\n",
              "      <td>114336</td>\n",
              "      <td>1</td>\n",
              "      <td>0</td>\n",
              "      <td>5</td>\n",
              "      <td>0</td>\n",
              "      <td>0</td>\n",
              "      <td>0</td>\n",
              "      <td>0</td>\n",
              "      <td>1</td>\n",
              "      <td>0</td>\n",
              "      <td>0</td>\n",
              "      <td>0</td>\n",
              "      <td>0</td>\n",
              "      <td>0</td>\n",
              "      <td>0</td>\n",
              "      <td>0</td>\n",
              "      <td>0</td>\n",
              "      <td>0</td>\n",
              "      <td>0</td>\n",
              "      <td>0</td>\n",
              "      <td>1</td>\n",
              "      <td>0</td>\n",
              "      <td>0</td>\n",
              "      <td>0</td>\n",
              "      <td>0</td>\n",
              "      <td>0</td>\n",
              "      <td>0</td>\n",
              "      <td>0</td>\n",
              "    </tr>\n",
              "    <tr>\n",
              "      <th>2</th>\n",
              "      <td>11000</td>\n",
              "      <td>287500</td>\n",
              "      <td>0</td>\n",
              "      <td>0</td>\n",
              "      <td>7</td>\n",
              "      <td>0</td>\n",
              "      <td>0</td>\n",
              "      <td>0</td>\n",
              "      <td>0</td>\n",
              "      <td>1</td>\n",
              "      <td>0</td>\n",
              "      <td>0</td>\n",
              "      <td>0</td>\n",
              "      <td>0</td>\n",
              "      <td>0</td>\n",
              "      <td>0</td>\n",
              "      <td>0</td>\n",
              "      <td>0</td>\n",
              "      <td>0</td>\n",
              "      <td>0</td>\n",
              "      <td>0</td>\n",
              "      <td>1</td>\n",
              "      <td>0</td>\n",
              "      <td>1</td>\n",
              "      <td>0</td>\n",
              "      <td>0</td>\n",
              "      <td>0</td>\n",
              "      <td>0</td>\n",
              "      <td>0</td>\n",
              "    </tr>\n",
              "    <tr>\n",
              "      <th>3</th>\n",
              "      <td>22900</td>\n",
              "      <td>110000</td>\n",
              "      <td>1</td>\n",
              "      <td>0</td>\n",
              "      <td>7</td>\n",
              "      <td>0</td>\n",
              "      <td>0</td>\n",
              "      <td>0</td>\n",
              "      <td>0</td>\n",
              "      <td>1</td>\n",
              "      <td>0</td>\n",
              "      <td>0</td>\n",
              "      <td>0</td>\n",
              "      <td>0</td>\n",
              "      <td>0</td>\n",
              "      <td>0</td>\n",
              "      <td>0</td>\n",
              "      <td>0</td>\n",
              "      <td>0</td>\n",
              "      <td>0</td>\n",
              "      <td>1</td>\n",
              "      <td>0</td>\n",
              "      <td>0</td>\n",
              "      <td>1</td>\n",
              "      <td>0</td>\n",
              "      <td>0</td>\n",
              "      <td>0</td>\n",
              "      <td>0</td>\n",
              "      <td>0</td>\n",
              "    </tr>\n",
              "    <tr>\n",
              "      <th>4</th>\n",
              "      <td>68000</td>\n",
              "      <td>10650</td>\n",
              "      <td>1</td>\n",
              "      <td>0</td>\n",
              "      <td>1</td>\n",
              "      <td>0</td>\n",
              "      <td>1</td>\n",
              "      <td>0</td>\n",
              "      <td>0</td>\n",
              "      <td>0</td>\n",
              "      <td>0</td>\n",
              "      <td>1</td>\n",
              "      <td>0</td>\n",
              "      <td>0</td>\n",
              "      <td>0</td>\n",
              "      <td>0</td>\n",
              "      <td>0</td>\n",
              "      <td>0</td>\n",
              "      <td>0</td>\n",
              "      <td>0</td>\n",
              "      <td>1</td>\n",
              "      <td>0</td>\n",
              "      <td>0</td>\n",
              "      <td>0</td>\n",
              "      <td>0</td>\n",
              "      <td>0</td>\n",
              "      <td>0</td>\n",
              "      <td>0</td>\n",
              "      <td>0</td>\n",
              "    </tr>\n",
              "  </tbody>\n",
              "</table>\n",
              "</div>\n",
              "      <button class=\"colab-df-convert\" onclick=\"convertToInteractive('df-f66b4cb2-58e9-4938-a04c-8ab6e9ce6124')\"\n",
              "              title=\"Convert this dataframe to an interactive table.\"\n",
              "              style=\"display:none;\">\n",
              "        \n",
              "  <svg xmlns=\"http://www.w3.org/2000/svg\" height=\"24px\"viewBox=\"0 0 24 24\"\n",
              "       width=\"24px\">\n",
              "    <path d=\"M0 0h24v24H0V0z\" fill=\"none\"/>\n",
              "    <path d=\"M18.56 5.44l.94 2.06.94-2.06 2.06-.94-2.06-.94-.94-2.06-.94 2.06-2.06.94zm-11 1L8.5 8.5l.94-2.06 2.06-.94-2.06-.94L8.5 2.5l-.94 2.06-2.06.94zm10 10l.94 2.06.94-2.06 2.06-.94-2.06-.94-.94-2.06-.94 2.06-2.06.94z\"/><path d=\"M17.41 7.96l-1.37-1.37c-.4-.4-.92-.59-1.43-.59-.52 0-1.04.2-1.43.59L10.3 9.45l-7.72 7.72c-.78.78-.78 2.05 0 2.83L4 21.41c.39.39.9.59 1.41.59.51 0 1.02-.2 1.41-.59l7.78-7.78 2.81-2.81c.8-.78.8-2.07 0-2.86zM5.41 20L4 18.59l7.72-7.72 1.47 1.35L5.41 20z\"/>\n",
              "  </svg>\n",
              "      </button>\n",
              "      \n",
              "  <style>\n",
              "    .colab-df-container {\n",
              "      display:flex;\n",
              "      flex-wrap:wrap;\n",
              "      gap: 12px;\n",
              "    }\n",
              "\n",
              "    .colab-df-convert {\n",
              "      background-color: #E8F0FE;\n",
              "      border: none;\n",
              "      border-radius: 50%;\n",
              "      cursor: pointer;\n",
              "      display: none;\n",
              "      fill: #1967D2;\n",
              "      height: 32px;\n",
              "      padding: 0 0 0 0;\n",
              "      width: 32px;\n",
              "    }\n",
              "\n",
              "    .colab-df-convert:hover {\n",
              "      background-color: #E2EBFA;\n",
              "      box-shadow: 0px 1px 2px rgba(60, 64, 67, 0.3), 0px 1px 3px 1px rgba(60, 64, 67, 0.15);\n",
              "      fill: #174EA6;\n",
              "    }\n",
              "\n",
              "    [theme=dark] .colab-df-convert {\n",
              "      background-color: #3B4455;\n",
              "      fill: #D2E3FC;\n",
              "    }\n",
              "\n",
              "    [theme=dark] .colab-df-convert:hover {\n",
              "      background-color: #434B5C;\n",
              "      box-shadow: 0px 1px 3px 1px rgba(0, 0, 0, 0.15);\n",
              "      filter: drop-shadow(0px 1px 2px rgba(0, 0, 0, 0.3));\n",
              "      fill: #FFFFFF;\n",
              "    }\n",
              "  </style>\n",
              "\n",
              "      <script>\n",
              "        const buttonEl =\n",
              "          document.querySelector('#df-f66b4cb2-58e9-4938-a04c-8ab6e9ce6124 button.colab-df-convert');\n",
              "        buttonEl.style.display =\n",
              "          google.colab.kernel.accessAllowed ? 'block' : 'none';\n",
              "\n",
              "        async function convertToInteractive(key) {\n",
              "          const element = document.querySelector('#df-f66b4cb2-58e9-4938-a04c-8ab6e9ce6124');\n",
              "          const dataTable =\n",
              "            await google.colab.kernel.invokeFunction('convertToInteractive',\n",
              "                                                     [key], {});\n",
              "          if (!dataTable) return;\n",
              "\n",
              "          const docLinkHtml = 'Like what you see? Visit the ' +\n",
              "            '<a target=\"_blank\" href=https://colab.research.google.com/notebooks/data_table.ipynb>data table notebook</a>'\n",
              "            + ' to learn more about interactive tables.';\n",
              "          element.innerHTML = '';\n",
              "          dataTable['output_type'] = 'display_data';\n",
              "          await google.colab.output.renderOutput(dataTable, element);\n",
              "          const docLink = document.createElement('div');\n",
              "          docLink.innerHTML = docLinkHtml;\n",
              "          element.appendChild(docLink);\n",
              "        }\n",
              "      </script>\n",
              "    </div>\n",
              "  </div>\n",
              "  "
            ]
          },
          "metadata": {},
          "execution_count": 4
        }
      ]
    },
    {
      "cell_type": "code",
      "source": [
        "# Mostramos \"precio\" con transformación logarítmica\n",
        "log_precio = np.log(model_coches.precio)\n",
        "plt.hist(log_precio, bins = 50);\n",
        "plt.title('Histograma \"Log_precio\"')"
      ],
      "metadata": {
        "colab": {
          "base_uri": "https://localhost:8080/",
          "height": 298
        },
        "id": "TCK7-faUTOqQ",
        "outputId": "0107ddbb-9ea4-427d-999c-b11fa0c48e53"
      },
      "execution_count": 5,
      "outputs": [
        {
          "output_type": "execute_result",
          "data": {
            "text/plain": [
              "Text(0.5, 1.0, 'Histograma \"Log_precio\"')"
            ]
          },
          "metadata": {},
          "execution_count": 5
        },
        {
          "output_type": "display_data",
          "data": {
            "text/plain": [
              "<Figure size 432x288 with 1 Axes>"
            ],
            "image/png": "[encoded data removed]"
          },
          "metadata": {
            "needs_background": "light"
          }
        }
      ]
    },
    {
      "cell_type": "markdown",
      "source": [
        "Pipelines\n",
        "\n",
        "Precio --> logaritmo de Precio ,\n",
        "kilometros --> MinMaxScaler ,\n",
        "año --> MinMAxScaler\n"
      ],
      "metadata": {
        "id": "wHramD9IzJIQ"
      }
    },
    {
      "cell_type": "code",
      "source": [
        "# convertimos el DataFrame al formato necesario para scikit-learn\n",
        "data_backUp = model_coches.copy()\n",
        "\n",
        "\n",
        "y = model_coches['precio']     # nos quedamos con la 1ª columna\n",
        "X = model_coches.drop(columns = 'precio')      # nos quedamos con el resto\n",
        "\n",
        "feature_names = model_coches.columns[1:]"
      ],
      "metadata": {
        "id": "iWy3I9v9GfUP"
      },
      "execution_count": 6,
      "outputs": []
    },
    {
      "cell_type": "code",
      "source": [
        "# Dividimos los datos en entrenamiento y test (75% training, 25% test)\n",
        "\n",
        "X_train, X_test, y_train, y_test = train_test_split(X, y, test_size=.25, random_state = 2)\n",
        "\n",
        "print('Datos entrenamiento: ', X_train.shape)\n",
        "print('Datos test: ', X_test.shape)"
      ],
      "metadata": {
        "colab": {
          "base_uri": "https://localhost:8080/"
        },
        "id": "bKcpEyqHE9O1",
        "outputId": "da4145d3-b1c6-454f-dd5d-694ff44504c0"
      },
      "execution_count": 7,
      "outputs": [
        {
          "output_type": "stream",
          "name": "stdout",
          "text": [
            "Datos entrenamiento:  (1445, 28)\n",
            "Datos test:  (482, 28)\n"
          ]
        }
      ]
    },
    {
      "cell_type": "code",
      "source": [
        "# Crear funciones logarítmica y exponencial para aplicar posteriormente sobre la variable objetivo a través de Pipelines\n",
        "\n",
        "def func(x):\n",
        "  '''Función logarítmica\n",
        "  '''\n",
        "  return np.log(x)\n",
        "\n",
        "def inverse_func(x):\n",
        "  '''Función exponencial\n",
        "  '''\n",
        "  return np.exp(x)"
      ],
      "metadata": {
        "id": "qd30mjtNZcP0"
      },
      "execution_count": 8,
      "outputs": []
    },
    {
      "cell_type": "code",
      "source": [
        "# Pipelines\n",
        "\n",
        "# Escalado de características 'años' y 'kilómetros'\n",
        "\n",
        "pre_process = ColumnTransformer(remainder = 'passthrough',\n",
        "                                transformers = [('scale_data_Mx_mn', MinMaxScaler(),['años','kilometros'])])\n",
        "\n",
        "# Aplicar escalado y transformación para realizar modelo RandomForestRegressor\n",
        "\n",
        "model_pipeline = Pipeline(steps = [('pre_processing', pre_process),                                   \n",
        "                                   ('random_forest', RandomForestRegressor(max_depth=10, random_state=2, bootstrap = True))])\n",
        "\n",
        "# Aplicar transformación logarítmica a variable objetivo 'precio', procesar resto de Pipelines\n",
        "\n",
        "model = TransformedTargetRegressor(regressor = model_pipeline,\n",
        "                                   func = func,\n",
        "                                   inverse_func = inverse_func)"
      ],
      "metadata": {
        "id": "XSXmSwxKFTTJ"
      },
      "execution_count": 9,
      "outputs": []
    },
    {
      "cell_type": "code",
      "source": [
        "# Entrenar modelo\n",
        "\n",
        "model.fit(X_train, y_train)"
      ],
      "metadata": {
        "colab": {
          "base_uri": "https://localhost:8080/"
        },
        "id": "bTe6R4E9FRDF",
        "outputId": "8ca12c0e-c4d0-4cd4-bc36-4d99bea3656a"
      },
      "execution_count": 10,
      "outputs": [
        {
          "output_type": "execute_result",
          "data": {
            "text/plain": [
              "TransformedTargetRegressor(func=<function func at 0x7fc7c792a0e0>,\n",
              "                           inverse_func=<function inverse_func at 0x7fc7c792a290>,\n",
              "                           regressor=Pipeline(steps=[('pre_processing',\n",
              "                                                      ColumnTransformer(remainder='passthrough',\n",
              "                                                                        transformers=[('scale_data_Mx_mn',\n",
              "                                                                                       MinMaxScaler(),\n",
              "                                                                                       ['años',\n",
              "                                                                                        'kilometros'])])),\n",
              "                                                     ('random_forest',\n",
              "                                                      RandomForestRegressor(max_depth=10,\n",
              "                                                                            random_state=2))]))"
            ]
          },
          "metadata": {},
          "execution_count": 10
        }
      ]
    },
    {
      "cell_type": "code",
      "source": [
        "# Evaluar modelo\n",
        "\n",
        "model.score(X_test, y_test)"
      ],
      "metadata": {
        "colab": {
          "base_uri": "https://localhost:8080/"
        },
        "id": "7WoisIlsXGkV",
        "outputId": "cff5b720-a0f7-4715-b645-30102c3372c2"
      },
      "execution_count": 11,
      "outputs": [
        {
          "output_type": "execute_result",
          "data": {
            "text/plain": [
              "0.8827444638338343"
            ]
          },
          "metadata": {},
          "execution_count": 11
        }
      ]
    },
    {
      "cell_type": "markdown",
      "source": [
        "Probamos diferentes parámetros para mejorar el modelo"
      ],
      "metadata": {
        "id": "MpTgt6ySc38N"
      }
    },
    {
      "cell_type": "markdown",
      "source": [
        "Realizamos GridCV\n"
      ],
      "metadata": {
        "id": "s32rkR-WrbXB"
      }
    },
    {
      "cell_type": "code",
      "source": [
        "max_depth_arr = range(1, 20+1) \n",
        "tuned_parameters = {'max_depth': max_depth_arr} \n",
        "n_folds = 3 # ponemos este valor algo bajo para que no tarde demasiado \n",
        "clf = RandomForestRegressor(random_state=0, n_estimators=100, max_features='sqrt') \n",
        "grid = GridSearchCV(clf, param_grid=tuned_parameters, cv=n_folds, return_train_score=True) \n",
        "grid.fit(X_train, y_train)\n",
        "\n",
        "print(\"best mean cross-validation score: {:.3f}\".format(grid.best_score_)) \n",
        "print(\"best parameters: {}\".format(grid.best_params_)) \n",
        "scores_test = np.array(grid.cv_results_['mean_test_score']) \n",
        "scores_train = np.array(grid.cv_results_['mean_train_score']) \n",
        "plt.plot(max_depth_arr, scores_test, '-o', label='Validación') \n",
        "plt.plot(max_depth_arr, scores_train, '-o', label='Entrenamiento') \n",
        "plt.xlabel('max_depth', fontsize=16) \n",
        "plt.ylabel('{}-fold R-squared'.format(n_folds)) \n",
        "plt.ylim((0.5, 1)) \n",
        "plt.legend()\n",
        "plt.title(\"Curvas de aprendizaje\")\n",
        "plt.show()"
      ],
      "metadata": {
        "colab": {
          "base_uri": "https://localhost:8080/",
          "height": 337
        },
        "id": "jfex57uOraXz",
        "outputId": "ec3e919f-577e-497c-8478-b1a047d5a953"
      },
      "execution_count": 12,
      "outputs": [
        {
          "output_type": "stream",
          "name": "stdout",
          "text": [
            "best mean cross-validation score: 0.900\n",
            "best parameters: {'max_depth': 16}\n"
          ]
        },
        {
          "output_type": "display_data",
          "data": {
            "text/plain": [
              "<Figure size 432x288 with 1 Axes>"
            ],
            "image/png": "[encoded data removed]"
          },
          "metadata": {
            "needs_background": "light"
          }
        }
      ]
    },
    {
      "cell_type": "markdown",
      "source": [
        "Mejor parámetro: max_depth = 16"
      ],
      "metadata": {
        "id": "6y706-WSrsKV"
      }
    },
    {
      "cell_type": "code",
      "source": [
        "clf_RFR = RandomForestRegressor(random_state=0, n_estimators= 100, max_features = 'sqrt', max_depth=16)"
      ],
      "metadata": {
        "id": "bOaJMNs2raHO"
      },
      "execution_count": 13,
      "outputs": []
    },
    {
      "cell_type": "markdown",
      "source": [
        "Repetimos Pipelines"
      ],
      "metadata": {
        "id": "gZBh0Y3qsAD_"
      }
    },
    {
      "cell_type": "code",
      "source": [
        "# Pipelines\n",
        "\n",
        "# Escalado de características 'años' y 'kilómetros'\n",
        "\n",
        "pre_process = ColumnTransformer(remainder = 'passthrough',\n",
        "                                transformers = [('scale_data_Mx_mn', MinMaxScaler(),['años','kilometros'])])\n",
        "\n",
        "# Aplicar escalado y transformación para realizar modelo RandomForestRegressor\n",
        "\n",
        "model_pipeline = Pipeline(steps = [('pre_processing', pre_process),                                   \n",
        "                                   ('random_forest', clf_RFR)])\n",
        "\n",
        "# Aplicar transformación logarítmica a variable objetivo 'precio', procesar resto de Pipelines\n",
        "\n",
        "model = TransformedTargetRegressor(regressor = model_pipeline,\n",
        "                                   func = func,\n",
        "                                   inverse_func = inverse_func)"
      ],
      "metadata": {
        "id": "w7o1jQI5rZ9O"
      },
      "execution_count": 14,
      "outputs": []
    },
    {
      "cell_type": "code",
      "source": [
        "model_RFR = model.fit(X_train, y_train)"
      ],
      "metadata": {
        "id": "LdanONk_dm9y"
      },
      "execution_count": 15,
      "outputs": []
    },
    {
      "cell_type": "code",
      "source": [
        "R2_RFR = model_RFR.score(X_test, y_test)\n",
        "R2_RFR"
      ],
      "metadata": {
        "colab": {
          "base_uri": "https://localhost:8080/"
        },
        "id": "K67ZapGDsHmQ",
        "outputId": "3296a0f9-bdd9-4f40-ab8e-3fd3d63378d1"
      },
      "execution_count": 16,
      "outputs": [
        {
          "output_type": "execute_result",
          "data": {
            "text/plain": [
              "0.900329651288172"
            ]
          },
          "metadata": {},
          "execution_count": 16
        }
      ]
    },
    {
      "cell_type": "markdown",
      "source": [
        "Analisis de los resultados"
      ],
      "metadata": {
        "id": "yVrJxVnSshbi"
      }
    },
    {
      "cell_type": "code",
      "source": [
        "rms_RFR = mean_squared_error(y_test, model_RFR.predict(X_test), squared=False)\n",
        "rms_RFR"
      ],
      "metadata": {
        "colab": {
          "base_uri": "https://localhost:8080/"
        },
        "id": "fRfM6YvkrSaK",
        "outputId": "20cbe268-a0b3-4007-98b6-6cd86d602c40"
      },
      "execution_count": 17,
      "outputs": [
        {
          "output_type": "execute_result",
          "data": {
            "text/plain": [
              "3304.969540740131"
            ]
          },
          "metadata": {},
          "execution_count": 17
        }
      ]
    },
    {
      "cell_type": "code",
      "source": [
        "# Grafico para mejor comprensión de nuestras predicciones\n",
        "plt.scatter(y_test, model_RFR.predict(X_test), color=\"blue\", label = 'Precios', alpha=0.2)\n",
        "plt.plot(range(100000), linestyle = 'dashdot', color = 'green')\n",
        "plt.xlabel('Precios reales')\n",
        "plt.ylabel('Precios predichos')\n",
        "plt.title('Precios reales Vs precios del modelo (€)')\n",
        "plt.show()"
      ],
      "metadata": {
        "colab": {
          "base_uri": "https://localhost:8080/",
          "height": 295
        },
        "id": "dpWNGk9otFU2",
        "outputId": "f64f094f-e989-4a68-8dc3-7767704328bd"
      },
      "execution_count": 18,
      "outputs": [
        {
          "output_type": "display_data",
          "data": {
            "text/plain": [
              "<Figure size 432x288 with 1 Axes>"
            ],
            "image/png": "[encoded data removed]"
          },
          "metadata": {
            "needs_background": "light"
          }
        }
      ]
    },
    {
      "cell_type": "markdown",
      "source": [
        "Modelo 2: GradientBoostingRefressor"
      ],
      "metadata": {
        "id": "TIwZbbMf8yb_"
      }
    },
    {
      "cell_type": "markdown",
      "source": [
        "Buscamos primero los mejores parámetros"
      ],
      "metadata": {
        "id": "t265fZYD_byD"
      }
    },
    {
      "cell_type": "code",
      "source": [
        "from sklearn.ensemble import GradientBoostingRegressor \n",
        "\n",
        "Niterations = [10,100,500, 800] \n",
        "learningRate = [0.1, 0.05, 0.02] \n",
        "max_depth = [1,3,5,7,9]\n",
        "n_folds = 3 \n",
        "param_grid = {'n_estimators': Niterations, 'learning_rate': learningRate, 'max_depth': max_depth} \n",
        "clf = GradientBoostingRegressor(random_state=0, max_depth=3) \n",
        "grid = GridSearchCV(clf, param_grid=param_grid, cv=n_folds) \n",
        "grid.fit(X_train, y_train) \n",
        "print(\"best mean cross-validation score: {:.3f}\".format(grid.best_score_)) \n",
        "print(\"best parameters: {}\".format(grid.best_params_))"
      ],
      "metadata": {
        "colab": {
          "base_uri": "https://localhost:8080/"
        },
        "id": "kfHrUpFgtjXt",
        "outputId": "eb67b3e1-5ffd-4ccb-cc88-2c7ab048f3dc"
      },
      "execution_count": 26,
      "outputs": [
        {
          "output_type": "stream",
          "name": "stdout",
          "text": [
            "best mean cross-validation score: 0.899\n",
            "best parameters: {'learning_rate': 0.05, 'max_depth': 3, 'n_estimators': 500}\n"
          ]
        }
      ]
    },
    {
      "cell_type": "code",
      "source": [
        "bt = GradientBoostingRegressor(random_state=0, **grid.best_params_) \n",
        "bt.fit(X_train, y_train) \n",
        "error = 1-grid.cv_results_['mean_test_score'].reshape(len(learningRate), len(Niterations), len(max_depth)) \n",
        "colors = ['r', 'b', 'g', 'k', 'm'] \n",
        "for i, lr in enumerate(learningRate): \n",
        "  plt.plot(Niterations,error[i,:],colors[i] + '--o', label='lr = %g' % lr) \n",
        "\n",
        "plt.legend() \n",
        "plt.xlabel('# iteraciones') \n",
        "plt.ylabel('{}-fold CV Error'.format(n_folds)) \n",
        "plt.title('train: %0.3f\\ntest: %0.3f' % (bt.score(X_train, y_train), bt.score(X_test, y_test))) \n",
        "plt.ylim(0.09,0.2)\n",
        "plt.grid() \n",
        "plt.show()"
      ],
      "metadata": {
        "colab": {
          "base_uri": "https://localhost:8080/",
          "height": 310
        },
        "id": "gNZym9kb9oXz",
        "outputId": "0c54e4fa-68d6-45e4-9aa8-611d595eb8fa"
      },
      "execution_count": 27,
      "outputs": [
        {
          "output_type": "display_data",
          "data": {
            "text/plain": [
              "<Figure size 432x288 with 1 Axes>"
            ],
            "image/png": "[encoded data removed]"
          },
          "metadata": {
            "needs_background": "light"
          }
        }
      ]
    },
    {
      "cell_type": "markdown",
      "source": [
        "Aplicamos mejores parámetros"
      ],
      "metadata": {
        "id": "KZ8v5NjUAhW9"
      }
    },
    {
      "cell_type": "code",
      "source": [
        "# Tras probar con los valores max_depth=3 y max_depth=5, vemos que tenemos menor RMSE con 5\n",
        "\n",
        "clf_GBR = GradientBoostingRegressor(random_state=0, n_estimators= 500, learning_rate = 0.05, max_features = 'sqrt', max_depth=5)"
      ],
      "metadata": {
        "id": "Eau-fLzM-U0-"
      },
      "execution_count": 28,
      "outputs": []
    },
    {
      "cell_type": "code",
      "source": [
        "# Pipelines\n",
        "\n",
        "# Escalado de características 'años' y 'kilómetros'\n",
        "\n",
        "pre_process = ColumnTransformer(remainder = 'passthrough',\n",
        "                                transformers = [('scale_data_Mx_mn', MinMaxScaler(),['años','kilometros'])])\n",
        "\n",
        "# Aplicar escalado y transformación para realizar modelo RandomForestRegressor\n",
        "\n",
        "model_pipeline = Pipeline(steps = [('pre_processing', pre_process),                                   \n",
        "                                   ('random_forest', clf_GBR)])\n",
        "\n",
        "# Aplicar transformación logarítmica a variable objetivo 'precio', procesar resto de Pipelines\n",
        "\n",
        "model = TransformedTargetRegressor(regressor = model_pipeline,\n",
        "                                   func = func,\n",
        "                                   inverse_func = inverse_func)"
      ],
      "metadata": {
        "id": "rnT6d9y2A1Xf"
      },
      "execution_count": 29,
      "outputs": []
    },
    {
      "cell_type": "code",
      "source": [
        "model_GBR = model.fit(X_train, y_train)"
      ],
      "metadata": {
        "id": "AD0dvUMSA4eI"
      },
      "execution_count": 30,
      "outputs": []
    },
    {
      "cell_type": "code",
      "source": [
        "R2_GBR = model_GBR.score(X_test, y_test)\n",
        "R2_GBR"
      ],
      "metadata": {
        "colab": {
          "base_uri": "https://localhost:8080/"
        },
        "id": "D57VKuaMA633",
        "outputId": "eff1bb3c-3099-49ce-9315-30c124ee204e"
      },
      "execution_count": 31,
      "outputs": [
        {
          "output_type": "execute_result",
          "data": {
            "text/plain": [
              "0.9081637740292228"
            ]
          },
          "metadata": {},
          "execution_count": 31
        }
      ]
    },
    {
      "cell_type": "code",
      "source": [
        "rms_GBR = mean_squared_error(y_test, model_GBR.predict(X_test), squared=False)\n",
        "rms_GBR"
      ],
      "metadata": {
        "colab": {
          "base_uri": "https://localhost:8080/"
        },
        "id": "LuJZ617PBAlH",
        "outputId": "5c0b4ae5-b5c3-493b-ad20-c12bdb1a0495"
      },
      "execution_count": 32,
      "outputs": [
        {
          "output_type": "execute_result",
          "data": {
            "text/plain": [
              "3172.425897048429"
            ]
          },
          "metadata": {},
          "execution_count": 32
        }
      ]
    },
    {
      "cell_type": "code",
      "source": [
        "# Grafico para mejor comprensión de nuestras predicciones\n",
        "plt.scatter(y_test, model_GBR.predict(X_test), color=\"blue\", label = 'Precios', alpha=0.2)\n",
        "plt.plot(range(100000), linestyle = 'dashdot', color = 'green')\n",
        "plt.xlabel('Precios reales')\n",
        "plt.ylabel('Precios predichos')\n",
        "plt.title('Precios reales Vs precios del modelo (€)')\n",
        "plt.show()"
      ],
      "metadata": {
        "colab": {
          "base_uri": "https://localhost:8080/",
          "height": 295
        },
        "id": "ociefqLoBFnX",
        "outputId": "bf488456-9eee-420c-cd45-07bf88cd6567"
      },
      "execution_count": 33,
      "outputs": [
        {
          "output_type": "display_data",
          "data": {
            "text/plain": [
              "<Figure size 432x288 with 1 Axes>"
            ],
            "image/png": "[encoded data removed]"
          },
          "metadata": {
            "needs_background": "light"
          }
        }
      ]
    },
    {
      "cell_type": "markdown",
      "source": [
        "Modelo 3: Support Vector Regressor"
      ],
      "metadata": {
        "id": "bftjPzy7FalQ"
      }
    },
    {
      "cell_type": "code",
      "source": [
        "''' Ejecutar sólo para calcular hiperparámetros, tarda mucho tiempo en ejecutar \n",
        "\n",
        "vectorC = np.logspace(-2, 100, 3) # (-2,2,5)\n",
        "vectorG = np.logspace(-5, 1, 2)  # (-5, 1, 4)\n",
        "param_grid = {'C': vectorC, 'gamma': vectorG}  # vectorG\n",
        "n_folds = 2\n",
        "\n",
        "grid = GridSearchCV(SVR(kernel='poly'), param_grid=param_grid, cv=n_folds, verbose=1) \n",
        "grid.fit(X_train, y_train)\n",
        "\n",
        "print(\"best mean cross-validation score: {:.3f}\".format(grid.best_score_)) \n",
        "print(\"best parameters: {}\".format(grid.best_params_))\n",
        "'''\n"
      ],
      "metadata": {
        "colab": {
          "base_uri": "https://localhost:8080/",
          "height": 87
        },
        "id": "fLZe5s-xBk43",
        "outputId": "896823ea-df8b-4f8c-8c4d-0653ae810bca"
      },
      "execution_count": 34,
      "outputs": [
        {
          "output_type": "execute_result",
          "data": {
            "text/plain": [
              "' Ejecutar sólo para calcular hiperparámetros, tarda mucho tiempo en ejecutar \\n\\nvectorC = np.logspace(-2, 100, 3) # (-2,2,5)\\nvectorG = np.logspace(-5, 1, 2)  # (-5, 1, 4)\\nparam_grid = {\\'C\\': vectorC, \\'gamma\\': vectorG}  # vectorG\\nn_folds = 2\\n\\ngrid = GridSearchCV(SVR(kernel=\\'poly\\'), param_grid=param_grid, cv=n_folds, verbose=1) \\ngrid.fit(X_train, y_train)\\n\\nprint(\"best mean cross-validation score: {:.3f}\".format(grid.best_score_)) \\nprint(\"best parameters: {}\".format(grid.best_params_))\\n'"
            ],
            "application/vnd.google.colaboratory.intrinsic+json": {
              "type": "string"
            }
          },
          "metadata": {},
          "execution_count": 34
        }
      ]
    },
    {
      "cell_type": "code",
      "source": [
        "# Aplicamos parámetros obtenidos\n",
        "clf_SVR = SVR(kernel = 'rbf', gamma = 1e-05, C = 100.0)"
      ],
      "metadata": {
        "id": "uV1FSd36GMdG"
      },
      "execution_count": 35,
      "outputs": []
    },
    {
      "cell_type": "markdown",
      "source": [
        "# Aplicamos parámetros obtenidos\n",
        "clf = SVR(kernel = 'rbf', gamma = 1e-05, C = 100.0)"
      ],
      "metadata": {
        "id": "O6kWZ5W_Vzrq"
      }
    },
    {
      "cell_type": "code",
      "source": [
        "# Pipelines\n",
        "\n",
        "# Escalado de características 'años' y 'kilómetros'\n",
        "\n",
        "pre_process = ColumnTransformer(remainder = 'passthrough',\n",
        "                                transformers = [('scale_data_Mx_mn', MinMaxScaler(),['años','kilometros'])])\n",
        "\n",
        "# Aplicar escalado y transformación para realizar modelo RandomForestRegressor\n",
        "\n",
        "model_pipeline = Pipeline(steps = [('pre_processing', pre_process),                                   \n",
        "                                   ('random_forest', clf_SVR)])\n",
        "\n",
        "# Aplicar transformación logarítmica a variable objetivo 'precio', procesar resto de Pipelines\n",
        "\n",
        "model = TransformedTargetRegressor(regressor = model_pipeline,\n",
        "                                   func = func,\n",
        "                                   inverse_func = inverse_func)"
      ],
      "metadata": {
        "id": "mOPK2V9SHEmH"
      },
      "execution_count": 36,
      "outputs": []
    },
    {
      "cell_type": "code",
      "source": [
        "model_SVR = model.fit(X_train, y_train)"
      ],
      "metadata": {
        "id": "b_vfBq-AHNP4"
      },
      "execution_count": 37,
      "outputs": []
    },
    {
      "cell_type": "code",
      "source": [
        "R2_SVR = model_SVR.score(X_test, y_test)\n",
        "R2_SVR"
      ],
      "metadata": {
        "colab": {
          "base_uri": "https://localhost:8080/"
        },
        "id": "7jwE22YqHPXv",
        "outputId": "a01fe488-f1ab-4918-a8f6-7381a0b20fea"
      },
      "execution_count": 38,
      "outputs": [
        {
          "output_type": "execute_result",
          "data": {
            "text/plain": [
              "0.5829437092350545"
            ]
          },
          "metadata": {},
          "execution_count": 38
        }
      ]
    },
    {
      "cell_type": "code",
      "source": [
        "rms_SVR = mean_squared_error(y_test, model_SVR.predict(X_test), squared=False)\n",
        "rms_SVR"
      ],
      "metadata": {
        "colab": {
          "base_uri": "https://localhost:8080/"
        },
        "id": "42CFL3KIHTCY",
        "outputId": "5faf2063-db6e-4196-8834-d92c9853184a"
      },
      "execution_count": 39,
      "outputs": [
        {
          "output_type": "execute_result",
          "data": {
            "text/plain": [
              "6760.546598781215"
            ]
          },
          "metadata": {},
          "execution_count": 39
        }
      ]
    },
    {
      "cell_type": "markdown",
      "source": [
        "Con kernel = 'rbf' => R2 = 0.582943, RMS = 6760.5465"
      ],
      "metadata": {
        "id": "ihvSBV_iIaDT"
      }
    },
    {
      "cell_type": "code",
      "source": [
        "# Grafico para mejor comprensión de nuestras predicciones\n",
        "plt.scatter(y_test, model_SVR.predict(X_test), color=\"blue\", label = 'Precios', alpha=0.2)\n",
        "plt.plot(range(100000), linestyle = 'dashdot', color = 'green')\n",
        "plt.xlabel('Precios reales')\n",
        "plt.ylabel('Precios predichos')\n",
        "plt.title('Precios reales Vs precios del modelo (€)')\n",
        "plt.show()"
      ],
      "metadata": {
        "id": "_6uiflZPS3vu",
        "colab": {
          "base_uri": "https://localhost:8080/",
          "height": 295
        },
        "outputId": "709fdabd-a0e8-4739-fc47-d909a1d17475"
      },
      "execution_count": 40,
      "outputs": [
        {
          "output_type": "display_data",
          "data": {
            "text/plain": [
              "<Figure size 432x288 with 1 Axes>"
            ],
            "image/png": "[encoded data removed]"
          },
          "metadata": {
            "needs_background": "light"
          }
        }
      ]
    },
    {
      "cell_type": "code",
      "source": [
        "### Probar un último modelo \"LinearSVR\""
      ],
      "metadata": {
        "id": "dehJ3MAzOEAV"
      },
      "execution_count": 41,
      "outputs": []
    },
    {
      "cell_type": "code",
      "source": [
        ""
      ],
      "metadata": {
        "id": "UVTDWBlb-MY7"
      },
      "execution_count": null,
      "outputs": []
    }
  ]
}