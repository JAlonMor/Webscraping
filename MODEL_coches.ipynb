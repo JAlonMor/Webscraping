{
  "nbformat": 4,
  "nbformat_minor": 0,
  "metadata": {
    "colab": {
      "name": "MODEL_coches.ipynb",
      "provenance": [],
      "collapsed_sections": [],
      "authorship_tag": "ABX9TyOPBbwZi+RZxiNzS4AtYUyl",
      "include_colab_link": true
    },
    "kernelspec": {
      "name": "python3",
      "display_name": "Python 3"
    },
    "language_info": {
      "name": "python"
    }
  },
  "cells": [
    {
      "cell_type": "markdown",
      "metadata": {
        "id": "view-in-github",
        "colab_type": "text"
      },
      "source": [
        "<a href=\"https://colab.research.google.com/github/JAlonMor/Webscraping/blob/main/MODEL_coches.ipynb\" target=\"_parent\"><img src=\"https://colab.research.google.com/assets/colab-badge.svg\" alt=\"Open In Colab\"/></a>"
      ]
    },
    {
      "cell_type": "code",
      "execution_count": 1,
      "metadata": {
        "colab": {
          "base_uri": "https://localhost:8080/"
        },
        "id": "J4NjUWX1v3xJ",
        "outputId": "adab098c-96da-46dc-f8de-1e2e690c7142"
      },
      "outputs": [
        {
          "output_type": "stream",
          "name": "stdout",
          "text": [
            "Cloning into 'Webscraping'...\n",
            "remote: Enumerating objects: 84, done.\u001b[K\n",
            "remote: Counting objects: 100% (84/84), done.\u001b[K\n",
            "remote: Compressing objects: 100% (79/79), done.\u001b[K\n",
            "remote: Total 84 (delta 41), reused 0 (delta 0), pack-reused 0\u001b[K\n",
            "Unpacking objects: 100% (84/84), done.\n"
          ]
        }
      ],
      "source": [
        "# Clonar repositorio de GitHub si no está disponible\n",
        "\n",
        "import os\n",
        "curr_dir = os.getcwd()\n",
        "\n",
        "if not os.path.exists(os.path.join(curr_dir, '../.ROOT_DIR')):\n",
        "  !git clone https://github.com/JAlonMor/Webscraping.git\n",
        "  os.chdir(os.path.join(curr_dir, 'Webscraping/EDA'))"
      ]
    },
    {
      "cell_type": "code",
      "source": [
        "import numpy as np\n",
        "import pandas as pd\n",
        "import seaborn as sns\n",
        "import plotly.express as px\n",
        "import matplotlib.pyplot as plt\n",
        "%matplotlib inline\n",
        "\n",
        "import warnings\n",
        "warnings.filterwarnings('ignore')\n",
        "\n",
        "# Amplio límtes de visualización\n",
        "pd.options.display.max_rows = 200\n",
        "pd.options.display.max_colwidth = 200\n",
        "pd.options.display.max_columns = 200"
      ],
      "metadata": {
        "id": "ltfy307NwBQ8"
      },
      "execution_count": 2,
      "outputs": []
    },
    {
      "cell_type": "code",
      "source": [
        "# Creo DataFrame a partir de los datos obtenidos mediante web scraping\n",
        "\n",
        "model_coches = pd.read_csv(\"/content/Webscraping/EDA/cochesEDA_Output.csv\")"
      ],
      "metadata": {
        "id": "js4LfZphwH0j"
      },
      "execution_count": 3,
      "outputs": []
    },
    {
      "cell_type": "code",
      "source": [
        "model_coches.head()"
      ],
      "metadata": {
        "id": "KMjtoZbgwn1l",
        "outputId": "55d2a65d-b399-4ee9-ee14-fd00565a0da8",
        "colab": {
          "base_uri": "https://localhost:8080/",
          "height": 270
        }
      },
      "execution_count": 4,
      "outputs": [
        {
          "output_type": "execute_result",
          "data": {
            "text/plain": [
              "   precio  kilometros  garantia  AMG  años  gasolina  hibrido  hib_enchufable  \\\n",
              "0   16200      281000         0    0     5         0        0               0   \n",
              "1   26900      114336         1    0     5         0        0               0   \n",
              "2   11000      287500         0    0     7         0        0               0   \n",
              "3   22900      110000         1    0     7         0        0               0   \n",
              "4   68000       10650         1    0     1         0        1               0   \n",
              "\n",
              "   tipo_200  tipo_220  tipo_250  tipo_300  tipo_350  tipo_400  tipo_43  \\\n",
              "0         0         1         0         0         0         0        0   \n",
              "1         0         1         0         0         0         0        0   \n",
              "2         0         1         0         0         0         0        0   \n",
              "3         0         1         0         0         0         0        0   \n",
              "4         0         0         0         1         0         0        0   \n",
              "\n",
              "   tipo_45  tipo_450  tipo_63  tipo_NoInfo  coupe  berlina  ranchera  4MATIC  \\\n",
              "0        0         0        0            0      0        1         0       0   \n",
              "1        0         0        0            0      0        0         1       0   \n",
              "2        0         0        0            0      0        0         1       0   \n",
              "3        0         0        0            0      0        1         0       0   \n",
              "4        0         0        0            0      0        1         0       0   \n",
              "\n",
              "   Avantgarde  BlueTEC  Sportive  Exclusive  S_Edition  d_Edition  \n",
              "0           0        0         0          0          0          0  \n",
              "1           0        0         0          0          0          0  \n",
              "2           1        0         0          0          0          0  \n",
              "3           1        0         0          0          0          0  \n",
              "4           0        0         0          0          0          0  "
            ],
            "text/html": [
              "\n",
              "  <div id=\"df-8ea81f20-be13-42fe-b6e6-6f2d54fb7847\">\n",
              "    <div class=\"colab-df-container\">\n",
              "      <div>\n",
              "<style scoped>\n",
              "    .dataframe tbody tr th:only-of-type {\n",
              "        vertical-align: middle;\n",
              "    }\n",
              "\n",
              "    .dataframe tbody tr th {\n",
              "        vertical-align: top;\n",
              "    }\n",
              "\n",
              "    .dataframe thead th {\n",
              "        text-align: right;\n",
              "    }\n",
              "</style>\n",
              "<table border=\"1\" class=\"dataframe\">\n",
              "  <thead>\n",
              "    <tr style=\"text-align: right;\">\n",
              "      <th></th>\n",
              "      <th>precio</th>\n",
              "      <th>kilometros</th>\n",
              "      <th>garantia</th>\n",
              "      <th>AMG</th>\n",
              "      <th>años</th>\n",
              "      <th>gasolina</th>\n",
              "      <th>hibrido</th>\n",
              "      <th>hib_enchufable</th>\n",
              "      <th>tipo_200</th>\n",
              "      <th>tipo_220</th>\n",
              "      <th>tipo_250</th>\n",
              "      <th>tipo_300</th>\n",
              "      <th>tipo_350</th>\n",
              "      <th>tipo_400</th>\n",
              "      <th>tipo_43</th>\n",
              "      <th>tipo_45</th>\n",
              "      <th>tipo_450</th>\n",
              "      <th>tipo_63</th>\n",
              "      <th>tipo_NoInfo</th>\n",
              "      <th>coupe</th>\n",
              "      <th>berlina</th>\n",
              "      <th>ranchera</th>\n",
              "      <th>4MATIC</th>\n",
              "      <th>Avantgarde</th>\n",
              "      <th>BlueTEC</th>\n",
              "      <th>Sportive</th>\n",
              "      <th>Exclusive</th>\n",
              "      <th>S_Edition</th>\n",
              "      <th>d_Edition</th>\n",
              "    </tr>\n",
              "  </thead>\n",
              "  <tbody>\n",
              "    <tr>\n",
              "      <th>0</th>\n",
              "      <td>16200</td>\n",
              "      <td>281000</td>\n",
              "      <td>0</td>\n",
              "      <td>0</td>\n",
              "      <td>5</td>\n",
              "      <td>0</td>\n",
              "      <td>0</td>\n",
              "      <td>0</td>\n",
              "      <td>0</td>\n",
              "      <td>1</td>\n",
              "      <td>0</td>\n",
              "      <td>0</td>\n",
              "      <td>0</td>\n",
              "      <td>0</td>\n",
              "      <td>0</td>\n",
              "      <td>0</td>\n",
              "      <td>0</td>\n",
              "      <td>0</td>\n",
              "      <td>0</td>\n",
              "      <td>0</td>\n",
              "      <td>1</td>\n",
              "      <td>0</td>\n",
              "      <td>0</td>\n",
              "      <td>0</td>\n",
              "      <td>0</td>\n",
              "      <td>0</td>\n",
              "      <td>0</td>\n",
              "      <td>0</td>\n",
              "      <td>0</td>\n",
              "    </tr>\n",
              "    <tr>\n",
              "      <th>1</th>\n",
              "      <td>26900</td>\n",
              "      <td>114336</td>\n",
              "      <td>1</td>\n",
              "      <td>0</td>\n",
              "      <td>5</td>\n",
              "      <td>0</td>\n",
              "      <td>0</td>\n",
              "      <td>0</td>\n",
              "      <td>0</td>\n",
              "      <td>1</td>\n",
              "      <td>0</td>\n",
              "      <td>0</td>\n",
              "      <td>0</td>\n",
              "      <td>0</td>\n",
              "      <td>0</td>\n",
              "      <td>0</td>\n",
              "      <td>0</td>\n",
              "      <td>0</td>\n",
              "      <td>0</td>\n",
              "      <td>0</td>\n",
              "      <td>0</td>\n",
              "      <td>1</td>\n",
              "      <td>0</td>\n",
              "      <td>0</td>\n",
              "      <td>0</td>\n",
              "      <td>0</td>\n",
              "      <td>0</td>\n",
              "      <td>0</td>\n",
              "      <td>0</td>\n",
              "    </tr>\n",
              "    <tr>\n",
              "      <th>2</th>\n",
              "      <td>11000</td>\n",
              "      <td>287500</td>\n",
              "      <td>0</td>\n",
              "      <td>0</td>\n",
              "      <td>7</td>\n",
              "      <td>0</td>\n",
              "      <td>0</td>\n",
              "      <td>0</td>\n",
              "      <td>0</td>\n",
              "      <td>1</td>\n",
              "      <td>0</td>\n",
              "      <td>0</td>\n",
              "      <td>0</td>\n",
              "      <td>0</td>\n",
              "      <td>0</td>\n",
              "      <td>0</td>\n",
              "      <td>0</td>\n",
              "      <td>0</td>\n",
              "      <td>0</td>\n",
              "      <td>0</td>\n",
              "      <td>0</td>\n",
              "      <td>1</td>\n",
              "      <td>0</td>\n",
              "      <td>1</td>\n",
              "      <td>0</td>\n",
              "      <td>0</td>\n",
              "      <td>0</td>\n",
              "      <td>0</td>\n",
              "      <td>0</td>\n",
              "    </tr>\n",
              "    <tr>\n",
              "      <th>3</th>\n",
              "      <td>22900</td>\n",
              "      <td>110000</td>\n",
              "      <td>1</td>\n",
              "      <td>0</td>\n",
              "      <td>7</td>\n",
              "      <td>0</td>\n",
              "      <td>0</td>\n",
              "      <td>0</td>\n",
              "      <td>0</td>\n",
              "      <td>1</td>\n",
              "      <td>0</td>\n",
              "      <td>0</td>\n",
              "      <td>0</td>\n",
              "      <td>0</td>\n",
              "      <td>0</td>\n",
              "      <td>0</td>\n",
              "      <td>0</td>\n",
              "      <td>0</td>\n",
              "      <td>0</td>\n",
              "      <td>0</td>\n",
              "      <td>1</td>\n",
              "      <td>0</td>\n",
              "      <td>0</td>\n",
              "      <td>1</td>\n",
              "      <td>0</td>\n",
              "      <td>0</td>\n",
              "      <td>0</td>\n",
              "      <td>0</td>\n",
              "      <td>0</td>\n",
              "    </tr>\n",
              "    <tr>\n",
              "      <th>4</th>\n",
              "      <td>68000</td>\n",
              "      <td>10650</td>\n",
              "      <td>1</td>\n",
              "      <td>0</td>\n",
              "      <td>1</td>\n",
              "      <td>0</td>\n",
              "      <td>1</td>\n",
              "      <td>0</td>\n",
              "      <td>0</td>\n",
              "      <td>0</td>\n",
              "      <td>0</td>\n",
              "      <td>1</td>\n",
              "      <td>0</td>\n",
              "      <td>0</td>\n",
              "      <td>0</td>\n",
              "      <td>0</td>\n",
              "      <td>0</td>\n",
              "      <td>0</td>\n",
              "      <td>0</td>\n",
              "      <td>0</td>\n",
              "      <td>1</td>\n",
              "      <td>0</td>\n",
              "      <td>0</td>\n",
              "      <td>0</td>\n",
              "      <td>0</td>\n",
              "      <td>0</td>\n",
              "      <td>0</td>\n",
              "      <td>0</td>\n",
              "      <td>0</td>\n",
              "    </tr>\n",
              "  </tbody>\n",
              "</table>\n",
              "</div>\n",
              "      <button class=\"colab-df-convert\" onclick=\"convertToInteractive('df-8ea81f20-be13-42fe-b6e6-6f2d54fb7847')\"\n",
              "              title=\"Convert this dataframe to an interactive table.\"\n",
              "              style=\"display:none;\">\n",
              "        \n",
              "  <svg xmlns=\"http://www.w3.org/2000/svg\" height=\"24px\"viewBox=\"0 0 24 24\"\n",
              "       width=\"24px\">\n",
              "    <path d=\"M0 0h24v24H0V0z\" fill=\"none\"/>\n",
              "    <path d=\"M18.56 5.44l.94 2.06.94-2.06 2.06-.94-2.06-.94-.94-2.06-.94 2.06-2.06.94zm-11 1L8.5 8.5l.94-2.06 2.06-.94-2.06-.94L8.5 2.5l-.94 2.06-2.06.94zm10 10l.94 2.06.94-2.06 2.06-.94-2.06-.94-.94-2.06-.94 2.06-2.06.94z\"/><path d=\"M17.41 7.96l-1.37-1.37c-.4-.4-.92-.59-1.43-.59-.52 0-1.04.2-1.43.59L10.3 9.45l-7.72 7.72c-.78.78-.78 2.05 0 2.83L4 21.41c.39.39.9.59 1.41.59.51 0 1.02-.2 1.41-.59l7.78-7.78 2.81-2.81c.8-.78.8-2.07 0-2.86zM5.41 20L4 18.59l7.72-7.72 1.47 1.35L5.41 20z\"/>\n",
              "  </svg>\n",
              "      </button>\n",
              "      \n",
              "  <style>\n",
              "    .colab-df-container {\n",
              "      display:flex;\n",
              "      flex-wrap:wrap;\n",
              "      gap: 12px;\n",
              "    }\n",
              "\n",
              "    .colab-df-convert {\n",
              "      background-color: #E8F0FE;\n",
              "      border: none;\n",
              "      border-radius: 50%;\n",
              "      cursor: pointer;\n",
              "      display: none;\n",
              "      fill: #1967D2;\n",
              "      height: 32px;\n",
              "      padding: 0 0 0 0;\n",
              "      width: 32px;\n",
              "    }\n",
              "\n",
              "    .colab-df-convert:hover {\n",
              "      background-color: #E2EBFA;\n",
              "      box-shadow: 0px 1px 2px rgba(60, 64, 67, 0.3), 0px 1px 3px 1px rgba(60, 64, 67, 0.15);\n",
              "      fill: #174EA6;\n",
              "    }\n",
              "\n",
              "    [theme=dark] .colab-df-convert {\n",
              "      background-color: #3B4455;\n",
              "      fill: #D2E3FC;\n",
              "    }\n",
              "\n",
              "    [theme=dark] .colab-df-convert:hover {\n",
              "      background-color: #434B5C;\n",
              "      box-shadow: 0px 1px 3px 1px rgba(0, 0, 0, 0.15);\n",
              "      filter: drop-shadow(0px 1px 2px rgba(0, 0, 0, 0.3));\n",
              "      fill: #FFFFFF;\n",
              "    }\n",
              "  </style>\n",
              "\n",
              "      <script>\n",
              "        const buttonEl =\n",
              "          document.querySelector('#df-8ea81f20-be13-42fe-b6e6-6f2d54fb7847 button.colab-df-convert');\n",
              "        buttonEl.style.display =\n",
              "          google.colab.kernel.accessAllowed ? 'block' : 'none';\n",
              "\n",
              "        async function convertToInteractive(key) {\n",
              "          const element = document.querySelector('#df-8ea81f20-be13-42fe-b6e6-6f2d54fb7847');\n",
              "          const dataTable =\n",
              "            await google.colab.kernel.invokeFunction('convertToInteractive',\n",
              "                                                     [key], {});\n",
              "          if (!dataTable) return;\n",
              "\n",
              "          const docLinkHtml = 'Like what you see? Visit the ' +\n",
              "            '<a target=\"_blank\" href=https://colab.research.google.com/notebooks/data_table.ipynb>data table notebook</a>'\n",
              "            + ' to learn more about interactive tables.';\n",
              "          element.innerHTML = '';\n",
              "          dataTable['output_type'] = 'display_data';\n",
              "          await google.colab.output.renderOutput(dataTable, element);\n",
              "          const docLink = document.createElement('div');\n",
              "          docLink.innerHTML = docLinkHtml;\n",
              "          element.appendChild(docLink);\n",
              "        }\n",
              "      </script>\n",
              "    </div>\n",
              "  </div>\n",
              "  "
            ]
          },
          "metadata": {},
          "execution_count": 4
        }
      ]
    },
    {
      "cell_type": "code",
      "source": [
        "# convertimos el DataFrame al formato necesario para scikit-learn\n",
        "data = model_coches.values.copy()\n",
        "\n",
        "\n",
        "y = np.log10(data[:, 0])     # nos quedamos con la 1ª columna, log-price. Importante para juntar más los datos\n",
        "X = data[:, 1:]      # nos quedamos con el resto\n",
        "\n",
        "feature_names = model_coches.columns[1:]"
      ],
      "metadata": {
        "id": "iWy3I9v9GfUP"
      },
      "execution_count": 7,
      "outputs": []
    },
    {
      "cell_type": "code",
      "source": [
        "plt.hist(y)"
      ],
      "metadata": {
        "colab": {
          "base_uri": "https://localhost:8080/",
          "height": 352
        },
        "id": "NxVDI649GxNG",
        "outputId": "ac3a66c1-dc65-4a8e-c3d9-2ffa547cce67"
      },
      "execution_count": 12,
      "outputs": [
        {
          "output_type": "execute_result",
          "data": {
            "text/plain": [
              "(array([  6.,   7.,  32., 192., 630., 582., 304., 115.,  47.,  12.]),\n",
              " array([3.87506126, 3.98963269, 4.10420411, 4.21877553, 4.33334695,\n",
              "        4.44791838, 4.5624898 , 4.67706122, 4.79163264, 4.90620407,\n",
              "        5.02077549]),\n",
              " <a list of 10 Patch objects>)"
            ]
          },
          "metadata": {},
          "execution_count": 12
        },
        {
          "output_type": "display_data",
          "data": {
            "text/plain": [
              "<Figure size 432x288 with 1 Axes>"
            ],
            "image/png": "[encoded data removed]"
          },
          "metadata": {
            "needs_background": "light"
          }
        }
      ]
    },
    {
      "cell_type": "code",
      "source": [
        "plt.hist(model_coches['precio'])"
      ],
      "metadata": {
        "colab": {
          "base_uri": "https://localhost:8080/",
          "height": 334
        },
        "id": "RlDWaQnkG2-P",
        "outputId": "e3f67a41-898e-4b66-dd5f-e0f64e15ea4d"
      },
      "execution_count": 13,
      "outputs": [
        {
          "output_type": "execute_result",
          "data": {
            "text/plain": [
              "(array([ 61., 657., 732., 283., 107.,  48.,  21.,   7.,   9.,   2.]),\n",
              " array([  7500.,  17240.,  26980.,  36720.,  46460.,  56200.,  65940.,\n",
              "         75680.,  85420.,  95160., 104900.]),\n",
              " <a list of 10 Patch objects>)"
            ]
          },
          "metadata": {},
          "execution_count": 13
        },
        {
          "output_type": "display_data",
          "data": {
            "text/plain": [
              "<Figure size 432x288 with 1 Axes>"
            ],
            "image/png": "[encoded data removed]"
          },
          "metadata": {
            "needs_background": "light"
          }
        }
      ]
    },
    {
      "cell_type": "code",
      "source": [
        "from sklearn import preprocessing\n",
        "from sklearn.model_selection import train_test_split\n",
        "\n",
        "# Escalar todos los datos en este punto es INCORRECTO!! \n",
        "# X_mal = preprocessing.StandardScaler().fit_transform(X)\n",
        "\n",
        "# Dividimos los datos en entrenamiento y test (75% training, 25% test)\n",
        "X_train, X_test, y_train, y_test = train_test_split(X, y, test_size=.25, random_state = 2)\n",
        "\n",
        "print('Datos entrenamiento: ', X_train.shape)\n",
        "print('Datos test: ', X_test.shape)\n",
        "\n",
        "# Escalamos (obtenemos la transformación con los datos de train y la aplicamos a train y a test). Muy importante escalado\n",
        "scaler = preprocessing.StandardScaler().fit(X_train)\n",
        "X_train_scaled = scaler.transform(X_train)\n",
        "X_test_scaled = scaler.transform(X_test)"
      ],
      "metadata": {
        "colab": {
          "base_uri": "https://localhost:8080/"
        },
        "id": "OIIeIg1qHQvM",
        "outputId": "36224dba-e1bc-4d60-ec17-30e18fc33fa7"
      },
      "execution_count": 14,
      "outputs": [
        {
          "output_type": "stream",
          "name": "stdout",
          "text": [
            "Datos entrenamiento:  (1445, 28)\n",
            "Datos test:  (482, 28)\n"
          ]
        }
      ]
    },
    {
      "cell_type": "code",
      "source": [
        "from sklearn.model_selection import GridSearchCV\n",
        "from sklearn.linear_model import Lasso\n",
        "\n",
        "K = 5 \n",
        "alpha_vector = np.logspace(-6, -4, 30)\n",
        "\n",
        "param_grid = {'alpha': alpha_vector}\n",
        "grid = GridSearchCV(Lasso(), scoring= 'neg_mean_squared_error', param_grid=param_grid, cv = K)\n",
        "grid.fit(X_train_scaled, y_train)\n",
        "print(\"best mean cross-validation score: {:.3f}\".format(grid.best_score_))\n",
        "print(\"best parameters: {}\".format(grid.best_params_))\n",
        "\n",
        "scores = -1*np.array(grid.cv_results_['mean_test_score'])\n",
        "plt.semilogx(alpha_vector, scores,'-o')\n",
        "plt.xlabel('alpha', fontsize=16)\n",
        "plt.ylabel('{}-Fold MSE'.format(K))\n",
        "plt.show()"
      ],
      "metadata": {
        "colab": {
          "base_uri": "https://localhost:8080/",
          "height": 323
        },
        "id": "9KNu3bmuHgkM",
        "outputId": "4a4efd7c-332b-4f90-a892-942986d51566"
      },
      "execution_count": 20,
      "outputs": [
        {
          "output_type": "stream",
          "name": "stdout",
          "text": [
            "best mean cross-validation score: -0.003\n",
            "best parameters: {'alpha': 1.8873918221350995e-05}\n"
          ]
        },
        {
          "output_type": "display_data",
          "data": {
            "text/plain": [
              "<Figure size 432x288 with 1 Axes>"
            ],
            "image/png": "[encoded data removed]"
          },
          "metadata": {
            "needs_background": "light"
          }
        }
      ]
    },
    {
      "cell_type": "code",
      "source": [
        "from sklearn.metrics import mean_squared_error \n",
        "\n",
        "alpha_optimo = grid.best_params_['alpha']\n",
        "\n",
        "lasso = Lasso(alpha = alpha_optimo).fit(X_train_scaled, y_train)\n",
        "\n",
        "ytrainLasso = lasso.predict(X_train_scaled)\n",
        "ytestLasso  = lasso.predict(X_test_scaled)\n",
        "mseTrainModelLasso = mean_squared_error(y_train, ytrainLasso)\n",
        "mseTestModelLasso = mean_squared_error(y_test, ytestLasso)\n",
        "\n",
        "print('alpha: %0.3g' % alpha_optimo)\n",
        "\n",
        "print('MSE Modelo Lasso (train): %0.3g' % mseTrainModelLasso)\n",
        "print('MSE Modelo Lasso (test) : %0.3g' % mseTestModelLasso)\n",
        "\n",
        "print('RMSE Modelo Lasso (train): %0.3g' % np.sqrt(mseTrainModelLasso))\n",
        "print('RMSE Modelo Lasso (test) : %0.3g' % np.sqrt(mseTestModelLasso))\n",
        "\n",
        "w = lasso.coef_\n",
        "for f, wi in zip(feature_names, w):\n",
        "    print(\"{}: {}\".format(f, wi))"
      ],
      "metadata": {
        "colab": {
          "base_uri": "https://localhost:8080/"
        },
        "id": "nbuuZigAIAOD",
        "outputId": "cb507e8f-2a20-4792-8bc1-df20e0027912"
      },
      "execution_count": 28,
      "outputs": [
        {
          "output_type": "stream",
          "name": "stdout",
          "text": [
            "alpha: 1.89e-05\n",
            "MSE Modelo Lasso (train): 0.00306\n",
            "MSE Modelo Lasso (test) : 0.00298\n",
            "RMSE Modelo Lasso (train): 0.0553\n",
            "RMSE Modelo Lasso (test) : 0.0546\n",
            "kilometros: -0.053704086950686104\n",
            "garantia: 0.008327450530534049\n",
            "AMG: 0.0157834849014381\n",
            "años: -0.06442155643857905\n",
            "gasolina: 0.006894294976300712\n",
            "hibrido: 0.008068949276855236\n",
            "hib_enchufable: 0.004285620387798417\n",
            "tipo_200: 0.005388077115255575\n",
            "tipo_220: 0.029739610524485784\n",
            "tipo_250: 0.023362271373193234\n",
            "tipo_300: 0.017039691198276082\n",
            "tipo_350: 0.007625805369072641\n",
            "tipo_400: 0.003845800586301173\n",
            "tipo_43: 0.030720964895249545\n",
            "tipo_45: 0.00449998588473598\n",
            "tipo_450: 0.00850707716010857\n",
            "tipo_63: 0.06443416347220117\n",
            "tipo_NoInfo: 0.011863327194954637\n",
            "coupe: 0.002443082125963864\n",
            "berlina: -0.022574783689061993\n",
            "ranchera: -0.029125556487526183\n",
            "4MATIC: 0.003916292320054617\n",
            "Avantgarde: 0.0013606577244524637\n",
            "BlueTEC: 0.004713160164445619\n",
            "Sportive: -0.0020767966762282376\n",
            "Exclusive: 0.0018631760333464608\n",
            "S_Edition: 0.002215288894278618\n",
            "d_Edition: -0.0043878647515897\n"
          ]
        }
      ]
    },
    {
      "cell_type": "markdown",
      "source": [
        "Vamos a aumentar el parámetro de regularización y observar los resultados obtenidos:"
      ],
      "metadata": {
        "id": "OAHHnm2GJjWC"
      }
    },
    {
      "cell_type": "code",
      "source": [
        "alpha_optimo = 1e-2\n",
        "lasso = Lasso(alpha = alpha_optimo).fit(X_train_scaled, y_train)\n",
        "\n",
        "ytrainLasso = lasso.predict(X_train_scaled)\n",
        "ytestLasso  = lasso.predict(X_test_scaled)\n",
        "mseTrainModelLasso = mean_squared_error(y_train, ytrainLasso)\n",
        "mseTestModelLasso = mean_squared_error(y_test, ytestLasso)\n",
        "\n",
        "print('alpha: %0.3g' % alpha_optimo)\n",
        "\n",
        "print('MSE Modelo Lasso (train): %0.3g' % mseTrainModelLasso)\n",
        "print('MSE Modelo Lasso (test) : %0.3g' % mseTestModelLasso)\n",
        "\n",
        "print('RMSE Modelo Lasso (train): %0.3g' % np.sqrt(mseTrainModelLasso))\n",
        "print('RMSE Modelo Lasso (test) : %0.3g' % np.sqrt(mseTestModelLasso))\n",
        "\n",
        "w = lasso.coef_\n",
        "for f, wi in zip(feature_names, w):\n",
        "    print(\"{}: {}\".format(f, wi))"
      ],
      "metadata": {
        "colab": {
          "base_uri": "https://localhost:8080/"
        },
        "id": "OtrAqJuoIW4J",
        "outputId": "084cb1c0-9721-4114-ba92-214e20fd4be4"
      },
      "execution_count": 29,
      "outputs": [
        {
          "output_type": "stream",
          "name": "stdout",
          "text": [
            "alpha: 0.01\n",
            "MSE Modelo Lasso (train): 0.00434\n",
            "MSE Modelo Lasso (test) : 0.00404\n",
            "RMSE Modelo Lasso (train): 0.0659\n",
            "RMSE Modelo Lasso (test) : 0.0635\n",
            "kilometros: -0.05473288892201121\n",
            "garantia: 0.0\n",
            "AMG: 0.013631923295563697\n",
            "años: -0.051913988763681945\n",
            "gasolina: 0.007773918601796635\n",
            "hibrido: 0.0\n",
            "hib_enchufable: 0.0\n",
            "tipo_200: -0.004773209847338527\n",
            "tipo_220: -0.0\n",
            "tipo_250: 0.0\n",
            "tipo_300: 0.001521948546126997\n",
            "tipo_350: 0.0\n",
            "tipo_400: 0.0\n",
            "tipo_43: 0.01493711100040455\n",
            "tipo_45: 0.0\n",
            "tipo_450: 0.0\n",
            "tipo_63: 0.04466570292678669\n",
            "tipo_NoInfo: -0.0\n",
            "coupe: 0.0\n",
            "berlina: -0.0005240877817035733\n",
            "ranchera: -0.00643854604951775\n",
            "4MATIC: 0.0\n",
            "Avantgarde: -0.0\n",
            "BlueTEC: -0.0\n",
            "Sportive: -0.0\n",
            "Exclusive: 0.0\n",
            "S_Edition: 0.0\n",
            "d_Edition: -0.0\n"
          ]
        }
      ]
    },
    {
      "cell_type": "markdown",
      "source": [
        "Con este modelo podemos ver las características más valiosas"
      ],
      "metadata": {
        "id": "2p0HHNrbJ7jK"
      }
    },
    {
      "cell_type": "markdown",
      "source": [
        "Puede que tenga Overfitting"
      ],
      "metadata": {
        "id": "_fa2rmfcOgRB"
      }
    },
    {
      "cell_type": "code",
      "source": [
        ""
      ],
      "metadata": {
        "id": "c-KwWVFzKCFi"
      },
      "execution_count": null,
      "outputs": []
    }
  ]
}