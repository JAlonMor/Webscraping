{
  "nbformat": 4,
  "nbformat_minor": 0,
  "metadata": {
    "colab": {
      "name": "EDA_coches.ipynb",
      "provenance": [],
      "collapsed_sections": [],
      "authorship_tag": "ABX9TyNTKhtH6GZmGo5GHWui7W/s",
      "include_colab_link": true
    },
    "kernelspec": {
      "name": "python3",
      "display_name": "Python 3"
    },
    "language_info": {
      "name": "python"
    }
  },
  "cells": [
    {
      "cell_type": "markdown",
      "metadata": {
        "id": "view-in-github",
        "colab_type": "text"
      },
      "source": [
        "<a href=\"https://colab.research.google.com/github/JAlonMor/Webscraping/blob/main/EDA_coches.ipynb\" target=\"_parent\"><img src=\"https://colab.research.google.com/assets/colab-badge.svg\" alt=\"Open In Colab\"/></a>"
      ]
    },
    {
      "cell_type": "code",
      "execution_count": 2,
      "metadata": {
        "colab": {
          "base_uri": "https://localhost:8080/"
        },
        "id": "UQIncPczwaYz",
        "outputId": "17bf13af-a117-434a-bc79-a36fad6e754c"
      },
      "outputs": [
        {
          "output_type": "stream",
          "name": "stdout",
          "text": [
            "Cloning into 'Webscraping'...\n",
            "remote: Enumerating objects: 43, done.\u001b[K\n",
            "remote: Counting objects: 100% (43/43), done.\u001b[K\n",
            "remote: Compressing objects: 100% (38/38), done.\u001b[K\n",
            "remote: Total 43 (delta 16), reused 0 (delta 0), pack-reused 0\u001b[K\n",
            "Unpacking objects: 100% (43/43), done.\n"
          ]
        }
      ],
      "source": [
        "# Clonar repositorio de GitHub si no está disponible\n",
        "\n",
        "import os\n",
        "curr_dir = os.getcwd()\n",
        "\n",
        "if not os.path.exists(os.path.join(curr_dir, '../.ROOT_DIR')):\n",
        "  !git clone https://github.com/JAlonMor/Webscraping.git\n",
        "  os.chdir(os.path.join(curr_dir, 'Webscraping/EDA'))\n",
        "\n"
      ]
    },
    {
      "cell_type": "code",
      "source": [
        "import numpy as np\n",
        "import pandas as pd\n",
        "import seaborn as sns\n",
        "import matplotlib.pyplot as plt\n",
        "%matplotlib inline\n",
        "\n",
        "import warnings\n",
        "warnings.filterwarnings('ignore')"
      ],
      "metadata": {
        "id": "kGnNylHFx0H4"
      },
      "execution_count": 3,
      "outputs": []
    },
    {
      "cell_type": "code",
      "source": [
        "# Creo DataFrame a partir de los datos obtenidos mediante web scraping\n",
        "\n",
        "coches = pd.read_csv(\"/content/Webscraping/EDA/coches_net.csv\")"
      ],
      "metadata": {
        "id": "o1h8QfX7ylrA"
      },
      "execution_count": 4,
      "outputs": []
    },
    {
      "cell_type": "code",
      "source": [
        "coches.head()"
      ],
      "metadata": {
        "colab": {
          "base_uri": "https://localhost:8080/",
          "height": 206
        },
        "id": "DH7NOWXRy_Q-",
        "outputId": "158a53f9-389f-4a2b-ff69-37e964ee1148"
      },
      "execution_count": 5,
      "outputs": [
        {
          "output_type": "execute_result",
          "data": {
            "text/plain": [
              "                                              titulo  precio  kilometros  \\\n",
              "0                  MERCEDES-BENZ Clase C C 220 d 4p.   16200      281000   \n",
              "1           MERCEDES-BENZ Clase C C 220 d Estate 5p.   26900      114336   \n",
              "2  MERCEDES-BENZ Clase C C 220 d Avantgarde Estat...   11000      287500   \n",
              "3       MERCEDES-BENZ Clase C C 220 d Avantgarde 4p.   22900      110000   \n",
              "4                  MERCEDES-BENZ Clase C C 300 d 4p.   68000       10650   \n",
              "\n",
              "    año  combustible      ciudad  garantia  \\\n",
              "0  2017          1.0    Baleares     False   \n",
              "1  2017          1.0     Badajoz      True   \n",
              "2  2015          1.0  Valladolid     False   \n",
              "3  2015          1.0    Valencia      True   \n",
              "4  2021          4.0       Cádiz      True   \n",
              "\n",
              "                                                 url  \n",
              "0  /mercedes-benz-clase-c-c-220-d-4p-diesel-2017-...  \n",
              "1  /mercedes-benz-clase-c-c-220-d-estate-5p-diese...  \n",
              "2  /mercedes-benz-clase-c-c-220-d-avantgarde-esta...  \n",
              "3  /mercedes-benz-clase-c-c-220-d-avantgarde-4p-d...  \n",
              "4  /mercedes-benz-clase-c-c-300-d-4p-electrico-hi...  "
            ],
            "text/html": [
              "\n",
              "  <div id=\"df-23ed9f7b-0216-40b7-b051-4e021453a899\">\n",
              "    <div class=\"colab-df-container\">\n",
              "      <div>\n",
              "<style scoped>\n",
              "    .dataframe tbody tr th:only-of-type {\n",
              "        vertical-align: middle;\n",
              "    }\n",
              "\n",
              "    .dataframe tbody tr th {\n",
              "        vertical-align: top;\n",
              "    }\n",
              "\n",
              "    .dataframe thead th {\n",
              "        text-align: right;\n",
              "    }\n",
              "</style>\n",
              "<table border=\"1\" class=\"dataframe\">\n",
              "  <thead>\n",
              "    <tr style=\"text-align: right;\">\n",
              "      <th></th>\n",
              "      <th>titulo</th>\n",
              "      <th>precio</th>\n",
              "      <th>kilometros</th>\n",
              "      <th>año</th>\n",
              "      <th>combustible</th>\n",
              "      <th>ciudad</th>\n",
              "      <th>garantia</th>\n",
              "      <th>url</th>\n",
              "    </tr>\n",
              "  </thead>\n",
              "  <tbody>\n",
              "    <tr>\n",
              "      <th>0</th>\n",
              "      <td>MERCEDES-BENZ Clase C C 220 d 4p.</td>\n",
              "      <td>16200</td>\n",
              "      <td>281000</td>\n",
              "      <td>2017</td>\n",
              "      <td>1.0</td>\n",
              "      <td>Baleares</td>\n",
              "      <td>False</td>\n",
              "      <td>/mercedes-benz-clase-c-c-220-d-4p-diesel-2017-...</td>\n",
              "    </tr>\n",
              "    <tr>\n",
              "      <th>1</th>\n",
              "      <td>MERCEDES-BENZ Clase C C 220 d Estate 5p.</td>\n",
              "      <td>26900</td>\n",
              "      <td>114336</td>\n",
              "      <td>2017</td>\n",
              "      <td>1.0</td>\n",
              "      <td>Badajoz</td>\n",
              "      <td>True</td>\n",
              "      <td>/mercedes-benz-clase-c-c-220-d-estate-5p-diese...</td>\n",
              "    </tr>\n",
              "    <tr>\n",
              "      <th>2</th>\n",
              "      <td>MERCEDES-BENZ Clase C C 220 d Avantgarde Estat...</td>\n",
              "      <td>11000</td>\n",
              "      <td>287500</td>\n",
              "      <td>2015</td>\n",
              "      <td>1.0</td>\n",
              "      <td>Valladolid</td>\n",
              "      <td>False</td>\n",
              "      <td>/mercedes-benz-clase-c-c-220-d-avantgarde-esta...</td>\n",
              "    </tr>\n",
              "    <tr>\n",
              "      <th>3</th>\n",
              "      <td>MERCEDES-BENZ Clase C C 220 d Avantgarde 4p.</td>\n",
              "      <td>22900</td>\n",
              "      <td>110000</td>\n",
              "      <td>2015</td>\n",
              "      <td>1.0</td>\n",
              "      <td>Valencia</td>\n",
              "      <td>True</td>\n",
              "      <td>/mercedes-benz-clase-c-c-220-d-avantgarde-4p-d...</td>\n",
              "    </tr>\n",
              "    <tr>\n",
              "      <th>4</th>\n",
              "      <td>MERCEDES-BENZ Clase C C 300 d 4p.</td>\n",
              "      <td>68000</td>\n",
              "      <td>10650</td>\n",
              "      <td>2021</td>\n",
              "      <td>4.0</td>\n",
              "      <td>Cádiz</td>\n",
              "      <td>True</td>\n",
              "      <td>/mercedes-benz-clase-c-c-300-d-4p-electrico-hi...</td>\n",
              "    </tr>\n",
              "  </tbody>\n",
              "</table>\n",
              "</div>\n",
              "      <button class=\"colab-df-convert\" onclick=\"convertToInteractive('df-23ed9f7b-0216-40b7-b051-4e021453a899')\"\n",
              "              title=\"Convert this dataframe to an interactive table.\"\n",
              "              style=\"display:none;\">\n",
              "        \n",
              "  <svg xmlns=\"http://www.w3.org/2000/svg\" height=\"24px\"viewBox=\"0 0 24 24\"\n",
              "       width=\"24px\">\n",
              "    <path d=\"M0 0h24v24H0V0z\" fill=\"none\"/>\n",
              "    <path d=\"M18.56 5.44l.94 2.06.94-2.06 2.06-.94-2.06-.94-.94-2.06-.94 2.06-2.06.94zm-11 1L8.5 8.5l.94-2.06 2.06-.94-2.06-.94L8.5 2.5l-.94 2.06-2.06.94zm10 10l.94 2.06.94-2.06 2.06-.94-2.06-.94-.94-2.06-.94 2.06-2.06.94z\"/><path d=\"M17.41 7.96l-1.37-1.37c-.4-.4-.92-.59-1.43-.59-.52 0-1.04.2-1.43.59L10.3 9.45l-7.72 7.72c-.78.78-.78 2.05 0 2.83L4 21.41c.39.39.9.59 1.41.59.51 0 1.02-.2 1.41-.59l7.78-7.78 2.81-2.81c.8-.78.8-2.07 0-2.86zM5.41 20L4 18.59l7.72-7.72 1.47 1.35L5.41 20z\"/>\n",
              "  </svg>\n",
              "      </button>\n",
              "      \n",
              "  <style>\n",
              "    .colab-df-container {\n",
              "      display:flex;\n",
              "      flex-wrap:wrap;\n",
              "      gap: 12px;\n",
              "    }\n",
              "\n",
              "    .colab-df-convert {\n",
              "      background-color: #E8F0FE;\n",
              "      border: none;\n",
              "      border-radius: 50%;\n",
              "      cursor: pointer;\n",
              "      display: none;\n",
              "      fill: #1967D2;\n",
              "      height: 32px;\n",
              "      padding: 0 0 0 0;\n",
              "      width: 32px;\n",
              "    }\n",
              "\n",
              "    .colab-df-convert:hover {\n",
              "      background-color: #E2EBFA;\n",
              "      box-shadow: 0px 1px 2px rgba(60, 64, 67, 0.3), 0px 1px 3px 1px rgba(60, 64, 67, 0.15);\n",
              "      fill: #174EA6;\n",
              "    }\n",
              "\n",
              "    [theme=dark] .colab-df-convert {\n",
              "      background-color: #3B4455;\n",
              "      fill: #D2E3FC;\n",
              "    }\n",
              "\n",
              "    [theme=dark] .colab-df-convert:hover {\n",
              "      background-color: #434B5C;\n",
              "      box-shadow: 0px 1px 3px 1px rgba(0, 0, 0, 0.15);\n",
              "      filter: drop-shadow(0px 1px 2px rgba(0, 0, 0, 0.3));\n",
              "      fill: #FFFFFF;\n",
              "    }\n",
              "  </style>\n",
              "\n",
              "      <script>\n",
              "        const buttonEl =\n",
              "          document.querySelector('#df-23ed9f7b-0216-40b7-b051-4e021453a899 button.colab-df-convert');\n",
              "        buttonEl.style.display =\n",
              "          google.colab.kernel.accessAllowed ? 'block' : 'none';\n",
              "\n",
              "        async function convertToInteractive(key) {\n",
              "          const element = document.querySelector('#df-23ed9f7b-0216-40b7-b051-4e021453a899');\n",
              "          const dataTable =\n",
              "            await google.colab.kernel.invokeFunction('convertToInteractive',\n",
              "                                                     [key], {});\n",
              "          if (!dataTable) return;\n",
              "\n",
              "          const docLinkHtml = 'Like what you see? Visit the ' +\n",
              "            '<a target=\"_blank\" href=https://colab.research.google.com/notebooks/data_table.ipynb>data table notebook</a>'\n",
              "            + ' to learn more about interactive tables.';\n",
              "          element.innerHTML = '';\n",
              "          dataTable['output_type'] = 'display_data';\n",
              "          await google.colab.output.renderOutput(dataTable, element);\n",
              "          const docLink = document.createElement('div');\n",
              "          docLink.innerHTML = docLinkHtml;\n",
              "          element.appendChild(docLink);\n",
              "        }\n",
              "      </script>\n",
              "    </div>\n",
              "  </div>\n",
              "  "
            ]
          },
          "metadata": {},
          "execution_count": 5
        }
      ]
    },
    {
      "cell_type": "code",
      "source": [
        "coches.info()"
      ],
      "metadata": {
        "colab": {
          "base_uri": "https://localhost:8080/"
        },
        "id": "uYDAvkh0zzpX",
        "outputId": "6ee226b1-3fe9-41af-c712-f71284648ef3"
      },
      "execution_count": 6,
      "outputs": [
        {
          "output_type": "stream",
          "name": "stdout",
          "text": [
            "<class 'pandas.core.frame.DataFrame'>\n",
            "RangeIndex: 1927 entries, 0 to 1926\n",
            "Data columns (total 8 columns):\n",
            " #   Column       Non-Null Count  Dtype  \n",
            "---  ------       --------------  -----  \n",
            " 0   titulo       1927 non-null   object \n",
            " 1   precio       1927 non-null   int64  \n",
            " 2   kilometros   1927 non-null   int64  \n",
            " 3   año          1927 non-null   int64  \n",
            " 4   combustible  1925 non-null   float64\n",
            " 5   ciudad       1927 non-null   object \n",
            " 6   garantia     1927 non-null   bool   \n",
            " 7   url          1927 non-null   object \n",
            "dtypes: bool(1), float64(1), int64(3), object(3)\n",
            "memory usage: 107.4+ KB\n"
          ]
        }
      ]
    },
    {
      "cell_type": "markdown",
      "source": [
        "## Limpieza"
      ],
      "metadata": {
        "id": "xuescEbedSDW"
      }
    },
    {
      "cell_type": "code",
      "source": [
        "# Tenemos dos valores nulos en la variable combustible\n",
        "\n",
        "coches[coches.combustible.isnull()]"
      ],
      "metadata": {
        "colab": {
          "base_uri": "https://localhost:8080/",
          "height": 112
        },
        "id": "2uWC1lSJz3Ck",
        "outputId": "315fdf25-33e2-4554-8a29-f9e693c81302"
      },
      "execution_count": 7,
      "outputs": [
        {
          "output_type": "execute_result",
          "data": {
            "text/plain": [
              "                          titulo  precio  kilometros   año  combustible  \\\n",
              "416   MERCEDES-BENZ Clase C  5p.   28500      150000  2015          NaN   \n",
              "1566               MERCEDES-BENZ   33300       34400  2017          NaN   \n",
              "\n",
              "         ciudad  garantia                                                url  \n",
              "416   Guipúzcoa     False  /mercedes-benz-clase-c--5p-otros-2015-en-guipu...  \n",
              "1566     Murcia     False  /mercedes-benz-clase-c--5p-otros-2017-en-murci...  "
            ],
            "text/html": [
              "\n",
              "  <div id=\"df-04153433-6eeb-4e70-977f-5d7ad2cf94a9\">\n",
              "    <div class=\"colab-df-container\">\n",
              "      <div>\n",
              "<style scoped>\n",
              "    .dataframe tbody tr th:only-of-type {\n",
              "        vertical-align: middle;\n",
              "    }\n",
              "\n",
              "    .dataframe tbody tr th {\n",
              "        vertical-align: top;\n",
              "    }\n",
              "\n",
              "    .dataframe thead th {\n",
              "        text-align: right;\n",
              "    }\n",
              "</style>\n",
              "<table border=\"1\" class=\"dataframe\">\n",
              "  <thead>\n",
              "    <tr style=\"text-align: right;\">\n",
              "      <th></th>\n",
              "      <th>titulo</th>\n",
              "      <th>precio</th>\n",
              "      <th>kilometros</th>\n",
              "      <th>año</th>\n",
              "      <th>combustible</th>\n",
              "      <th>ciudad</th>\n",
              "      <th>garantia</th>\n",
              "      <th>url</th>\n",
              "    </tr>\n",
              "  </thead>\n",
              "  <tbody>\n",
              "    <tr>\n",
              "      <th>416</th>\n",
              "      <td>MERCEDES-BENZ Clase C  5p.</td>\n",
              "      <td>28500</td>\n",
              "      <td>150000</td>\n",
              "      <td>2015</td>\n",
              "      <td>NaN</td>\n",
              "      <td>Guipúzcoa</td>\n",
              "      <td>False</td>\n",
              "      <td>/mercedes-benz-clase-c--5p-otros-2015-en-guipu...</td>\n",
              "    </tr>\n",
              "    <tr>\n",
              "      <th>1566</th>\n",
              "      <td>MERCEDES-BENZ</td>\n",
              "      <td>33300</td>\n",
              "      <td>34400</td>\n",
              "      <td>2017</td>\n",
              "      <td>NaN</td>\n",
              "      <td>Murcia</td>\n",
              "      <td>False</td>\n",
              "      <td>/mercedes-benz-clase-c--5p-otros-2017-en-murci...</td>\n",
              "    </tr>\n",
              "  </tbody>\n",
              "</table>\n",
              "</div>\n",
              "      <button class=\"colab-df-convert\" onclick=\"convertToInteractive('df-04153433-6eeb-4e70-977f-5d7ad2cf94a9')\"\n",
              "              title=\"Convert this dataframe to an interactive table.\"\n",
              "              style=\"display:none;\">\n",
              "        \n",
              "  <svg xmlns=\"http://www.w3.org/2000/svg\" height=\"24px\"viewBox=\"0 0 24 24\"\n",
              "       width=\"24px\">\n",
              "    <path d=\"M0 0h24v24H0V0z\" fill=\"none\"/>\n",
              "    <path d=\"M18.56 5.44l.94 2.06.94-2.06 2.06-.94-2.06-.94-.94-2.06-.94 2.06-2.06.94zm-11 1L8.5 8.5l.94-2.06 2.06-.94-2.06-.94L8.5 2.5l-.94 2.06-2.06.94zm10 10l.94 2.06.94-2.06 2.06-.94-2.06-.94-.94-2.06-.94 2.06-2.06.94z\"/><path d=\"M17.41 7.96l-1.37-1.37c-.4-.4-.92-.59-1.43-.59-.52 0-1.04.2-1.43.59L10.3 9.45l-7.72 7.72c-.78.78-.78 2.05 0 2.83L4 21.41c.39.39.9.59 1.41.59.51 0 1.02-.2 1.41-.59l7.78-7.78 2.81-2.81c.8-.78.8-2.07 0-2.86zM5.41 20L4 18.59l7.72-7.72 1.47 1.35L5.41 20z\"/>\n",
              "  </svg>\n",
              "      </button>\n",
              "      \n",
              "  <style>\n",
              "    .colab-df-container {\n",
              "      display:flex;\n",
              "      flex-wrap:wrap;\n",
              "      gap: 12px;\n",
              "    }\n",
              "\n",
              "    .colab-df-convert {\n",
              "      background-color: #E8F0FE;\n",
              "      border: none;\n",
              "      border-radius: 50%;\n",
              "      cursor: pointer;\n",
              "      display: none;\n",
              "      fill: #1967D2;\n",
              "      height: 32px;\n",
              "      padding: 0 0 0 0;\n",
              "      width: 32px;\n",
              "    }\n",
              "\n",
              "    .colab-df-convert:hover {\n",
              "      background-color: #E2EBFA;\n",
              "      box-shadow: 0px 1px 2px rgba(60, 64, 67, 0.3), 0px 1px 3px 1px rgba(60, 64, 67, 0.15);\n",
              "      fill: #174EA6;\n",
              "    }\n",
              "\n",
              "    [theme=dark] .colab-df-convert {\n",
              "      background-color: #3B4455;\n",
              "      fill: #D2E3FC;\n",
              "    }\n",
              "\n",
              "    [theme=dark] .colab-df-convert:hover {\n",
              "      background-color: #434B5C;\n",
              "      box-shadow: 0px 1px 3px 1px rgba(0, 0, 0, 0.15);\n",
              "      filter: drop-shadow(0px 1px 2px rgba(0, 0, 0, 0.3));\n",
              "      fill: #FFFFFF;\n",
              "    }\n",
              "  </style>\n",
              "\n",
              "      <script>\n",
              "        const buttonEl =\n",
              "          document.querySelector('#df-04153433-6eeb-4e70-977f-5d7ad2cf94a9 button.colab-df-convert');\n",
              "        buttonEl.style.display =\n",
              "          google.colab.kernel.accessAllowed ? 'block' : 'none';\n",
              "\n",
              "        async function convertToInteractive(key) {\n",
              "          const element = document.querySelector('#df-04153433-6eeb-4e70-977f-5d7ad2cf94a9');\n",
              "          const dataTable =\n",
              "            await google.colab.kernel.invokeFunction('convertToInteractive',\n",
              "                                                     [key], {});\n",
              "          if (!dataTable) return;\n",
              "\n",
              "          const docLinkHtml = 'Like what you see? Visit the ' +\n",
              "            '<a target=\"_blank\" href=https://colab.research.google.com/notebooks/data_table.ipynb>data table notebook</a>'\n",
              "            + ' to learn more about interactive tables.';\n",
              "          element.innerHTML = '';\n",
              "          dataTable['output_type'] = 'display_data';\n",
              "          await google.colab.output.renderOutput(dataTable, element);\n",
              "          const docLink = document.createElement('div');\n",
              "          docLink.innerHTML = docLinkHtml;\n",
              "          element.appendChild(docLink);\n",
              "        }\n",
              "      </script>\n",
              "    </div>\n",
              "  </div>\n",
              "  "
            ]
          },
          "metadata": {},
          "execution_count": 7
        }
      ]
    },
    {
      "cell_type": "code",
      "source": [
        "# Al ser solo dos observaciones, trataré de solucionarlo manualmente. Veamos las URL\n",
        "\n",
        "coches.iloc[416,:].url"
      ],
      "metadata": {
        "colab": {
          "base_uri": "https://localhost:8080/",
          "height": 35
        },
        "id": "FjBGpjxu0QIP",
        "outputId": "6e763459-a81b-49db-d127-a902c12a8271"
      },
      "execution_count": 8,
      "outputs": [
        {
          "output_type": "execute_result",
          "data": {
            "text/plain": [
              "'/mercedes-benz-clase-c--5p-otros-2015-en-guipuzcoa-51760617-covo.aspx'"
            ],
            "application/vnd.google.colaboratory.intrinsic+json": {
              "type": "string"
            }
          },
          "metadata": {},
          "execution_count": 8
        }
      ]
    },
    {
      "cell_type": "markdown",
      "source": [
        "Es un híbrido diésel (4)"
      ],
      "metadata": {
        "id": "EZvjKoWP2TRv"
      }
    },
    {
      "cell_type": "code",
      "source": [
        "coches.iloc[1566,:].url"
      ],
      "metadata": {
        "colab": {
          "base_uri": "https://localhost:8080/",
          "height": 35
        },
        "id": "7JFs-o1o1KjE",
        "outputId": "0017a644-00a8-493a-82f2-c746dd942474"
      },
      "execution_count": 9,
      "outputs": [
        {
          "output_type": "execute_result",
          "data": {
            "text/plain": [
              "'/mercedes-benz-clase-c--5p-otros-2017-en-murcia-51484724-covo.aspx'"
            ],
            "application/vnd.google.colaboratory.intrinsic+json": {
              "type": "string"
            }
          },
          "metadata": {},
          "execution_count": 9
        }
      ]
    },
    {
      "cell_type": "markdown",
      "source": [
        "Es un híbrido enchufable (gasolina) (5)"
      ],
      "metadata": {
        "id": "EEYOuMP_3I08"
      }
    },
    {
      "cell_type": "code",
      "source": [
        "coches.combustible.unique()"
      ],
      "metadata": {
        "colab": {
          "base_uri": "https://localhost:8080/"
        },
        "id": "nRfmyFa72cw7",
        "outputId": "27770da8-42be-4742-fb3d-433754fd26bd"
      },
      "execution_count": 10,
      "outputs": [
        {
          "output_type": "execute_result",
          "data": {
            "text/plain": [
              "array([ 1.,  4.,  2.,  5., nan])"
            ]
          },
          "metadata": {},
          "execution_count": 10
        }
      ]
    },
    {
      "cell_type": "markdown",
      "source": [
        "Códigos de los diferentes combustibles\n",
        "\n",
        "* 1 $\\rightarrow$ Diésel\n",
        "* 2 $\\rightarrow$ Gasolina\n",
        "* 4 $\\rightarrow$ Híbrido\n",
        "* 5 $\\rightarrow$ Híbrido enchufable\n"
      ],
      "metadata": {
        "id": "DoUQKSIX5biM"
      }
    },
    {
      "cell_type": "code",
      "source": [
        "coches.iloc[416,:].combustible = 4.0\n",
        "coches.iloc[1566,:].combustible = 5.0"
      ],
      "metadata": {
        "id": "OARXMKwS4fJz"
      },
      "execution_count": 11,
      "outputs": []
    },
    {
      "cell_type": "code",
      "source": [
        "coches.iloc[416,4] = 4.0\n",
        "coches.iloc[1566,4] = 5.0"
      ],
      "metadata": {
        "id": "ebhhFLNg7fvh"
      },
      "execution_count": 12,
      "outputs": []
    },
    {
      "cell_type": "code",
      "source": [
        "coches[coches.combustible.isnull()]"
      ],
      "metadata": {
        "colab": {
          "base_uri": "https://localhost:8080/",
          "height": 49
        },
        "id": "IwZNPyY27y3Y",
        "outputId": "be326bcf-e53c-4845-f7b5-fddbead5fc28"
      },
      "execution_count": 13,
      "outputs": [
        {
          "output_type": "execute_result",
          "data": {
            "text/plain": [
              "Empty DataFrame\n",
              "Columns: [titulo, precio, kilometros, año, combustible, ciudad, garantia, url]\n",
              "Index: []"
            ],
            "text/html": [
              "\n",
              "  <div id=\"df-19c76a98-f4dc-440f-8bc6-0c0f83fe0832\">\n",
              "    <div class=\"colab-df-container\">\n",
              "      <div>\n",
              "<style scoped>\n",
              "    .dataframe tbody tr th:only-of-type {\n",
              "        vertical-align: middle;\n",
              "    }\n",
              "\n",
              "    .dataframe tbody tr th {\n",
              "        vertical-align: top;\n",
              "    }\n",
              "\n",
              "    .dataframe thead th {\n",
              "        text-align: right;\n",
              "    }\n",
              "</style>\n",
              "<table border=\"1\" class=\"dataframe\">\n",
              "  <thead>\n",
              "    <tr style=\"text-align: right;\">\n",
              "      <th></th>\n",
              "      <th>titulo</th>\n",
              "      <th>precio</th>\n",
              "      <th>kilometros</th>\n",
              "      <th>año</th>\n",
              "      <th>combustible</th>\n",
              "      <th>ciudad</th>\n",
              "      <th>garantia</th>\n",
              "      <th>url</th>\n",
              "    </tr>\n",
              "  </thead>\n",
              "  <tbody>\n",
              "  </tbody>\n",
              "</table>\n",
              "</div>\n",
              "      <button class=\"colab-df-convert\" onclick=\"convertToInteractive('df-19c76a98-f4dc-440f-8bc6-0c0f83fe0832')\"\n",
              "              title=\"Convert this dataframe to an interactive table.\"\n",
              "              style=\"display:none;\">\n",
              "        \n",
              "  <svg xmlns=\"http://www.w3.org/2000/svg\" height=\"24px\"viewBox=\"0 0 24 24\"\n",
              "       width=\"24px\">\n",
              "    <path d=\"M0 0h24v24H0V0z\" fill=\"none\"/>\n",
              "    <path d=\"M18.56 5.44l.94 2.06.94-2.06 2.06-.94-2.06-.94-.94-2.06-.94 2.06-2.06.94zm-11 1L8.5 8.5l.94-2.06 2.06-.94-2.06-.94L8.5 2.5l-.94 2.06-2.06.94zm10 10l.94 2.06.94-2.06 2.06-.94-2.06-.94-.94-2.06-.94 2.06-2.06.94z\"/><path d=\"M17.41 7.96l-1.37-1.37c-.4-.4-.92-.59-1.43-.59-.52 0-1.04.2-1.43.59L10.3 9.45l-7.72 7.72c-.78.78-.78 2.05 0 2.83L4 21.41c.39.39.9.59 1.41.59.51 0 1.02-.2 1.41-.59l7.78-7.78 2.81-2.81c.8-.78.8-2.07 0-2.86zM5.41 20L4 18.59l7.72-7.72 1.47 1.35L5.41 20z\"/>\n",
              "  </svg>\n",
              "      </button>\n",
              "      \n",
              "  <style>\n",
              "    .colab-df-container {\n",
              "      display:flex;\n",
              "      flex-wrap:wrap;\n",
              "      gap: 12px;\n",
              "    }\n",
              "\n",
              "    .colab-df-convert {\n",
              "      background-color: #E8F0FE;\n",
              "      border: none;\n",
              "      border-radius: 50%;\n",
              "      cursor: pointer;\n",
              "      display: none;\n",
              "      fill: #1967D2;\n",
              "      height: 32px;\n",
              "      padding: 0 0 0 0;\n",
              "      width: 32px;\n",
              "    }\n",
              "\n",
              "    .colab-df-convert:hover {\n",
              "      background-color: #E2EBFA;\n",
              "      box-shadow: 0px 1px 2px rgba(60, 64, 67, 0.3), 0px 1px 3px 1px rgba(60, 64, 67, 0.15);\n",
              "      fill: #174EA6;\n",
              "    }\n",
              "\n",
              "    [theme=dark] .colab-df-convert {\n",
              "      background-color: #3B4455;\n",
              "      fill: #D2E3FC;\n",
              "    }\n",
              "\n",
              "    [theme=dark] .colab-df-convert:hover {\n",
              "      background-color: #434B5C;\n",
              "      box-shadow: 0px 1px 3px 1px rgba(0, 0, 0, 0.15);\n",
              "      filter: drop-shadow(0px 1px 2px rgba(0, 0, 0, 0.3));\n",
              "      fill: #FFFFFF;\n",
              "    }\n",
              "  </style>\n",
              "\n",
              "      <script>\n",
              "        const buttonEl =\n",
              "          document.querySelector('#df-19c76a98-f4dc-440f-8bc6-0c0f83fe0832 button.colab-df-convert');\n",
              "        buttonEl.style.display =\n",
              "          google.colab.kernel.accessAllowed ? 'block' : 'none';\n",
              "\n",
              "        async function convertToInteractive(key) {\n",
              "          const element = document.querySelector('#df-19c76a98-f4dc-440f-8bc6-0c0f83fe0832');\n",
              "          const dataTable =\n",
              "            await google.colab.kernel.invokeFunction('convertToInteractive',\n",
              "                                                     [key], {});\n",
              "          if (!dataTable) return;\n",
              "\n",
              "          const docLinkHtml = 'Like what you see? Visit the ' +\n",
              "            '<a target=\"_blank\" href=https://colab.research.google.com/notebooks/data_table.ipynb>data table notebook</a>'\n",
              "            + ' to learn more about interactive tables.';\n",
              "          element.innerHTML = '';\n",
              "          dataTable['output_type'] = 'display_data';\n",
              "          await google.colab.output.renderOutput(dataTable, element);\n",
              "          const docLink = document.createElement('div');\n",
              "          docLink.innerHTML = docLinkHtml;\n",
              "          element.appendChild(docLink);\n",
              "        }\n",
              "      </script>\n",
              "    </div>\n",
              "  </div>\n",
              "  "
            ]
          },
          "metadata": {},
          "execution_count": 13
        }
      ]
    },
    {
      "cell_type": "code",
      "source": [
        "# Ahora cambio el tipo de variable a entero (combustible)\n",
        "coches['combustible'] = coches['combustible'].astype(int)\n",
        "coches.info()"
      ],
      "metadata": {
        "colab": {
          "base_uri": "https://localhost:8080/"
        },
        "id": "_lq0eiGV7_Xh",
        "outputId": "0cffaac2-cd4f-412d-b15b-536f933abe13"
      },
      "execution_count": 14,
      "outputs": [
        {
          "output_type": "stream",
          "name": "stdout",
          "text": [
            "<class 'pandas.core.frame.DataFrame'>\n",
            "RangeIndex: 1927 entries, 0 to 1926\n",
            "Data columns (total 8 columns):\n",
            " #   Column       Non-Null Count  Dtype \n",
            "---  ------       --------------  ----- \n",
            " 0   titulo       1927 non-null   object\n",
            " 1   precio       1927 non-null   int64 \n",
            " 2   kilometros   1927 non-null   int64 \n",
            " 3   año          1927 non-null   int64 \n",
            " 4   combustible  1927 non-null   int64 \n",
            " 5   ciudad       1927 non-null   object\n",
            " 6   garantia     1927 non-null   bool  \n",
            " 7   url          1927 non-null   object\n",
            "dtypes: bool(1), int64(4), object(3)\n",
            "memory usage: 107.4+ KB\n"
          ]
        }
      ]
    },
    {
      "cell_type": "code",
      "source": [
        "coches.head()"
      ],
      "metadata": {
        "colab": {
          "base_uri": "https://localhost:8080/",
          "height": 206
        },
        "id": "Lr319UJ68dSS",
        "outputId": "7c31a3cf-900d-480b-92a7-e0f8cd41f9a6"
      },
      "execution_count": 15,
      "outputs": [
        {
          "output_type": "execute_result",
          "data": {
            "text/plain": [
              "                                              titulo  precio  kilometros  \\\n",
              "0                  MERCEDES-BENZ Clase C C 220 d 4p.   16200      281000   \n",
              "1           MERCEDES-BENZ Clase C C 220 d Estate 5p.   26900      114336   \n",
              "2  MERCEDES-BENZ Clase C C 220 d Avantgarde Estat...   11000      287500   \n",
              "3       MERCEDES-BENZ Clase C C 220 d Avantgarde 4p.   22900      110000   \n",
              "4                  MERCEDES-BENZ Clase C C 300 d 4p.   68000       10650   \n",
              "\n",
              "    año  combustible      ciudad  garantia  \\\n",
              "0  2017            1    Baleares     False   \n",
              "1  2017            1     Badajoz      True   \n",
              "2  2015            1  Valladolid     False   \n",
              "3  2015            1    Valencia      True   \n",
              "4  2021            4       Cádiz      True   \n",
              "\n",
              "                                                 url  \n",
              "0  /mercedes-benz-clase-c-c-220-d-4p-diesel-2017-...  \n",
              "1  /mercedes-benz-clase-c-c-220-d-estate-5p-diese...  \n",
              "2  /mercedes-benz-clase-c-c-220-d-avantgarde-esta...  \n",
              "3  /mercedes-benz-clase-c-c-220-d-avantgarde-4p-d...  \n",
              "4  /mercedes-benz-clase-c-c-300-d-4p-electrico-hi...  "
            ],
            "text/html": [
              "\n",
              "  <div id=\"df-e16e3185-cbaf-422e-a3ec-06dcab6652f0\">\n",
              "    <div class=\"colab-df-container\">\n",
              "      <div>\n",
              "<style scoped>\n",
              "    .dataframe tbody tr th:only-of-type {\n",
              "        vertical-align: middle;\n",
              "    }\n",
              "\n",
              "    .dataframe tbody tr th {\n",
              "        vertical-align: top;\n",
              "    }\n",
              "\n",
              "    .dataframe thead th {\n",
              "        text-align: right;\n",
              "    }\n",
              "</style>\n",
              "<table border=\"1\" class=\"dataframe\">\n",
              "  <thead>\n",
              "    <tr style=\"text-align: right;\">\n",
              "      <th></th>\n",
              "      <th>titulo</th>\n",
              "      <th>precio</th>\n",
              "      <th>kilometros</th>\n",
              "      <th>año</th>\n",
              "      <th>combustible</th>\n",
              "      <th>ciudad</th>\n",
              "      <th>garantia</th>\n",
              "      <th>url</th>\n",
              "    </tr>\n",
              "  </thead>\n",
              "  <tbody>\n",
              "    <tr>\n",
              "      <th>0</th>\n",
              "      <td>MERCEDES-BENZ Clase C C 220 d 4p.</td>\n",
              "      <td>16200</td>\n",
              "      <td>281000</td>\n",
              "      <td>2017</td>\n",
              "      <td>1</td>\n",
              "      <td>Baleares</td>\n",
              "      <td>False</td>\n",
              "      <td>/mercedes-benz-clase-c-c-220-d-4p-diesel-2017-...</td>\n",
              "    </tr>\n",
              "    <tr>\n",
              "      <th>1</th>\n",
              "      <td>MERCEDES-BENZ Clase C C 220 d Estate 5p.</td>\n",
              "      <td>26900</td>\n",
              "      <td>114336</td>\n",
              "      <td>2017</td>\n",
              "      <td>1</td>\n",
              "      <td>Badajoz</td>\n",
              "      <td>True</td>\n",
              "      <td>/mercedes-benz-clase-c-c-220-d-estate-5p-diese...</td>\n",
              "    </tr>\n",
              "    <tr>\n",
              "      <th>2</th>\n",
              "      <td>MERCEDES-BENZ Clase C C 220 d Avantgarde Estat...</td>\n",
              "      <td>11000</td>\n",
              "      <td>287500</td>\n",
              "      <td>2015</td>\n",
              "      <td>1</td>\n",
              "      <td>Valladolid</td>\n",
              "      <td>False</td>\n",
              "      <td>/mercedes-benz-clase-c-c-220-d-avantgarde-esta...</td>\n",
              "    </tr>\n",
              "    <tr>\n",
              "      <th>3</th>\n",
              "      <td>MERCEDES-BENZ Clase C C 220 d Avantgarde 4p.</td>\n",
              "      <td>22900</td>\n",
              "      <td>110000</td>\n",
              "      <td>2015</td>\n",
              "      <td>1</td>\n",
              "      <td>Valencia</td>\n",
              "      <td>True</td>\n",
              "      <td>/mercedes-benz-clase-c-c-220-d-avantgarde-4p-d...</td>\n",
              "    </tr>\n",
              "    <tr>\n",
              "      <th>4</th>\n",
              "      <td>MERCEDES-BENZ Clase C C 300 d 4p.</td>\n",
              "      <td>68000</td>\n",
              "      <td>10650</td>\n",
              "      <td>2021</td>\n",
              "      <td>4</td>\n",
              "      <td>Cádiz</td>\n",
              "      <td>True</td>\n",
              "      <td>/mercedes-benz-clase-c-c-300-d-4p-electrico-hi...</td>\n",
              "    </tr>\n",
              "  </tbody>\n",
              "</table>\n",
              "</div>\n",
              "      <button class=\"colab-df-convert\" onclick=\"convertToInteractive('df-e16e3185-cbaf-422e-a3ec-06dcab6652f0')\"\n",
              "              title=\"Convert this dataframe to an interactive table.\"\n",
              "              style=\"display:none;\">\n",
              "        \n",
              "  <svg xmlns=\"http://www.w3.org/2000/svg\" height=\"24px\"viewBox=\"0 0 24 24\"\n",
              "       width=\"24px\">\n",
              "    <path d=\"M0 0h24v24H0V0z\" fill=\"none\"/>\n",
              "    <path d=\"M18.56 5.44l.94 2.06.94-2.06 2.06-.94-2.06-.94-.94-2.06-.94 2.06-2.06.94zm-11 1L8.5 8.5l.94-2.06 2.06-.94-2.06-.94L8.5 2.5l-.94 2.06-2.06.94zm10 10l.94 2.06.94-2.06 2.06-.94-2.06-.94-.94-2.06-.94 2.06-2.06.94z\"/><path d=\"M17.41 7.96l-1.37-1.37c-.4-.4-.92-.59-1.43-.59-.52 0-1.04.2-1.43.59L10.3 9.45l-7.72 7.72c-.78.78-.78 2.05 0 2.83L4 21.41c.39.39.9.59 1.41.59.51 0 1.02-.2 1.41-.59l7.78-7.78 2.81-2.81c.8-.78.8-2.07 0-2.86zM5.41 20L4 18.59l7.72-7.72 1.47 1.35L5.41 20z\"/>\n",
              "  </svg>\n",
              "      </button>\n",
              "      \n",
              "  <style>\n",
              "    .colab-df-container {\n",
              "      display:flex;\n",
              "      flex-wrap:wrap;\n",
              "      gap: 12px;\n",
              "    }\n",
              "\n",
              "    .colab-df-convert {\n",
              "      background-color: #E8F0FE;\n",
              "      border: none;\n",
              "      border-radius: 50%;\n",
              "      cursor: pointer;\n",
              "      display: none;\n",
              "      fill: #1967D2;\n",
              "      height: 32px;\n",
              "      padding: 0 0 0 0;\n",
              "      width: 32px;\n",
              "    }\n",
              "\n",
              "    .colab-df-convert:hover {\n",
              "      background-color: #E2EBFA;\n",
              "      box-shadow: 0px 1px 2px rgba(60, 64, 67, 0.3), 0px 1px 3px 1px rgba(60, 64, 67, 0.15);\n",
              "      fill: #174EA6;\n",
              "    }\n",
              "\n",
              "    [theme=dark] .colab-df-convert {\n",
              "      background-color: #3B4455;\n",
              "      fill: #D2E3FC;\n",
              "    }\n",
              "\n",
              "    [theme=dark] .colab-df-convert:hover {\n",
              "      background-color: #434B5C;\n",
              "      box-shadow: 0px 1px 3px 1px rgba(0, 0, 0, 0.15);\n",
              "      filter: drop-shadow(0px 1px 2px rgba(0, 0, 0, 0.3));\n",
              "      fill: #FFFFFF;\n",
              "    }\n",
              "  </style>\n",
              "\n",
              "      <script>\n",
              "        const buttonEl =\n",
              "          document.querySelector('#df-e16e3185-cbaf-422e-a3ec-06dcab6652f0 button.colab-df-convert');\n",
              "        buttonEl.style.display =\n",
              "          google.colab.kernel.accessAllowed ? 'block' : 'none';\n",
              "\n",
              "        async function convertToInteractive(key) {\n",
              "          const element = document.querySelector('#df-e16e3185-cbaf-422e-a3ec-06dcab6652f0');\n",
              "          const dataTable =\n",
              "            await google.colab.kernel.invokeFunction('convertToInteractive',\n",
              "                                                     [key], {});\n",
              "          if (!dataTable) return;\n",
              "\n",
              "          const docLinkHtml = 'Like what you see? Visit the ' +\n",
              "            '<a target=\"_blank\" href=https://colab.research.google.com/notebooks/data_table.ipynb>data table notebook</a>'\n",
              "            + ' to learn more about interactive tables.';\n",
              "          element.innerHTML = '';\n",
              "          dataTable['output_type'] = 'display_data';\n",
              "          await google.colab.output.renderOutput(dataTable, element);\n",
              "          const docLink = document.createElement('div');\n",
              "          docLink.innerHTML = docLinkHtml;\n",
              "          element.appendChild(docLink);\n",
              "        }\n",
              "      </script>\n",
              "    </div>\n",
              "  </div>\n",
              "  "
            ]
          },
          "metadata": {},
          "execution_count": 15
        }
      ]
    },
    {
      "cell_type": "markdown",
      "source": [
        "## Transformaciones"
      ],
      "metadata": {
        "id": "cu0F4A9CdFKI"
      }
    },
    {
      "cell_type": "markdown",
      "source": [
        "Transformaciones a realizar:\n",
        "\n",
        "Sacar más información de las columnas \"titulo\" y \"url\"\n",
        "Crear nueva columna con url completa añadiendo la url base de coches.net\n",
        "Crear otra variable con las coordenadas de cada ciudad\n",
        "Crear variable con max-min de kilometros (el escalado se hace con los datos de entrenamiento creo)\n",
        "Crear variable con la antigüedad de cada coche: now-año\n",
        "Crear variable dummy con el combustible\n",
        "\n",
        "Buscar outliers en las variables, boxplot\n",
        "Realizar estudios de distribuciones de las variables\n",
        "Estudio de la correlaciones entre las variables.\n",
        "Estudio de las correlaciones con la variable objetivo \"precio\"\n",
        "Hacer gráfico con mapa con las posiciones de las ciudades donde se venden los coches.\n",
        "Usar métodos de filtrado para regesion, f_regression y mutual_info_regession. F-test score y Mutual information\n",
        "\n",
        "\n"
      ],
      "metadata": {
        "id": "eDDRkErr9Cau"
      }
    },
    {
      "cell_type": "markdown",
      "source": [
        "### TRANSFORMACIONES<br/>\n",
        "\n",
        "\n",
        "\n",
        "* [X] Poner URL completa\n",
        "* [X] Extraer más información de \"titulo\" y \"url\"\n",
        "* [X] Coordenadas GPS de ciudades\n",
        "* [X] Escalado de variable kilómetros\n",
        "* [X] Crear nueva variable con la antigüedad del coches en años. Escalar.\n",
        "* [X] Variables binarias para combustible\n",
        "* [ ] Crear archivo de salida para modelar\n",
        "\n",
        "\n",
        "\n",
        "### ANALISIS Y EXPLORACIONES\n",
        "\n",
        "* [X] Box plot de caracterísitcas.\n",
        "* [X] Análisis por agrupación de ciudades.\n",
        "* [X] Estudio de las distintas distribuciones.\n",
        "* [ ] Estudio de correlaciones entre las variables.\n",
        "* [ ] Estudio de correlaciones entre las variables y \"precio\".\n",
        "* [ ] Estudio según localización GPS."
      ],
      "metadata": {
        "id": "LLLeiWdlavYg"
      }
    },
    {
      "cell_type": "markdown",
      "source": [
        "### Poner URL completa"
      ],
      "metadata": {
        "id": "jQ26sUDSdADE"
      }
    },
    {
      "cell_type": "code",
      "source": [
        "# Creamos URL completa\n",
        "from urllib.parse import urljoin\n",
        "\n",
        "url_base = \"https://www.coches.net/\"\n",
        "coches['web'] = [urljoin(url_base, url) for url in coches['url']]"
      ],
      "metadata": {
        "id": "SrFl_oY49AKZ"
      },
      "execution_count": 16,
      "outputs": []
    },
    {
      "cell_type": "code",
      "source": [
        "# Compruebo\n",
        "coches.web[0]"
      ],
      "metadata": {
        "colab": {
          "base_uri": "https://localhost:8080/",
          "height": 35
        },
        "id": "qKaf_wqSZdID",
        "outputId": "beb1bdff-97d5-42de-d5e2-7428f2f2ea5e"
      },
      "execution_count": 17,
      "outputs": [
        {
          "output_type": "execute_result",
          "data": {
            "text/plain": [
              "'https://www.coches.net/mercedes-benz-clase-c-c-220-d-4p-diesel-2017-en-baleares-51618684-covo.aspx'"
            ],
            "application/vnd.google.colaboratory.intrinsic+json": {
              "type": "string"
            }
          },
          "metadata": {},
          "execution_count": 17
        }
      ]
    },
    {
      "cell_type": "markdown",
      "source": [
        "### Extraer información de \"titulo\" y de \"url\""
      ],
      "metadata": {
        "id": "agPIZ-wXfGZO"
      }
    },
    {
      "cell_type": "code",
      "source": [
        "# Aumento la cantidad de caracteres a mostrar por pantalla\n",
        "pd.options.display.max_colwidth = 200"
      ],
      "metadata": {
        "id": "eqXpcqGCh58Q"
      },
      "execution_count": 18,
      "outputs": []
    },
    {
      "cell_type": "code",
      "source": [
        "print(coches.loc[[0],['titulo']])\n",
        "print(coches.loc[[0],['url']]) ##, 'url']]),"
      ],
      "metadata": {
        "colab": {
          "base_uri": "https://localhost:8080/"
        },
        "id": "rBZ-xbcTXbbn",
        "outputId": "ed91c18b-5193-4e14-ef14-0fc343554791"
      },
      "execution_count": 19,
      "outputs": [
        {
          "output_type": "stream",
          "name": "stdout",
          "text": [
            "                              titulo\n",
            "0  MERCEDES-BENZ Clase C C 220 d 4p.\n",
            "                                                                            url\n",
            "0  /mercedes-benz-clase-c-c-220-d-4p-diesel-2017-en-baleares-51618684-covo.aspx\n"
          ]
        }
      ]
    },
    {
      "cell_type": "code",
      "source": [
        "coches.sample(5)"
      ],
      "metadata": {
        "colab": {
          "base_uri": "https://localhost:8080/",
          "height": 206
        },
        "id": "nSXEvARFXw9g",
        "outputId": "d5477762-67dd-49a2-d351-eb255ca91201"
      },
      "execution_count": 20,
      "outputs": [
        {
          "output_type": "execute_result",
          "data": {
            "text/plain": [
              "                                              titulo  precio  kilometros  \\\n",
              "1500        MERCEDES-BENZ Clase C C 220 d Estate 5p.   16400      199700   \n",
              "991   MERCEDES-BENZ Clase C C 220 BlueTEC Estate 5p.   23490      108000   \n",
              "102         MERCEDES-BENZ Clase C C Cabrio 250 d 2p.   41950       19000   \n",
              "125                MERCEDES-BENZ Clase C C 200 d 4p.   38900       21400   \n",
              "172                MERCEDES-BENZ Clase C C 220 d 4p.   53600           1   \n",
              "\n",
              "       año  combustible     ciudad  garantia  \\\n",
              "1500  2016            1   Valencia     False   \n",
              "991   2015            1  Barcelona      True   \n",
              "102   2017            1  Barcelona      True   \n",
              "125   2020            1  Barcelona      True   \n",
              "172   2022            1   Valencia      True   \n",
              "\n",
              "                                                                                             url  \\\n",
              "1500         /mercedes-benz-clase-c-c-220-d-estate-5p-diesel-2016-en-valencia-51538492-covo.aspx   \n",
              "991   /mercedes-benz-clase-c-c-220-bluetec-estate-5p-diesel-2014-en-barcelona-51682636-covo.aspx   \n",
              "102            /mercedes-benz-clase-c-c-cabrio-250-d-diesel-2017-en-barcelona-50487837-covo.aspx   \n",
              "125                /mercedes-benz-clase-c-c-200-d-4p-diesel-2020-en-barcelona-51420487-covo.aspx   \n",
              "172                 /mercedes-benz-clase-c-c-220-d-4p-diesel-2021-en-valencia-51120402-covo.aspx   \n",
              "\n",
              "                                                                                                                   web  \n",
              "1500         https://www.coches.net/mercedes-benz-clase-c-c-220-d-estate-5p-diesel-2016-en-valencia-51538492-covo.aspx  \n",
              "991   https://www.coches.net/mercedes-benz-clase-c-c-220-bluetec-estate-5p-diesel-2014-en-barcelona-51682636-covo.aspx  \n",
              "102            https://www.coches.net/mercedes-benz-clase-c-c-cabrio-250-d-diesel-2017-en-barcelona-50487837-covo.aspx  \n",
              "125                https://www.coches.net/mercedes-benz-clase-c-c-200-d-4p-diesel-2020-en-barcelona-51420487-covo.aspx  \n",
              "172                 https://www.coches.net/mercedes-benz-clase-c-c-220-d-4p-diesel-2021-en-valencia-51120402-covo.aspx  "
            ],
            "text/html": [
              "\n",
              "  <div id=\"df-0ee3088d-7ed0-412b-b09d-3c43cb73dc76\">\n",
              "    <div class=\"colab-df-container\">\n",
              "      <div>\n",
              "<style scoped>\n",
              "    .dataframe tbody tr th:only-of-type {\n",
              "        vertical-align: middle;\n",
              "    }\n",
              "\n",
              "    .dataframe tbody tr th {\n",
              "        vertical-align: top;\n",
              "    }\n",
              "\n",
              "    .dataframe thead th {\n",
              "        text-align: right;\n",
              "    }\n",
              "</style>\n",
              "<table border=\"1\" class=\"dataframe\">\n",
              "  <thead>\n",
              "    <tr style=\"text-align: right;\">\n",
              "      <th></th>\n",
              "      <th>titulo</th>\n",
              "      <th>precio</th>\n",
              "      <th>kilometros</th>\n",
              "      <th>año</th>\n",
              "      <th>combustible</th>\n",
              "      <th>ciudad</th>\n",
              "      <th>garantia</th>\n",
              "      <th>url</th>\n",
              "      <th>web</th>\n",
              "    </tr>\n",
              "  </thead>\n",
              "  <tbody>\n",
              "    <tr>\n",
              "      <th>1500</th>\n",
              "      <td>MERCEDES-BENZ Clase C C 220 d Estate 5p.</td>\n",
              "      <td>16400</td>\n",
              "      <td>199700</td>\n",
              "      <td>2016</td>\n",
              "      <td>1</td>\n",
              "      <td>Valencia</td>\n",
              "      <td>False</td>\n",
              "      <td>/mercedes-benz-clase-c-c-220-d-estate-5p-diesel-2016-en-valencia-51538492-covo.aspx</td>\n",
              "      <td>https://www.coches.net/mercedes-benz-clase-c-c-220-d-estate-5p-diesel-2016-en-valencia-51538492-covo.aspx</td>\n",
              "    </tr>\n",
              "    <tr>\n",
              "      <th>991</th>\n",
              "      <td>MERCEDES-BENZ Clase C C 220 BlueTEC Estate 5p.</td>\n",
              "      <td>23490</td>\n",
              "      <td>108000</td>\n",
              "      <td>2015</td>\n",
              "      <td>1</td>\n",
              "      <td>Barcelona</td>\n",
              "      <td>True</td>\n",
              "      <td>/mercedes-benz-clase-c-c-220-bluetec-estate-5p-diesel-2014-en-barcelona-51682636-covo.aspx</td>\n",
              "      <td>https://www.coches.net/mercedes-benz-clase-c-c-220-bluetec-estate-5p-diesel-2014-en-barcelona-51682636-covo.aspx</td>\n",
              "    </tr>\n",
              "    <tr>\n",
              "      <th>102</th>\n",
              "      <td>MERCEDES-BENZ Clase C C Cabrio 250 d 2p.</td>\n",
              "      <td>41950</td>\n",
              "      <td>19000</td>\n",
              "      <td>2017</td>\n",
              "      <td>1</td>\n",
              "      <td>Barcelona</td>\n",
              "      <td>True</td>\n",
              "      <td>/mercedes-benz-clase-c-c-cabrio-250-d-diesel-2017-en-barcelona-50487837-covo.aspx</td>\n",
              "      <td>https://www.coches.net/mercedes-benz-clase-c-c-cabrio-250-d-diesel-2017-en-barcelona-50487837-covo.aspx</td>\n",
              "    </tr>\n",
              "    <tr>\n",
              "      <th>125</th>\n",
              "      <td>MERCEDES-BENZ Clase C C 200 d 4p.</td>\n",
              "      <td>38900</td>\n",
              "      <td>21400</td>\n",
              "      <td>2020</td>\n",
              "      <td>1</td>\n",
              "      <td>Barcelona</td>\n",
              "      <td>True</td>\n",
              "      <td>/mercedes-benz-clase-c-c-200-d-4p-diesel-2020-en-barcelona-51420487-covo.aspx</td>\n",
              "      <td>https://www.coches.net/mercedes-benz-clase-c-c-200-d-4p-diesel-2020-en-barcelona-51420487-covo.aspx</td>\n",
              "    </tr>\n",
              "    <tr>\n",
              "      <th>172</th>\n",
              "      <td>MERCEDES-BENZ Clase C C 220 d 4p.</td>\n",
              "      <td>53600</td>\n",
              "      <td>1</td>\n",
              "      <td>2022</td>\n",
              "      <td>1</td>\n",
              "      <td>Valencia</td>\n",
              "      <td>True</td>\n",
              "      <td>/mercedes-benz-clase-c-c-220-d-4p-diesel-2021-en-valencia-51120402-covo.aspx</td>\n",
              "      <td>https://www.coches.net/mercedes-benz-clase-c-c-220-d-4p-diesel-2021-en-valencia-51120402-covo.aspx</td>\n",
              "    </tr>\n",
              "  </tbody>\n",
              "</table>\n",
              "</div>\n",
              "      <button class=\"colab-df-convert\" onclick=\"convertToInteractive('df-0ee3088d-7ed0-412b-b09d-3c43cb73dc76')\"\n",
              "              title=\"Convert this dataframe to an interactive table.\"\n",
              "              style=\"display:none;\">\n",
              "        \n",
              "  <svg xmlns=\"http://www.w3.org/2000/svg\" height=\"24px\"viewBox=\"0 0 24 24\"\n",
              "       width=\"24px\">\n",
              "    <path d=\"M0 0h24v24H0V0z\" fill=\"none\"/>\n",
              "    <path d=\"M18.56 5.44l.94 2.06.94-2.06 2.06-.94-2.06-.94-.94-2.06-.94 2.06-2.06.94zm-11 1L8.5 8.5l.94-2.06 2.06-.94-2.06-.94L8.5 2.5l-.94 2.06-2.06.94zm10 10l.94 2.06.94-2.06 2.06-.94-2.06-.94-.94-2.06-.94 2.06-2.06.94z\"/><path d=\"M17.41 7.96l-1.37-1.37c-.4-.4-.92-.59-1.43-.59-.52 0-1.04.2-1.43.59L10.3 9.45l-7.72 7.72c-.78.78-.78 2.05 0 2.83L4 21.41c.39.39.9.59 1.41.59.51 0 1.02-.2 1.41-.59l7.78-7.78 2.81-2.81c.8-.78.8-2.07 0-2.86zM5.41 20L4 18.59l7.72-7.72 1.47 1.35L5.41 20z\"/>\n",
              "  </svg>\n",
              "      </button>\n",
              "      \n",
              "  <style>\n",
              "    .colab-df-container {\n",
              "      display:flex;\n",
              "      flex-wrap:wrap;\n",
              "      gap: 12px;\n",
              "    }\n",
              "\n",
              "    .colab-df-convert {\n",
              "      background-color: #E8F0FE;\n",
              "      border: none;\n",
              "      border-radius: 50%;\n",
              "      cursor: pointer;\n",
              "      display: none;\n",
              "      fill: #1967D2;\n",
              "      height: 32px;\n",
              "      padding: 0 0 0 0;\n",
              "      width: 32px;\n",
              "    }\n",
              "\n",
              "    .colab-df-convert:hover {\n",
              "      background-color: #E2EBFA;\n",
              "      box-shadow: 0px 1px 2px rgba(60, 64, 67, 0.3), 0px 1px 3px 1px rgba(60, 64, 67, 0.15);\n",
              "      fill: #174EA6;\n",
              "    }\n",
              "\n",
              "    [theme=dark] .colab-df-convert {\n",
              "      background-color: #3B4455;\n",
              "      fill: #D2E3FC;\n",
              "    }\n",
              "\n",
              "    [theme=dark] .colab-df-convert:hover {\n",
              "      background-color: #434B5C;\n",
              "      box-shadow: 0px 1px 3px 1px rgba(0, 0, 0, 0.15);\n",
              "      filter: drop-shadow(0px 1px 2px rgba(0, 0, 0, 0.3));\n",
              "      fill: #FFFFFF;\n",
              "    }\n",
              "  </style>\n",
              "\n",
              "      <script>\n",
              "        const buttonEl =\n",
              "          document.querySelector('#df-0ee3088d-7ed0-412b-b09d-3c43cb73dc76 button.colab-df-convert');\n",
              "        buttonEl.style.display =\n",
              "          google.colab.kernel.accessAllowed ? 'block' : 'none';\n",
              "\n",
              "        async function convertToInteractive(key) {\n",
              "          const element = document.querySelector('#df-0ee3088d-7ed0-412b-b09d-3c43cb73dc76');\n",
              "          const dataTable =\n",
              "            await google.colab.kernel.invokeFunction('convertToInteractive',\n",
              "                                                     [key], {});\n",
              "          if (!dataTable) return;\n",
              "\n",
              "          const docLinkHtml = 'Like what you see? Visit the ' +\n",
              "            '<a target=\"_blank\" href=https://colab.research.google.com/notebooks/data_table.ipynb>data table notebook</a>'\n",
              "            + ' to learn more about interactive tables.';\n",
              "          element.innerHTML = '';\n",
              "          dataTable['output_type'] = 'display_data';\n",
              "          await google.colab.output.renderOutput(dataTable, element);\n",
              "          const docLink = document.createElement('div');\n",
              "          docLink.innerHTML = docLinkHtml;\n",
              "          element.appendChild(docLink);\n",
              "        }\n",
              "      </script>\n",
              "    </div>\n",
              "  </div>\n",
              "  "
            ]
          },
          "metadata": {},
          "execution_count": 20
        }
      ]
    },
    {
      "cell_type": "code",
      "source": [
        "import regex as re"
      ],
      "metadata": {
        "id": "WGfJqgoLh2-4"
      },
      "execution_count": 21,
      "outputs": []
    },
    {
      "cell_type": "markdown",
      "source": [
        "Crear nueva variable \"tipo\", con tipo de modelo clase C que es el coche. En caso no obtener esa información, identificar con la palabra \"NoInfo\""
      ],
      "metadata": {
        "id": "y0YsGAF4pxwp"
      }
    },
    {
      "cell_type": "code",
      "source": [
        "coches['tipo'] = coches['url'].str.extract('-(\\d{2,3})-').fillna('NoInfo')"
      ],
      "metadata": {
        "id": "a5VssjsSm_7y"
      },
      "execution_count": 22,
      "outputs": []
    },
    {
      "cell_type": "code",
      "source": [
        "coches.tipo.sample(10)"
      ],
      "metadata": {
        "colab": {
          "base_uri": "https://localhost:8080/"
        },
        "id": "mTHQ0jfNoa8w",
        "outputId": "95d0eb9d-1f91-43fe-f6b9-76136543f626"
      },
      "execution_count": 23,
      "outputs": [
        {
          "output_type": "execute_result",
          "data": {
            "text/plain": [
              "583     250\n",
              "1340     43\n",
              "1544     43\n",
              "62      220\n",
              "359     220\n",
              "941     220\n",
              "1116    220\n",
              "689     220\n",
              "1598    220\n",
              "684     220\n",
              "Name: tipo, dtype: object"
            ]
          },
          "metadata": {},
          "execution_count": 23
        }
      ]
    },
    {
      "cell_type": "code",
      "source": [
        "coches.value_counts('tipo')"
      ],
      "metadata": {
        "colab": {
          "base_uri": "https://localhost:8080/"
        },
        "id": "jqkRCBGHjCaH",
        "outputId": "e9480ac2-3c0b-4cc4-f485-ca328f4060cf"
      },
      "execution_count": 24,
      "outputs": [
        {
          "output_type": "execute_result",
          "data": {
            "text/plain": [
              "tipo\n",
              "220       1092\n",
              "200        279\n",
              "NoInfo     132\n",
              "250        111\n",
              "63          76\n",
              "300         71\n",
              "43          69\n",
              "180         56\n",
              "350         33\n",
              "450          4\n",
              "400          3\n",
              "45           1\n",
              "dtype: int64"
            ]
          },
          "metadata": {},
          "execution_count": 24
        }
      ]
    },
    {
      "cell_type": "markdown",
      "source": [
        "Crear nueva variable booleana, indicango si el vehículo tiene el acabado AMG True o no False"
      ],
      "metadata": {
        "id": "dy36o9d_qFLU"
      }
    },
    {
      "cell_type": "code",
      "source": [
        "coches['AMG'] = False\n",
        "coches.loc[coches.url.str.contains('amg', case=True),'AMG'] = True"
      ],
      "metadata": {
        "id": "-CVKoS5wpKuV"
      },
      "execution_count": 25,
      "outputs": []
    },
    {
      "cell_type": "code",
      "source": [
        "coches.value_counts('AMG')"
      ],
      "metadata": {
        "colab": {
          "base_uri": "https://localhost:8080/"
        },
        "id": "PXh4KKz-pmD2",
        "outputId": "aac23f64-2daf-4393-d421-a7f335461fc5"
      },
      "execution_count": 26,
      "outputs": [
        {
          "output_type": "execute_result",
          "data": {
            "text/plain": [
              "AMG\n",
              "False    1521\n",
              "True      406\n",
              "dtype: int64"
            ]
          },
          "metadata": {},
          "execution_count": 26
        }
      ]
    },
    {
      "cell_type": "markdown",
      "source": [
        "### Coordenadas GPS de ciudades"
      ],
      "metadata": {
        "id": "1Msdmtr9sHVi"
      }
    },
    {
      "cell_type": "markdown",
      "source": [
        "Creo una función para obtener las coordenadas de la cada ciudad"
      ],
      "metadata": {
        "id": "TMvXJYaVk0KT"
      }
    },
    {
      "cell_type": "code",
      "source": [
        "def get_coordinates(cities):\n",
        "  '''\n",
        "  Given the column name with the cities, get coordinates for every city in two\n",
        "  differents columns, \"lat_ciudad\" and \"lat_ciudad\" in a new DF\n",
        "  '''\n",
        "  \n",
        "  from geopy.geocoders import Nominatim\n",
        "\n",
        "  geolocator = Nominatim(user_agent=\"MyApp\")\n",
        "  ciudades = coches[cities].value_counts().index.tolist()\n",
        "\n",
        "  lat_ciudad = []\n",
        "  long_ciudad = []\n",
        "\n",
        "  for ciudad in ciudades:\n",
        "    location = geolocator.geocode(ciudad) \n",
        "    lat_ciudad.append(location.latitude)\n",
        "    long_ciudad.append(location.longitude)\n",
        "\n",
        "  df_ciudades = pd.DataFrame(list(zip(ciudades, lat_ciudad, long_ciudad)), columns =['ciudad', 'lat_ciudad', 'long_ciudad'])\n",
        "\n",
        "  return df_ciudades\n",
        "\n"
      ],
      "metadata": {
        "id": "XHiCnwQYk610"
      },
      "execution_count": 27,
      "outputs": []
    },
    {
      "cell_type": "code",
      "source": [
        "df_ciudades = get_coordinates('ciudad')"
      ],
      "metadata": {
        "id": "-_7Y_Q-OmMZF"
      },
      "execution_count": 28,
      "outputs": []
    },
    {
      "cell_type": "markdown",
      "source": [
        "Ahora uno los dos dataframe para tener cada coordenada con cada ciudad de la tabla \"coches\""
      ],
      "metadata": {
        "id": "Yn7R-CIcnKPH"
      }
    },
    {
      "cell_type": "code",
      "source": [
        "coches = pd.merge(coches, df_ciudades, on = 'ciudad', how = 'left')\n",
        "coches.head()"
      ],
      "metadata": {
        "colab": {
          "base_uri": "https://localhost:8080/",
          "height": 285
        },
        "id": "qAYd2Cu3nEOv",
        "outputId": "9a2963ca-3c54-4000-b750-f6619476fe6e"
      },
      "execution_count": 29,
      "outputs": [
        {
          "output_type": "execute_result",
          "data": {
            "text/plain": [
              "                                                titulo  precio  kilometros  \\\n",
              "0                    MERCEDES-BENZ Clase C C 220 d 4p.   16200      281000   \n",
              "1             MERCEDES-BENZ Clase C C 220 d Estate 5p.   26900      114336   \n",
              "2  MERCEDES-BENZ Clase C C 220 d Avantgarde Estate 5p.   11000      287500   \n",
              "3         MERCEDES-BENZ Clase C C 220 d Avantgarde 4p.   22900      110000   \n",
              "4                    MERCEDES-BENZ Clase C C 300 d 4p.   68000       10650   \n",
              "\n",
              "    año  combustible      ciudad  garantia  \\\n",
              "0  2017            1    Baleares     False   \n",
              "1  2017            1     Badajoz      True   \n",
              "2  2015            1  Valladolid     False   \n",
              "3  2015            1    Valencia      True   \n",
              "4  2021            4       Cádiz      True   \n",
              "\n",
              "                                                                                                url  \\\n",
              "0                      /mercedes-benz-clase-c-c-220-d-4p-diesel-2017-en-baleares-51618684-covo.aspx   \n",
              "1                /mercedes-benz-clase-c-c-220-d-estate-5p-diesel-2017-en-badajoz-50946817-covo.aspx   \n",
              "2  /mercedes-benz-clase-c-c-220-d-avantgarde-estate-5p-diesel-2015-en-valladolid-51386008-covo.aspx   \n",
              "3           /mercedes-benz-clase-c-c-220-d-avantgarde-4p-diesel-2015-en-valencia-51457158-covo.aspx   \n",
              "4              /mercedes-benz-clase-c-c-300-d-4p-electrico-hibrido-2021-en-cadiz-51662564-covo.aspx   \n",
              "\n",
              "                                                                                                                      web  \\\n",
              "0                      https://www.coches.net/mercedes-benz-clase-c-c-220-d-4p-diesel-2017-en-baleares-51618684-covo.aspx   \n",
              "1                https://www.coches.net/mercedes-benz-clase-c-c-220-d-estate-5p-diesel-2017-en-badajoz-50946817-covo.aspx   \n",
              "2  https://www.coches.net/mercedes-benz-clase-c-c-220-d-avantgarde-estate-5p-diesel-2015-en-valladolid-51386008-covo.aspx   \n",
              "3           https://www.coches.net/mercedes-benz-clase-c-c-220-d-avantgarde-4p-diesel-2015-en-valencia-51457158-covo.aspx   \n",
              "4              https://www.coches.net/mercedes-benz-clase-c-c-300-d-4p-electrico-hibrido-2021-en-cadiz-51662564-covo.aspx   \n",
              "\n",
              "  tipo    AMG  lat_ciudad  long_ciudad  \n",
              "0  220  False   39.613432     2.880354  \n",
              "1  220  False   38.878059    -6.970205  \n",
              "2  220  False   41.652133    -4.728562  \n",
              "3  220  False   39.469707    -0.376335  \n",
              "4  300  False   36.529744    -6.292898  "
            ],
            "text/html": [
              "\n",
              "  <div id=\"df-9166250e-544f-4c9f-9191-014dcec340cf\">\n",
              "    <div class=\"colab-df-container\">\n",
              "      <div>\n",
              "<style scoped>\n",
              "    .dataframe tbody tr th:only-of-type {\n",
              "        vertical-align: middle;\n",
              "    }\n",
              "\n",
              "    .dataframe tbody tr th {\n",
              "        vertical-align: top;\n",
              "    }\n",
              "\n",
              "    .dataframe thead th {\n",
              "        text-align: right;\n",
              "    }\n",
              "</style>\n",
              "<table border=\"1\" class=\"dataframe\">\n",
              "  <thead>\n",
              "    <tr style=\"text-align: right;\">\n",
              "      <th></th>\n",
              "      <th>titulo</th>\n",
              "      <th>precio</th>\n",
              "      <th>kilometros</th>\n",
              "      <th>año</th>\n",
              "      <th>combustible</th>\n",
              "      <th>ciudad</th>\n",
              "      <th>garantia</th>\n",
              "      <th>url</th>\n",
              "      <th>web</th>\n",
              "      <th>tipo</th>\n",
              "      <th>AMG</th>\n",
              "      <th>lat_ciudad</th>\n",
              "      <th>long_ciudad</th>\n",
              "    </tr>\n",
              "  </thead>\n",
              "  <tbody>\n",
              "    <tr>\n",
              "      <th>0</th>\n",
              "      <td>MERCEDES-BENZ Clase C C 220 d 4p.</td>\n",
              "      <td>16200</td>\n",
              "      <td>281000</td>\n",
              "      <td>2017</td>\n",
              "      <td>1</td>\n",
              "      <td>Baleares</td>\n",
              "      <td>False</td>\n",
              "      <td>/mercedes-benz-clase-c-c-220-d-4p-diesel-2017-en-baleares-51618684-covo.aspx</td>\n",
              "      <td>https://www.coches.net/mercedes-benz-clase-c-c-220-d-4p-diesel-2017-en-baleares-51618684-covo.aspx</td>\n",
              "      <td>220</td>\n",
              "      <td>False</td>\n",
              "      <td>39.613432</td>\n",
              "      <td>2.880354</td>\n",
              "    </tr>\n",
              "    <tr>\n",
              "      <th>1</th>\n",
              "      <td>MERCEDES-BENZ Clase C C 220 d Estate 5p.</td>\n",
              "      <td>26900</td>\n",
              "      <td>114336</td>\n",
              "      <td>2017</td>\n",
              "      <td>1</td>\n",
              "      <td>Badajoz</td>\n",
              "      <td>True</td>\n",
              "      <td>/mercedes-benz-clase-c-c-220-d-estate-5p-diesel-2017-en-badajoz-50946817-covo.aspx</td>\n",
              "      <td>https://www.coches.net/mercedes-benz-clase-c-c-220-d-estate-5p-diesel-2017-en-badajoz-50946817-covo.aspx</td>\n",
              "      <td>220</td>\n",
              "      <td>False</td>\n",
              "      <td>38.878059</td>\n",
              "      <td>-6.970205</td>\n",
              "    </tr>\n",
              "    <tr>\n",
              "      <th>2</th>\n",
              "      <td>MERCEDES-BENZ Clase C C 220 d Avantgarde Estate 5p.</td>\n",
              "      <td>11000</td>\n",
              "      <td>287500</td>\n",
              "      <td>2015</td>\n",
              "      <td>1</td>\n",
              "      <td>Valladolid</td>\n",
              "      <td>False</td>\n",
              "      <td>/mercedes-benz-clase-c-c-220-d-avantgarde-estate-5p-diesel-2015-en-valladolid-51386008-covo.aspx</td>\n",
              "      <td>https://www.coches.net/mercedes-benz-clase-c-c-220-d-avantgarde-estate-5p-diesel-2015-en-valladolid-51386008-covo.aspx</td>\n",
              "      <td>220</td>\n",
              "      <td>False</td>\n",
              "      <td>41.652133</td>\n",
              "      <td>-4.728562</td>\n",
              "    </tr>\n",
              "    <tr>\n",
              "      <th>3</th>\n",
              "      <td>MERCEDES-BENZ Clase C C 220 d Avantgarde 4p.</td>\n",
              "      <td>22900</td>\n",
              "      <td>110000</td>\n",
              "      <td>2015</td>\n",
              "      <td>1</td>\n",
              "      <td>Valencia</td>\n",
              "      <td>True</td>\n",
              "      <td>/mercedes-benz-clase-c-c-220-d-avantgarde-4p-diesel-2015-en-valencia-51457158-covo.aspx</td>\n",
              "      <td>https://www.coches.net/mercedes-benz-clase-c-c-220-d-avantgarde-4p-diesel-2015-en-valencia-51457158-covo.aspx</td>\n",
              "      <td>220</td>\n",
              "      <td>False</td>\n",
              "      <td>39.469707</td>\n",
              "      <td>-0.376335</td>\n",
              "    </tr>\n",
              "    <tr>\n",
              "      <th>4</th>\n",
              "      <td>MERCEDES-BENZ Clase C C 300 d 4p.</td>\n",
              "      <td>68000</td>\n",
              "      <td>10650</td>\n",
              "      <td>2021</td>\n",
              "      <td>4</td>\n",
              "      <td>Cádiz</td>\n",
              "      <td>True</td>\n",
              "      <td>/mercedes-benz-clase-c-c-300-d-4p-electrico-hibrido-2021-en-cadiz-51662564-covo.aspx</td>\n",
              "      <td>https://www.coches.net/mercedes-benz-clase-c-c-300-d-4p-electrico-hibrido-2021-en-cadiz-51662564-covo.aspx</td>\n",
              "      <td>300</td>\n",
              "      <td>False</td>\n",
              "      <td>36.529744</td>\n",
              "      <td>-6.292898</td>\n",
              "    </tr>\n",
              "  </tbody>\n",
              "</table>\n",
              "</div>\n",
              "      <button class=\"colab-df-convert\" onclick=\"convertToInteractive('df-9166250e-544f-4c9f-9191-014dcec340cf')\"\n",
              "              title=\"Convert this dataframe to an interactive table.\"\n",
              "              style=\"display:none;\">\n",
              "        \n",
              "  <svg xmlns=\"http://www.w3.org/2000/svg\" height=\"24px\"viewBox=\"0 0 24 24\"\n",
              "       width=\"24px\">\n",
              "    <path d=\"M0 0h24v24H0V0z\" fill=\"none\"/>\n",
              "    <path d=\"M18.56 5.44l.94 2.06.94-2.06 2.06-.94-2.06-.94-.94-2.06-.94 2.06-2.06.94zm-11 1L8.5 8.5l.94-2.06 2.06-.94-2.06-.94L8.5 2.5l-.94 2.06-2.06.94zm10 10l.94 2.06.94-2.06 2.06-.94-2.06-.94-.94-2.06-.94 2.06-2.06.94z\"/><path d=\"M17.41 7.96l-1.37-1.37c-.4-.4-.92-.59-1.43-.59-.52 0-1.04.2-1.43.59L10.3 9.45l-7.72 7.72c-.78.78-.78 2.05 0 2.83L4 21.41c.39.39.9.59 1.41.59.51 0 1.02-.2 1.41-.59l7.78-7.78 2.81-2.81c.8-.78.8-2.07 0-2.86zM5.41 20L4 18.59l7.72-7.72 1.47 1.35L5.41 20z\"/>\n",
              "  </svg>\n",
              "      </button>\n",
              "      \n",
              "  <style>\n",
              "    .colab-df-container {\n",
              "      display:flex;\n",
              "      flex-wrap:wrap;\n",
              "      gap: 12px;\n",
              "    }\n",
              "\n",
              "    .colab-df-convert {\n",
              "      background-color: #E8F0FE;\n",
              "      border: none;\n",
              "      border-radius: 50%;\n",
              "      cursor: pointer;\n",
              "      display: none;\n",
              "      fill: #1967D2;\n",
              "      height: 32px;\n",
              "      padding: 0 0 0 0;\n",
              "      width: 32px;\n",
              "    }\n",
              "\n",
              "    .colab-df-convert:hover {\n",
              "      background-color: #E2EBFA;\n",
              "      box-shadow: 0px 1px 2px rgba(60, 64, 67, 0.3), 0px 1px 3px 1px rgba(60, 64, 67, 0.15);\n",
              "      fill: #174EA6;\n",
              "    }\n",
              "\n",
              "    [theme=dark] .colab-df-convert {\n",
              "      background-color: #3B4455;\n",
              "      fill: #D2E3FC;\n",
              "    }\n",
              "\n",
              "    [theme=dark] .colab-df-convert:hover {\n",
              "      background-color: #434B5C;\n",
              "      box-shadow: 0px 1px 3px 1px rgba(0, 0, 0, 0.15);\n",
              "      filter: drop-shadow(0px 1px 2px rgba(0, 0, 0, 0.3));\n",
              "      fill: #FFFFFF;\n",
              "    }\n",
              "  </style>\n",
              "\n",
              "      <script>\n",
              "        const buttonEl =\n",
              "          document.querySelector('#df-9166250e-544f-4c9f-9191-014dcec340cf button.colab-df-convert');\n",
              "        buttonEl.style.display =\n",
              "          google.colab.kernel.accessAllowed ? 'block' : 'none';\n",
              "\n",
              "        async function convertToInteractive(key) {\n",
              "          const element = document.querySelector('#df-9166250e-544f-4c9f-9191-014dcec340cf');\n",
              "          const dataTable =\n",
              "            await google.colab.kernel.invokeFunction('convertToInteractive',\n",
              "                                                     [key], {});\n",
              "          if (!dataTable) return;\n",
              "\n",
              "          const docLinkHtml = 'Like what you see? Visit the ' +\n",
              "            '<a target=\"_blank\" href=https://colab.research.google.com/notebooks/data_table.ipynb>data table notebook</a>'\n",
              "            + ' to learn more about interactive tables.';\n",
              "          element.innerHTML = '';\n",
              "          dataTable['output_type'] = 'display_data';\n",
              "          await google.colab.output.renderOutput(dataTable, element);\n",
              "          const docLink = document.createElement('div');\n",
              "          docLink.innerHTML = docLinkHtml;\n",
              "          element.appendChild(docLink);\n",
              "        }\n",
              "      </script>\n",
              "    </div>\n",
              "  </div>\n",
              "  "
            ]
          },
          "metadata": {},
          "execution_count": 29
        }
      ]
    },
    {
      "cell_type": "markdown",
      "source": [
        "### Escalado de la variable \"kilometros\""
      ],
      "metadata": {
        "id": "0qeDPxIxn4QF"
      }
    },
    {
      "cell_type": "markdown",
      "source": [
        "Creo función para devolver valores de una columna con su normalización Z"
      ],
      "metadata": {
        "id": "EUH4BwEgt0my"
      }
    },
    {
      "cell_type": "code",
      "source": [
        "def norm_z(columna):\n",
        "  '''\n",
        "  Get the Z transformation from a given column\n",
        "  '''\n",
        "\n",
        "  z = (coches[columna] - coches[columna].mean() / coches[columna].std())\n",
        "  return z"
      ],
      "metadata": {
        "id": "PzSNskjukM0v"
      },
      "execution_count": 30,
      "outputs": []
    },
    {
      "cell_type": "code",
      "source": [
        "coches['z_kilometros'] = norm_z('kilometros')\n"
      ],
      "metadata": {
        "id": "ZW5vdJuFuxZ8"
      },
      "execution_count": 31,
      "outputs": []
    },
    {
      "cell_type": "markdown",
      "source": [
        "### Crear nueva variable con la antigüedad del coches en años. Escalar."
      ],
      "metadata": {
        "id": "-FThqRKvw0tx"
      }
    },
    {
      "cell_type": "markdown",
      "source": [
        "Restar la fecha actual a la columna año para obtener los años del coches"
      ],
      "metadata": {
        "id": "NGqV3Z2zxHRw"
      }
    },
    {
      "cell_type": "code",
      "source": [
        "from datetime import datetime\n",
        "\n",
        "now = datetime.now().year\n",
        "coches['años'] = now - coches['año']"
      ],
      "metadata": {
        "id": "zc9blFidxAqG"
      },
      "execution_count": 32,
      "outputs": []
    },
    {
      "cell_type": "code",
      "source": [
        "coches.sample()"
      ],
      "metadata": {
        "colab": {
          "base_uri": "https://localhost:8080/",
          "height": 142
        },
        "id": "pvEBXaAewBtE",
        "outputId": "4f774f89-c1a9-4c69-e2c7-2d6704e00672"
      },
      "execution_count": 33,
      "outputs": [
        {
          "output_type": "execute_result",
          "data": {
            "text/plain": [
              "                                                titulo  precio  kilometros  \\\n",
              "913  MERCEDES-BENZ Clase C MercedesAMG C 43 4MATIC 4p.   48990       27000   \n",
              "\n",
              "      año  combustible     ciudad  garantia  \\\n",
              "913  2017            2  Barcelona      True   \n",
              "\n",
              "                                                                                                 url  \\\n",
              "913  /mercedes-benz-clase-c-mercedesamg-c-43-4matic-4p-gasolina-2017-en-barcelona-51423147-covo.aspx   \n",
              "\n",
              "                                                                                                                       web  \\\n",
              "913  https://www.coches.net/mercedes-benz-clase-c-mercedesamg-c-43-4matic-4p-gasolina-2017-en-barcelona-51423147-covo.aspx   \n",
              "\n",
              "    tipo   AMG  lat_ciudad  long_ciudad  z_kilometros  años  \n",
              "913   43  True   41.382894     2.177432  26998.419874     5  "
            ],
            "text/html": [
              "\n",
              "  <div id=\"df-2a776b3f-2b0e-469c-a40a-4312814954c9\">\n",
              "    <div class=\"colab-df-container\">\n",
              "      <div>\n",
              "<style scoped>\n",
              "    .dataframe tbody tr th:only-of-type {\n",
              "        vertical-align: middle;\n",
              "    }\n",
              "\n",
              "    .dataframe tbody tr th {\n",
              "        vertical-align: top;\n",
              "    }\n",
              "\n",
              "    .dataframe thead th {\n",
              "        text-align: right;\n",
              "    }\n",
              "</style>\n",
              "<table border=\"1\" class=\"dataframe\">\n",
              "  <thead>\n",
              "    <tr style=\"text-align: right;\">\n",
              "      <th></th>\n",
              "      <th>titulo</th>\n",
              "      <th>precio</th>\n",
              "      <th>kilometros</th>\n",
              "      <th>año</th>\n",
              "      <th>combustible</th>\n",
              "      <th>ciudad</th>\n",
              "      <th>garantia</th>\n",
              "      <th>url</th>\n",
              "      <th>web</th>\n",
              "      <th>tipo</th>\n",
              "      <th>AMG</th>\n",
              "      <th>lat_ciudad</th>\n",
              "      <th>long_ciudad</th>\n",
              "      <th>z_kilometros</th>\n",
              "      <th>años</th>\n",
              "    </tr>\n",
              "  </thead>\n",
              "  <tbody>\n",
              "    <tr>\n",
              "      <th>913</th>\n",
              "      <td>MERCEDES-BENZ Clase C MercedesAMG C 43 4MATIC 4p.</td>\n",
              "      <td>48990</td>\n",
              "      <td>27000</td>\n",
              "      <td>2017</td>\n",
              "      <td>2</td>\n",
              "      <td>Barcelona</td>\n",
              "      <td>True</td>\n",
              "      <td>/mercedes-benz-clase-c-mercedesamg-c-43-4matic-4p-gasolina-2017-en-barcelona-51423147-covo.aspx</td>\n",
              "      <td>https://www.coches.net/mercedes-benz-clase-c-mercedesamg-c-43-4matic-4p-gasolina-2017-en-barcelona-51423147-covo.aspx</td>\n",
              "      <td>43</td>\n",
              "      <td>True</td>\n",
              "      <td>41.382894</td>\n",
              "      <td>2.177432</td>\n",
              "      <td>26998.419874</td>\n",
              "      <td>5</td>\n",
              "    </tr>\n",
              "  </tbody>\n",
              "</table>\n",
              "</div>\n",
              "      <button class=\"colab-df-convert\" onclick=\"convertToInteractive('df-2a776b3f-2b0e-469c-a40a-4312814954c9')\"\n",
              "              title=\"Convert this dataframe to an interactive table.\"\n",
              "              style=\"display:none;\">\n",
              "        \n",
              "  <svg xmlns=\"http://www.w3.org/2000/svg\" height=\"24px\"viewBox=\"0 0 24 24\"\n",
              "       width=\"24px\">\n",
              "    <path d=\"M0 0h24v24H0V0z\" fill=\"none\"/>\n",
              "    <path d=\"M18.56 5.44l.94 2.06.94-2.06 2.06-.94-2.06-.94-.94-2.06-.94 2.06-2.06.94zm-11 1L8.5 8.5l.94-2.06 2.06-.94-2.06-.94L8.5 2.5l-.94 2.06-2.06.94zm10 10l.94 2.06.94-2.06 2.06-.94-2.06-.94-.94-2.06-.94 2.06-2.06.94z\"/><path d=\"M17.41 7.96l-1.37-1.37c-.4-.4-.92-.59-1.43-.59-.52 0-1.04.2-1.43.59L10.3 9.45l-7.72 7.72c-.78.78-.78 2.05 0 2.83L4 21.41c.39.39.9.59 1.41.59.51 0 1.02-.2 1.41-.59l7.78-7.78 2.81-2.81c.8-.78.8-2.07 0-2.86zM5.41 20L4 18.59l7.72-7.72 1.47 1.35L5.41 20z\"/>\n",
              "  </svg>\n",
              "      </button>\n",
              "      \n",
              "  <style>\n",
              "    .colab-df-container {\n",
              "      display:flex;\n",
              "      flex-wrap:wrap;\n",
              "      gap: 12px;\n",
              "    }\n",
              "\n",
              "    .colab-df-convert {\n",
              "      background-color: #E8F0FE;\n",
              "      border: none;\n",
              "      border-radius: 50%;\n",
              "      cursor: pointer;\n",
              "      display: none;\n",
              "      fill: #1967D2;\n",
              "      height: 32px;\n",
              "      padding: 0 0 0 0;\n",
              "      width: 32px;\n",
              "    }\n",
              "\n",
              "    .colab-df-convert:hover {\n",
              "      background-color: #E2EBFA;\n",
              "      box-shadow: 0px 1px 2px rgba(60, 64, 67, 0.3), 0px 1px 3px 1px rgba(60, 64, 67, 0.15);\n",
              "      fill: #174EA6;\n",
              "    }\n",
              "\n",
              "    [theme=dark] .colab-df-convert {\n",
              "      background-color: #3B4455;\n",
              "      fill: #D2E3FC;\n",
              "    }\n",
              "\n",
              "    [theme=dark] .colab-df-convert:hover {\n",
              "      background-color: #434B5C;\n",
              "      box-shadow: 0px 1px 3px 1px rgba(0, 0, 0, 0.15);\n",
              "      filter: drop-shadow(0px 1px 2px rgba(0, 0, 0, 0.3));\n",
              "      fill: #FFFFFF;\n",
              "    }\n",
              "  </style>\n",
              "\n",
              "      <script>\n",
              "        const buttonEl =\n",
              "          document.querySelector('#df-2a776b3f-2b0e-469c-a40a-4312814954c9 button.colab-df-convert');\n",
              "        buttonEl.style.display =\n",
              "          google.colab.kernel.accessAllowed ? 'block' : 'none';\n",
              "\n",
              "        async function convertToInteractive(key) {\n",
              "          const element = document.querySelector('#df-2a776b3f-2b0e-469c-a40a-4312814954c9');\n",
              "          const dataTable =\n",
              "            await google.colab.kernel.invokeFunction('convertToInteractive',\n",
              "                                                     [key], {});\n",
              "          if (!dataTable) return;\n",
              "\n",
              "          const docLinkHtml = 'Like what you see? Visit the ' +\n",
              "            '<a target=\"_blank\" href=https://colab.research.google.com/notebooks/data_table.ipynb>data table notebook</a>'\n",
              "            + ' to learn more about interactive tables.';\n",
              "          element.innerHTML = '';\n",
              "          dataTable['output_type'] = 'display_data';\n",
              "          await google.colab.output.renderOutput(dataTable, element);\n",
              "          const docLink = document.createElement('div');\n",
              "          docLink.innerHTML = docLinkHtml;\n",
              "          element.appendChild(docLink);\n",
              "        }\n",
              "      </script>\n",
              "    </div>\n",
              "  </div>\n",
              "  "
            ]
          },
          "metadata": {},
          "execution_count": 33
        }
      ]
    },
    {
      "cell_type": "markdown",
      "source": [
        "### Variables binarias para combustible y tipo"
      ],
      "metadata": {
        "id": "SmfSBNLWy91k"
      }
    },
    {
      "cell_type": "markdown",
      "source": [
        "Crear variables con el tipo de combustible"
      ],
      "metadata": {
        "id": "yGRjnyx7zAug"
      }
    },
    {
      "cell_type": "code",
      "source": [
        "# Usar dummies variables para generar las columnas binarias\n",
        "# Eliminamos primera columna \"combustible_1\", por lo que si el resto valen 0, quiere decir que se trata de\n",
        "# coche con combustible tipo 1 (diésel)\n",
        "coches['tipo_combustible'] = coches['combustible']\n",
        "coches['modelo_tipo'] = coches['tipo']\n",
        "coches = pd.get_dummies(coches, prefix = 'combustible', columns = ['combustible'], drop_first = True)\n",
        "coches = pd.get_dummies(coches, prefix = 'tipo', columns = ['tipo'], drop_first = True)\n",
        "coches.sample(1)"
      ],
      "metadata": {
        "colab": {
          "base_uri": "https://localhost:8080/",
          "height": 171
        },
        "id": "mPR4Y0PnzPRK",
        "outputId": "80df68a4-4abb-4482-8d8d-f66dc262edf9"
      },
      "execution_count": 34,
      "outputs": [
        {
          "output_type": "execute_result",
          "data": {
            "text/plain": [
              "                                titulo  precio  kilometros   año    ciudad  \\\n",
              "254  MERCEDES-BENZ Clase C C 220 d 4p.   50900       14000  2021  Valencia   \n",
              "\n",
              "     garantia  \\\n",
              "254      True   \n",
              "\n",
              "                                                                              url  \\\n",
              "254  /mercedes-benz-clase-c-c-220-d-4p-diesel-2021-en-valencia-51549751-covo.aspx   \n",
              "\n",
              "                                                                                                    web  \\\n",
              "254  https://www.coches.net/mercedes-benz-clase-c-c-220-d-4p-diesel-2021-en-valencia-51549751-covo.aspx   \n",
              "\n",
              "       AMG  lat_ciudad  ...  tipo_220  tipo_250  tipo_300  tipo_350 tipo_400  \\\n",
              "254  False   39.469707  ...         1         0         0         0        0   \n",
              "\n",
              "     tipo_43  tipo_45  tipo_450  tipo_63  tipo_NoInfo  \n",
              "254        0        0         0        0            0  \n",
              "\n",
              "[1 rows x 29 columns]"
            ],
            "text/html": [
              "\n",
              "  <div id=\"df-5dee3a08-9c3e-4f03-9e9c-79962d8665be\">\n",
              "    <div class=\"colab-df-container\">\n",
              "      <div>\n",
              "<style scoped>\n",
              "    .dataframe tbody tr th:only-of-type {\n",
              "        vertical-align: middle;\n",
              "    }\n",
              "\n",
              "    .dataframe tbody tr th {\n",
              "        vertical-align: top;\n",
              "    }\n",
              "\n",
              "    .dataframe thead th {\n",
              "        text-align: right;\n",
              "    }\n",
              "</style>\n",
              "<table border=\"1\" class=\"dataframe\">\n",
              "  <thead>\n",
              "    <tr style=\"text-align: right;\">\n",
              "      <th></th>\n",
              "      <th>titulo</th>\n",
              "      <th>precio</th>\n",
              "      <th>kilometros</th>\n",
              "      <th>año</th>\n",
              "      <th>ciudad</th>\n",
              "      <th>garantia</th>\n",
              "      <th>url</th>\n",
              "      <th>web</th>\n",
              "      <th>AMG</th>\n",
              "      <th>lat_ciudad</th>\n",
              "      <th>...</th>\n",
              "      <th>tipo_220</th>\n",
              "      <th>tipo_250</th>\n",
              "      <th>tipo_300</th>\n",
              "      <th>tipo_350</th>\n",
              "      <th>tipo_400</th>\n",
              "      <th>tipo_43</th>\n",
              "      <th>tipo_45</th>\n",
              "      <th>tipo_450</th>\n",
              "      <th>tipo_63</th>\n",
              "      <th>tipo_NoInfo</th>\n",
              "    </tr>\n",
              "  </thead>\n",
              "  <tbody>\n",
              "    <tr>\n",
              "      <th>254</th>\n",
              "      <td>MERCEDES-BENZ Clase C C 220 d 4p.</td>\n",
              "      <td>50900</td>\n",
              "      <td>14000</td>\n",
              "      <td>2021</td>\n",
              "      <td>Valencia</td>\n",
              "      <td>True</td>\n",
              "      <td>/mercedes-benz-clase-c-c-220-d-4p-diesel-2021-en-valencia-51549751-covo.aspx</td>\n",
              "      <td>https://www.coches.net/mercedes-benz-clase-c-c-220-d-4p-diesel-2021-en-valencia-51549751-covo.aspx</td>\n",
              "      <td>False</td>\n",
              "      <td>39.469707</td>\n",
              "      <td>...</td>\n",
              "      <td>1</td>\n",
              "      <td>0</td>\n",
              "      <td>0</td>\n",
              "      <td>0</td>\n",
              "      <td>0</td>\n",
              "      <td>0</td>\n",
              "      <td>0</td>\n",
              "      <td>0</td>\n",
              "      <td>0</td>\n",
              "      <td>0</td>\n",
              "    </tr>\n",
              "  </tbody>\n",
              "</table>\n",
              "<p>1 rows × 29 columns</p>\n",
              "</div>\n",
              "      <button class=\"colab-df-convert\" onclick=\"convertToInteractive('df-5dee3a08-9c3e-4f03-9e9c-79962d8665be')\"\n",
              "              title=\"Convert this dataframe to an interactive table.\"\n",
              "              style=\"display:none;\">\n",
              "        \n",
              "  <svg xmlns=\"http://www.w3.org/2000/svg\" height=\"24px\"viewBox=\"0 0 24 24\"\n",
              "       width=\"24px\">\n",
              "    <path d=\"M0 0h24v24H0V0z\" fill=\"none\"/>\n",
              "    <path d=\"M18.56 5.44l.94 2.06.94-2.06 2.06-.94-2.06-.94-.94-2.06-.94 2.06-2.06.94zm-11 1L8.5 8.5l.94-2.06 2.06-.94-2.06-.94L8.5 2.5l-.94 2.06-2.06.94zm10 10l.94 2.06.94-2.06 2.06-.94-2.06-.94-.94-2.06-.94 2.06-2.06.94z\"/><path d=\"M17.41 7.96l-1.37-1.37c-.4-.4-.92-.59-1.43-.59-.52 0-1.04.2-1.43.59L10.3 9.45l-7.72 7.72c-.78.78-.78 2.05 0 2.83L4 21.41c.39.39.9.59 1.41.59.51 0 1.02-.2 1.41-.59l7.78-7.78 2.81-2.81c.8-.78.8-2.07 0-2.86zM5.41 20L4 18.59l7.72-7.72 1.47 1.35L5.41 20z\"/>\n",
              "  </svg>\n",
              "      </button>\n",
              "      \n",
              "  <style>\n",
              "    .colab-df-container {\n",
              "      display:flex;\n",
              "      flex-wrap:wrap;\n",
              "      gap: 12px;\n",
              "    }\n",
              "\n",
              "    .colab-df-convert {\n",
              "      background-color: #E8F0FE;\n",
              "      border: none;\n",
              "      border-radius: 50%;\n",
              "      cursor: pointer;\n",
              "      display: none;\n",
              "      fill: #1967D2;\n",
              "      height: 32px;\n",
              "      padding: 0 0 0 0;\n",
              "      width: 32px;\n",
              "    }\n",
              "\n",
              "    .colab-df-convert:hover {\n",
              "      background-color: #E2EBFA;\n",
              "      box-shadow: 0px 1px 2px rgba(60, 64, 67, 0.3), 0px 1px 3px 1px rgba(60, 64, 67, 0.15);\n",
              "      fill: #174EA6;\n",
              "    }\n",
              "\n",
              "    [theme=dark] .colab-df-convert {\n",
              "      background-color: #3B4455;\n",
              "      fill: #D2E3FC;\n",
              "    }\n",
              "\n",
              "    [theme=dark] .colab-df-convert:hover {\n",
              "      background-color: #434B5C;\n",
              "      box-shadow: 0px 1px 3px 1px rgba(0, 0, 0, 0.15);\n",
              "      filter: drop-shadow(0px 1px 2px rgba(0, 0, 0, 0.3));\n",
              "      fill: #FFFFFF;\n",
              "    }\n",
              "  </style>\n",
              "\n",
              "      <script>\n",
              "        const buttonEl =\n",
              "          document.querySelector('#df-5dee3a08-9c3e-4f03-9e9c-79962d8665be button.colab-df-convert');\n",
              "        buttonEl.style.display =\n",
              "          google.colab.kernel.accessAllowed ? 'block' : 'none';\n",
              "\n",
              "        async function convertToInteractive(key) {\n",
              "          const element = document.querySelector('#df-5dee3a08-9c3e-4f03-9e9c-79962d8665be');\n",
              "          const dataTable =\n",
              "            await google.colab.kernel.invokeFunction('convertToInteractive',\n",
              "                                                     [key], {});\n",
              "          if (!dataTable) return;\n",
              "\n",
              "          const docLinkHtml = 'Like what you see? Visit the ' +\n",
              "            '<a target=\"_blank\" href=https://colab.research.google.com/notebooks/data_table.ipynb>data table notebook</a>'\n",
              "            + ' to learn more about interactive tables.';\n",
              "          element.innerHTML = '';\n",
              "          dataTable['output_type'] = 'display_data';\n",
              "          await google.colab.output.renderOutput(dataTable, element);\n",
              "          const docLink = document.createElement('div');\n",
              "          docLink.innerHTML = docLinkHtml;\n",
              "          element.appendChild(docLink);\n",
              "        }\n",
              "      </script>\n",
              "    </div>\n",
              "  </div>\n",
              "  "
            ]
          },
          "metadata": {},
          "execution_count": 34
        }
      ]
    },
    {
      "cell_type": "markdown",
      "source": [
        "Salvaguardar DataFrame"
      ],
      "metadata": {
        "id": "tSB1TjBW4mfC"
      }
    },
    {
      "cell_type": "code",
      "source": [
        "coches_copy = coches.copy()"
      ],
      "metadata": {
        "id": "VsTh1wH11twT"
      },
      "execution_count": 35,
      "outputs": []
    },
    {
      "cell_type": "markdown",
      "source": [
        "### Box plot de características."
      ],
      "metadata": {
        "id": "VZQfL7U-486K"
      }
    },
    {
      "cell_type": "markdown",
      "source": [
        "Mostrar varibles categóricas en diagramas de caja y bigotes"
      ],
      "metadata": {
        "id": "BZe84OBC542o"
      }
    },
    {
      "cell_type": "code",
      "source": [
        "# Function from the example of the course. (Thaks to the author).\n",
        "# Codigo utilizado durante la formación recibida por \"Udacity\"\n",
        "def boxgrid(x, y, **kwargs):\n",
        "    \"\"\" Quick hack for creating box plots with seaborn's PairGrid. \"\"\"\n",
        "    default_color = sns.color_palette()[0]\n",
        "    sns.boxplot(x, y, color = default_color)\n",
        "    plt.xticks(rotation = 30)\n",
        "    \n",
        "# Plotting the graph\n",
        "plt.figure(figsize = [20, 20])\n",
        "g = sns.PairGrid(data = coches, y_vars = ['precio', 'kilometros'], \n",
        "                x_vars = ['año', 'garantia', 'modelo_tipo', 'AMG', 'tipo_combustible'], height = 3, aspect = 1.5)\n",
        "\n",
        "g.fig.subplots_adjust(top=0.95)\n",
        "g.fig.suptitle('Variables categóricas frente a numéricas')\n",
        "g.map(boxgrid)\n",
        "plt.show();"
      ],
      "metadata": {
        "colab": {
          "base_uri": "https://localhost:8080/",
          "height": 477
        },
        "id": "p31o2D5K477x",
        "outputId": "fb262afd-b890-42a5-9376-b95f793ff495"
      },
      "execution_count": 36,
      "outputs": [
        {
          "output_type": "display_data",
          "data": {
            "text/plain": [
              "<Figure size 1440x1440 with 0 Axes>"
            ]
          },
          "metadata": {}
        },
        {
          "output_type": "display_data",
          "data": {
            "text/plain": [
              "<Figure size 1620x432 with 10 Axes>"
            ],
            "image/png": "[encoded data removed]"
          },
          "metadata": {
            "needs_background": "light"
          }
        }
      ]
    },
    {
      "cell_type": "markdown",
      "source": [
        "### Análisis por agrupación"
      ],
      "metadata": {
        "id": "Gfuki5tJ9Lvt"
      }
    },
    {
      "cell_type": "markdown",
      "source": [
        "Analizar media y mediana de precios por ciudad"
      ],
      "metadata": {
        "id": "wyyemHJe9cAq"
      }
    },
    {
      "cell_type": "code",
      "source": [
        "# Agrupar datos\n",
        "coches_city_price_mean = coches.groupby('ciudad')['precio'].mean().reset_index()\n",
        "coches_city_price_median = coches.groupby('ciudad')['precio'].median().reset_index()"
      ],
      "metadata": {
        "id": "1MpYzCF44ugL"
      },
      "execution_count": 37,
      "outputs": []
    },
    {
      "cell_type": "code",
      "source": [
        "# Crear gráfico\n",
        "plt.figure(figsize = (30,20))\n",
        "bars_precio = plt.bar(coches_city_price_mean.ciudad,coches_city_price_mean.precio, label = 'precio medio')\n",
        "median_precio = plt.plot(coches_city_price_median.ciudad, coches_city_price_median.precio, color = 'red', label = 'precio mediana')\n",
        "plt.plot([], [], ' ', label=\"Vehículos anunciados\")\n",
        "plt.tick_params(axis = 'x',labelrotation = 45, labelsize = 10)\n",
        "plt.tick_params(axis = 'y', labelsize = 20)\n",
        "plt.ylabel('Precio, euros',fontdict = {'fontsize': 40})\n",
        "plt.xlabel('Ciudad',fontdict = {'fontsize': 40})\n",
        "plt.title('Media y mediana de los precios por ciudad',fontdict = {'fontsize': 40},pad = 0)\n",
        "plt.legend(prop = {'size': 20})\n",
        "\n",
        "\n",
        "# Añado texto en cada barra con el número de unidades por ciudad\n",
        "nCiudad = coches.value_counts('ciudad').reset_index()\n",
        "nCiudad = nCiudad.sort_values('ciudad')\n",
        "x = coches_city_price_mean.ciudad\n",
        "y = coches_city_price_mean.precio\n",
        "n = nCiudad[0]\n",
        "for x, y, n in zip(x, y, n):\n",
        "   plt.text(x, y, n)\n",
        "\n",
        "plt.show();"
      ],
      "metadata": {
        "colab": {
          "base_uri": "https://localhost:8080/",
          "height": 1000
        },
        "id": "YfkB74z9dFNq",
        "outputId": "20c909b5-60bc-4cdd-faa4-68922709fcc8"
      },
      "execution_count": 73,
      "outputs": [
        {
          "output_type": "display_data",
          "data": {
            "text/plain": [
              "<Figure size 2160x1440 with 1 Axes>"
            ],
            "image/png": "[encoded data removed]"
          },
          "metadata": {
            "needs_background": "light"
          }
        }
      ]
    },
    {
      "cell_type": "markdown",
      "source": [
        "### Estudio de las distintas distribuciones."
      ],
      "metadata": {
        "id": "MMUDGakfEdm1"
      }
    },
    {
      "cell_type": "markdown",
      "source": [
        "Distribución de la variable precio"
      ],
      "metadata": {
        "id": "gUc49GK-Ef0t"
      }
    },
    {
      "cell_type": "code",
      "source": [
        "# Creando el histograma\n",
        "binsize = 500\n",
        "bins = np.arange(0, coches['precio'].max()+binsize, binsize)\n",
        "\n",
        "plt.figure(figsize=[15, 10])\n",
        "plt.hist(data = coches, x = 'precio', bins = bins)\n",
        "plt.xlabel('Precio (€)')\n",
        "plt.title('Número de vehículos por precio')\n",
        "plt.show();"
      ],
      "metadata": {
        "colab": {
          "base_uri": "https://localhost:8080/",
          "height": 621
        },
        "id": "p41imGLw_e8F",
        "outputId": "4617fc88-b1f2-4c96-a85a-88962f82c088"
      },
      "execution_count": 39,
      "outputs": [
        {
          "output_type": "display_data",
          "data": {
            "text/plain": [
              "<Figure size 1080x720 with 1 Axes>"
            ],
            "image/png": "[encoded data removed]"
          },
          "metadata": {
            "needs_background": "light"
          }
        }
      ]
    },
    {
      "cell_type": "markdown",
      "source": [
        "Distribución de la variable kilómetros"
      ],
      "metadata": {
        "id": "tsSqwLZvFoha"
      }
    },
    {
      "cell_type": "code",
      "source": [
        "# Creando el histograma\n",
        "binsize = 1000\n",
        "bins = np.arange(0, coches['kilometros'].max()+binsize, binsize)\n",
        "\n",
        "plt.figure(figsize=[15, 10])\n",
        "plt.hist(data = coches, x = 'kilometros', bins = bins)\n",
        "plt.xlabel('Kilómetros')\n",
        "plt.title('Cantidad de vehículos por kilómetros')\n",
        "plt.show();"
      ],
      "metadata": {
        "colab": {
          "base_uri": "https://localhost:8080/",
          "height": 621
        },
        "id": "KUUzScZBAY2L",
        "outputId": "55271198-4e2c-4fec-db41-63164d299d1d"
      },
      "execution_count": 40,
      "outputs": [
        {
          "output_type": "display_data",
          "data": {
            "text/plain": [
              "<Figure size 1080x720 with 1 Axes>"
            ],
            "image/png": "[encoded data removed]"
          },
          "metadata": {
            "needs_background": "light"
          }
        }
      ]
    },
    {
      "cell_type": "markdown",
      "source": [
        "### Estudio de correlaciones entre las variables."
      ],
      "metadata": {
        "id": "FS-Pp0vNGaJz"
      }
    },
    {
      "cell_type": "code",
      "source": [
        "## Poner matriz de correlación con heatmap"
      ],
      "metadata": {
        "id": "IETyJ6OrFvyZ"
      },
      "execution_count": 41,
      "outputs": []
    },
    {
      "cell_type": "code",
      "source": [
        "##Pruebas en sucio"
      ],
      "metadata": {
        "id": "_5V7jiYrGgus"
      },
      "execution_count": 1,
      "outputs": []
    },
    {
      "cell_type": "code",
      "source": [
        ""
      ],
      "metadata": {
        "id": "jGjAhfiHbsUw"
      },
      "execution_count": null,
      "outputs": []
    }
  ]
}