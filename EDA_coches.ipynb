{
  "nbformat": 4,
  "nbformat_minor": 0,
  "metadata": {
    "colab": {
      "name": "EDA_coches.ipynb",
      "provenance": [],
      "collapsed_sections": [],
      "authorship_tag": "ABX9TyPdpW4oo2UmmRfAkeUFQa/U",
      "include_colab_link": true
    },
    "kernelspec": {
      "name": "python3",
      "display_name": "Python 3"
    },
    "language_info": {
      "name": "python"
    }
  },
  "cells": [
    {
      "cell_type": "markdown",
      "metadata": {
        "id": "view-in-github",
        "colab_type": "text"
      },
      "source": [
        "<a href=\"https://colab.research.google.com/github/JAlonMor/Webscraping/blob/main/EDA_coches.ipynb\" target=\"_parent\"><img src=\"https://colab.research.google.com/assets/colab-badge.svg\" alt=\"Open In Colab\"/></a>"
      ]
    },
    {
      "cell_type": "code",
      "execution_count": 1,
      "metadata": {
        "colab": {
          "base_uri": "https://localhost:8080/"
        },
        "id": "UQIncPczwaYz",
        "outputId": "515380d0-b3a7-4515-ce18-965ff51ca2a1"
      },
      "outputs": [
        {
          "output_type": "stream",
          "name": "stdout",
          "text": [
            "Cloning into 'Webscraping'...\n",
            "remote: Enumerating objects: 36, done.\u001b[K\n",
            "remote: Counting objects: 100% (36/36), done.\u001b[K\n",
            "remote: Compressing objects: 100% (31/31), done.\u001b[K\n",
            "remote: Total 36 (delta 11), reused 0 (delta 0), pack-reused 0\u001b[K\n",
            "Unpacking objects: 100% (36/36), done.\n"
          ]
        }
      ],
      "source": [
        "# Clonar repositorio de GitHub si no está disponible\n",
        "\n",
        "import os\n",
        "curr_dir = os.getcwd()\n",
        "\n",
        "if not os.path.exists(os.path.join(curr_dir, '../.ROOT_DIR')):\n",
        "  !git clone https://github.com/JAlonMor/Webscraping.git\n",
        "  os.chdir(os.path.join(curr_dir, 'Webscraping/EDA'))\n",
        "\n"
      ]
    },
    {
      "cell_type": "code",
      "source": [
        "import numpy as np\n",
        "import pandas as pd\n",
        "import seaborn as sns\n",
        "import matplotlib.pyplot as plt\n",
        "%matplotlib inline\n",
        "\n",
        "import warnings\n",
        "warnings.filterwarnings('ignore')"
      ],
      "metadata": {
        "id": "kGnNylHFx0H4"
      },
      "execution_count": 2,
      "outputs": []
    },
    {
      "cell_type": "code",
      "source": [
        "# Creo DataFrame a partir de los datos obtenidos mediante web scraping\n",
        "\n",
        "coches = pd.read_csv(\"/content/Webscraping/EDA/coches_net.csv\")"
      ],
      "metadata": {
        "id": "o1h8QfX7ylrA"
      },
      "execution_count": 3,
      "outputs": []
    },
    {
      "cell_type": "code",
      "source": [
        "coches.head()"
      ],
      "metadata": {
        "colab": {
          "base_uri": "https://localhost:8080/",
          "height": 206
        },
        "id": "DH7NOWXRy_Q-",
        "outputId": "1486b692-ae07-4448-a349-b4d68ce7fccc"
      },
      "execution_count": 4,
      "outputs": [
        {
          "output_type": "execute_result",
          "data": {
            "text/plain": [
              "                                              titulo  precio  kilometros  \\\n",
              "0                  MERCEDES-BENZ Clase C C 220 d 4p.   16200      281000   \n",
              "1           MERCEDES-BENZ Clase C C 220 d Estate 5p.   26900      114336   \n",
              "2  MERCEDES-BENZ Clase C C 220 d Avantgarde Estat...   11000      287500   \n",
              "3       MERCEDES-BENZ Clase C C 220 d Avantgarde 4p.   22900      110000   \n",
              "4                  MERCEDES-BENZ Clase C C 300 d 4p.   68000       10650   \n",
              "\n",
              "    año  combustible      ciudad  garantia  \\\n",
              "0  2017          1.0    Baleares     False   \n",
              "1  2017          1.0     Badajoz      True   \n",
              "2  2015          1.0  Valladolid     False   \n",
              "3  2015          1.0    Valencia      True   \n",
              "4  2021          4.0       Cádiz      True   \n",
              "\n",
              "                                                 url  \n",
              "0  /mercedes-benz-clase-c-c-220-d-4p-diesel-2017-...  \n",
              "1  /mercedes-benz-clase-c-c-220-d-estate-5p-diese...  \n",
              "2  /mercedes-benz-clase-c-c-220-d-avantgarde-esta...  \n",
              "3  /mercedes-benz-clase-c-c-220-d-avantgarde-4p-d...  \n",
              "4  /mercedes-benz-clase-c-c-300-d-4p-electrico-hi...  "
            ],
            "text/html": [
              "\n",
              "  <div id=\"df-eaf19caf-9b5c-44b9-a61b-047dcea70c87\">\n",
              "    <div class=\"colab-df-container\">\n",
              "      <div>\n",
              "<style scoped>\n",
              "    .dataframe tbody tr th:only-of-type {\n",
              "        vertical-align: middle;\n",
              "    }\n",
              "\n",
              "    .dataframe tbody tr th {\n",
              "        vertical-align: top;\n",
              "    }\n",
              "\n",
              "    .dataframe thead th {\n",
              "        text-align: right;\n",
              "    }\n",
              "</style>\n",
              "<table border=\"1\" class=\"dataframe\">\n",
              "  <thead>\n",
              "    <tr style=\"text-align: right;\">\n",
              "      <th></th>\n",
              "      <th>titulo</th>\n",
              "      <th>precio</th>\n",
              "      <th>kilometros</th>\n",
              "      <th>año</th>\n",
              "      <th>combustible</th>\n",
              "      <th>ciudad</th>\n",
              "      <th>garantia</th>\n",
              "      <th>url</th>\n",
              "    </tr>\n",
              "  </thead>\n",
              "  <tbody>\n",
              "    <tr>\n",
              "      <th>0</th>\n",
              "      <td>MERCEDES-BENZ Clase C C 220 d 4p.</td>\n",
              "      <td>16200</td>\n",
              "      <td>281000</td>\n",
              "      <td>2017</td>\n",
              "      <td>1.0</td>\n",
              "      <td>Baleares</td>\n",
              "      <td>False</td>\n",
              "      <td>/mercedes-benz-clase-c-c-220-d-4p-diesel-2017-...</td>\n",
              "    </tr>\n",
              "    <tr>\n",
              "      <th>1</th>\n",
              "      <td>MERCEDES-BENZ Clase C C 220 d Estate 5p.</td>\n",
              "      <td>26900</td>\n",
              "      <td>114336</td>\n",
              "      <td>2017</td>\n",
              "      <td>1.0</td>\n",
              "      <td>Badajoz</td>\n",
              "      <td>True</td>\n",
              "      <td>/mercedes-benz-clase-c-c-220-d-estate-5p-diese...</td>\n",
              "    </tr>\n",
              "    <tr>\n",
              "      <th>2</th>\n",
              "      <td>MERCEDES-BENZ Clase C C 220 d Avantgarde Estat...</td>\n",
              "      <td>11000</td>\n",
              "      <td>287500</td>\n",
              "      <td>2015</td>\n",
              "      <td>1.0</td>\n",
              "      <td>Valladolid</td>\n",
              "      <td>False</td>\n",
              "      <td>/mercedes-benz-clase-c-c-220-d-avantgarde-esta...</td>\n",
              "    </tr>\n",
              "    <tr>\n",
              "      <th>3</th>\n",
              "      <td>MERCEDES-BENZ Clase C C 220 d Avantgarde 4p.</td>\n",
              "      <td>22900</td>\n",
              "      <td>110000</td>\n",
              "      <td>2015</td>\n",
              "      <td>1.0</td>\n",
              "      <td>Valencia</td>\n",
              "      <td>True</td>\n",
              "      <td>/mercedes-benz-clase-c-c-220-d-avantgarde-4p-d...</td>\n",
              "    </tr>\n",
              "    <tr>\n",
              "      <th>4</th>\n",
              "      <td>MERCEDES-BENZ Clase C C 300 d 4p.</td>\n",
              "      <td>68000</td>\n",
              "      <td>10650</td>\n",
              "      <td>2021</td>\n",
              "      <td>4.0</td>\n",
              "      <td>Cádiz</td>\n",
              "      <td>True</td>\n",
              "      <td>/mercedes-benz-clase-c-c-300-d-4p-electrico-hi...</td>\n",
              "    </tr>\n",
              "  </tbody>\n",
              "</table>\n",
              "</div>\n",
              "      <button class=\"colab-df-convert\" onclick=\"convertToInteractive('df-eaf19caf-9b5c-44b9-a61b-047dcea70c87')\"\n",
              "              title=\"Convert this dataframe to an interactive table.\"\n",
              "              style=\"display:none;\">\n",
              "        \n",
              "  <svg xmlns=\"http://www.w3.org/2000/svg\" height=\"24px\"viewBox=\"0 0 24 24\"\n",
              "       width=\"24px\">\n",
              "    <path d=\"M0 0h24v24H0V0z\" fill=\"none\"/>\n",
              "    <path d=\"M18.56 5.44l.94 2.06.94-2.06 2.06-.94-2.06-.94-.94-2.06-.94 2.06-2.06.94zm-11 1L8.5 8.5l.94-2.06 2.06-.94-2.06-.94L8.5 2.5l-.94 2.06-2.06.94zm10 10l.94 2.06.94-2.06 2.06-.94-2.06-.94-.94-2.06-.94 2.06-2.06.94z\"/><path d=\"M17.41 7.96l-1.37-1.37c-.4-.4-.92-.59-1.43-.59-.52 0-1.04.2-1.43.59L10.3 9.45l-7.72 7.72c-.78.78-.78 2.05 0 2.83L4 21.41c.39.39.9.59 1.41.59.51 0 1.02-.2 1.41-.59l7.78-7.78 2.81-2.81c.8-.78.8-2.07 0-2.86zM5.41 20L4 18.59l7.72-7.72 1.47 1.35L5.41 20z\"/>\n",
              "  </svg>\n",
              "      </button>\n",
              "      \n",
              "  <style>\n",
              "    .colab-df-container {\n",
              "      display:flex;\n",
              "      flex-wrap:wrap;\n",
              "      gap: 12px;\n",
              "    }\n",
              "\n",
              "    .colab-df-convert {\n",
              "      background-color: #E8F0FE;\n",
              "      border: none;\n",
              "      border-radius: 50%;\n",
              "      cursor: pointer;\n",
              "      display: none;\n",
              "      fill: #1967D2;\n",
              "      height: 32px;\n",
              "      padding: 0 0 0 0;\n",
              "      width: 32px;\n",
              "    }\n",
              "\n",
              "    .colab-df-convert:hover {\n",
              "      background-color: #E2EBFA;\n",
              "      box-shadow: 0px 1px 2px rgba(60, 64, 67, 0.3), 0px 1px 3px 1px rgba(60, 64, 67, 0.15);\n",
              "      fill: #174EA6;\n",
              "    }\n",
              "\n",
              "    [theme=dark] .colab-df-convert {\n",
              "      background-color: #3B4455;\n",
              "      fill: #D2E3FC;\n",
              "    }\n",
              "\n",
              "    [theme=dark] .colab-df-convert:hover {\n",
              "      background-color: #434B5C;\n",
              "      box-shadow: 0px 1px 3px 1px rgba(0, 0, 0, 0.15);\n",
              "      filter: drop-shadow(0px 1px 2px rgba(0, 0, 0, 0.3));\n",
              "      fill: #FFFFFF;\n",
              "    }\n",
              "  </style>\n",
              "\n",
              "      <script>\n",
              "        const buttonEl =\n",
              "          document.querySelector('#df-eaf19caf-9b5c-44b9-a61b-047dcea70c87 button.colab-df-convert');\n",
              "        buttonEl.style.display =\n",
              "          google.colab.kernel.accessAllowed ? 'block' : 'none';\n",
              "\n",
              "        async function convertToInteractive(key) {\n",
              "          const element = document.querySelector('#df-eaf19caf-9b5c-44b9-a61b-047dcea70c87');\n",
              "          const dataTable =\n",
              "            await google.colab.kernel.invokeFunction('convertToInteractive',\n",
              "                                                     [key], {});\n",
              "          if (!dataTable) return;\n",
              "\n",
              "          const docLinkHtml = 'Like what you see? Visit the ' +\n",
              "            '<a target=\"_blank\" href=https://colab.research.google.com/notebooks/data_table.ipynb>data table notebook</a>'\n",
              "            + ' to learn more about interactive tables.';\n",
              "          element.innerHTML = '';\n",
              "          dataTable['output_type'] = 'display_data';\n",
              "          await google.colab.output.renderOutput(dataTable, element);\n",
              "          const docLink = document.createElement('div');\n",
              "          docLink.innerHTML = docLinkHtml;\n",
              "          element.appendChild(docLink);\n",
              "        }\n",
              "      </script>\n",
              "    </div>\n",
              "  </div>\n",
              "  "
            ]
          },
          "metadata": {},
          "execution_count": 4
        }
      ]
    },
    {
      "cell_type": "code",
      "source": [
        "coches.info()"
      ],
      "metadata": {
        "colab": {
          "base_uri": "https://localhost:8080/"
        },
        "id": "uYDAvkh0zzpX",
        "outputId": "6058f375-7635-4351-de2d-0d841b92570d"
      },
      "execution_count": 5,
      "outputs": [
        {
          "output_type": "stream",
          "name": "stdout",
          "text": [
            "<class 'pandas.core.frame.DataFrame'>\n",
            "RangeIndex: 1927 entries, 0 to 1926\n",
            "Data columns (total 8 columns):\n",
            " #   Column       Non-Null Count  Dtype  \n",
            "---  ------       --------------  -----  \n",
            " 0   titulo       1927 non-null   object \n",
            " 1   precio       1927 non-null   int64  \n",
            " 2   kilometros   1927 non-null   int64  \n",
            " 3   año          1927 non-null   int64  \n",
            " 4   combustible  1925 non-null   float64\n",
            " 5   ciudad       1927 non-null   object \n",
            " 6   garantia     1927 non-null   bool   \n",
            " 7   url          1927 non-null   object \n",
            "dtypes: bool(1), float64(1), int64(3), object(3)\n",
            "memory usage: 107.4+ KB\n"
          ]
        }
      ]
    },
    {
      "cell_type": "markdown",
      "source": [
        "## Limpieza"
      ],
      "metadata": {
        "id": "xuescEbedSDW"
      }
    },
    {
      "cell_type": "code",
      "source": [
        "# Tenemos dos valores nulos en la variable combustible\n",
        "\n",
        "coches[coches.combustible.isnull()]"
      ],
      "metadata": {
        "colab": {
          "base_uri": "https://localhost:8080/",
          "height": 112
        },
        "id": "2uWC1lSJz3Ck",
        "outputId": "bb8872fa-b9d2-497b-ad8f-b05a8cd52c3c"
      },
      "execution_count": 6,
      "outputs": [
        {
          "output_type": "execute_result",
          "data": {
            "text/plain": [
              "                          titulo  precio  kilometros   año  combustible  \\\n",
              "416   MERCEDES-BENZ Clase C  5p.   28500      150000  2015          NaN   \n",
              "1566               MERCEDES-BENZ   33300       34400  2017          NaN   \n",
              "\n",
              "         ciudad  garantia                                                url  \n",
              "416   Guipúzcoa     False  /mercedes-benz-clase-c--5p-otros-2015-en-guipu...  \n",
              "1566     Murcia     False  /mercedes-benz-clase-c--5p-otros-2017-en-murci...  "
            ],
            "text/html": [
              "\n",
              "  <div id=\"df-31e0edd8-0520-42de-9b43-f4a09451501f\">\n",
              "    <div class=\"colab-df-container\">\n",
              "      <div>\n",
              "<style scoped>\n",
              "    .dataframe tbody tr th:only-of-type {\n",
              "        vertical-align: middle;\n",
              "    }\n",
              "\n",
              "    .dataframe tbody tr th {\n",
              "        vertical-align: top;\n",
              "    }\n",
              "\n",
              "    .dataframe thead th {\n",
              "        text-align: right;\n",
              "    }\n",
              "</style>\n",
              "<table border=\"1\" class=\"dataframe\">\n",
              "  <thead>\n",
              "    <tr style=\"text-align: right;\">\n",
              "      <th></th>\n",
              "      <th>titulo</th>\n",
              "      <th>precio</th>\n",
              "      <th>kilometros</th>\n",
              "      <th>año</th>\n",
              "      <th>combustible</th>\n",
              "      <th>ciudad</th>\n",
              "      <th>garantia</th>\n",
              "      <th>url</th>\n",
              "    </tr>\n",
              "  </thead>\n",
              "  <tbody>\n",
              "    <tr>\n",
              "      <th>416</th>\n",
              "      <td>MERCEDES-BENZ Clase C  5p.</td>\n",
              "      <td>28500</td>\n",
              "      <td>150000</td>\n",
              "      <td>2015</td>\n",
              "      <td>NaN</td>\n",
              "      <td>Guipúzcoa</td>\n",
              "      <td>False</td>\n",
              "      <td>/mercedes-benz-clase-c--5p-otros-2015-en-guipu...</td>\n",
              "    </tr>\n",
              "    <tr>\n",
              "      <th>1566</th>\n",
              "      <td>MERCEDES-BENZ</td>\n",
              "      <td>33300</td>\n",
              "      <td>34400</td>\n",
              "      <td>2017</td>\n",
              "      <td>NaN</td>\n",
              "      <td>Murcia</td>\n",
              "      <td>False</td>\n",
              "      <td>/mercedes-benz-clase-c--5p-otros-2017-en-murci...</td>\n",
              "    </tr>\n",
              "  </tbody>\n",
              "</table>\n",
              "</div>\n",
              "      <button class=\"colab-df-convert\" onclick=\"convertToInteractive('df-31e0edd8-0520-42de-9b43-f4a09451501f')\"\n",
              "              title=\"Convert this dataframe to an interactive table.\"\n",
              "              style=\"display:none;\">\n",
              "        \n",
              "  <svg xmlns=\"http://www.w3.org/2000/svg\" height=\"24px\"viewBox=\"0 0 24 24\"\n",
              "       width=\"24px\">\n",
              "    <path d=\"M0 0h24v24H0V0z\" fill=\"none\"/>\n",
              "    <path d=\"M18.56 5.44l.94 2.06.94-2.06 2.06-.94-2.06-.94-.94-2.06-.94 2.06-2.06.94zm-11 1L8.5 8.5l.94-2.06 2.06-.94-2.06-.94L8.5 2.5l-.94 2.06-2.06.94zm10 10l.94 2.06.94-2.06 2.06-.94-2.06-.94-.94-2.06-.94 2.06-2.06.94z\"/><path d=\"M17.41 7.96l-1.37-1.37c-.4-.4-.92-.59-1.43-.59-.52 0-1.04.2-1.43.59L10.3 9.45l-7.72 7.72c-.78.78-.78 2.05 0 2.83L4 21.41c.39.39.9.59 1.41.59.51 0 1.02-.2 1.41-.59l7.78-7.78 2.81-2.81c.8-.78.8-2.07 0-2.86zM5.41 20L4 18.59l7.72-7.72 1.47 1.35L5.41 20z\"/>\n",
              "  </svg>\n",
              "      </button>\n",
              "      \n",
              "  <style>\n",
              "    .colab-df-container {\n",
              "      display:flex;\n",
              "      flex-wrap:wrap;\n",
              "      gap: 12px;\n",
              "    }\n",
              "\n",
              "    .colab-df-convert {\n",
              "      background-color: #E8F0FE;\n",
              "      border: none;\n",
              "      border-radius: 50%;\n",
              "      cursor: pointer;\n",
              "      display: none;\n",
              "      fill: #1967D2;\n",
              "      height: 32px;\n",
              "      padding: 0 0 0 0;\n",
              "      width: 32px;\n",
              "    }\n",
              "\n",
              "    .colab-df-convert:hover {\n",
              "      background-color: #E2EBFA;\n",
              "      box-shadow: 0px 1px 2px rgba(60, 64, 67, 0.3), 0px 1px 3px 1px rgba(60, 64, 67, 0.15);\n",
              "      fill: #174EA6;\n",
              "    }\n",
              "\n",
              "    [theme=dark] .colab-df-convert {\n",
              "      background-color: #3B4455;\n",
              "      fill: #D2E3FC;\n",
              "    }\n",
              "\n",
              "    [theme=dark] .colab-df-convert:hover {\n",
              "      background-color: #434B5C;\n",
              "      box-shadow: 0px 1px 3px 1px rgba(0, 0, 0, 0.15);\n",
              "      filter: drop-shadow(0px 1px 2px rgba(0, 0, 0, 0.3));\n",
              "      fill: #FFFFFF;\n",
              "    }\n",
              "  </style>\n",
              "\n",
              "      <script>\n",
              "        const buttonEl =\n",
              "          document.querySelector('#df-31e0edd8-0520-42de-9b43-f4a09451501f button.colab-df-convert');\n",
              "        buttonEl.style.display =\n",
              "          google.colab.kernel.accessAllowed ? 'block' : 'none';\n",
              "\n",
              "        async function convertToInteractive(key) {\n",
              "          const element = document.querySelector('#df-31e0edd8-0520-42de-9b43-f4a09451501f');\n",
              "          const dataTable =\n",
              "            await google.colab.kernel.invokeFunction('convertToInteractive',\n",
              "                                                     [key], {});\n",
              "          if (!dataTable) return;\n",
              "\n",
              "          const docLinkHtml = 'Like what you see? Visit the ' +\n",
              "            '<a target=\"_blank\" href=https://colab.research.google.com/notebooks/data_table.ipynb>data table notebook</a>'\n",
              "            + ' to learn more about interactive tables.';\n",
              "          element.innerHTML = '';\n",
              "          dataTable['output_type'] = 'display_data';\n",
              "          await google.colab.output.renderOutput(dataTable, element);\n",
              "          const docLink = document.createElement('div');\n",
              "          docLink.innerHTML = docLinkHtml;\n",
              "          element.appendChild(docLink);\n",
              "        }\n",
              "      </script>\n",
              "    </div>\n",
              "  </div>\n",
              "  "
            ]
          },
          "metadata": {},
          "execution_count": 6
        }
      ]
    },
    {
      "cell_type": "code",
      "source": [
        "# Al ser solo dos observaciones, trataré de solucionarlo manualmente. Veamos las URL\n",
        "\n",
        "coches.iloc[416,:].url"
      ],
      "metadata": {
        "colab": {
          "base_uri": "https://localhost:8080/",
          "height": 35
        },
        "id": "FjBGpjxu0QIP",
        "outputId": "5308ec80-ce99-4168-8e05-8e9152305b7e"
      },
      "execution_count": 7,
      "outputs": [
        {
          "output_type": "execute_result",
          "data": {
            "text/plain": [
              "'/mercedes-benz-clase-c--5p-otros-2015-en-guipuzcoa-51760617-covo.aspx'"
            ],
            "application/vnd.google.colaboratory.intrinsic+json": {
              "type": "string"
            }
          },
          "metadata": {},
          "execution_count": 7
        }
      ]
    },
    {
      "cell_type": "markdown",
      "source": [
        "Es un híbrido diésel (4)"
      ],
      "metadata": {
        "id": "EZvjKoWP2TRv"
      }
    },
    {
      "cell_type": "code",
      "source": [
        "coches.iloc[1566,:].url"
      ],
      "metadata": {
        "colab": {
          "base_uri": "https://localhost:8080/",
          "height": 35
        },
        "id": "7JFs-o1o1KjE",
        "outputId": "4f6370af-74f6-4404-9b45-23fa19fe1372"
      },
      "execution_count": 8,
      "outputs": [
        {
          "output_type": "execute_result",
          "data": {
            "text/plain": [
              "'/mercedes-benz-clase-c--5p-otros-2017-en-murcia-51484724-covo.aspx'"
            ],
            "application/vnd.google.colaboratory.intrinsic+json": {
              "type": "string"
            }
          },
          "metadata": {},
          "execution_count": 8
        }
      ]
    },
    {
      "cell_type": "markdown",
      "source": [
        "Es un híbrido enchufable (gasolina) (5)"
      ],
      "metadata": {
        "id": "EEYOuMP_3I08"
      }
    },
    {
      "cell_type": "code",
      "source": [
        "coches.combustible.unique()"
      ],
      "metadata": {
        "colab": {
          "base_uri": "https://localhost:8080/"
        },
        "id": "nRfmyFa72cw7",
        "outputId": "05738548-40e4-4a9b-a5a7-0cbb6825a14b"
      },
      "execution_count": 9,
      "outputs": [
        {
          "output_type": "execute_result",
          "data": {
            "text/plain": [
              "array([ 1.,  4.,  2.,  5., nan])"
            ]
          },
          "metadata": {},
          "execution_count": 9
        }
      ]
    },
    {
      "cell_type": "markdown",
      "source": [
        "Códigos de los diferentes combustibles\n",
        "\n",
        "* 1 $\\rightarrow$ Diésel\n",
        "* 2 $\\rightarrow$ Gasolina\n",
        "* 4 $\\rightarrow$ Híbrido\n",
        "* 5 $\\rightarrow$ Híbrido enchufable\n"
      ],
      "metadata": {
        "id": "DoUQKSIX5biM"
      }
    },
    {
      "cell_type": "code",
      "source": [
        "coches.iloc[416,:].combustible = 4.0\n",
        "coches.iloc[1566,:].combustible = 5.0"
      ],
      "metadata": {
        "id": "OARXMKwS4fJz"
      },
      "execution_count": 10,
      "outputs": []
    },
    {
      "cell_type": "code",
      "source": [
        "coches.iloc[416,4] = 4.0\n",
        "coches.iloc[1566,4] = 5.0"
      ],
      "metadata": {
        "id": "ebhhFLNg7fvh"
      },
      "execution_count": 11,
      "outputs": []
    },
    {
      "cell_type": "code",
      "source": [
        "coches[coches.combustible.isnull()]"
      ],
      "metadata": {
        "colab": {
          "base_uri": "https://localhost:8080/",
          "height": 49
        },
        "id": "IwZNPyY27y3Y",
        "outputId": "a81e7636-4d28-48d7-846e-3f108bdbe88c"
      },
      "execution_count": 12,
      "outputs": [
        {
          "output_type": "execute_result",
          "data": {
            "text/plain": [
              "Empty DataFrame\n",
              "Columns: [titulo, precio, kilometros, año, combustible, ciudad, garantia, url]\n",
              "Index: []"
            ],
            "text/html": [
              "\n",
              "  <div id=\"df-e35e0b3a-9b6b-4405-9409-87d8944bd513\">\n",
              "    <div class=\"colab-df-container\">\n",
              "      <div>\n",
              "<style scoped>\n",
              "    .dataframe tbody tr th:only-of-type {\n",
              "        vertical-align: middle;\n",
              "    }\n",
              "\n",
              "    .dataframe tbody tr th {\n",
              "        vertical-align: top;\n",
              "    }\n",
              "\n",
              "    .dataframe thead th {\n",
              "        text-align: right;\n",
              "    }\n",
              "</style>\n",
              "<table border=\"1\" class=\"dataframe\">\n",
              "  <thead>\n",
              "    <tr style=\"text-align: right;\">\n",
              "      <th></th>\n",
              "      <th>titulo</th>\n",
              "      <th>precio</th>\n",
              "      <th>kilometros</th>\n",
              "      <th>año</th>\n",
              "      <th>combustible</th>\n",
              "      <th>ciudad</th>\n",
              "      <th>garantia</th>\n",
              "      <th>url</th>\n",
              "    </tr>\n",
              "  </thead>\n",
              "  <tbody>\n",
              "  </tbody>\n",
              "</table>\n",
              "</div>\n",
              "      <button class=\"colab-df-convert\" onclick=\"convertToInteractive('df-e35e0b3a-9b6b-4405-9409-87d8944bd513')\"\n",
              "              title=\"Convert this dataframe to an interactive table.\"\n",
              "              style=\"display:none;\">\n",
              "        \n",
              "  <svg xmlns=\"http://www.w3.org/2000/svg\" height=\"24px\"viewBox=\"0 0 24 24\"\n",
              "       width=\"24px\">\n",
              "    <path d=\"M0 0h24v24H0V0z\" fill=\"none\"/>\n",
              "    <path d=\"M18.56 5.44l.94 2.06.94-2.06 2.06-.94-2.06-.94-.94-2.06-.94 2.06-2.06.94zm-11 1L8.5 8.5l.94-2.06 2.06-.94-2.06-.94L8.5 2.5l-.94 2.06-2.06.94zm10 10l.94 2.06.94-2.06 2.06-.94-2.06-.94-.94-2.06-.94 2.06-2.06.94z\"/><path d=\"M17.41 7.96l-1.37-1.37c-.4-.4-.92-.59-1.43-.59-.52 0-1.04.2-1.43.59L10.3 9.45l-7.72 7.72c-.78.78-.78 2.05 0 2.83L4 21.41c.39.39.9.59 1.41.59.51 0 1.02-.2 1.41-.59l7.78-7.78 2.81-2.81c.8-.78.8-2.07 0-2.86zM5.41 20L4 18.59l7.72-7.72 1.47 1.35L5.41 20z\"/>\n",
              "  </svg>\n",
              "      </button>\n",
              "      \n",
              "  <style>\n",
              "    .colab-df-container {\n",
              "      display:flex;\n",
              "      flex-wrap:wrap;\n",
              "      gap: 12px;\n",
              "    }\n",
              "\n",
              "    .colab-df-convert {\n",
              "      background-color: #E8F0FE;\n",
              "      border: none;\n",
              "      border-radius: 50%;\n",
              "      cursor: pointer;\n",
              "      display: none;\n",
              "      fill: #1967D2;\n",
              "      height: 32px;\n",
              "      padding: 0 0 0 0;\n",
              "      width: 32px;\n",
              "    }\n",
              "\n",
              "    .colab-df-convert:hover {\n",
              "      background-color: #E2EBFA;\n",
              "      box-shadow: 0px 1px 2px rgba(60, 64, 67, 0.3), 0px 1px 3px 1px rgba(60, 64, 67, 0.15);\n",
              "      fill: #174EA6;\n",
              "    }\n",
              "\n",
              "    [theme=dark] .colab-df-convert {\n",
              "      background-color: #3B4455;\n",
              "      fill: #D2E3FC;\n",
              "    }\n",
              "\n",
              "    [theme=dark] .colab-df-convert:hover {\n",
              "      background-color: #434B5C;\n",
              "      box-shadow: 0px 1px 3px 1px rgba(0, 0, 0, 0.15);\n",
              "      filter: drop-shadow(0px 1px 2px rgba(0, 0, 0, 0.3));\n",
              "      fill: #FFFFFF;\n",
              "    }\n",
              "  </style>\n",
              "\n",
              "      <script>\n",
              "        const buttonEl =\n",
              "          document.querySelector('#df-e35e0b3a-9b6b-4405-9409-87d8944bd513 button.colab-df-convert');\n",
              "        buttonEl.style.display =\n",
              "          google.colab.kernel.accessAllowed ? 'block' : 'none';\n",
              "\n",
              "        async function convertToInteractive(key) {\n",
              "          const element = document.querySelector('#df-e35e0b3a-9b6b-4405-9409-87d8944bd513');\n",
              "          const dataTable =\n",
              "            await google.colab.kernel.invokeFunction('convertToInteractive',\n",
              "                                                     [key], {});\n",
              "          if (!dataTable) return;\n",
              "\n",
              "          const docLinkHtml = 'Like what you see? Visit the ' +\n",
              "            '<a target=\"_blank\" href=https://colab.research.google.com/notebooks/data_table.ipynb>data table notebook</a>'\n",
              "            + ' to learn more about interactive tables.';\n",
              "          element.innerHTML = '';\n",
              "          dataTable['output_type'] = 'display_data';\n",
              "          await google.colab.output.renderOutput(dataTable, element);\n",
              "          const docLink = document.createElement('div');\n",
              "          docLink.innerHTML = docLinkHtml;\n",
              "          element.appendChild(docLink);\n",
              "        }\n",
              "      </script>\n",
              "    </div>\n",
              "  </div>\n",
              "  "
            ]
          },
          "metadata": {},
          "execution_count": 12
        }
      ]
    },
    {
      "cell_type": "code",
      "source": [
        "# Ahora cambio el tipo de variable a entero (combustible)\n",
        "coches['combustible'] = coches['combustible'].astype(int)\n",
        "coches.info()"
      ],
      "metadata": {
        "colab": {
          "base_uri": "https://localhost:8080/"
        },
        "id": "_lq0eiGV7_Xh",
        "outputId": "a7576569-3aad-4f42-870b-989c15243ee7"
      },
      "execution_count": 13,
      "outputs": [
        {
          "output_type": "stream",
          "name": "stdout",
          "text": [
            "<class 'pandas.core.frame.DataFrame'>\n",
            "RangeIndex: 1927 entries, 0 to 1926\n",
            "Data columns (total 8 columns):\n",
            " #   Column       Non-Null Count  Dtype \n",
            "---  ------       --------------  ----- \n",
            " 0   titulo       1927 non-null   object\n",
            " 1   precio       1927 non-null   int64 \n",
            " 2   kilometros   1927 non-null   int64 \n",
            " 3   año          1927 non-null   int64 \n",
            " 4   combustible  1927 non-null   int64 \n",
            " 5   ciudad       1927 non-null   object\n",
            " 6   garantia     1927 non-null   bool  \n",
            " 7   url          1927 non-null   object\n",
            "dtypes: bool(1), int64(4), object(3)\n",
            "memory usage: 107.4+ KB\n"
          ]
        }
      ]
    },
    {
      "cell_type": "code",
      "source": [
        "coches.head()"
      ],
      "metadata": {
        "colab": {
          "base_uri": "https://localhost:8080/",
          "height": 206
        },
        "id": "Lr319UJ68dSS",
        "outputId": "7f975639-f666-443d-eb57-61327ee0e78e"
      },
      "execution_count": 14,
      "outputs": [
        {
          "output_type": "execute_result",
          "data": {
            "text/plain": [
              "                                              titulo  precio  kilometros  \\\n",
              "0                  MERCEDES-BENZ Clase C C 220 d 4p.   16200      281000   \n",
              "1           MERCEDES-BENZ Clase C C 220 d Estate 5p.   26900      114336   \n",
              "2  MERCEDES-BENZ Clase C C 220 d Avantgarde Estat...   11000      287500   \n",
              "3       MERCEDES-BENZ Clase C C 220 d Avantgarde 4p.   22900      110000   \n",
              "4                  MERCEDES-BENZ Clase C C 300 d 4p.   68000       10650   \n",
              "\n",
              "    año  combustible      ciudad  garantia  \\\n",
              "0  2017            1    Baleares     False   \n",
              "1  2017            1     Badajoz      True   \n",
              "2  2015            1  Valladolid     False   \n",
              "3  2015            1    Valencia      True   \n",
              "4  2021            4       Cádiz      True   \n",
              "\n",
              "                                                 url  \n",
              "0  /mercedes-benz-clase-c-c-220-d-4p-diesel-2017-...  \n",
              "1  /mercedes-benz-clase-c-c-220-d-estate-5p-diese...  \n",
              "2  /mercedes-benz-clase-c-c-220-d-avantgarde-esta...  \n",
              "3  /mercedes-benz-clase-c-c-220-d-avantgarde-4p-d...  \n",
              "4  /mercedes-benz-clase-c-c-300-d-4p-electrico-hi...  "
            ],
            "text/html": [
              "\n",
              "  <div id=\"df-0cb21460-4185-4e50-ac9d-e3250c7e5a73\">\n",
              "    <div class=\"colab-df-container\">\n",
              "      <div>\n",
              "<style scoped>\n",
              "    .dataframe tbody tr th:only-of-type {\n",
              "        vertical-align: middle;\n",
              "    }\n",
              "\n",
              "    .dataframe tbody tr th {\n",
              "        vertical-align: top;\n",
              "    }\n",
              "\n",
              "    .dataframe thead th {\n",
              "        text-align: right;\n",
              "    }\n",
              "</style>\n",
              "<table border=\"1\" class=\"dataframe\">\n",
              "  <thead>\n",
              "    <tr style=\"text-align: right;\">\n",
              "      <th></th>\n",
              "      <th>titulo</th>\n",
              "      <th>precio</th>\n",
              "      <th>kilometros</th>\n",
              "      <th>año</th>\n",
              "      <th>combustible</th>\n",
              "      <th>ciudad</th>\n",
              "      <th>garantia</th>\n",
              "      <th>url</th>\n",
              "    </tr>\n",
              "  </thead>\n",
              "  <tbody>\n",
              "    <tr>\n",
              "      <th>0</th>\n",
              "      <td>MERCEDES-BENZ Clase C C 220 d 4p.</td>\n",
              "      <td>16200</td>\n",
              "      <td>281000</td>\n",
              "      <td>2017</td>\n",
              "      <td>1</td>\n",
              "      <td>Baleares</td>\n",
              "      <td>False</td>\n",
              "      <td>/mercedes-benz-clase-c-c-220-d-4p-diesel-2017-...</td>\n",
              "    </tr>\n",
              "    <tr>\n",
              "      <th>1</th>\n",
              "      <td>MERCEDES-BENZ Clase C C 220 d Estate 5p.</td>\n",
              "      <td>26900</td>\n",
              "      <td>114336</td>\n",
              "      <td>2017</td>\n",
              "      <td>1</td>\n",
              "      <td>Badajoz</td>\n",
              "      <td>True</td>\n",
              "      <td>/mercedes-benz-clase-c-c-220-d-estate-5p-diese...</td>\n",
              "    </tr>\n",
              "    <tr>\n",
              "      <th>2</th>\n",
              "      <td>MERCEDES-BENZ Clase C C 220 d Avantgarde Estat...</td>\n",
              "      <td>11000</td>\n",
              "      <td>287500</td>\n",
              "      <td>2015</td>\n",
              "      <td>1</td>\n",
              "      <td>Valladolid</td>\n",
              "      <td>False</td>\n",
              "      <td>/mercedes-benz-clase-c-c-220-d-avantgarde-esta...</td>\n",
              "    </tr>\n",
              "    <tr>\n",
              "      <th>3</th>\n",
              "      <td>MERCEDES-BENZ Clase C C 220 d Avantgarde 4p.</td>\n",
              "      <td>22900</td>\n",
              "      <td>110000</td>\n",
              "      <td>2015</td>\n",
              "      <td>1</td>\n",
              "      <td>Valencia</td>\n",
              "      <td>True</td>\n",
              "      <td>/mercedes-benz-clase-c-c-220-d-avantgarde-4p-d...</td>\n",
              "    </tr>\n",
              "    <tr>\n",
              "      <th>4</th>\n",
              "      <td>MERCEDES-BENZ Clase C C 300 d 4p.</td>\n",
              "      <td>68000</td>\n",
              "      <td>10650</td>\n",
              "      <td>2021</td>\n",
              "      <td>4</td>\n",
              "      <td>Cádiz</td>\n",
              "      <td>True</td>\n",
              "      <td>/mercedes-benz-clase-c-c-300-d-4p-electrico-hi...</td>\n",
              "    </tr>\n",
              "  </tbody>\n",
              "</table>\n",
              "</div>\n",
              "      <button class=\"colab-df-convert\" onclick=\"convertToInteractive('df-0cb21460-4185-4e50-ac9d-e3250c7e5a73')\"\n",
              "              title=\"Convert this dataframe to an interactive table.\"\n",
              "              style=\"display:none;\">\n",
              "        \n",
              "  <svg xmlns=\"http://www.w3.org/2000/svg\" height=\"24px\"viewBox=\"0 0 24 24\"\n",
              "       width=\"24px\">\n",
              "    <path d=\"M0 0h24v24H0V0z\" fill=\"none\"/>\n",
              "    <path d=\"M18.56 5.44l.94 2.06.94-2.06 2.06-.94-2.06-.94-.94-2.06-.94 2.06-2.06.94zm-11 1L8.5 8.5l.94-2.06 2.06-.94-2.06-.94L8.5 2.5l-.94 2.06-2.06.94zm10 10l.94 2.06.94-2.06 2.06-.94-2.06-.94-.94-2.06-.94 2.06-2.06.94z\"/><path d=\"M17.41 7.96l-1.37-1.37c-.4-.4-.92-.59-1.43-.59-.52 0-1.04.2-1.43.59L10.3 9.45l-7.72 7.72c-.78.78-.78 2.05 0 2.83L4 21.41c.39.39.9.59 1.41.59.51 0 1.02-.2 1.41-.59l7.78-7.78 2.81-2.81c.8-.78.8-2.07 0-2.86zM5.41 20L4 18.59l7.72-7.72 1.47 1.35L5.41 20z\"/>\n",
              "  </svg>\n",
              "      </button>\n",
              "      \n",
              "  <style>\n",
              "    .colab-df-container {\n",
              "      display:flex;\n",
              "      flex-wrap:wrap;\n",
              "      gap: 12px;\n",
              "    }\n",
              "\n",
              "    .colab-df-convert {\n",
              "      background-color: #E8F0FE;\n",
              "      border: none;\n",
              "      border-radius: 50%;\n",
              "      cursor: pointer;\n",
              "      display: none;\n",
              "      fill: #1967D2;\n",
              "      height: 32px;\n",
              "      padding: 0 0 0 0;\n",
              "      width: 32px;\n",
              "    }\n",
              "\n",
              "    .colab-df-convert:hover {\n",
              "      background-color: #E2EBFA;\n",
              "      box-shadow: 0px 1px 2px rgba(60, 64, 67, 0.3), 0px 1px 3px 1px rgba(60, 64, 67, 0.15);\n",
              "      fill: #174EA6;\n",
              "    }\n",
              "\n",
              "    [theme=dark] .colab-df-convert {\n",
              "      background-color: #3B4455;\n",
              "      fill: #D2E3FC;\n",
              "    }\n",
              "\n",
              "    [theme=dark] .colab-df-convert:hover {\n",
              "      background-color: #434B5C;\n",
              "      box-shadow: 0px 1px 3px 1px rgba(0, 0, 0, 0.15);\n",
              "      filter: drop-shadow(0px 1px 2px rgba(0, 0, 0, 0.3));\n",
              "      fill: #FFFFFF;\n",
              "    }\n",
              "  </style>\n",
              "\n",
              "      <script>\n",
              "        const buttonEl =\n",
              "          document.querySelector('#df-0cb21460-4185-4e50-ac9d-e3250c7e5a73 button.colab-df-convert');\n",
              "        buttonEl.style.display =\n",
              "          google.colab.kernel.accessAllowed ? 'block' : 'none';\n",
              "\n",
              "        async function convertToInteractive(key) {\n",
              "          const element = document.querySelector('#df-0cb21460-4185-4e50-ac9d-e3250c7e5a73');\n",
              "          const dataTable =\n",
              "            await google.colab.kernel.invokeFunction('convertToInteractive',\n",
              "                                                     [key], {});\n",
              "          if (!dataTable) return;\n",
              "\n",
              "          const docLinkHtml = 'Like what you see? Visit the ' +\n",
              "            '<a target=\"_blank\" href=https://colab.research.google.com/notebooks/data_table.ipynb>data table notebook</a>'\n",
              "            + ' to learn more about interactive tables.';\n",
              "          element.innerHTML = '';\n",
              "          dataTable['output_type'] = 'display_data';\n",
              "          await google.colab.output.renderOutput(dataTable, element);\n",
              "          const docLink = document.createElement('div');\n",
              "          docLink.innerHTML = docLinkHtml;\n",
              "          element.appendChild(docLink);\n",
              "        }\n",
              "      </script>\n",
              "    </div>\n",
              "  </div>\n",
              "  "
            ]
          },
          "metadata": {},
          "execution_count": 14
        }
      ]
    },
    {
      "cell_type": "markdown",
      "source": [
        "## Transformaciones"
      ],
      "metadata": {
        "id": "cu0F4A9CdFKI"
      }
    },
    {
      "cell_type": "markdown",
      "source": [
        "Transformaciones a realizar:\n",
        "\n",
        "Sacar más información de las columnas \"titulo\" y \"url\"\n",
        "Crear nueva columna con url completa añadiendo la url base de coches.net\n",
        "Crear otra variable con las coordenadas de cada ciudad\n",
        "Crear variable con max-min de kilometros (el escalado se hace con los datos de entrenamiento creo)\n",
        "Crear variable con la antigüedad de cada coche: now-año\n",
        "Crear variable dummy con el combustible\n",
        "\n",
        "Buscar outliers en las variables, boxplot\n",
        "Realizar estudios de distribuciones de las variables\n",
        "Estudio de la correlaciones entre las variables.\n",
        "Estudio de las correlaciones con la variable objetivo \"precio\"\n",
        "Hacer gráfico con mapa con las posiciones de las ciudades donde se venden los coches.\n",
        "Usar métodos de filtrado para regesion, f_regression y mutual_info_regession. F-test score y Mutual information\n",
        "\n",
        "\n"
      ],
      "metadata": {
        "id": "eDDRkErr9Cau"
      }
    },
    {
      "cell_type": "markdown",
      "source": [
        "### TRANSFORMACIONES<br/>\n",
        "\n",
        "\n",
        "\n",
        "* [X] Poner URL completa\n",
        "* [X] Extraer más información de \"titulo\" y \"url\"\n",
        "* [ ] Coordenadas GPS de ciudades\n",
        "* [ ] Escalado de variable kilómetros\n",
        "* [ ] Crear nueva variable con la antigüedad del coches en años. Escalar.\n",
        "* [ ] Variables binarias para combustible\n",
        "* [ ] Categorical type will be better in 'name'column.\n",
        "\n",
        "\n",
        "\n",
        "### EXPLORACIONES\n",
        "\n",
        "* [ ] Box plot de caracterísitcas.\n",
        "* [ ] Análisis por agrupación.\n",
        "* [ ] Estudio de las distintas distribuciones.\n",
        "* [ ] Estudio de correlaciones entre las variables.\n",
        "* [ ] Estudio de correlaciones entre las variables y \"precio\".\n",
        "* [ ] Estudio según localización GPS."
      ],
      "metadata": {
        "id": "LLLeiWdlavYg"
      }
    },
    {
      "cell_type": "markdown",
      "source": [
        "### Poner URL completa"
      ],
      "metadata": {
        "id": "jQ26sUDSdADE"
      }
    },
    {
      "cell_type": "code",
      "source": [
        "# Creamos URL completa\n",
        "from urllib.parse import urljoin\n",
        "\n",
        "url_base = \"https://www.coches.net/\"\n",
        "coches['web'] = [urljoin(url_base, url) for url in coches['url']]"
      ],
      "metadata": {
        "id": "SrFl_oY49AKZ"
      },
      "execution_count": 15,
      "outputs": []
    },
    {
      "cell_type": "code",
      "source": [
        "# Compruebo\n",
        "coches.web[0]"
      ],
      "metadata": {
        "colab": {
          "base_uri": "https://localhost:8080/",
          "height": 35
        },
        "id": "qKaf_wqSZdID",
        "outputId": "add95874-9a65-4c22-a32e-837580624f73"
      },
      "execution_count": 16,
      "outputs": [
        {
          "output_type": "execute_result",
          "data": {
            "text/plain": [
              "'https://www.coches.net/mercedes-benz-clase-c-c-220-d-4p-diesel-2017-en-baleares-51618684-covo.aspx'"
            ],
            "application/vnd.google.colaboratory.intrinsic+json": {
              "type": "string"
            }
          },
          "metadata": {},
          "execution_count": 16
        }
      ]
    },
    {
      "cell_type": "markdown",
      "source": [
        "### Extraer información de \"titulo\" y de \"url\""
      ],
      "metadata": {
        "id": "agPIZ-wXfGZO"
      }
    },
    {
      "cell_type": "code",
      "source": [
        "# Aumento la cantidad de caracteres a mostrar por pantalla\n",
        "pd.options.display.max_colwidth = 200"
      ],
      "metadata": {
        "id": "eqXpcqGCh58Q"
      },
      "execution_count": 17,
      "outputs": []
    },
    {
      "cell_type": "code",
      "source": [
        "print(coches.loc[[0],['titulo']])\n",
        "print(coches.loc[[0],['url']]) ##, 'url']]),"
      ],
      "metadata": {
        "colab": {
          "base_uri": "https://localhost:8080/"
        },
        "id": "rBZ-xbcTXbbn",
        "outputId": "bac1f4fe-4a07-4a78-b23c-a2403c714a14"
      },
      "execution_count": 18,
      "outputs": [
        {
          "output_type": "stream",
          "name": "stdout",
          "text": [
            "                              titulo\n",
            "0  MERCEDES-BENZ Clase C C 220 d 4p.\n",
            "                                                                            url\n",
            "0  /mercedes-benz-clase-c-c-220-d-4p-diesel-2017-en-baleares-51618684-covo.aspx\n"
          ]
        }
      ]
    },
    {
      "cell_type": "code",
      "source": [
        "coches.sample(5)"
      ],
      "metadata": {
        "colab": {
          "base_uri": "https://localhost:8080/",
          "height": 337
        },
        "id": "nSXEvARFXw9g",
        "outputId": "addcb893-31ed-4acc-c1b5-e14d7eed738f"
      },
      "execution_count": 19,
      "outputs": [
        {
          "output_type": "execute_result",
          "data": {
            "text/plain": [
              "                                                titulo  precio  kilometros  \\\n",
              "664         MERCEDES-BENZ Clase C C 220 d AMG Line 4p.   26500      106000   \n",
              "1643    MERCEDES-BENZ Clase C C 220 BlueTEC Estate 5p.   23490      108000   \n",
              "1923                                     MERCEDES-BENZ   22500      123000   \n",
              "1837           MERCEDES-BENZ Clase C C Coupe 250 d 2p.   28500      138491   \n",
              "1115  MERCEDES-BENZ Clase C C 220 BlueTEC AMG Line 4p.   28990      118000   \n",
              "\n",
              "       año  combustible  ciudad  garantia  \\\n",
              "664   2016            1  Madrid     False   \n",
              "1643  2015            1  Málaga      True   \n",
              "1923  2014            1  Huelva     False   \n",
              "1837  2015            1   Cádiz     False   \n",
              "1115  2014            1  Málaga      True   \n",
              "\n",
              "                                                                                          url  \\\n",
              "664       /mercedes-benz-clase-c-c-220-d-amg-line-4p-diesel-2016-en-madrid-51733814-covo.aspx   \n",
              "1643  /mercedes-benz-clase-c-c-220-bluetec-estate-5p-diesel-2014-en-malaga-51399976-covo.aspx   \n",
              "1923                      /mercedes-benz-clase-c--4p-diesel-2014-en-huelva-51262653-covo.aspx   \n",
              "1837          /mercedes-benz-clase-c-c-coupe-250-d-2p-diesel-2015-en-cadiz-51123875-covo.aspx   \n",
              "1115      /mercedes-benz-clase-c-c-220-cdi-4matic-4p-diesel-2014-en-malaga-49308308-covo.aspx   \n",
              "\n",
              "                                                                                                                web  \n",
              "664       https://www.coches.net/mercedes-benz-clase-c-c-220-d-amg-line-4p-diesel-2016-en-madrid-51733814-covo.aspx  \n",
              "1643  https://www.coches.net/mercedes-benz-clase-c-c-220-bluetec-estate-5p-diesel-2014-en-malaga-51399976-covo.aspx  \n",
              "1923                      https://www.coches.net/mercedes-benz-clase-c--4p-diesel-2014-en-huelva-51262653-covo.aspx  \n",
              "1837          https://www.coches.net/mercedes-benz-clase-c-c-coupe-250-d-2p-diesel-2015-en-cadiz-51123875-covo.aspx  \n",
              "1115      https://www.coches.net/mercedes-benz-clase-c-c-220-cdi-4matic-4p-diesel-2014-en-malaga-49308308-covo.aspx  "
            ],
            "text/html": [
              "\n",
              "  <div id=\"df-8851de45-1390-4658-b398-298a55863f33\">\n",
              "    <div class=\"colab-df-container\">\n",
              "      <div>\n",
              "<style scoped>\n",
              "    .dataframe tbody tr th:only-of-type {\n",
              "        vertical-align: middle;\n",
              "    }\n",
              "\n",
              "    .dataframe tbody tr th {\n",
              "        vertical-align: top;\n",
              "    }\n",
              "\n",
              "    .dataframe thead th {\n",
              "        text-align: right;\n",
              "    }\n",
              "</style>\n",
              "<table border=\"1\" class=\"dataframe\">\n",
              "  <thead>\n",
              "    <tr style=\"text-align: right;\">\n",
              "      <th></th>\n",
              "      <th>titulo</th>\n",
              "      <th>precio</th>\n",
              "      <th>kilometros</th>\n",
              "      <th>año</th>\n",
              "      <th>combustible</th>\n",
              "      <th>ciudad</th>\n",
              "      <th>garantia</th>\n",
              "      <th>url</th>\n",
              "      <th>web</th>\n",
              "    </tr>\n",
              "  </thead>\n",
              "  <tbody>\n",
              "    <tr>\n",
              "      <th>664</th>\n",
              "      <td>MERCEDES-BENZ Clase C C 220 d AMG Line 4p.</td>\n",
              "      <td>26500</td>\n",
              "      <td>106000</td>\n",
              "      <td>2016</td>\n",
              "      <td>1</td>\n",
              "      <td>Madrid</td>\n",
              "      <td>False</td>\n",
              "      <td>/mercedes-benz-clase-c-c-220-d-amg-line-4p-diesel-2016-en-madrid-51733814-covo.aspx</td>\n",
              "      <td>https://www.coches.net/mercedes-benz-clase-c-c-220-d-amg-line-4p-diesel-2016-en-madrid-51733814-covo.aspx</td>\n",
              "    </tr>\n",
              "    <tr>\n",
              "      <th>1643</th>\n",
              "      <td>MERCEDES-BENZ Clase C C 220 BlueTEC Estate 5p.</td>\n",
              "      <td>23490</td>\n",
              "      <td>108000</td>\n",
              "      <td>2015</td>\n",
              "      <td>1</td>\n",
              "      <td>Málaga</td>\n",
              "      <td>True</td>\n",
              "      <td>/mercedes-benz-clase-c-c-220-bluetec-estate-5p-diesel-2014-en-malaga-51399976-covo.aspx</td>\n",
              "      <td>https://www.coches.net/mercedes-benz-clase-c-c-220-bluetec-estate-5p-diesel-2014-en-malaga-51399976-covo.aspx</td>\n",
              "    </tr>\n",
              "    <tr>\n",
              "      <th>1923</th>\n",
              "      <td>MERCEDES-BENZ</td>\n",
              "      <td>22500</td>\n",
              "      <td>123000</td>\n",
              "      <td>2014</td>\n",
              "      <td>1</td>\n",
              "      <td>Huelva</td>\n",
              "      <td>False</td>\n",
              "      <td>/mercedes-benz-clase-c--4p-diesel-2014-en-huelva-51262653-covo.aspx</td>\n",
              "      <td>https://www.coches.net/mercedes-benz-clase-c--4p-diesel-2014-en-huelva-51262653-covo.aspx</td>\n",
              "    </tr>\n",
              "    <tr>\n",
              "      <th>1837</th>\n",
              "      <td>MERCEDES-BENZ Clase C C Coupe 250 d 2p.</td>\n",
              "      <td>28500</td>\n",
              "      <td>138491</td>\n",
              "      <td>2015</td>\n",
              "      <td>1</td>\n",
              "      <td>Cádiz</td>\n",
              "      <td>False</td>\n",
              "      <td>/mercedes-benz-clase-c-c-coupe-250-d-2p-diesel-2015-en-cadiz-51123875-covo.aspx</td>\n",
              "      <td>https://www.coches.net/mercedes-benz-clase-c-c-coupe-250-d-2p-diesel-2015-en-cadiz-51123875-covo.aspx</td>\n",
              "    </tr>\n",
              "    <tr>\n",
              "      <th>1115</th>\n",
              "      <td>MERCEDES-BENZ Clase C C 220 BlueTEC AMG Line 4p.</td>\n",
              "      <td>28990</td>\n",
              "      <td>118000</td>\n",
              "      <td>2014</td>\n",
              "      <td>1</td>\n",
              "      <td>Málaga</td>\n",
              "      <td>True</td>\n",
              "      <td>/mercedes-benz-clase-c-c-220-cdi-4matic-4p-diesel-2014-en-malaga-49308308-covo.aspx</td>\n",
              "      <td>https://www.coches.net/mercedes-benz-clase-c-c-220-cdi-4matic-4p-diesel-2014-en-malaga-49308308-covo.aspx</td>\n",
              "    </tr>\n",
              "  </tbody>\n",
              "</table>\n",
              "</div>\n",
              "      <button class=\"colab-df-convert\" onclick=\"convertToInteractive('df-8851de45-1390-4658-b398-298a55863f33')\"\n",
              "              title=\"Convert this dataframe to an interactive table.\"\n",
              "              style=\"display:none;\">\n",
              "        \n",
              "  <svg xmlns=\"http://www.w3.org/2000/svg\" height=\"24px\"viewBox=\"0 0 24 24\"\n",
              "       width=\"24px\">\n",
              "    <path d=\"M0 0h24v24H0V0z\" fill=\"none\"/>\n",
              "    <path d=\"M18.56 5.44l.94 2.06.94-2.06 2.06-.94-2.06-.94-.94-2.06-.94 2.06-2.06.94zm-11 1L8.5 8.5l.94-2.06 2.06-.94-2.06-.94L8.5 2.5l-.94 2.06-2.06.94zm10 10l.94 2.06.94-2.06 2.06-.94-2.06-.94-.94-2.06-.94 2.06-2.06.94z\"/><path d=\"M17.41 7.96l-1.37-1.37c-.4-.4-.92-.59-1.43-.59-.52 0-1.04.2-1.43.59L10.3 9.45l-7.72 7.72c-.78.78-.78 2.05 0 2.83L4 21.41c.39.39.9.59 1.41.59.51 0 1.02-.2 1.41-.59l7.78-7.78 2.81-2.81c.8-.78.8-2.07 0-2.86zM5.41 20L4 18.59l7.72-7.72 1.47 1.35L5.41 20z\"/>\n",
              "  </svg>\n",
              "      </button>\n",
              "      \n",
              "  <style>\n",
              "    .colab-df-container {\n",
              "      display:flex;\n",
              "      flex-wrap:wrap;\n",
              "      gap: 12px;\n",
              "    }\n",
              "\n",
              "    .colab-df-convert {\n",
              "      background-color: #E8F0FE;\n",
              "      border: none;\n",
              "      border-radius: 50%;\n",
              "      cursor: pointer;\n",
              "      display: none;\n",
              "      fill: #1967D2;\n",
              "      height: 32px;\n",
              "      padding: 0 0 0 0;\n",
              "      width: 32px;\n",
              "    }\n",
              "\n",
              "    .colab-df-convert:hover {\n",
              "      background-color: #E2EBFA;\n",
              "      box-shadow: 0px 1px 2px rgba(60, 64, 67, 0.3), 0px 1px 3px 1px rgba(60, 64, 67, 0.15);\n",
              "      fill: #174EA6;\n",
              "    }\n",
              "\n",
              "    [theme=dark] .colab-df-convert {\n",
              "      background-color: #3B4455;\n",
              "      fill: #D2E3FC;\n",
              "    }\n",
              "\n",
              "    [theme=dark] .colab-df-convert:hover {\n",
              "      background-color: #434B5C;\n",
              "      box-shadow: 0px 1px 3px 1px rgba(0, 0, 0, 0.15);\n",
              "      filter: drop-shadow(0px 1px 2px rgba(0, 0, 0, 0.3));\n",
              "      fill: #FFFFFF;\n",
              "    }\n",
              "  </style>\n",
              "\n",
              "      <script>\n",
              "        const buttonEl =\n",
              "          document.querySelector('#df-8851de45-1390-4658-b398-298a55863f33 button.colab-df-convert');\n",
              "        buttonEl.style.display =\n",
              "          google.colab.kernel.accessAllowed ? 'block' : 'none';\n",
              "\n",
              "        async function convertToInteractive(key) {\n",
              "          const element = document.querySelector('#df-8851de45-1390-4658-b398-298a55863f33');\n",
              "          const dataTable =\n",
              "            await google.colab.kernel.invokeFunction('convertToInteractive',\n",
              "                                                     [key], {});\n",
              "          if (!dataTable) return;\n",
              "\n",
              "          const docLinkHtml = 'Like what you see? Visit the ' +\n",
              "            '<a target=\"_blank\" href=https://colab.research.google.com/notebooks/data_table.ipynb>data table notebook</a>'\n",
              "            + ' to learn more about interactive tables.';\n",
              "          element.innerHTML = '';\n",
              "          dataTable['output_type'] = 'display_data';\n",
              "          await google.colab.output.renderOutput(dataTable, element);\n",
              "          const docLink = document.createElement('div');\n",
              "          docLink.innerHTML = docLinkHtml;\n",
              "          element.appendChild(docLink);\n",
              "        }\n",
              "      </script>\n",
              "    </div>\n",
              "  </div>\n",
              "  "
            ]
          },
          "metadata": {},
          "execution_count": 19
        }
      ]
    },
    {
      "cell_type": "code",
      "source": [
        "import regex as re"
      ],
      "metadata": {
        "id": "WGfJqgoLh2-4"
      },
      "execution_count": 20,
      "outputs": []
    },
    {
      "cell_type": "markdown",
      "source": [
        "Crear nueva variable \"tipo\", con tipo de modelo clase C que es el coche. En caso no obtener esa información, identificar con la palabra \"NoInfo\""
      ],
      "metadata": {
        "id": "y0YsGAF4pxwp"
      }
    },
    {
      "cell_type": "code",
      "source": [
        "coches['tipo'] = coches['url'].str.extract('-(\\d{2,3})-').fillna('NoInfo')"
      ],
      "metadata": {
        "id": "a5VssjsSm_7y"
      },
      "execution_count": 21,
      "outputs": []
    },
    {
      "cell_type": "code",
      "source": [
        "coches.tipo.sample(10)"
      ],
      "metadata": {
        "colab": {
          "base_uri": "https://localhost:8080/"
        },
        "id": "mTHQ0jfNoa8w",
        "outputId": "4c56503f-4066-4bdf-b23e-98d598ca31e9"
      },
      "execution_count": 22,
      "outputs": [
        {
          "output_type": "execute_result",
          "data": {
            "text/plain": [
              "129        220\n",
              "205        220\n",
              "696         43\n",
              "659        220\n",
              "1228       250\n",
              "645     NoInfo\n",
              "1752       200\n",
              "124        250\n",
              "1229       200\n",
              "1514       220\n",
              "Name: tipo, dtype: object"
            ]
          },
          "metadata": {},
          "execution_count": 22
        }
      ]
    },
    {
      "cell_type": "code",
      "source": [
        "coches.value_counts('tipo')"
      ],
      "metadata": {
        "colab": {
          "base_uri": "https://localhost:8080/"
        },
        "id": "jqkRCBGHjCaH",
        "outputId": "80d2c537-3ff1-4643-cfde-c68b28528582"
      },
      "execution_count": 23,
      "outputs": [
        {
          "output_type": "execute_result",
          "data": {
            "text/plain": [
              "tipo\n",
              "220       1092\n",
              "200        279\n",
              "NoInfo     132\n",
              "250        111\n",
              "63          76\n",
              "300         71\n",
              "43          69\n",
              "180         56\n",
              "350         33\n",
              "450          4\n",
              "400          3\n",
              "45           1\n",
              "dtype: int64"
            ]
          },
          "metadata": {},
          "execution_count": 23
        }
      ]
    },
    {
      "cell_type": "markdown",
      "source": [
        "Crear nueva variable booleana, indicango si el vehículo tiene el acabado AMG True o no False"
      ],
      "metadata": {
        "id": "dy36o9d_qFLU"
      }
    },
    {
      "cell_type": "code",
      "source": [
        "coches['AMG'] = False\n",
        "coches.loc[coches.url.str.contains('amg', case=True),'AMG'] = True"
      ],
      "metadata": {
        "id": "-CVKoS5wpKuV"
      },
      "execution_count": 24,
      "outputs": []
    },
    {
      "cell_type": "code",
      "source": [
        "coches.value_counts('AMG')"
      ],
      "metadata": {
        "colab": {
          "base_uri": "https://localhost:8080/"
        },
        "id": "PXh4KKz-pmD2",
        "outputId": "af7ec2f5-37e0-4495-ba52-fe95f1df7e3d"
      },
      "execution_count": 25,
      "outputs": [
        {
          "output_type": "execute_result",
          "data": {
            "text/plain": [
              "AMG\n",
              "False    1521\n",
              "True      406\n",
              "dtype: int64"
            ]
          },
          "metadata": {},
          "execution_count": 25
        }
      ]
    },
    {
      "cell_type": "markdown",
      "source": [
        "### Coordenadas GPS de ciudades"
      ],
      "metadata": {
        "id": "1Msdmtr9sHVi"
      }
    },
    {
      "cell_type": "markdown",
      "source": [
        "Creo una función para obtener las coordenadas de la cada ciudad"
      ],
      "metadata": {
        "id": "TMvXJYaVk0KT"
      }
    },
    {
      "cell_type": "code",
      "source": [
        "def get_coordinates(cities):\n",
        "  '''\n",
        "  Given the column name with the cities, get coordinates for every city in two\n",
        "  differents columns, \"lat_ciudad\" and \"lat_ciudad\" in a new DF\n",
        "  '''\n",
        "\n",
        "  from geopy.geocoders import Nominatim\n",
        "\n",
        "  geolocator = Nominatim(user_agent=\"MyApp\")\n",
        "  ciudades = coches[cities].value_counts().index.tolist()\n",
        "\n",
        "  lat_ciudad = []\n",
        "  long_ciudad = []\n",
        "\n",
        "  for ciudad in ciudades:\n",
        "    location = geolocator.geocode(ciudad) \n",
        "    lat_ciudad.append(location.latitude)\n",
        "    long_ciudad.append(location.longitude)\n",
        "\n",
        "  df_ciudades = pd.DataFrame(list(zip(ciudades, lat_ciudad, long_ciudad)), columns =['ciudad', 'lat_ciudad', 'long_ciudad'])\n",
        "\n",
        "  return df_ciudades\n",
        "\n"
      ],
      "metadata": {
        "id": "XHiCnwQYk610"
      },
      "execution_count": 53,
      "outputs": []
    },
    {
      "cell_type": "code",
      "source": [
        "df_ciudades = get_coordinates('ciudad')"
      ],
      "metadata": {
        "id": "-_7Y_Q-OmMZF"
      },
      "execution_count": 55,
      "outputs": []
    },
    {
      "cell_type": "markdown",
      "source": [
        "Ahora uno los dos dataframe para tener cada coordenada con cada ciudad de la tabla \"coches\""
      ],
      "metadata": {
        "id": "Yn7R-CIcnKPH"
      }
    },
    {
      "cell_type": "code",
      "source": [
        "coches = pd.merge(coches, df_ciudades, on = 'ciudad', how = 'left')\n",
        "coches.head()"
      ],
      "metadata": {
        "colab": {
          "base_uri": "https://localhost:8080/",
          "height": 406
        },
        "id": "qAYd2Cu3nEOv",
        "outputId": "ecf63bfe-c615-4ec0-af14-cc8f46591107"
      },
      "execution_count": 57,
      "outputs": [
        {
          "output_type": "execute_result",
          "data": {
            "text/plain": [
              "                                                titulo  precio  kilometros  \\\n",
              "0                    MERCEDES-BENZ Clase C C 220 d 4p.   16200      281000   \n",
              "1             MERCEDES-BENZ Clase C C 220 d Estate 5p.   26900      114336   \n",
              "2  MERCEDES-BENZ Clase C C 220 d Avantgarde Estate 5p.   11000      287500   \n",
              "3         MERCEDES-BENZ Clase C C 220 d Avantgarde 4p.   22900      110000   \n",
              "4                    MERCEDES-BENZ Clase C C 300 d 4p.   68000       10650   \n",
              "\n",
              "    año  combustible      ciudad  garantia  \\\n",
              "0  2017            1    Baleares     False   \n",
              "1  2017            1     Badajoz      True   \n",
              "2  2015            1  Valladolid     False   \n",
              "3  2015            1    Valencia      True   \n",
              "4  2021            4       Cádiz      True   \n",
              "\n",
              "                                                                                                url  \\\n",
              "0                      /mercedes-benz-clase-c-c-220-d-4p-diesel-2017-en-baleares-51618684-covo.aspx   \n",
              "1                /mercedes-benz-clase-c-c-220-d-estate-5p-diesel-2017-en-badajoz-50946817-covo.aspx   \n",
              "2  /mercedes-benz-clase-c-c-220-d-avantgarde-estate-5p-diesel-2015-en-valladolid-51386008-covo.aspx   \n",
              "3           /mercedes-benz-clase-c-c-220-d-avantgarde-4p-diesel-2015-en-valencia-51457158-covo.aspx   \n",
              "4              /mercedes-benz-clase-c-c-300-d-4p-electrico-hibrido-2021-en-cadiz-51662564-covo.aspx   \n",
              "\n",
              "                                                                                                                      web  \\\n",
              "0                      https://www.coches.net/mercedes-benz-clase-c-c-220-d-4p-diesel-2017-en-baleares-51618684-covo.aspx   \n",
              "1                https://www.coches.net/mercedes-benz-clase-c-c-220-d-estate-5p-diesel-2017-en-badajoz-50946817-covo.aspx   \n",
              "2  https://www.coches.net/mercedes-benz-clase-c-c-220-d-avantgarde-estate-5p-diesel-2015-en-valladolid-51386008-covo.aspx   \n",
              "3           https://www.coches.net/mercedes-benz-clase-c-c-220-d-avantgarde-4p-diesel-2015-en-valencia-51457158-covo.aspx   \n",
              "4              https://www.coches.net/mercedes-benz-clase-c-c-300-d-4p-electrico-hibrido-2021-en-cadiz-51662564-covo.aspx   \n",
              "\n",
              "  tipo    AMG  lat_ciudad  long_ciudad  \n",
              "0  220  False   39.613432     2.880354  \n",
              "1  220  False   38.878059    -6.970205  \n",
              "2  220  False   41.652133    -4.728562  \n",
              "3  220  False   39.469707    -0.376335  \n",
              "4  300  False   36.529744    -6.292898  "
            ],
            "text/html": [
              "\n",
              "  <div id=\"df-35981569-a61c-48c6-9450-03a34570d1ee\">\n",
              "    <div class=\"colab-df-container\">\n",
              "      <div>\n",
              "<style scoped>\n",
              "    .dataframe tbody tr th:only-of-type {\n",
              "        vertical-align: middle;\n",
              "    }\n",
              "\n",
              "    .dataframe tbody tr th {\n",
              "        vertical-align: top;\n",
              "    }\n",
              "\n",
              "    .dataframe thead th {\n",
              "        text-align: right;\n",
              "    }\n",
              "</style>\n",
              "<table border=\"1\" class=\"dataframe\">\n",
              "  <thead>\n",
              "    <tr style=\"text-align: right;\">\n",
              "      <th></th>\n",
              "      <th>titulo</th>\n",
              "      <th>precio</th>\n",
              "      <th>kilometros</th>\n",
              "      <th>año</th>\n",
              "      <th>combustible</th>\n",
              "      <th>ciudad</th>\n",
              "      <th>garantia</th>\n",
              "      <th>url</th>\n",
              "      <th>web</th>\n",
              "      <th>tipo</th>\n",
              "      <th>AMG</th>\n",
              "      <th>lat_ciudad</th>\n",
              "      <th>long_ciudad</th>\n",
              "    </tr>\n",
              "  </thead>\n",
              "  <tbody>\n",
              "    <tr>\n",
              "      <th>0</th>\n",
              "      <td>MERCEDES-BENZ Clase C C 220 d 4p.</td>\n",
              "      <td>16200</td>\n",
              "      <td>281000</td>\n",
              "      <td>2017</td>\n",
              "      <td>1</td>\n",
              "      <td>Baleares</td>\n",
              "      <td>False</td>\n",
              "      <td>/mercedes-benz-clase-c-c-220-d-4p-diesel-2017-en-baleares-51618684-covo.aspx</td>\n",
              "      <td>https://www.coches.net/mercedes-benz-clase-c-c-220-d-4p-diesel-2017-en-baleares-51618684-covo.aspx</td>\n",
              "      <td>220</td>\n",
              "      <td>False</td>\n",
              "      <td>39.613432</td>\n",
              "      <td>2.880354</td>\n",
              "    </tr>\n",
              "    <tr>\n",
              "      <th>1</th>\n",
              "      <td>MERCEDES-BENZ Clase C C 220 d Estate 5p.</td>\n",
              "      <td>26900</td>\n",
              "      <td>114336</td>\n",
              "      <td>2017</td>\n",
              "      <td>1</td>\n",
              "      <td>Badajoz</td>\n",
              "      <td>True</td>\n",
              "      <td>/mercedes-benz-clase-c-c-220-d-estate-5p-diesel-2017-en-badajoz-50946817-covo.aspx</td>\n",
              "      <td>https://www.coches.net/mercedes-benz-clase-c-c-220-d-estate-5p-diesel-2017-en-badajoz-50946817-covo.aspx</td>\n",
              "      <td>220</td>\n",
              "      <td>False</td>\n",
              "      <td>38.878059</td>\n",
              "      <td>-6.970205</td>\n",
              "    </tr>\n",
              "    <tr>\n",
              "      <th>2</th>\n",
              "      <td>MERCEDES-BENZ Clase C C 220 d Avantgarde Estate 5p.</td>\n",
              "      <td>11000</td>\n",
              "      <td>287500</td>\n",
              "      <td>2015</td>\n",
              "      <td>1</td>\n",
              "      <td>Valladolid</td>\n",
              "      <td>False</td>\n",
              "      <td>/mercedes-benz-clase-c-c-220-d-avantgarde-estate-5p-diesel-2015-en-valladolid-51386008-covo.aspx</td>\n",
              "      <td>https://www.coches.net/mercedes-benz-clase-c-c-220-d-avantgarde-estate-5p-diesel-2015-en-valladolid-51386008-covo.aspx</td>\n",
              "      <td>220</td>\n",
              "      <td>False</td>\n",
              "      <td>41.652133</td>\n",
              "      <td>-4.728562</td>\n",
              "    </tr>\n",
              "    <tr>\n",
              "      <th>3</th>\n",
              "      <td>MERCEDES-BENZ Clase C C 220 d Avantgarde 4p.</td>\n",
              "      <td>22900</td>\n",
              "      <td>110000</td>\n",
              "      <td>2015</td>\n",
              "      <td>1</td>\n",
              "      <td>Valencia</td>\n",
              "      <td>True</td>\n",
              "      <td>/mercedes-benz-clase-c-c-220-d-avantgarde-4p-diesel-2015-en-valencia-51457158-covo.aspx</td>\n",
              "      <td>https://www.coches.net/mercedes-benz-clase-c-c-220-d-avantgarde-4p-diesel-2015-en-valencia-51457158-covo.aspx</td>\n",
              "      <td>220</td>\n",
              "      <td>False</td>\n",
              "      <td>39.469707</td>\n",
              "      <td>-0.376335</td>\n",
              "    </tr>\n",
              "    <tr>\n",
              "      <th>4</th>\n",
              "      <td>MERCEDES-BENZ Clase C C 300 d 4p.</td>\n",
              "      <td>68000</td>\n",
              "      <td>10650</td>\n",
              "      <td>2021</td>\n",
              "      <td>4</td>\n",
              "      <td>Cádiz</td>\n",
              "      <td>True</td>\n",
              "      <td>/mercedes-benz-clase-c-c-300-d-4p-electrico-hibrido-2021-en-cadiz-51662564-covo.aspx</td>\n",
              "      <td>https://www.coches.net/mercedes-benz-clase-c-c-300-d-4p-electrico-hibrido-2021-en-cadiz-51662564-covo.aspx</td>\n",
              "      <td>300</td>\n",
              "      <td>False</td>\n",
              "      <td>36.529744</td>\n",
              "      <td>-6.292898</td>\n",
              "    </tr>\n",
              "  </tbody>\n",
              "</table>\n",
              "</div>\n",
              "      <button class=\"colab-df-convert\" onclick=\"convertToInteractive('df-35981569-a61c-48c6-9450-03a34570d1ee')\"\n",
              "              title=\"Convert this dataframe to an interactive table.\"\n",
              "              style=\"display:none;\">\n",
              "        \n",
              "  <svg xmlns=\"http://www.w3.org/2000/svg\" height=\"24px\"viewBox=\"0 0 24 24\"\n",
              "       width=\"24px\">\n",
              "    <path d=\"M0 0h24v24H0V0z\" fill=\"none\"/>\n",
              "    <path d=\"M18.56 5.44l.94 2.06.94-2.06 2.06-.94-2.06-.94-.94-2.06-.94 2.06-2.06.94zm-11 1L8.5 8.5l.94-2.06 2.06-.94-2.06-.94L8.5 2.5l-.94 2.06-2.06.94zm10 10l.94 2.06.94-2.06 2.06-.94-2.06-.94-.94-2.06-.94 2.06-2.06.94z\"/><path d=\"M17.41 7.96l-1.37-1.37c-.4-.4-.92-.59-1.43-.59-.52 0-1.04.2-1.43.59L10.3 9.45l-7.72 7.72c-.78.78-.78 2.05 0 2.83L4 21.41c.39.39.9.59 1.41.59.51 0 1.02-.2 1.41-.59l7.78-7.78 2.81-2.81c.8-.78.8-2.07 0-2.86zM5.41 20L4 18.59l7.72-7.72 1.47 1.35L5.41 20z\"/>\n",
              "  </svg>\n",
              "      </button>\n",
              "      \n",
              "  <style>\n",
              "    .colab-df-container {\n",
              "      display:flex;\n",
              "      flex-wrap:wrap;\n",
              "      gap: 12px;\n",
              "    }\n",
              "\n",
              "    .colab-df-convert {\n",
              "      background-color: #E8F0FE;\n",
              "      border: none;\n",
              "      border-radius: 50%;\n",
              "      cursor: pointer;\n",
              "      display: none;\n",
              "      fill: #1967D2;\n",
              "      height: 32px;\n",
              "      padding: 0 0 0 0;\n",
              "      width: 32px;\n",
              "    }\n",
              "\n",
              "    .colab-df-convert:hover {\n",
              "      background-color: #E2EBFA;\n",
              "      box-shadow: 0px 1px 2px rgba(60, 64, 67, 0.3), 0px 1px 3px 1px rgba(60, 64, 67, 0.15);\n",
              "      fill: #174EA6;\n",
              "    }\n",
              "\n",
              "    [theme=dark] .colab-df-convert {\n",
              "      background-color: #3B4455;\n",
              "      fill: #D2E3FC;\n",
              "    }\n",
              "\n",
              "    [theme=dark] .colab-df-convert:hover {\n",
              "      background-color: #434B5C;\n",
              "      box-shadow: 0px 1px 3px 1px rgba(0, 0, 0, 0.15);\n",
              "      filter: drop-shadow(0px 1px 2px rgba(0, 0, 0, 0.3));\n",
              "      fill: #FFFFFF;\n",
              "    }\n",
              "  </style>\n",
              "\n",
              "      <script>\n",
              "        const buttonEl =\n",
              "          document.querySelector('#df-35981569-a61c-48c6-9450-03a34570d1ee button.colab-df-convert');\n",
              "        buttonEl.style.display =\n",
              "          google.colab.kernel.accessAllowed ? 'block' : 'none';\n",
              "\n",
              "        async function convertToInteractive(key) {\n",
              "          const element = document.querySelector('#df-35981569-a61c-48c6-9450-03a34570d1ee');\n",
              "          const dataTable =\n",
              "            await google.colab.kernel.invokeFunction('convertToInteractive',\n",
              "                                                     [key], {});\n",
              "          if (!dataTable) return;\n",
              "\n",
              "          const docLinkHtml = 'Like what you see? Visit the ' +\n",
              "            '<a target=\"_blank\" href=https://colab.research.google.com/notebooks/data_table.ipynb>data table notebook</a>'\n",
              "            + ' to learn more about interactive tables.';\n",
              "          element.innerHTML = '';\n",
              "          dataTable['output_type'] = 'display_data';\n",
              "          await google.colab.output.renderOutput(dataTable, element);\n",
              "          const docLink = document.createElement('div');\n",
              "          docLink.innerHTML = docLinkHtml;\n",
              "          element.appendChild(docLink);\n",
              "        }\n",
              "      </script>\n",
              "    </div>\n",
              "  </div>\n",
              "  "
            ]
          },
          "metadata": {},
          "execution_count": 57
        }
      ]
    },
    {
      "cell_type": "code",
      "source": [
        ""
      ],
      "metadata": {
        "id": "PzSNskjukM0v"
      },
      "execution_count": null,
      "outputs": []
    }
  ]
}