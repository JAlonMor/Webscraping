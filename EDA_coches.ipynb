{
  "nbformat": 4,
  "nbformat_minor": 0,
  "metadata": {
    "colab": {
      "name": "EDA_coches.ipynb",
      "provenance": [],
      "collapsed_sections": [],
      "authorship_tag": "ABX9TyPim5l7scbC+P90ONptiiuW",
      "include_colab_link": true
    },
    "kernelspec": {
      "name": "python3",
      "display_name": "Python 3"
    },
    "language_info": {
      "name": "python"
    }
  },
  "cells": [
    {
      "cell_type": "markdown",
      "metadata": {
        "id": "view-in-github",
        "colab_type": "text"
      },
      "source": [
        "<a href=\"https://colab.research.google.com/github/JAlonMor/Webscraping/blob/main/EDA_coches.ipynb\" target=\"_parent\"><img src=\"https://colab.research.google.com/assets/colab-badge.svg\" alt=\"Open In Colab\"/></a>"
      ]
    },
    {
      "cell_type": "code",
      "execution_count": 15,
      "metadata": {
        "colab": {
          "base_uri": "https://localhost:8080/"
        },
        "id": "UQIncPczwaYz",
        "outputId": "f39d29e8-92f4-43c4-aaf4-a076b78dd90b"
      },
      "outputs": [
        {
          "output_type": "stream",
          "name": "stdout",
          "text": [
            "Cloning into 'Webscraping'...\n",
            "remote: Enumerating objects: 33, done.\u001b[K\n",
            "remote: Counting objects: 100% (33/33), done.\u001b[K\n",
            "remote: Compressing objects: 100% (28/28), done.\u001b[K\n",
            "remote: Total 33 (delta 9), reused 0 (delta 0), pack-reused 0\u001b[K\n",
            "Unpacking objects: 100% (33/33), done.\n"
          ]
        }
      ],
      "source": [
        "# Clonar repositorio de GitHub si no está disponible\n",
        "\n",
        "import os\n",
        "curr_dir = os.getcwd()\n",
        "\n",
        "if not os.path.exists(os.path.join(curr_dir, '../.ROOT_DIR')):\n",
        "  !git clone https://github.com/JAlonMor/Webscraping.git\n",
        "  os.chdir(os.path.join(curr_dir, 'Webscraping/EDA'))\n",
        "\n"
      ]
    },
    {
      "cell_type": "code",
      "source": [
        "import numpy as np\n",
        "import pandas as pd\n",
        "import seaborn as sns\n",
        "import matplotlib.pyplot as plt\n",
        "%matplotlib inline\n",
        "\n",
        "import warnings\n",
        "warnings.filterwarnings('ignore')"
      ],
      "metadata": {
        "id": "kGnNylHFx0H4"
      },
      "execution_count": 16,
      "outputs": []
    },
    {
      "cell_type": "code",
      "source": [
        "# Creo DataFrame a partir de los datos obtenidos mediante web scraping\n",
        "\n",
        "coches = pd.read_csv(\"/content/Webscraping/EDA/coches_net.csv\")"
      ],
      "metadata": {
        "id": "o1h8QfX7ylrA"
      },
      "execution_count": 17,
      "outputs": []
    },
    {
      "cell_type": "code",
      "source": [
        "coches.head()"
      ],
      "metadata": {
        "colab": {
          "base_uri": "https://localhost:8080/",
          "height": 206
        },
        "id": "DH7NOWXRy_Q-",
        "outputId": "8e571dbe-b793-457b-fb62-6a4fbca0e2e8"
      },
      "execution_count": 18,
      "outputs": [
        {
          "output_type": "execute_result",
          "data": {
            "text/plain": [
              "                                              titulo  precio  kilometros  \\\n",
              "0                  MERCEDES-BENZ Clase C C 220 d 4p.   16200      281000   \n",
              "1           MERCEDES-BENZ Clase C C 220 d Estate 5p.   26900      114336   \n",
              "2  MERCEDES-BENZ Clase C C 220 d Avantgarde Estat...   11000      287500   \n",
              "3       MERCEDES-BENZ Clase C C 220 d Avantgarde 4p.   22900      110000   \n",
              "4                  MERCEDES-BENZ Clase C C 300 d 4p.   68000       10650   \n",
              "\n",
              "    año  combustible      ciudad  garantia  \\\n",
              "0  2017          1.0    Baleares     False   \n",
              "1  2017          1.0     Badajoz      True   \n",
              "2  2015          1.0  Valladolid     False   \n",
              "3  2015          1.0    Valencia      True   \n",
              "4  2021          4.0       Cádiz      True   \n",
              "\n",
              "                                                 url  \n",
              "0  /mercedes-benz-clase-c-c-220-d-4p-diesel-2017-...  \n",
              "1  /mercedes-benz-clase-c-c-220-d-estate-5p-diese...  \n",
              "2  /mercedes-benz-clase-c-c-220-d-avantgarde-esta...  \n",
              "3  /mercedes-benz-clase-c-c-220-d-avantgarde-4p-d...  \n",
              "4  /mercedes-benz-clase-c-c-300-d-4p-electrico-hi...  "
            ],
            "text/html": [
              "\n",
              "  <div id=\"df-332c94cc-936d-4acf-8395-352ea4c30a04\">\n",
              "    <div class=\"colab-df-container\">\n",
              "      <div>\n",
              "<style scoped>\n",
              "    .dataframe tbody tr th:only-of-type {\n",
              "        vertical-align: middle;\n",
              "    }\n",
              "\n",
              "    .dataframe tbody tr th {\n",
              "        vertical-align: top;\n",
              "    }\n",
              "\n",
              "    .dataframe thead th {\n",
              "        text-align: right;\n",
              "    }\n",
              "</style>\n",
              "<table border=\"1\" class=\"dataframe\">\n",
              "  <thead>\n",
              "    <tr style=\"text-align: right;\">\n",
              "      <th></th>\n",
              "      <th>titulo</th>\n",
              "      <th>precio</th>\n",
              "      <th>kilometros</th>\n",
              "      <th>año</th>\n",
              "      <th>combustible</th>\n",
              "      <th>ciudad</th>\n",
              "      <th>garantia</th>\n",
              "      <th>url</th>\n",
              "    </tr>\n",
              "  </thead>\n",
              "  <tbody>\n",
              "    <tr>\n",
              "      <th>0</th>\n",
              "      <td>MERCEDES-BENZ Clase C C 220 d 4p.</td>\n",
              "      <td>16200</td>\n",
              "      <td>281000</td>\n",
              "      <td>2017</td>\n",
              "      <td>1.0</td>\n",
              "      <td>Baleares</td>\n",
              "      <td>False</td>\n",
              "      <td>/mercedes-benz-clase-c-c-220-d-4p-diesel-2017-...</td>\n",
              "    </tr>\n",
              "    <tr>\n",
              "      <th>1</th>\n",
              "      <td>MERCEDES-BENZ Clase C C 220 d Estate 5p.</td>\n",
              "      <td>26900</td>\n",
              "      <td>114336</td>\n",
              "      <td>2017</td>\n",
              "      <td>1.0</td>\n",
              "      <td>Badajoz</td>\n",
              "      <td>True</td>\n",
              "      <td>/mercedes-benz-clase-c-c-220-d-estate-5p-diese...</td>\n",
              "    </tr>\n",
              "    <tr>\n",
              "      <th>2</th>\n",
              "      <td>MERCEDES-BENZ Clase C C 220 d Avantgarde Estat...</td>\n",
              "      <td>11000</td>\n",
              "      <td>287500</td>\n",
              "      <td>2015</td>\n",
              "      <td>1.0</td>\n",
              "      <td>Valladolid</td>\n",
              "      <td>False</td>\n",
              "      <td>/mercedes-benz-clase-c-c-220-d-avantgarde-esta...</td>\n",
              "    </tr>\n",
              "    <tr>\n",
              "      <th>3</th>\n",
              "      <td>MERCEDES-BENZ Clase C C 220 d Avantgarde 4p.</td>\n",
              "      <td>22900</td>\n",
              "      <td>110000</td>\n",
              "      <td>2015</td>\n",
              "      <td>1.0</td>\n",
              "      <td>Valencia</td>\n",
              "      <td>True</td>\n",
              "      <td>/mercedes-benz-clase-c-c-220-d-avantgarde-4p-d...</td>\n",
              "    </tr>\n",
              "    <tr>\n",
              "      <th>4</th>\n",
              "      <td>MERCEDES-BENZ Clase C C 300 d 4p.</td>\n",
              "      <td>68000</td>\n",
              "      <td>10650</td>\n",
              "      <td>2021</td>\n",
              "      <td>4.0</td>\n",
              "      <td>Cádiz</td>\n",
              "      <td>True</td>\n",
              "      <td>/mercedes-benz-clase-c-c-300-d-4p-electrico-hi...</td>\n",
              "    </tr>\n",
              "  </tbody>\n",
              "</table>\n",
              "</div>\n",
              "      <button class=\"colab-df-convert\" onclick=\"convertToInteractive('df-332c94cc-936d-4acf-8395-352ea4c30a04')\"\n",
              "              title=\"Convert this dataframe to an interactive table.\"\n",
              "              style=\"display:none;\">\n",
              "        \n",
              "  <svg xmlns=\"http://www.w3.org/2000/svg\" height=\"24px\"viewBox=\"0 0 24 24\"\n",
              "       width=\"24px\">\n",
              "    <path d=\"M0 0h24v24H0V0z\" fill=\"none\"/>\n",
              "    <path d=\"M18.56 5.44l.94 2.06.94-2.06 2.06-.94-2.06-.94-.94-2.06-.94 2.06-2.06.94zm-11 1L8.5 8.5l.94-2.06 2.06-.94-2.06-.94L8.5 2.5l-.94 2.06-2.06.94zm10 10l.94 2.06.94-2.06 2.06-.94-2.06-.94-.94-2.06-.94 2.06-2.06.94z\"/><path d=\"M17.41 7.96l-1.37-1.37c-.4-.4-.92-.59-1.43-.59-.52 0-1.04.2-1.43.59L10.3 9.45l-7.72 7.72c-.78.78-.78 2.05 0 2.83L4 21.41c.39.39.9.59 1.41.59.51 0 1.02-.2 1.41-.59l7.78-7.78 2.81-2.81c.8-.78.8-2.07 0-2.86zM5.41 20L4 18.59l7.72-7.72 1.47 1.35L5.41 20z\"/>\n",
              "  </svg>\n",
              "      </button>\n",
              "      \n",
              "  <style>\n",
              "    .colab-df-container {\n",
              "      display:flex;\n",
              "      flex-wrap:wrap;\n",
              "      gap: 12px;\n",
              "    }\n",
              "\n",
              "    .colab-df-convert {\n",
              "      background-color: #E8F0FE;\n",
              "      border: none;\n",
              "      border-radius: 50%;\n",
              "      cursor: pointer;\n",
              "      display: none;\n",
              "      fill: #1967D2;\n",
              "      height: 32px;\n",
              "      padding: 0 0 0 0;\n",
              "      width: 32px;\n",
              "    }\n",
              "\n",
              "    .colab-df-convert:hover {\n",
              "      background-color: #E2EBFA;\n",
              "      box-shadow: 0px 1px 2px rgba(60, 64, 67, 0.3), 0px 1px 3px 1px rgba(60, 64, 67, 0.15);\n",
              "      fill: #174EA6;\n",
              "    }\n",
              "\n",
              "    [theme=dark] .colab-df-convert {\n",
              "      background-color: #3B4455;\n",
              "      fill: #D2E3FC;\n",
              "    }\n",
              "\n",
              "    [theme=dark] .colab-df-convert:hover {\n",
              "      background-color: #434B5C;\n",
              "      box-shadow: 0px 1px 3px 1px rgba(0, 0, 0, 0.15);\n",
              "      filter: drop-shadow(0px 1px 2px rgba(0, 0, 0, 0.3));\n",
              "      fill: #FFFFFF;\n",
              "    }\n",
              "  </style>\n",
              "\n",
              "      <script>\n",
              "        const buttonEl =\n",
              "          document.querySelector('#df-332c94cc-936d-4acf-8395-352ea4c30a04 button.colab-df-convert');\n",
              "        buttonEl.style.display =\n",
              "          google.colab.kernel.accessAllowed ? 'block' : 'none';\n",
              "\n",
              "        async function convertToInteractive(key) {\n",
              "          const element = document.querySelector('#df-332c94cc-936d-4acf-8395-352ea4c30a04');\n",
              "          const dataTable =\n",
              "            await google.colab.kernel.invokeFunction('convertToInteractive',\n",
              "                                                     [key], {});\n",
              "          if (!dataTable) return;\n",
              "\n",
              "          const docLinkHtml = 'Like what you see? Visit the ' +\n",
              "            '<a target=\"_blank\" href=https://colab.research.google.com/notebooks/data_table.ipynb>data table notebook</a>'\n",
              "            + ' to learn more about interactive tables.';\n",
              "          element.innerHTML = '';\n",
              "          dataTable['output_type'] = 'display_data';\n",
              "          await google.colab.output.renderOutput(dataTable, element);\n",
              "          const docLink = document.createElement('div');\n",
              "          docLink.innerHTML = docLinkHtml;\n",
              "          element.appendChild(docLink);\n",
              "        }\n",
              "      </script>\n",
              "    </div>\n",
              "  </div>\n",
              "  "
            ]
          },
          "metadata": {},
          "execution_count": 18
        }
      ]
    },
    {
      "cell_type": "code",
      "source": [
        "coches.info()"
      ],
      "metadata": {
        "colab": {
          "base_uri": "https://localhost:8080/"
        },
        "id": "uYDAvkh0zzpX",
        "outputId": "b2a9db19-7146-4117-83a6-46fc0a3b2e7a"
      },
      "execution_count": 19,
      "outputs": [
        {
          "output_type": "stream",
          "name": "stdout",
          "text": [
            "<class 'pandas.core.frame.DataFrame'>\n",
            "RangeIndex: 1927 entries, 0 to 1926\n",
            "Data columns (total 8 columns):\n",
            " #   Column       Non-Null Count  Dtype  \n",
            "---  ------       --------------  -----  \n",
            " 0   titulo       1927 non-null   object \n",
            " 1   precio       1927 non-null   int64  \n",
            " 2   kilometros   1927 non-null   int64  \n",
            " 3   año          1927 non-null   int64  \n",
            " 4   combustible  1925 non-null   float64\n",
            " 5   ciudad       1927 non-null   object \n",
            " 6   garantia     1927 non-null   bool   \n",
            " 7   url          1927 non-null   object \n",
            "dtypes: bool(1), float64(1), int64(3), object(3)\n",
            "memory usage: 107.4+ KB\n"
          ]
        }
      ]
    },
    {
      "cell_type": "markdown",
      "source": [
        "## Limpieza"
      ],
      "metadata": {
        "id": "xuescEbedSDW"
      }
    },
    {
      "cell_type": "code",
      "source": [
        "# Tenemos dos valores nulos en la variable combustible\n",
        "\n",
        "coches[coches.combustible.isnull()]"
      ],
      "metadata": {
        "colab": {
          "base_uri": "https://localhost:8080/",
          "height": 112
        },
        "id": "2uWC1lSJz3Ck",
        "outputId": "86987737-2a61-4187-b4ff-5dce2051af7b"
      },
      "execution_count": 20,
      "outputs": [
        {
          "output_type": "execute_result",
          "data": {
            "text/plain": [
              "                          titulo  precio  kilometros   año  combustible  \\\n",
              "416   MERCEDES-BENZ Clase C  5p.   28500      150000  2015          NaN   \n",
              "1566               MERCEDES-BENZ   33300       34400  2017          NaN   \n",
              "\n",
              "         ciudad  garantia                                                url  \n",
              "416   Guipúzcoa     False  /mercedes-benz-clase-c--5p-otros-2015-en-guipu...  \n",
              "1566     Murcia     False  /mercedes-benz-clase-c--5p-otros-2017-en-murci...  "
            ],
            "text/html": [
              "\n",
              "  <div id=\"df-33389973-fb0a-40c4-8ff4-53bc99a4425b\">\n",
              "    <div class=\"colab-df-container\">\n",
              "      <div>\n",
              "<style scoped>\n",
              "    .dataframe tbody tr th:only-of-type {\n",
              "        vertical-align: middle;\n",
              "    }\n",
              "\n",
              "    .dataframe tbody tr th {\n",
              "        vertical-align: top;\n",
              "    }\n",
              "\n",
              "    .dataframe thead th {\n",
              "        text-align: right;\n",
              "    }\n",
              "</style>\n",
              "<table border=\"1\" class=\"dataframe\">\n",
              "  <thead>\n",
              "    <tr style=\"text-align: right;\">\n",
              "      <th></th>\n",
              "      <th>titulo</th>\n",
              "      <th>precio</th>\n",
              "      <th>kilometros</th>\n",
              "      <th>año</th>\n",
              "      <th>combustible</th>\n",
              "      <th>ciudad</th>\n",
              "      <th>garantia</th>\n",
              "      <th>url</th>\n",
              "    </tr>\n",
              "  </thead>\n",
              "  <tbody>\n",
              "    <tr>\n",
              "      <th>416</th>\n",
              "      <td>MERCEDES-BENZ Clase C  5p.</td>\n",
              "      <td>28500</td>\n",
              "      <td>150000</td>\n",
              "      <td>2015</td>\n",
              "      <td>NaN</td>\n",
              "      <td>Guipúzcoa</td>\n",
              "      <td>False</td>\n",
              "      <td>/mercedes-benz-clase-c--5p-otros-2015-en-guipu...</td>\n",
              "    </tr>\n",
              "    <tr>\n",
              "      <th>1566</th>\n",
              "      <td>MERCEDES-BENZ</td>\n",
              "      <td>33300</td>\n",
              "      <td>34400</td>\n",
              "      <td>2017</td>\n",
              "      <td>NaN</td>\n",
              "      <td>Murcia</td>\n",
              "      <td>False</td>\n",
              "      <td>/mercedes-benz-clase-c--5p-otros-2017-en-murci...</td>\n",
              "    </tr>\n",
              "  </tbody>\n",
              "</table>\n",
              "</div>\n",
              "      <button class=\"colab-df-convert\" onclick=\"convertToInteractive('df-33389973-fb0a-40c4-8ff4-53bc99a4425b')\"\n",
              "              title=\"Convert this dataframe to an interactive table.\"\n",
              "              style=\"display:none;\">\n",
              "        \n",
              "  <svg xmlns=\"http://www.w3.org/2000/svg\" height=\"24px\"viewBox=\"0 0 24 24\"\n",
              "       width=\"24px\">\n",
              "    <path d=\"M0 0h24v24H0V0z\" fill=\"none\"/>\n",
              "    <path d=\"M18.56 5.44l.94 2.06.94-2.06 2.06-.94-2.06-.94-.94-2.06-.94 2.06-2.06.94zm-11 1L8.5 8.5l.94-2.06 2.06-.94-2.06-.94L8.5 2.5l-.94 2.06-2.06.94zm10 10l.94 2.06.94-2.06 2.06-.94-2.06-.94-.94-2.06-.94 2.06-2.06.94z\"/><path d=\"M17.41 7.96l-1.37-1.37c-.4-.4-.92-.59-1.43-.59-.52 0-1.04.2-1.43.59L10.3 9.45l-7.72 7.72c-.78.78-.78 2.05 0 2.83L4 21.41c.39.39.9.59 1.41.59.51 0 1.02-.2 1.41-.59l7.78-7.78 2.81-2.81c.8-.78.8-2.07 0-2.86zM5.41 20L4 18.59l7.72-7.72 1.47 1.35L5.41 20z\"/>\n",
              "  </svg>\n",
              "      </button>\n",
              "      \n",
              "  <style>\n",
              "    .colab-df-container {\n",
              "      display:flex;\n",
              "      flex-wrap:wrap;\n",
              "      gap: 12px;\n",
              "    }\n",
              "\n",
              "    .colab-df-convert {\n",
              "      background-color: #E8F0FE;\n",
              "      border: none;\n",
              "      border-radius: 50%;\n",
              "      cursor: pointer;\n",
              "      display: none;\n",
              "      fill: #1967D2;\n",
              "      height: 32px;\n",
              "      padding: 0 0 0 0;\n",
              "      width: 32px;\n",
              "    }\n",
              "\n",
              "    .colab-df-convert:hover {\n",
              "      background-color: #E2EBFA;\n",
              "      box-shadow: 0px 1px 2px rgba(60, 64, 67, 0.3), 0px 1px 3px 1px rgba(60, 64, 67, 0.15);\n",
              "      fill: #174EA6;\n",
              "    }\n",
              "\n",
              "    [theme=dark] .colab-df-convert {\n",
              "      background-color: #3B4455;\n",
              "      fill: #D2E3FC;\n",
              "    }\n",
              "\n",
              "    [theme=dark] .colab-df-convert:hover {\n",
              "      background-color: #434B5C;\n",
              "      box-shadow: 0px 1px 3px 1px rgba(0, 0, 0, 0.15);\n",
              "      filter: drop-shadow(0px 1px 2px rgba(0, 0, 0, 0.3));\n",
              "      fill: #FFFFFF;\n",
              "    }\n",
              "  </style>\n",
              "\n",
              "      <script>\n",
              "        const buttonEl =\n",
              "          document.querySelector('#df-33389973-fb0a-40c4-8ff4-53bc99a4425b button.colab-df-convert');\n",
              "        buttonEl.style.display =\n",
              "          google.colab.kernel.accessAllowed ? 'block' : 'none';\n",
              "\n",
              "        async function convertToInteractive(key) {\n",
              "          const element = document.querySelector('#df-33389973-fb0a-40c4-8ff4-53bc99a4425b');\n",
              "          const dataTable =\n",
              "            await google.colab.kernel.invokeFunction('convertToInteractive',\n",
              "                                                     [key], {});\n",
              "          if (!dataTable) return;\n",
              "\n",
              "          const docLinkHtml = 'Like what you see? Visit the ' +\n",
              "            '<a target=\"_blank\" href=https://colab.research.google.com/notebooks/data_table.ipynb>data table notebook</a>'\n",
              "            + ' to learn more about interactive tables.';\n",
              "          element.innerHTML = '';\n",
              "          dataTable['output_type'] = 'display_data';\n",
              "          await google.colab.output.renderOutput(dataTable, element);\n",
              "          const docLink = document.createElement('div');\n",
              "          docLink.innerHTML = docLinkHtml;\n",
              "          element.appendChild(docLink);\n",
              "        }\n",
              "      </script>\n",
              "    </div>\n",
              "  </div>\n",
              "  "
            ]
          },
          "metadata": {},
          "execution_count": 20
        }
      ]
    },
    {
      "cell_type": "code",
      "source": [
        "# Al ser solo dos observaciones, trataré de solucionarlo manualmente. Veamos las URL\n",
        "\n",
        "coches.iloc[416,:].url"
      ],
      "metadata": {
        "colab": {
          "base_uri": "https://localhost:8080/",
          "height": 35
        },
        "id": "FjBGpjxu0QIP",
        "outputId": "f25e084b-527b-4bc5-a9e3-a77d7e747218"
      },
      "execution_count": 21,
      "outputs": [
        {
          "output_type": "execute_result",
          "data": {
            "text/plain": [
              "'/mercedes-benz-clase-c--5p-otros-2015-en-guipuzcoa-51760617-covo.aspx'"
            ],
            "application/vnd.google.colaboratory.intrinsic+json": {
              "type": "string"
            }
          },
          "metadata": {},
          "execution_count": 21
        }
      ]
    },
    {
      "cell_type": "markdown",
      "source": [
        "Es un híbrido diésel (4)"
      ],
      "metadata": {
        "id": "EZvjKoWP2TRv"
      }
    },
    {
      "cell_type": "code",
      "source": [
        "coches.iloc[1566,:].url"
      ],
      "metadata": {
        "colab": {
          "base_uri": "https://localhost:8080/",
          "height": 35
        },
        "id": "7JFs-o1o1KjE",
        "outputId": "64c079b4-23e4-4d35-dd64-fd12074b5095"
      },
      "execution_count": 22,
      "outputs": [
        {
          "output_type": "execute_result",
          "data": {
            "text/plain": [
              "'/mercedes-benz-clase-c--5p-otros-2017-en-murcia-51484724-covo.aspx'"
            ],
            "application/vnd.google.colaboratory.intrinsic+json": {
              "type": "string"
            }
          },
          "metadata": {},
          "execution_count": 22
        }
      ]
    },
    {
      "cell_type": "markdown",
      "source": [
        "Es un híbrido enchufable (gasolina) (5)"
      ],
      "metadata": {
        "id": "EEYOuMP_3I08"
      }
    },
    {
      "cell_type": "code",
      "source": [
        "coches.combustible.unique()"
      ],
      "metadata": {
        "colab": {
          "base_uri": "https://localhost:8080/"
        },
        "id": "nRfmyFa72cw7",
        "outputId": "2f3fbf43-796c-4e2e-e2e5-e62a6cdfd294"
      },
      "execution_count": 23,
      "outputs": [
        {
          "output_type": "execute_result",
          "data": {
            "text/plain": [
              "array([ 1.,  4.,  2.,  5., nan])"
            ]
          },
          "metadata": {},
          "execution_count": 23
        }
      ]
    },
    {
      "cell_type": "markdown",
      "source": [
        "Códigos de los diferentes combustibles\n",
        "\n",
        "* 1 $\\rightarrow$ Diésel\n",
        "* 2 $\\rightarrow$ Gasolina\n",
        "* 4 $\\rightarrow$ Híbrido\n",
        "* 5 $\\rightarrow$ Híbrido enchufable\n"
      ],
      "metadata": {
        "id": "DoUQKSIX5biM"
      }
    },
    {
      "cell_type": "code",
      "source": [
        "coches.iloc[416,:].combustible = 4.0\n",
        "coches.iloc[1566,:].combustible = 5.0"
      ],
      "metadata": {
        "id": "OARXMKwS4fJz"
      },
      "execution_count": 24,
      "outputs": []
    },
    {
      "cell_type": "code",
      "source": [
        "coches.iloc[416,4] = 4.0\n",
        "coches.iloc[1566,4] = 5.0"
      ],
      "metadata": {
        "id": "ebhhFLNg7fvh"
      },
      "execution_count": 25,
      "outputs": []
    },
    {
      "cell_type": "code",
      "source": [
        "coches[coches.combustible.isnull()]"
      ],
      "metadata": {
        "colab": {
          "base_uri": "https://localhost:8080/",
          "height": 49
        },
        "id": "IwZNPyY27y3Y",
        "outputId": "8b0e238c-4794-4ac6-afd1-ecbc54661b05"
      },
      "execution_count": 26,
      "outputs": [
        {
          "output_type": "execute_result",
          "data": {
            "text/plain": [
              "Empty DataFrame\n",
              "Columns: [titulo, precio, kilometros, año, combustible, ciudad, garantia, url]\n",
              "Index: []"
            ],
            "text/html": [
              "\n",
              "  <div id=\"df-e40ef76c-24cb-4ea4-b8e1-8dfac6c02021\">\n",
              "    <div class=\"colab-df-container\">\n",
              "      <div>\n",
              "<style scoped>\n",
              "    .dataframe tbody tr th:only-of-type {\n",
              "        vertical-align: middle;\n",
              "    }\n",
              "\n",
              "    .dataframe tbody tr th {\n",
              "        vertical-align: top;\n",
              "    }\n",
              "\n",
              "    .dataframe thead th {\n",
              "        text-align: right;\n",
              "    }\n",
              "</style>\n",
              "<table border=\"1\" class=\"dataframe\">\n",
              "  <thead>\n",
              "    <tr style=\"text-align: right;\">\n",
              "      <th></th>\n",
              "      <th>titulo</th>\n",
              "      <th>precio</th>\n",
              "      <th>kilometros</th>\n",
              "      <th>año</th>\n",
              "      <th>combustible</th>\n",
              "      <th>ciudad</th>\n",
              "      <th>garantia</th>\n",
              "      <th>url</th>\n",
              "    </tr>\n",
              "  </thead>\n",
              "  <tbody>\n",
              "  </tbody>\n",
              "</table>\n",
              "</div>\n",
              "      <button class=\"colab-df-convert\" onclick=\"convertToInteractive('df-e40ef76c-24cb-4ea4-b8e1-8dfac6c02021')\"\n",
              "              title=\"Convert this dataframe to an interactive table.\"\n",
              "              style=\"display:none;\">\n",
              "        \n",
              "  <svg xmlns=\"http://www.w3.org/2000/svg\" height=\"24px\"viewBox=\"0 0 24 24\"\n",
              "       width=\"24px\">\n",
              "    <path d=\"M0 0h24v24H0V0z\" fill=\"none\"/>\n",
              "    <path d=\"M18.56 5.44l.94 2.06.94-2.06 2.06-.94-2.06-.94-.94-2.06-.94 2.06-2.06.94zm-11 1L8.5 8.5l.94-2.06 2.06-.94-2.06-.94L8.5 2.5l-.94 2.06-2.06.94zm10 10l.94 2.06.94-2.06 2.06-.94-2.06-.94-.94-2.06-.94 2.06-2.06.94z\"/><path d=\"M17.41 7.96l-1.37-1.37c-.4-.4-.92-.59-1.43-.59-.52 0-1.04.2-1.43.59L10.3 9.45l-7.72 7.72c-.78.78-.78 2.05 0 2.83L4 21.41c.39.39.9.59 1.41.59.51 0 1.02-.2 1.41-.59l7.78-7.78 2.81-2.81c.8-.78.8-2.07 0-2.86zM5.41 20L4 18.59l7.72-7.72 1.47 1.35L5.41 20z\"/>\n",
              "  </svg>\n",
              "      </button>\n",
              "      \n",
              "  <style>\n",
              "    .colab-df-container {\n",
              "      display:flex;\n",
              "      flex-wrap:wrap;\n",
              "      gap: 12px;\n",
              "    }\n",
              "\n",
              "    .colab-df-convert {\n",
              "      background-color: #E8F0FE;\n",
              "      border: none;\n",
              "      border-radius: 50%;\n",
              "      cursor: pointer;\n",
              "      display: none;\n",
              "      fill: #1967D2;\n",
              "      height: 32px;\n",
              "      padding: 0 0 0 0;\n",
              "      width: 32px;\n",
              "    }\n",
              "\n",
              "    .colab-df-convert:hover {\n",
              "      background-color: #E2EBFA;\n",
              "      box-shadow: 0px 1px 2px rgba(60, 64, 67, 0.3), 0px 1px 3px 1px rgba(60, 64, 67, 0.15);\n",
              "      fill: #174EA6;\n",
              "    }\n",
              "\n",
              "    [theme=dark] .colab-df-convert {\n",
              "      background-color: #3B4455;\n",
              "      fill: #D2E3FC;\n",
              "    }\n",
              "\n",
              "    [theme=dark] .colab-df-convert:hover {\n",
              "      background-color: #434B5C;\n",
              "      box-shadow: 0px 1px 3px 1px rgba(0, 0, 0, 0.15);\n",
              "      filter: drop-shadow(0px 1px 2px rgba(0, 0, 0, 0.3));\n",
              "      fill: #FFFFFF;\n",
              "    }\n",
              "  </style>\n",
              "\n",
              "      <script>\n",
              "        const buttonEl =\n",
              "          document.querySelector('#df-e40ef76c-24cb-4ea4-b8e1-8dfac6c02021 button.colab-df-convert');\n",
              "        buttonEl.style.display =\n",
              "          google.colab.kernel.accessAllowed ? 'block' : 'none';\n",
              "\n",
              "        async function convertToInteractive(key) {\n",
              "          const element = document.querySelector('#df-e40ef76c-24cb-4ea4-b8e1-8dfac6c02021');\n",
              "          const dataTable =\n",
              "            await google.colab.kernel.invokeFunction('convertToInteractive',\n",
              "                                                     [key], {});\n",
              "          if (!dataTable) return;\n",
              "\n",
              "          const docLinkHtml = 'Like what you see? Visit the ' +\n",
              "            '<a target=\"_blank\" href=https://colab.research.google.com/notebooks/data_table.ipynb>data table notebook</a>'\n",
              "            + ' to learn more about interactive tables.';\n",
              "          element.innerHTML = '';\n",
              "          dataTable['output_type'] = 'display_data';\n",
              "          await google.colab.output.renderOutput(dataTable, element);\n",
              "          const docLink = document.createElement('div');\n",
              "          docLink.innerHTML = docLinkHtml;\n",
              "          element.appendChild(docLink);\n",
              "        }\n",
              "      </script>\n",
              "    </div>\n",
              "  </div>\n",
              "  "
            ]
          },
          "metadata": {},
          "execution_count": 26
        }
      ]
    },
    {
      "cell_type": "code",
      "source": [
        "# Ahora cambio el tipo de variable a entero (combustible)\n",
        "coches['combustible'] = coches['combustible'].astype(int)\n",
        "coches.info()"
      ],
      "metadata": {
        "colab": {
          "base_uri": "https://localhost:8080/"
        },
        "id": "_lq0eiGV7_Xh",
        "outputId": "622cd45d-b09b-4053-ae9f-57bd3c979063"
      },
      "execution_count": 27,
      "outputs": [
        {
          "output_type": "stream",
          "name": "stdout",
          "text": [
            "<class 'pandas.core.frame.DataFrame'>\n",
            "RangeIndex: 1927 entries, 0 to 1926\n",
            "Data columns (total 8 columns):\n",
            " #   Column       Non-Null Count  Dtype \n",
            "---  ------       --------------  ----- \n",
            " 0   titulo       1927 non-null   object\n",
            " 1   precio       1927 non-null   int64 \n",
            " 2   kilometros   1927 non-null   int64 \n",
            " 3   año          1927 non-null   int64 \n",
            " 4   combustible  1927 non-null   int64 \n",
            " 5   ciudad       1927 non-null   object\n",
            " 6   garantia     1927 non-null   bool  \n",
            " 7   url          1927 non-null   object\n",
            "dtypes: bool(1), int64(4), object(3)\n",
            "memory usage: 107.4+ KB\n"
          ]
        }
      ]
    },
    {
      "cell_type": "code",
      "source": [
        "coches.head()"
      ],
      "metadata": {
        "colab": {
          "base_uri": "https://localhost:8080/",
          "height": 206
        },
        "id": "Lr319UJ68dSS",
        "outputId": "c5926680-f7ea-49d5-f6df-4be7f53fd2f3"
      },
      "execution_count": 28,
      "outputs": [
        {
          "output_type": "execute_result",
          "data": {
            "text/plain": [
              "                                              titulo  precio  kilometros  \\\n",
              "0                  MERCEDES-BENZ Clase C C 220 d 4p.   16200      281000   \n",
              "1           MERCEDES-BENZ Clase C C 220 d Estate 5p.   26900      114336   \n",
              "2  MERCEDES-BENZ Clase C C 220 d Avantgarde Estat...   11000      287500   \n",
              "3       MERCEDES-BENZ Clase C C 220 d Avantgarde 4p.   22900      110000   \n",
              "4                  MERCEDES-BENZ Clase C C 300 d 4p.   68000       10650   \n",
              "\n",
              "    año  combustible      ciudad  garantia  \\\n",
              "0  2017            1    Baleares     False   \n",
              "1  2017            1     Badajoz      True   \n",
              "2  2015            1  Valladolid     False   \n",
              "3  2015            1    Valencia      True   \n",
              "4  2021            4       Cádiz      True   \n",
              "\n",
              "                                                 url  \n",
              "0  /mercedes-benz-clase-c-c-220-d-4p-diesel-2017-...  \n",
              "1  /mercedes-benz-clase-c-c-220-d-estate-5p-diese...  \n",
              "2  /mercedes-benz-clase-c-c-220-d-avantgarde-esta...  \n",
              "3  /mercedes-benz-clase-c-c-220-d-avantgarde-4p-d...  \n",
              "4  /mercedes-benz-clase-c-c-300-d-4p-electrico-hi...  "
            ],
            "text/html": [
              "\n",
              "  <div id=\"df-3f523805-b24b-453b-8d4d-7f4dc1ba2fdd\">\n",
              "    <div class=\"colab-df-container\">\n",
              "      <div>\n",
              "<style scoped>\n",
              "    .dataframe tbody tr th:only-of-type {\n",
              "        vertical-align: middle;\n",
              "    }\n",
              "\n",
              "    .dataframe tbody tr th {\n",
              "        vertical-align: top;\n",
              "    }\n",
              "\n",
              "    .dataframe thead th {\n",
              "        text-align: right;\n",
              "    }\n",
              "</style>\n",
              "<table border=\"1\" class=\"dataframe\">\n",
              "  <thead>\n",
              "    <tr style=\"text-align: right;\">\n",
              "      <th></th>\n",
              "      <th>titulo</th>\n",
              "      <th>precio</th>\n",
              "      <th>kilometros</th>\n",
              "      <th>año</th>\n",
              "      <th>combustible</th>\n",
              "      <th>ciudad</th>\n",
              "      <th>garantia</th>\n",
              "      <th>url</th>\n",
              "    </tr>\n",
              "  </thead>\n",
              "  <tbody>\n",
              "    <tr>\n",
              "      <th>0</th>\n",
              "      <td>MERCEDES-BENZ Clase C C 220 d 4p.</td>\n",
              "      <td>16200</td>\n",
              "      <td>281000</td>\n",
              "      <td>2017</td>\n",
              "      <td>1</td>\n",
              "      <td>Baleares</td>\n",
              "      <td>False</td>\n",
              "      <td>/mercedes-benz-clase-c-c-220-d-4p-diesel-2017-...</td>\n",
              "    </tr>\n",
              "    <tr>\n",
              "      <th>1</th>\n",
              "      <td>MERCEDES-BENZ Clase C C 220 d Estate 5p.</td>\n",
              "      <td>26900</td>\n",
              "      <td>114336</td>\n",
              "      <td>2017</td>\n",
              "      <td>1</td>\n",
              "      <td>Badajoz</td>\n",
              "      <td>True</td>\n",
              "      <td>/mercedes-benz-clase-c-c-220-d-estate-5p-diese...</td>\n",
              "    </tr>\n",
              "    <tr>\n",
              "      <th>2</th>\n",
              "      <td>MERCEDES-BENZ Clase C C 220 d Avantgarde Estat...</td>\n",
              "      <td>11000</td>\n",
              "      <td>287500</td>\n",
              "      <td>2015</td>\n",
              "      <td>1</td>\n",
              "      <td>Valladolid</td>\n",
              "      <td>False</td>\n",
              "      <td>/mercedes-benz-clase-c-c-220-d-avantgarde-esta...</td>\n",
              "    </tr>\n",
              "    <tr>\n",
              "      <th>3</th>\n",
              "      <td>MERCEDES-BENZ Clase C C 220 d Avantgarde 4p.</td>\n",
              "      <td>22900</td>\n",
              "      <td>110000</td>\n",
              "      <td>2015</td>\n",
              "      <td>1</td>\n",
              "      <td>Valencia</td>\n",
              "      <td>True</td>\n",
              "      <td>/mercedes-benz-clase-c-c-220-d-avantgarde-4p-d...</td>\n",
              "    </tr>\n",
              "    <tr>\n",
              "      <th>4</th>\n",
              "      <td>MERCEDES-BENZ Clase C C 300 d 4p.</td>\n",
              "      <td>68000</td>\n",
              "      <td>10650</td>\n",
              "      <td>2021</td>\n",
              "      <td>4</td>\n",
              "      <td>Cádiz</td>\n",
              "      <td>True</td>\n",
              "      <td>/mercedes-benz-clase-c-c-300-d-4p-electrico-hi...</td>\n",
              "    </tr>\n",
              "  </tbody>\n",
              "</table>\n",
              "</div>\n",
              "      <button class=\"colab-df-convert\" onclick=\"convertToInteractive('df-3f523805-b24b-453b-8d4d-7f4dc1ba2fdd')\"\n",
              "              title=\"Convert this dataframe to an interactive table.\"\n",
              "              style=\"display:none;\">\n",
              "        \n",
              "  <svg xmlns=\"http://www.w3.org/2000/svg\" height=\"24px\"viewBox=\"0 0 24 24\"\n",
              "       width=\"24px\">\n",
              "    <path d=\"M0 0h24v24H0V0z\" fill=\"none\"/>\n",
              "    <path d=\"M18.56 5.44l.94 2.06.94-2.06 2.06-.94-2.06-.94-.94-2.06-.94 2.06-2.06.94zm-11 1L8.5 8.5l.94-2.06 2.06-.94-2.06-.94L8.5 2.5l-.94 2.06-2.06.94zm10 10l.94 2.06.94-2.06 2.06-.94-2.06-.94-.94-2.06-.94 2.06-2.06.94z\"/><path d=\"M17.41 7.96l-1.37-1.37c-.4-.4-.92-.59-1.43-.59-.52 0-1.04.2-1.43.59L10.3 9.45l-7.72 7.72c-.78.78-.78 2.05 0 2.83L4 21.41c.39.39.9.59 1.41.59.51 0 1.02-.2 1.41-.59l7.78-7.78 2.81-2.81c.8-.78.8-2.07 0-2.86zM5.41 20L4 18.59l7.72-7.72 1.47 1.35L5.41 20z\"/>\n",
              "  </svg>\n",
              "      </button>\n",
              "      \n",
              "  <style>\n",
              "    .colab-df-container {\n",
              "      display:flex;\n",
              "      flex-wrap:wrap;\n",
              "      gap: 12px;\n",
              "    }\n",
              "\n",
              "    .colab-df-convert {\n",
              "      background-color: #E8F0FE;\n",
              "      border: none;\n",
              "      border-radius: 50%;\n",
              "      cursor: pointer;\n",
              "      display: none;\n",
              "      fill: #1967D2;\n",
              "      height: 32px;\n",
              "      padding: 0 0 0 0;\n",
              "      width: 32px;\n",
              "    }\n",
              "\n",
              "    .colab-df-convert:hover {\n",
              "      background-color: #E2EBFA;\n",
              "      box-shadow: 0px 1px 2px rgba(60, 64, 67, 0.3), 0px 1px 3px 1px rgba(60, 64, 67, 0.15);\n",
              "      fill: #174EA6;\n",
              "    }\n",
              "\n",
              "    [theme=dark] .colab-df-convert {\n",
              "      background-color: #3B4455;\n",
              "      fill: #D2E3FC;\n",
              "    }\n",
              "\n",
              "    [theme=dark] .colab-df-convert:hover {\n",
              "      background-color: #434B5C;\n",
              "      box-shadow: 0px 1px 3px 1px rgba(0, 0, 0, 0.15);\n",
              "      filter: drop-shadow(0px 1px 2px rgba(0, 0, 0, 0.3));\n",
              "      fill: #FFFFFF;\n",
              "    }\n",
              "  </style>\n",
              "\n",
              "      <script>\n",
              "        const buttonEl =\n",
              "          document.querySelector('#df-3f523805-b24b-453b-8d4d-7f4dc1ba2fdd button.colab-df-convert');\n",
              "        buttonEl.style.display =\n",
              "          google.colab.kernel.accessAllowed ? 'block' : 'none';\n",
              "\n",
              "        async function convertToInteractive(key) {\n",
              "          const element = document.querySelector('#df-3f523805-b24b-453b-8d4d-7f4dc1ba2fdd');\n",
              "          const dataTable =\n",
              "            await google.colab.kernel.invokeFunction('convertToInteractive',\n",
              "                                                     [key], {});\n",
              "          if (!dataTable) return;\n",
              "\n",
              "          const docLinkHtml = 'Like what you see? Visit the ' +\n",
              "            '<a target=\"_blank\" href=https://colab.research.google.com/notebooks/data_table.ipynb>data table notebook</a>'\n",
              "            + ' to learn more about interactive tables.';\n",
              "          element.innerHTML = '';\n",
              "          dataTable['output_type'] = 'display_data';\n",
              "          await google.colab.output.renderOutput(dataTable, element);\n",
              "          const docLink = document.createElement('div');\n",
              "          docLink.innerHTML = docLinkHtml;\n",
              "          element.appendChild(docLink);\n",
              "        }\n",
              "      </script>\n",
              "    </div>\n",
              "  </div>\n",
              "  "
            ]
          },
          "metadata": {},
          "execution_count": 28
        }
      ]
    },
    {
      "cell_type": "markdown",
      "source": [
        "## Transformaciones"
      ],
      "metadata": {
        "id": "cu0F4A9CdFKI"
      }
    },
    {
      "cell_type": "markdown",
      "source": [
        "Transformaciones a realizar:\n",
        "\n",
        "Sacar más información de las columnas \"titulo\" y \"url\"\n",
        "Crear nueva columna con url completa añadiendo la url base de coches.net\n",
        "Crear otra variable con las coordenadas de cada ciudad\n",
        "Crear variable con max-min de kilometros (el escalado se hace con los datos de entrenamiento creo)\n",
        "Crear variable con la antigüedad de cada coche: now-año\n",
        "Crear variable dummy con el combustible\n",
        "\n",
        "Buscar outliers en las variables, boxplot\n",
        "Realizar estudios de distribuciones de las variables\n",
        "Estudio de la correlaciones entre las variables.\n",
        "Estudio de las correlaciones con la variable objetivo \"precio\"\n",
        "Hacer gráfico con mapa con las posiciones de las ciudades donde se venden los coches.\n",
        "Usar métodos de filtrado para regesion, f_regression y mutual_info_regession. F-test score y Mutual information\n",
        "\n",
        "\n"
      ],
      "metadata": {
        "id": "eDDRkErr9Cau"
      }
    },
    {
      "cell_type": "markdown",
      "source": [
        "### TRANSFORMACIONES<br/>\n",
        "\n",
        "\n",
        "\n",
        "* [X] Poner URL completa\n",
        "* [X] Extraer más información de \"titulo\" y \"url\"\n",
        "* [ ] Coordenadas GPS de ciudades\n",
        "* [ ] Escalado de variable kilómetros\n",
        "* [ ] Crear nueva variable con la antigüedad del coches en años. Escalar.\n",
        "* [ ] Variables binarias para combustible\n",
        "* [ ] Categorical type will be better in 'name'column.\n",
        "\n",
        "\n",
        "\n",
        "### EXPLORACIONES\n",
        "\n",
        "* [ ] Box plot de caracterísitcas.\n",
        "* [ ] Análisis por agrupación.\n",
        "* [ ] Estudio de las distintas distribuciones.\n",
        "* [ ] Estudio de correlaciones entre las variables.\n",
        "* [ ] Estudio de correlaciones entre las variables y \"precio\".\n",
        "* [ ] Estudio según localización GPS."
      ],
      "metadata": {
        "id": "LLLeiWdlavYg"
      }
    },
    {
      "cell_type": "markdown",
      "source": [
        "### Poner URL completa"
      ],
      "metadata": {
        "id": "jQ26sUDSdADE"
      }
    },
    {
      "cell_type": "code",
      "source": [
        "# Creamos URL completa\n",
        "from urllib.parse import urljoin\n",
        "\n",
        "url_base = \"https://www.coches.net/\"\n",
        "coches['web'] = [urljoin(url_base, url) for url in coches['url']]"
      ],
      "metadata": {
        "id": "SrFl_oY49AKZ"
      },
      "execution_count": 41,
      "outputs": []
    },
    {
      "cell_type": "code",
      "source": [
        "# Compruebo\n",
        "coches.web[0]"
      ],
      "metadata": {
        "colab": {
          "base_uri": "https://localhost:8080/",
          "height": 35
        },
        "id": "qKaf_wqSZdID",
        "outputId": "2d621194-a784-4af7-b068-28b50227f480"
      },
      "execution_count": 43,
      "outputs": [
        {
          "output_type": "execute_result",
          "data": {
            "text/plain": [
              "'https://www.coches.net/mercedes-benz-clase-c-c-220-d-4p-diesel-2017-en-baleares-51618684-covo.aspx'"
            ],
            "application/vnd.google.colaboratory.intrinsic+json": {
              "type": "string"
            }
          },
          "metadata": {},
          "execution_count": 43
        }
      ]
    },
    {
      "cell_type": "markdown",
      "source": [
        "### Extraer información de \"titulo\" y de \"url\""
      ],
      "metadata": {
        "id": "agPIZ-wXfGZO"
      }
    },
    {
      "cell_type": "code",
      "source": [
        "# Aumento la cantidad de caracteres a mostrar por pantalla\n",
        "pd.options.display.max_colwidth = 200"
      ],
      "metadata": {
        "id": "eqXpcqGCh58Q"
      },
      "execution_count": 55,
      "outputs": []
    },
    {
      "cell_type": "code",
      "source": [
        "print(coches.loc[[0],['titulo']])\n",
        "print(coches.loc[[0],['url']]) ##, 'url']]),"
      ],
      "metadata": {
        "colab": {
          "base_uri": "https://localhost:8080/"
        },
        "id": "rBZ-xbcTXbbn",
        "outputId": "e2b0411b-b02e-49ff-d88e-08a60de7ecd4"
      },
      "execution_count": 56,
      "outputs": [
        {
          "output_type": "stream",
          "name": "stdout",
          "text": [
            "                              titulo\n",
            "0  MERCEDES-BENZ Clase C C 220 d 4p.\n",
            "                                                                            url\n",
            "0  /mercedes-benz-clase-c-c-220-d-4p-diesel-2017-en-baleares-51618684-covo.aspx\n"
          ]
        }
      ]
    },
    {
      "cell_type": "code",
      "source": [
        "coches.sample(5)"
      ],
      "metadata": {
        "colab": {
          "base_uri": "https://localhost:8080/",
          "height": 337
        },
        "id": "nSXEvARFXw9g",
        "outputId": "1a343218-f31c-486e-c225-0e8f9842e607"
      },
      "execution_count": 79,
      "outputs": [
        {
          "output_type": "execute_result",
          "data": {
            "text/plain": [
              "                                                 titulo  precio  kilometros  \\\n",
              "1727  MERCEDES-BENZ Clase C MercedesAMG C 43 4MATIC 4p.   44500       99950   \n",
              "1187           MERCEDES-BENZ Clase C C 300 h Estate 5p.   27990       97000   \n",
              "318            MERCEDES-BENZ Clase C C 220 d 4MATIC 4p.   29900       49500   \n",
              "1515            MERCEDES-BENZ Clase C Coupe C 220 d 2p.   43900       23400   \n",
              "1905         MERCEDES-BENZ Clase C C 220 d AMG Line 4p.   26995       40494   \n",
              "\n",
              "       año  combustible   ciudad  garantia  \\\n",
              "1727  2017            2   Málaga     False   \n",
              "1187  2016            4  Sevilla      True   \n",
              "318   2017            1   Madrid     False   \n",
              "1515  2019            1   Madrid      True   \n",
              "1905  2016            1   Madrid     False   \n",
              "\n",
              "                                                                                                url  \\\n",
              "1727   /mercedes-benz-clase-c-mercedesamg-c-43-4matic-4p-gasolina-2017-en-malaga-51293949-covo.aspx   \n",
              "1187  /mercedes-benz-clase-c-c-300-h-estate-5p-electrico-hibrido-2016-en-sevilla-51632565-covo.aspx   \n",
              "318               /mercedes-benz-clase-c-c-220-d-4matic-4p-diesel-2017-en-madrid-51767434-covo.aspx   \n",
              "1515               /mercedes-benz-clase-c-coupe-c-220-d-2p-diesel-2019-en-madrid-50397184-covo.aspx   \n",
              "1905            /mercedes-benz-clase-c-c-220-d-amg-line-4p-diesel-2016-en-madrid-44516841-covo.aspx   \n",
              "\n",
              "                                                                                                                      web  \\\n",
              "1727   https://www.coches.net/mercedes-benz-clase-c-mercedesamg-c-43-4matic-4p-gasolina-2017-en-malaga-51293949-covo.aspx   \n",
              "1187  https://www.coches.net/mercedes-benz-clase-c-c-300-h-estate-5p-electrico-hibrido-2016-en-sevilla-51632565-covo.aspx   \n",
              "318               https://www.coches.net/mercedes-benz-clase-c-c-220-d-4matic-4p-diesel-2017-en-madrid-51767434-covo.aspx   \n",
              "1515               https://www.coches.net/mercedes-benz-clase-c-coupe-c-220-d-2p-diesel-2019-en-madrid-50397184-covo.aspx   \n",
              "1905            https://www.coches.net/mercedes-benz-clase-c-c-220-d-amg-line-4p-diesel-2016-en-madrid-44516841-covo.aspx   \n",
              "\n",
              "     tipo  \n",
              "1727   43  \n",
              "1187  300  \n",
              "318   220  \n",
              "1515  220  \n",
              "1905  220  "
            ],
            "text/html": [
              "\n",
              "  <div id=\"df-83cc79fb-78d0-4e2f-a09c-24adfa955049\">\n",
              "    <div class=\"colab-df-container\">\n",
              "      <div>\n",
              "<style scoped>\n",
              "    .dataframe tbody tr th:only-of-type {\n",
              "        vertical-align: middle;\n",
              "    }\n",
              "\n",
              "    .dataframe tbody tr th {\n",
              "        vertical-align: top;\n",
              "    }\n",
              "\n",
              "    .dataframe thead th {\n",
              "        text-align: right;\n",
              "    }\n",
              "</style>\n",
              "<table border=\"1\" class=\"dataframe\">\n",
              "  <thead>\n",
              "    <tr style=\"text-align: right;\">\n",
              "      <th></th>\n",
              "      <th>titulo</th>\n",
              "      <th>precio</th>\n",
              "      <th>kilometros</th>\n",
              "      <th>año</th>\n",
              "      <th>combustible</th>\n",
              "      <th>ciudad</th>\n",
              "      <th>garantia</th>\n",
              "      <th>url</th>\n",
              "      <th>web</th>\n",
              "      <th>tipo</th>\n",
              "    </tr>\n",
              "  </thead>\n",
              "  <tbody>\n",
              "    <tr>\n",
              "      <th>1727</th>\n",
              "      <td>MERCEDES-BENZ Clase C MercedesAMG C 43 4MATIC 4p.</td>\n",
              "      <td>44500</td>\n",
              "      <td>99950</td>\n",
              "      <td>2017</td>\n",
              "      <td>2</td>\n",
              "      <td>Málaga</td>\n",
              "      <td>False</td>\n",
              "      <td>/mercedes-benz-clase-c-mercedesamg-c-43-4matic-4p-gasolina-2017-en-malaga-51293949-covo.aspx</td>\n",
              "      <td>https://www.coches.net/mercedes-benz-clase-c-mercedesamg-c-43-4matic-4p-gasolina-2017-en-malaga-51293949-covo.aspx</td>\n",
              "      <td>43</td>\n",
              "    </tr>\n",
              "    <tr>\n",
              "      <th>1187</th>\n",
              "      <td>MERCEDES-BENZ Clase C C 300 h Estate 5p.</td>\n",
              "      <td>27990</td>\n",
              "      <td>97000</td>\n",
              "      <td>2016</td>\n",
              "      <td>4</td>\n",
              "      <td>Sevilla</td>\n",
              "      <td>True</td>\n",
              "      <td>/mercedes-benz-clase-c-c-300-h-estate-5p-electrico-hibrido-2016-en-sevilla-51632565-covo.aspx</td>\n",
              "      <td>https://www.coches.net/mercedes-benz-clase-c-c-300-h-estate-5p-electrico-hibrido-2016-en-sevilla-51632565-covo.aspx</td>\n",
              "      <td>300</td>\n",
              "    </tr>\n",
              "    <tr>\n",
              "      <th>318</th>\n",
              "      <td>MERCEDES-BENZ Clase C C 220 d 4MATIC 4p.</td>\n",
              "      <td>29900</td>\n",
              "      <td>49500</td>\n",
              "      <td>2017</td>\n",
              "      <td>1</td>\n",
              "      <td>Madrid</td>\n",
              "      <td>False</td>\n",
              "      <td>/mercedes-benz-clase-c-c-220-d-4matic-4p-diesel-2017-en-madrid-51767434-covo.aspx</td>\n",
              "      <td>https://www.coches.net/mercedes-benz-clase-c-c-220-d-4matic-4p-diesel-2017-en-madrid-51767434-covo.aspx</td>\n",
              "      <td>220</td>\n",
              "    </tr>\n",
              "    <tr>\n",
              "      <th>1515</th>\n",
              "      <td>MERCEDES-BENZ Clase C Coupe C 220 d 2p.</td>\n",
              "      <td>43900</td>\n",
              "      <td>23400</td>\n",
              "      <td>2019</td>\n",
              "      <td>1</td>\n",
              "      <td>Madrid</td>\n",
              "      <td>True</td>\n",
              "      <td>/mercedes-benz-clase-c-coupe-c-220-d-2p-diesel-2019-en-madrid-50397184-covo.aspx</td>\n",
              "      <td>https://www.coches.net/mercedes-benz-clase-c-coupe-c-220-d-2p-diesel-2019-en-madrid-50397184-covo.aspx</td>\n",
              "      <td>220</td>\n",
              "    </tr>\n",
              "    <tr>\n",
              "      <th>1905</th>\n",
              "      <td>MERCEDES-BENZ Clase C C 220 d AMG Line 4p.</td>\n",
              "      <td>26995</td>\n",
              "      <td>40494</td>\n",
              "      <td>2016</td>\n",
              "      <td>1</td>\n",
              "      <td>Madrid</td>\n",
              "      <td>False</td>\n",
              "      <td>/mercedes-benz-clase-c-c-220-d-amg-line-4p-diesel-2016-en-madrid-44516841-covo.aspx</td>\n",
              "      <td>https://www.coches.net/mercedes-benz-clase-c-c-220-d-amg-line-4p-diesel-2016-en-madrid-44516841-covo.aspx</td>\n",
              "      <td>220</td>\n",
              "    </tr>\n",
              "  </tbody>\n",
              "</table>\n",
              "</div>\n",
              "      <button class=\"colab-df-convert\" onclick=\"convertToInteractive('df-83cc79fb-78d0-4e2f-a09c-24adfa955049')\"\n",
              "              title=\"Convert this dataframe to an interactive table.\"\n",
              "              style=\"display:none;\">\n",
              "        \n",
              "  <svg xmlns=\"http://www.w3.org/2000/svg\" height=\"24px\"viewBox=\"0 0 24 24\"\n",
              "       width=\"24px\">\n",
              "    <path d=\"M0 0h24v24H0V0z\" fill=\"none\"/>\n",
              "    <path d=\"M18.56 5.44l.94 2.06.94-2.06 2.06-.94-2.06-.94-.94-2.06-.94 2.06-2.06.94zm-11 1L8.5 8.5l.94-2.06 2.06-.94-2.06-.94L8.5 2.5l-.94 2.06-2.06.94zm10 10l.94 2.06.94-2.06 2.06-.94-2.06-.94-.94-2.06-.94 2.06-2.06.94z\"/><path d=\"M17.41 7.96l-1.37-1.37c-.4-.4-.92-.59-1.43-.59-.52 0-1.04.2-1.43.59L10.3 9.45l-7.72 7.72c-.78.78-.78 2.05 0 2.83L4 21.41c.39.39.9.59 1.41.59.51 0 1.02-.2 1.41-.59l7.78-7.78 2.81-2.81c.8-.78.8-2.07 0-2.86zM5.41 20L4 18.59l7.72-7.72 1.47 1.35L5.41 20z\"/>\n",
              "  </svg>\n",
              "      </button>\n",
              "      \n",
              "  <style>\n",
              "    .colab-df-container {\n",
              "      display:flex;\n",
              "      flex-wrap:wrap;\n",
              "      gap: 12px;\n",
              "    }\n",
              "\n",
              "    .colab-df-convert {\n",
              "      background-color: #E8F0FE;\n",
              "      border: none;\n",
              "      border-radius: 50%;\n",
              "      cursor: pointer;\n",
              "      display: none;\n",
              "      fill: #1967D2;\n",
              "      height: 32px;\n",
              "      padding: 0 0 0 0;\n",
              "      width: 32px;\n",
              "    }\n",
              "\n",
              "    .colab-df-convert:hover {\n",
              "      background-color: #E2EBFA;\n",
              "      box-shadow: 0px 1px 2px rgba(60, 64, 67, 0.3), 0px 1px 3px 1px rgba(60, 64, 67, 0.15);\n",
              "      fill: #174EA6;\n",
              "    }\n",
              "\n",
              "    [theme=dark] .colab-df-convert {\n",
              "      background-color: #3B4455;\n",
              "      fill: #D2E3FC;\n",
              "    }\n",
              "\n",
              "    [theme=dark] .colab-df-convert:hover {\n",
              "      background-color: #434B5C;\n",
              "      box-shadow: 0px 1px 3px 1px rgba(0, 0, 0, 0.15);\n",
              "      filter: drop-shadow(0px 1px 2px rgba(0, 0, 0, 0.3));\n",
              "      fill: #FFFFFF;\n",
              "    }\n",
              "  </style>\n",
              "\n",
              "      <script>\n",
              "        const buttonEl =\n",
              "          document.querySelector('#df-83cc79fb-78d0-4e2f-a09c-24adfa955049 button.colab-df-convert');\n",
              "        buttonEl.style.display =\n",
              "          google.colab.kernel.accessAllowed ? 'block' : 'none';\n",
              "\n",
              "        async function convertToInteractive(key) {\n",
              "          const element = document.querySelector('#df-83cc79fb-78d0-4e2f-a09c-24adfa955049');\n",
              "          const dataTable =\n",
              "            await google.colab.kernel.invokeFunction('convertToInteractive',\n",
              "                                                     [key], {});\n",
              "          if (!dataTable) return;\n",
              "\n",
              "          const docLinkHtml = 'Like what you see? Visit the ' +\n",
              "            '<a target=\"_blank\" href=https://colab.research.google.com/notebooks/data_table.ipynb>data table notebook</a>'\n",
              "            + ' to learn more about interactive tables.';\n",
              "          element.innerHTML = '';\n",
              "          dataTable['output_type'] = 'display_data';\n",
              "          await google.colab.output.renderOutput(dataTable, element);\n",
              "          const docLink = document.createElement('div');\n",
              "          docLink.innerHTML = docLinkHtml;\n",
              "          element.appendChild(docLink);\n",
              "        }\n",
              "      </script>\n",
              "    </div>\n",
              "  </div>\n",
              "  "
            ]
          },
          "metadata": {},
          "execution_count": 79
        }
      ]
    },
    {
      "cell_type": "code",
      "source": [
        "import regex as re"
      ],
      "metadata": {
        "id": "WGfJqgoLh2-4"
      },
      "execution_count": 59,
      "outputs": []
    },
    {
      "cell_type": "markdown",
      "source": [
        "Crear nueva variable \"tipo\", con tipo de modelo clase C que es el coche. En caso no obtener esa información, identificar con la palabra \"NoInfo\""
      ],
      "metadata": {
        "id": "y0YsGAF4pxwp"
      }
    },
    {
      "cell_type": "code",
      "source": [
        "coches['tipo'] = coches['url'].str.extract('-(\\d{2,3})-').fillna('NoInfo')"
      ],
      "metadata": {
        "id": "a5VssjsSm_7y"
      },
      "execution_count": 74,
      "outputs": []
    },
    {
      "cell_type": "code",
      "source": [
        "coches.tipo.sample(10)"
      ],
      "metadata": {
        "colab": {
          "base_uri": "https://localhost:8080/"
        },
        "id": "mTHQ0jfNoa8w",
        "outputId": "04090db6-f3d3-4552-8e14-65fb1469a8e0"
      },
      "execution_count": 76,
      "outputs": [
        {
          "output_type": "execute_result",
          "data": {
            "text/plain": [
              "1803    220\n",
              "746     220\n",
              "1858    220\n",
              "386     220\n",
              "915     220\n",
              "1483    200\n",
              "346     220\n",
              "154     200\n",
              "674     200\n",
              "1211    220\n",
              "Name: tipo, dtype: object"
            ]
          },
          "metadata": {},
          "execution_count": 76
        }
      ]
    },
    {
      "cell_type": "code",
      "source": [
        "coches.value_counts('tipo')"
      ],
      "metadata": {
        "colab": {
          "base_uri": "https://localhost:8080/"
        },
        "id": "jqkRCBGHjCaH",
        "outputId": "2e8524a0-f2ba-4201-e54d-8a9ac78c69cc"
      },
      "execution_count": 78,
      "outputs": [
        {
          "output_type": "execute_result",
          "data": {
            "text/plain": [
              "tipo\n",
              "220       1092\n",
              "200        279\n",
              "NoInfo     132\n",
              "250        111\n",
              "63          76\n",
              "300         71\n",
              "43          69\n",
              "180         56\n",
              "350         33\n",
              "450          4\n",
              "400          3\n",
              "45           1\n",
              "dtype: int64"
            ]
          },
          "metadata": {},
          "execution_count": 78
        }
      ]
    },
    {
      "cell_type": "markdown",
      "source": [
        "Crear nueva variable booleana, indicango si el vehículo tiene el acabado AMG True o no False"
      ],
      "metadata": {
        "id": "dy36o9d_qFLU"
      }
    },
    {
      "cell_type": "code",
      "source": [
        "coches['AMG'] = False\n",
        "coches.loc[coches.url.str.contains('amg', case=True),'AMG'] = True"
      ],
      "metadata": {
        "id": "-CVKoS5wpKuV"
      },
      "execution_count": 83,
      "outputs": []
    },
    {
      "cell_type": "code",
      "source": [
        "coches.value_counts('AMG')"
      ],
      "metadata": {
        "colab": {
          "base_uri": "https://localhost:8080/"
        },
        "id": "PXh4KKz-pmD2",
        "outputId": "c9715609-fb1a-46f9-ca34-6abea338fa3b"
      },
      "execution_count": 86,
      "outputs": [
        {
          "output_type": "execute_result",
          "data": {
            "text/plain": [
              "AMG\n",
              "False    1521\n",
              "True      406\n",
              "dtype: int64"
            ]
          },
          "metadata": {},
          "execution_count": 86
        }
      ]
    },
    {
      "cell_type": "markdown",
      "source": [
        "### Coordenadas GPS de ciudades"
      ],
      "metadata": {
        "id": "1Msdmtr9sHVi"
      }
    },
    {
      "cell_type": "code",
      "source": [
        "from geopy.geocoders import Nominatim"
      ],
      "metadata": {
        "id": "t7woFS0ysi8F"
      },
      "execution_count": 88,
      "outputs": []
    },
    {
      "cell_type": "code",
      "source": [
        "## https://www.tutorialspoint.com/how-to-get-the-longitude-and-latitude-of-a-city-using-python#:~:text=Use%20the%20geolocator.,state%2C%20and%20country%20using%20address."
      ],
      "metadata": {
        "id": "ICwuPPMbs1mW"
      },
      "execution_count": 89,
      "outputs": []
    },
    {
      "cell_type": "code",
      "source": [
        ""
      ],
      "metadata": {
        "id": "Nn__Yiwis9Nd"
      },
      "execution_count": null,
      "outputs": []
    }
  ]
}