{
  "nbformat": 4,
  "nbformat_minor": 0,
  "metadata": {
    "colab": {
      "name": "EDA_coches.ipynb",
      "provenance": [],
      "collapsed_sections": [],
      "authorship_tag": "ABX9TyPjDbd+e7DV/rmua4z6+55r",
      "include_colab_link": true
    },
    "kernelspec": {
      "name": "python3",
      "display_name": "Python 3"
    },
    "language_info": {
      "name": "python"
    }
  },
  "cells": [
    {
      "cell_type": "markdown",
      "metadata": {
        "id": "view-in-github",
        "colab_type": "text"
      },
      "source": [
        "<a href=\"https://colab.research.google.com/github/JAlonMor/Webscraping/blob/main/EDA_coches.ipynb\" target=\"_parent\"><img src=\"https://colab.research.google.com/assets/colab-badge.svg\" alt=\"Open In Colab\"/></a>"
      ]
    },
    {
      "cell_type": "code",
      "execution_count": 236,
      "metadata": {
        "colab": {
          "base_uri": "https://localhost:8080/"
        },
        "id": "UQIncPczwaYz",
        "outputId": "d2354cbe-6640-45e3-8d31-da59f2670d83"
      },
      "outputs": [
        {
          "output_type": "stream",
          "name": "stdout",
          "text": [
            "Cloning into 'Webscraping'...\n",
            "remote: Enumerating objects: 59, done.\u001b[K\n",
            "remote: Counting objects: 100% (59/59), done.\u001b[K\n",
            "remote: Compressing objects: 100% (54/54), done.\u001b[K\n",
            "remote: Total 59 (delta 26), reused 0 (delta 0), pack-reused 0\u001b[K\n",
            "Unpacking objects: 100% (59/59), done.\n"
          ]
        }
      ],
      "source": [
        "# Clonar repositorio de GitHub si no está disponible\n",
        "\n",
        "import os\n",
        "curr_dir = os.getcwd()\n",
        "\n",
        "if not os.path.exists(os.path.join(curr_dir, '../.ROOT_DIR')):\n",
        "  !git clone https://github.com/JAlonMor/Webscraping.git\n",
        "  os.chdir(os.path.join(curr_dir, 'Webscraping/EDA'))\n",
        "\n"
      ]
    },
    {
      "cell_type": "code",
      "source": [
        "import numpy as np\n",
        "import pandas as pd\n",
        "import seaborn as sns\n",
        "import matplotlib.pyplot as plt\n",
        "%matplotlib inline\n",
        "\n",
        "import warnings\n",
        "warnings.filterwarnings('ignore')\n",
        "\n",
        "# Amplio límtes de visualización\n",
        "pd.options.display.max_rows = 200\n",
        "pd.options.display.max_colwidth = 200\n",
        "pd.options.display.max_columns = 200"
      ],
      "metadata": {
        "id": "kGnNylHFx0H4"
      },
      "execution_count": 237,
      "outputs": []
    },
    {
      "cell_type": "code",
      "source": [
        "# Creo DataFrame a partir de los datos obtenidos mediante web scraping\n",
        "\n",
        "coches = pd.read_csv(\"/content/Webscraping/EDA/coches_net.csv\")"
      ],
      "metadata": {
        "id": "o1h8QfX7ylrA"
      },
      "execution_count": 238,
      "outputs": []
    },
    {
      "cell_type": "code",
      "source": [
        "coches.head()"
      ],
      "metadata": {
        "colab": {
          "base_uri": "https://localhost:8080/",
          "height": 206
        },
        "id": "DH7NOWXRy_Q-",
        "outputId": "a13a713c-c1f7-4005-e522-6e73aa0135cd"
      },
      "execution_count": 239,
      "outputs": [
        {
          "output_type": "execute_result",
          "data": {
            "text/plain": [
              "                                                titulo  precio  kilometros  \\\n",
              "0                    MERCEDES-BENZ Clase C C 220 d 4p.   16200      281000   \n",
              "1             MERCEDES-BENZ Clase C C 220 d Estate 5p.   26900      114336   \n",
              "2  MERCEDES-BENZ Clase C C 220 d Avantgarde Estate 5p.   11000      287500   \n",
              "3         MERCEDES-BENZ Clase C C 220 d Avantgarde 4p.   22900      110000   \n",
              "4                    MERCEDES-BENZ Clase C C 300 d 4p.   68000       10650   \n",
              "\n",
              "    año  combustible      ciudad  garantia  \\\n",
              "0  2017          1.0    Baleares     False   \n",
              "1  2017          1.0     Badajoz      True   \n",
              "2  2015          1.0  Valladolid     False   \n",
              "3  2015          1.0    Valencia      True   \n",
              "4  2021          4.0       Cádiz      True   \n",
              "\n",
              "                                                                                                url  \n",
              "0                      /mercedes-benz-clase-c-c-220-d-4p-diesel-2017-en-baleares-51618684-covo.aspx  \n",
              "1                /mercedes-benz-clase-c-c-220-d-estate-5p-diesel-2017-en-badajoz-50946817-covo.aspx  \n",
              "2  /mercedes-benz-clase-c-c-220-d-avantgarde-estate-5p-diesel-2015-en-valladolid-51386008-covo.aspx  \n",
              "3           /mercedes-benz-clase-c-c-220-d-avantgarde-4p-diesel-2015-en-valencia-51457158-covo.aspx  \n",
              "4              /mercedes-benz-clase-c-c-300-d-4p-electrico-hibrido-2021-en-cadiz-51662564-covo.aspx  "
            ],
            "text/html": [
              "\n",
              "  <div id=\"df-1be2e930-8a25-469b-9af7-0cae3484a800\">\n",
              "    <div class=\"colab-df-container\">\n",
              "      <div>\n",
              "<style scoped>\n",
              "    .dataframe tbody tr th:only-of-type {\n",
              "        vertical-align: middle;\n",
              "    }\n",
              "\n",
              "    .dataframe tbody tr th {\n",
              "        vertical-align: top;\n",
              "    }\n",
              "\n",
              "    .dataframe thead th {\n",
              "        text-align: right;\n",
              "    }\n",
              "</style>\n",
              "<table border=\"1\" class=\"dataframe\">\n",
              "  <thead>\n",
              "    <tr style=\"text-align: right;\">\n",
              "      <th></th>\n",
              "      <th>titulo</th>\n",
              "      <th>precio</th>\n",
              "      <th>kilometros</th>\n",
              "      <th>año</th>\n",
              "      <th>combustible</th>\n",
              "      <th>ciudad</th>\n",
              "      <th>garantia</th>\n",
              "      <th>url</th>\n",
              "    </tr>\n",
              "  </thead>\n",
              "  <tbody>\n",
              "    <tr>\n",
              "      <th>0</th>\n",
              "      <td>MERCEDES-BENZ Clase C C 220 d 4p.</td>\n",
              "      <td>16200</td>\n",
              "      <td>281000</td>\n",
              "      <td>2017</td>\n",
              "      <td>1.0</td>\n",
              "      <td>Baleares</td>\n",
              "      <td>False</td>\n",
              "      <td>/mercedes-benz-clase-c-c-220-d-4p-diesel-2017-en-baleares-51618684-covo.aspx</td>\n",
              "    </tr>\n",
              "    <tr>\n",
              "      <th>1</th>\n",
              "      <td>MERCEDES-BENZ Clase C C 220 d Estate 5p.</td>\n",
              "      <td>26900</td>\n",
              "      <td>114336</td>\n",
              "      <td>2017</td>\n",
              "      <td>1.0</td>\n",
              "      <td>Badajoz</td>\n",
              "      <td>True</td>\n",
              "      <td>/mercedes-benz-clase-c-c-220-d-estate-5p-diesel-2017-en-badajoz-50946817-covo.aspx</td>\n",
              "    </tr>\n",
              "    <tr>\n",
              "      <th>2</th>\n",
              "      <td>MERCEDES-BENZ Clase C C 220 d Avantgarde Estate 5p.</td>\n",
              "      <td>11000</td>\n",
              "      <td>287500</td>\n",
              "      <td>2015</td>\n",
              "      <td>1.0</td>\n",
              "      <td>Valladolid</td>\n",
              "      <td>False</td>\n",
              "      <td>/mercedes-benz-clase-c-c-220-d-avantgarde-estate-5p-diesel-2015-en-valladolid-51386008-covo.aspx</td>\n",
              "    </tr>\n",
              "    <tr>\n",
              "      <th>3</th>\n",
              "      <td>MERCEDES-BENZ Clase C C 220 d Avantgarde 4p.</td>\n",
              "      <td>22900</td>\n",
              "      <td>110000</td>\n",
              "      <td>2015</td>\n",
              "      <td>1.0</td>\n",
              "      <td>Valencia</td>\n",
              "      <td>True</td>\n",
              "      <td>/mercedes-benz-clase-c-c-220-d-avantgarde-4p-diesel-2015-en-valencia-51457158-covo.aspx</td>\n",
              "    </tr>\n",
              "    <tr>\n",
              "      <th>4</th>\n",
              "      <td>MERCEDES-BENZ Clase C C 300 d 4p.</td>\n",
              "      <td>68000</td>\n",
              "      <td>10650</td>\n",
              "      <td>2021</td>\n",
              "      <td>4.0</td>\n",
              "      <td>Cádiz</td>\n",
              "      <td>True</td>\n",
              "      <td>/mercedes-benz-clase-c-c-300-d-4p-electrico-hibrido-2021-en-cadiz-51662564-covo.aspx</td>\n",
              "    </tr>\n",
              "  </tbody>\n",
              "</table>\n",
              "</div>\n",
              "      <button class=\"colab-df-convert\" onclick=\"convertToInteractive('df-1be2e930-8a25-469b-9af7-0cae3484a800')\"\n",
              "              title=\"Convert this dataframe to an interactive table.\"\n",
              "              style=\"display:none;\">\n",
              "        \n",
              "  <svg xmlns=\"http://www.w3.org/2000/svg\" height=\"24px\"viewBox=\"0 0 24 24\"\n",
              "       width=\"24px\">\n",
              "    <path d=\"M0 0h24v24H0V0z\" fill=\"none\"/>\n",
              "    <path d=\"M18.56 5.44l.94 2.06.94-2.06 2.06-.94-2.06-.94-.94-2.06-.94 2.06-2.06.94zm-11 1L8.5 8.5l.94-2.06 2.06-.94-2.06-.94L8.5 2.5l-.94 2.06-2.06.94zm10 10l.94 2.06.94-2.06 2.06-.94-2.06-.94-.94-2.06-.94 2.06-2.06.94z\"/><path d=\"M17.41 7.96l-1.37-1.37c-.4-.4-.92-.59-1.43-.59-.52 0-1.04.2-1.43.59L10.3 9.45l-7.72 7.72c-.78.78-.78 2.05 0 2.83L4 21.41c.39.39.9.59 1.41.59.51 0 1.02-.2 1.41-.59l7.78-7.78 2.81-2.81c.8-.78.8-2.07 0-2.86zM5.41 20L4 18.59l7.72-7.72 1.47 1.35L5.41 20z\"/>\n",
              "  </svg>\n",
              "      </button>\n",
              "      \n",
              "  <style>\n",
              "    .colab-df-container {\n",
              "      display:flex;\n",
              "      flex-wrap:wrap;\n",
              "      gap: 12px;\n",
              "    }\n",
              "\n",
              "    .colab-df-convert {\n",
              "      background-color: #E8F0FE;\n",
              "      border: none;\n",
              "      border-radius: 50%;\n",
              "      cursor: pointer;\n",
              "      display: none;\n",
              "      fill: #1967D2;\n",
              "      height: 32px;\n",
              "      padding: 0 0 0 0;\n",
              "      width: 32px;\n",
              "    }\n",
              "\n",
              "    .colab-df-convert:hover {\n",
              "      background-color: #E2EBFA;\n",
              "      box-shadow: 0px 1px 2px rgba(60, 64, 67, 0.3), 0px 1px 3px 1px rgba(60, 64, 67, 0.15);\n",
              "      fill: #174EA6;\n",
              "    }\n",
              "\n",
              "    [theme=dark] .colab-df-convert {\n",
              "      background-color: #3B4455;\n",
              "      fill: #D2E3FC;\n",
              "    }\n",
              "\n",
              "    [theme=dark] .colab-df-convert:hover {\n",
              "      background-color: #434B5C;\n",
              "      box-shadow: 0px 1px 3px 1px rgba(0, 0, 0, 0.15);\n",
              "      filter: drop-shadow(0px 1px 2px rgba(0, 0, 0, 0.3));\n",
              "      fill: #FFFFFF;\n",
              "    }\n",
              "  </style>\n",
              "\n",
              "      <script>\n",
              "        const buttonEl =\n",
              "          document.querySelector('#df-1be2e930-8a25-469b-9af7-0cae3484a800 button.colab-df-convert');\n",
              "        buttonEl.style.display =\n",
              "          google.colab.kernel.accessAllowed ? 'block' : 'none';\n",
              "\n",
              "        async function convertToInteractive(key) {\n",
              "          const element = document.querySelector('#df-1be2e930-8a25-469b-9af7-0cae3484a800');\n",
              "          const dataTable =\n",
              "            await google.colab.kernel.invokeFunction('convertToInteractive',\n",
              "                                                     [key], {});\n",
              "          if (!dataTable) return;\n",
              "\n",
              "          const docLinkHtml = 'Like what you see? Visit the ' +\n",
              "            '<a target=\"_blank\" href=https://colab.research.google.com/notebooks/data_table.ipynb>data table notebook</a>'\n",
              "            + ' to learn more about interactive tables.';\n",
              "          element.innerHTML = '';\n",
              "          dataTable['output_type'] = 'display_data';\n",
              "          await google.colab.output.renderOutput(dataTable, element);\n",
              "          const docLink = document.createElement('div');\n",
              "          docLink.innerHTML = docLinkHtml;\n",
              "          element.appendChild(docLink);\n",
              "        }\n",
              "      </script>\n",
              "    </div>\n",
              "  </div>\n",
              "  "
            ]
          },
          "metadata": {},
          "execution_count": 239
        }
      ]
    },
    {
      "cell_type": "code",
      "source": [
        "coches.info()"
      ],
      "metadata": {
        "colab": {
          "base_uri": "https://localhost:8080/"
        },
        "id": "uYDAvkh0zzpX",
        "outputId": "83737861-4174-470d-bb69-1a09eb39c93c"
      },
      "execution_count": 240,
      "outputs": [
        {
          "output_type": "stream",
          "name": "stdout",
          "text": [
            "<class 'pandas.core.frame.DataFrame'>\n",
            "RangeIndex: 1927 entries, 0 to 1926\n",
            "Data columns (total 8 columns):\n",
            " #   Column       Non-Null Count  Dtype  \n",
            "---  ------       --------------  -----  \n",
            " 0   titulo       1927 non-null   object \n",
            " 1   precio       1927 non-null   int64  \n",
            " 2   kilometros   1927 non-null   int64  \n",
            " 3   año          1927 non-null   int64  \n",
            " 4   combustible  1925 non-null   float64\n",
            " 5   ciudad       1927 non-null   object \n",
            " 6   garantia     1927 non-null   bool   \n",
            " 7   url          1927 non-null   object \n",
            "dtypes: bool(1), float64(1), int64(3), object(3)\n",
            "memory usage: 107.4+ KB\n"
          ]
        }
      ]
    },
    {
      "cell_type": "markdown",
      "source": [
        "## Limpieza"
      ],
      "metadata": {
        "id": "xuescEbedSDW"
      }
    },
    {
      "cell_type": "code",
      "source": [
        "# Tenemos dos valores nulos en la variable combustible\n",
        "\n",
        "coches[coches.combustible.isnull()]"
      ],
      "metadata": {
        "colab": {
          "base_uri": "https://localhost:8080/",
          "height": 112
        },
        "id": "2uWC1lSJz3Ck",
        "outputId": "d58b0c7a-4e1f-4ac6-bed2-768375f11888"
      },
      "execution_count": 241,
      "outputs": [
        {
          "output_type": "execute_result",
          "data": {
            "text/plain": [
              "                          titulo  precio  kilometros   año  combustible  \\\n",
              "416   MERCEDES-BENZ Clase C  5p.   28500      150000  2015          NaN   \n",
              "1566               MERCEDES-BENZ   33300       34400  2017          NaN   \n",
              "\n",
              "         ciudad  garantia  \\\n",
              "416   Guipúzcoa     False   \n",
              "1566     Murcia     False   \n",
              "\n",
              "                                                                        url  \n",
              "416   /mercedes-benz-clase-c--5p-otros-2015-en-guipuzcoa-51760617-covo.aspx  \n",
              "1566     /mercedes-benz-clase-c--5p-otros-2017-en-murcia-51484724-covo.aspx  "
            ],
            "text/html": [
              "\n",
              "  <div id=\"df-6f2d8042-5a7b-4e86-84a9-eb27e35192bb\">\n",
              "    <div class=\"colab-df-container\">\n",
              "      <div>\n",
              "<style scoped>\n",
              "    .dataframe tbody tr th:only-of-type {\n",
              "        vertical-align: middle;\n",
              "    }\n",
              "\n",
              "    .dataframe tbody tr th {\n",
              "        vertical-align: top;\n",
              "    }\n",
              "\n",
              "    .dataframe thead th {\n",
              "        text-align: right;\n",
              "    }\n",
              "</style>\n",
              "<table border=\"1\" class=\"dataframe\">\n",
              "  <thead>\n",
              "    <tr style=\"text-align: right;\">\n",
              "      <th></th>\n",
              "      <th>titulo</th>\n",
              "      <th>precio</th>\n",
              "      <th>kilometros</th>\n",
              "      <th>año</th>\n",
              "      <th>combustible</th>\n",
              "      <th>ciudad</th>\n",
              "      <th>garantia</th>\n",
              "      <th>url</th>\n",
              "    </tr>\n",
              "  </thead>\n",
              "  <tbody>\n",
              "    <tr>\n",
              "      <th>416</th>\n",
              "      <td>MERCEDES-BENZ Clase C  5p.</td>\n",
              "      <td>28500</td>\n",
              "      <td>150000</td>\n",
              "      <td>2015</td>\n",
              "      <td>NaN</td>\n",
              "      <td>Guipúzcoa</td>\n",
              "      <td>False</td>\n",
              "      <td>/mercedes-benz-clase-c--5p-otros-2015-en-guipuzcoa-51760617-covo.aspx</td>\n",
              "    </tr>\n",
              "    <tr>\n",
              "      <th>1566</th>\n",
              "      <td>MERCEDES-BENZ</td>\n",
              "      <td>33300</td>\n",
              "      <td>34400</td>\n",
              "      <td>2017</td>\n",
              "      <td>NaN</td>\n",
              "      <td>Murcia</td>\n",
              "      <td>False</td>\n",
              "      <td>/mercedes-benz-clase-c--5p-otros-2017-en-murcia-51484724-covo.aspx</td>\n",
              "    </tr>\n",
              "  </tbody>\n",
              "</table>\n",
              "</div>\n",
              "      <button class=\"colab-df-convert\" onclick=\"convertToInteractive('df-6f2d8042-5a7b-4e86-84a9-eb27e35192bb')\"\n",
              "              title=\"Convert this dataframe to an interactive table.\"\n",
              "              style=\"display:none;\">\n",
              "        \n",
              "  <svg xmlns=\"http://www.w3.org/2000/svg\" height=\"24px\"viewBox=\"0 0 24 24\"\n",
              "       width=\"24px\">\n",
              "    <path d=\"M0 0h24v24H0V0z\" fill=\"none\"/>\n",
              "    <path d=\"M18.56 5.44l.94 2.06.94-2.06 2.06-.94-2.06-.94-.94-2.06-.94 2.06-2.06.94zm-11 1L8.5 8.5l.94-2.06 2.06-.94-2.06-.94L8.5 2.5l-.94 2.06-2.06.94zm10 10l.94 2.06.94-2.06 2.06-.94-2.06-.94-.94-2.06-.94 2.06-2.06.94z\"/><path d=\"M17.41 7.96l-1.37-1.37c-.4-.4-.92-.59-1.43-.59-.52 0-1.04.2-1.43.59L10.3 9.45l-7.72 7.72c-.78.78-.78 2.05 0 2.83L4 21.41c.39.39.9.59 1.41.59.51 0 1.02-.2 1.41-.59l7.78-7.78 2.81-2.81c.8-.78.8-2.07 0-2.86zM5.41 20L4 18.59l7.72-7.72 1.47 1.35L5.41 20z\"/>\n",
              "  </svg>\n",
              "      </button>\n",
              "      \n",
              "  <style>\n",
              "    .colab-df-container {\n",
              "      display:flex;\n",
              "      flex-wrap:wrap;\n",
              "      gap: 12px;\n",
              "    }\n",
              "\n",
              "    .colab-df-convert {\n",
              "      background-color: #E8F0FE;\n",
              "      border: none;\n",
              "      border-radius: 50%;\n",
              "      cursor: pointer;\n",
              "      display: none;\n",
              "      fill: #1967D2;\n",
              "      height: 32px;\n",
              "      padding: 0 0 0 0;\n",
              "      width: 32px;\n",
              "    }\n",
              "\n",
              "    .colab-df-convert:hover {\n",
              "      background-color: #E2EBFA;\n",
              "      box-shadow: 0px 1px 2px rgba(60, 64, 67, 0.3), 0px 1px 3px 1px rgba(60, 64, 67, 0.15);\n",
              "      fill: #174EA6;\n",
              "    }\n",
              "\n",
              "    [theme=dark] .colab-df-convert {\n",
              "      background-color: #3B4455;\n",
              "      fill: #D2E3FC;\n",
              "    }\n",
              "\n",
              "    [theme=dark] .colab-df-convert:hover {\n",
              "      background-color: #434B5C;\n",
              "      box-shadow: 0px 1px 3px 1px rgba(0, 0, 0, 0.15);\n",
              "      filter: drop-shadow(0px 1px 2px rgba(0, 0, 0, 0.3));\n",
              "      fill: #FFFFFF;\n",
              "    }\n",
              "  </style>\n",
              "\n",
              "      <script>\n",
              "        const buttonEl =\n",
              "          document.querySelector('#df-6f2d8042-5a7b-4e86-84a9-eb27e35192bb button.colab-df-convert');\n",
              "        buttonEl.style.display =\n",
              "          google.colab.kernel.accessAllowed ? 'block' : 'none';\n",
              "\n",
              "        async function convertToInteractive(key) {\n",
              "          const element = document.querySelector('#df-6f2d8042-5a7b-4e86-84a9-eb27e35192bb');\n",
              "          const dataTable =\n",
              "            await google.colab.kernel.invokeFunction('convertToInteractive',\n",
              "                                                     [key], {});\n",
              "          if (!dataTable) return;\n",
              "\n",
              "          const docLinkHtml = 'Like what you see? Visit the ' +\n",
              "            '<a target=\"_blank\" href=https://colab.research.google.com/notebooks/data_table.ipynb>data table notebook</a>'\n",
              "            + ' to learn more about interactive tables.';\n",
              "          element.innerHTML = '';\n",
              "          dataTable['output_type'] = 'display_data';\n",
              "          await google.colab.output.renderOutput(dataTable, element);\n",
              "          const docLink = document.createElement('div');\n",
              "          docLink.innerHTML = docLinkHtml;\n",
              "          element.appendChild(docLink);\n",
              "        }\n",
              "      </script>\n",
              "    </div>\n",
              "  </div>\n",
              "  "
            ]
          },
          "metadata": {},
          "execution_count": 241
        }
      ]
    },
    {
      "cell_type": "code",
      "source": [
        "# Al ser solo dos observaciones, trataré de solucionarlo manualmente. Veamos las URL\n",
        "\n",
        "coches.iloc[416,:].url"
      ],
      "metadata": {
        "colab": {
          "base_uri": "https://localhost:8080/",
          "height": 35
        },
        "id": "FjBGpjxu0QIP",
        "outputId": "0474ec36-a2b2-46f9-ac79-277264a938de"
      },
      "execution_count": 242,
      "outputs": [
        {
          "output_type": "execute_result",
          "data": {
            "text/plain": [
              "'/mercedes-benz-clase-c--5p-otros-2015-en-guipuzcoa-51760617-covo.aspx'"
            ],
            "application/vnd.google.colaboratory.intrinsic+json": {
              "type": "string"
            }
          },
          "metadata": {},
          "execution_count": 242
        }
      ]
    },
    {
      "cell_type": "markdown",
      "source": [
        "Es un híbrido diésel (4)"
      ],
      "metadata": {
        "id": "EZvjKoWP2TRv"
      }
    },
    {
      "cell_type": "code",
      "source": [
        "coches.iloc[1566,:].url"
      ],
      "metadata": {
        "colab": {
          "base_uri": "https://localhost:8080/",
          "height": 35
        },
        "id": "7JFs-o1o1KjE",
        "outputId": "aee26fe7-00b8-4bc9-dc3c-e61dd001951f"
      },
      "execution_count": 243,
      "outputs": [
        {
          "output_type": "execute_result",
          "data": {
            "text/plain": [
              "'/mercedes-benz-clase-c--5p-otros-2017-en-murcia-51484724-covo.aspx'"
            ],
            "application/vnd.google.colaboratory.intrinsic+json": {
              "type": "string"
            }
          },
          "metadata": {},
          "execution_count": 243
        }
      ]
    },
    {
      "cell_type": "markdown",
      "source": [
        "Es un híbrido enchufable (gasolina) (5)"
      ],
      "metadata": {
        "id": "EEYOuMP_3I08"
      }
    },
    {
      "cell_type": "code",
      "source": [
        "coches.combustible.unique()"
      ],
      "metadata": {
        "colab": {
          "base_uri": "https://localhost:8080/"
        },
        "id": "nRfmyFa72cw7",
        "outputId": "68c41ca4-6105-438c-c71f-2716592a2e42"
      },
      "execution_count": 244,
      "outputs": [
        {
          "output_type": "execute_result",
          "data": {
            "text/plain": [
              "array([ 1.,  4.,  2.,  5., nan])"
            ]
          },
          "metadata": {},
          "execution_count": 244
        }
      ]
    },
    {
      "cell_type": "markdown",
      "source": [
        "Códigos de los diferentes combustibles\n",
        "\n",
        "* 1 $\\rightarrow$ Diésel\n",
        "* 2 $\\rightarrow$ Gasolina\n",
        "* 4 $\\rightarrow$ Híbrido\n",
        "* 5 $\\rightarrow$ Híbrido enchufable\n"
      ],
      "metadata": {
        "id": "DoUQKSIX5biM"
      }
    },
    {
      "cell_type": "code",
      "source": [
        "coches.iloc[416,:].combustible = 4.0\n",
        "coches.iloc[1566,:].combustible = 5.0"
      ],
      "metadata": {
        "id": "OARXMKwS4fJz"
      },
      "execution_count": 245,
      "outputs": []
    },
    {
      "cell_type": "code",
      "source": [
        "coches.iloc[416,4] = 4.0\n",
        "coches.iloc[1566,4] = 5.0"
      ],
      "metadata": {
        "id": "ebhhFLNg7fvh"
      },
      "execution_count": 246,
      "outputs": []
    },
    {
      "cell_type": "code",
      "source": [
        "coches[coches.combustible.isnull()]"
      ],
      "metadata": {
        "colab": {
          "base_uri": "https://localhost:8080/",
          "height": 49
        },
        "id": "IwZNPyY27y3Y",
        "outputId": "5e200355-40bc-4dc2-edff-d75f75b4371f"
      },
      "execution_count": 247,
      "outputs": [
        {
          "output_type": "execute_result",
          "data": {
            "text/plain": [
              "Empty DataFrame\n",
              "Columns: [titulo, precio, kilometros, año, combustible, ciudad, garantia, url]\n",
              "Index: []"
            ],
            "text/html": [
              "\n",
              "  <div id=\"df-3971c7a9-e152-473c-8cc8-38cdc3b8f3b7\">\n",
              "    <div class=\"colab-df-container\">\n",
              "      <div>\n",
              "<style scoped>\n",
              "    .dataframe tbody tr th:only-of-type {\n",
              "        vertical-align: middle;\n",
              "    }\n",
              "\n",
              "    .dataframe tbody tr th {\n",
              "        vertical-align: top;\n",
              "    }\n",
              "\n",
              "    .dataframe thead th {\n",
              "        text-align: right;\n",
              "    }\n",
              "</style>\n",
              "<table border=\"1\" class=\"dataframe\">\n",
              "  <thead>\n",
              "    <tr style=\"text-align: right;\">\n",
              "      <th></th>\n",
              "      <th>titulo</th>\n",
              "      <th>precio</th>\n",
              "      <th>kilometros</th>\n",
              "      <th>año</th>\n",
              "      <th>combustible</th>\n",
              "      <th>ciudad</th>\n",
              "      <th>garantia</th>\n",
              "      <th>url</th>\n",
              "    </tr>\n",
              "  </thead>\n",
              "  <tbody>\n",
              "  </tbody>\n",
              "</table>\n",
              "</div>\n",
              "      <button class=\"colab-df-convert\" onclick=\"convertToInteractive('df-3971c7a9-e152-473c-8cc8-38cdc3b8f3b7')\"\n",
              "              title=\"Convert this dataframe to an interactive table.\"\n",
              "              style=\"display:none;\">\n",
              "        \n",
              "  <svg xmlns=\"http://www.w3.org/2000/svg\" height=\"24px\"viewBox=\"0 0 24 24\"\n",
              "       width=\"24px\">\n",
              "    <path d=\"M0 0h24v24H0V0z\" fill=\"none\"/>\n",
              "    <path d=\"M18.56 5.44l.94 2.06.94-2.06 2.06-.94-2.06-.94-.94-2.06-.94 2.06-2.06.94zm-11 1L8.5 8.5l.94-2.06 2.06-.94-2.06-.94L8.5 2.5l-.94 2.06-2.06.94zm10 10l.94 2.06.94-2.06 2.06-.94-2.06-.94-.94-2.06-.94 2.06-2.06.94z\"/><path d=\"M17.41 7.96l-1.37-1.37c-.4-.4-.92-.59-1.43-.59-.52 0-1.04.2-1.43.59L10.3 9.45l-7.72 7.72c-.78.78-.78 2.05 0 2.83L4 21.41c.39.39.9.59 1.41.59.51 0 1.02-.2 1.41-.59l7.78-7.78 2.81-2.81c.8-.78.8-2.07 0-2.86zM5.41 20L4 18.59l7.72-7.72 1.47 1.35L5.41 20z\"/>\n",
              "  </svg>\n",
              "      </button>\n",
              "      \n",
              "  <style>\n",
              "    .colab-df-container {\n",
              "      display:flex;\n",
              "      flex-wrap:wrap;\n",
              "      gap: 12px;\n",
              "    }\n",
              "\n",
              "    .colab-df-convert {\n",
              "      background-color: #E8F0FE;\n",
              "      border: none;\n",
              "      border-radius: 50%;\n",
              "      cursor: pointer;\n",
              "      display: none;\n",
              "      fill: #1967D2;\n",
              "      height: 32px;\n",
              "      padding: 0 0 0 0;\n",
              "      width: 32px;\n",
              "    }\n",
              "\n",
              "    .colab-df-convert:hover {\n",
              "      background-color: #E2EBFA;\n",
              "      box-shadow: 0px 1px 2px rgba(60, 64, 67, 0.3), 0px 1px 3px 1px rgba(60, 64, 67, 0.15);\n",
              "      fill: #174EA6;\n",
              "    }\n",
              "\n",
              "    [theme=dark] .colab-df-convert {\n",
              "      background-color: #3B4455;\n",
              "      fill: #D2E3FC;\n",
              "    }\n",
              "\n",
              "    [theme=dark] .colab-df-convert:hover {\n",
              "      background-color: #434B5C;\n",
              "      box-shadow: 0px 1px 3px 1px rgba(0, 0, 0, 0.15);\n",
              "      filter: drop-shadow(0px 1px 2px rgba(0, 0, 0, 0.3));\n",
              "      fill: #FFFFFF;\n",
              "    }\n",
              "  </style>\n",
              "\n",
              "      <script>\n",
              "        const buttonEl =\n",
              "          document.querySelector('#df-3971c7a9-e152-473c-8cc8-38cdc3b8f3b7 button.colab-df-convert');\n",
              "        buttonEl.style.display =\n",
              "          google.colab.kernel.accessAllowed ? 'block' : 'none';\n",
              "\n",
              "        async function convertToInteractive(key) {\n",
              "          const element = document.querySelector('#df-3971c7a9-e152-473c-8cc8-38cdc3b8f3b7');\n",
              "          const dataTable =\n",
              "            await google.colab.kernel.invokeFunction('convertToInteractive',\n",
              "                                                     [key], {});\n",
              "          if (!dataTable) return;\n",
              "\n",
              "          const docLinkHtml = 'Like what you see? Visit the ' +\n",
              "            '<a target=\"_blank\" href=https://colab.research.google.com/notebooks/data_table.ipynb>data table notebook</a>'\n",
              "            + ' to learn more about interactive tables.';\n",
              "          element.innerHTML = '';\n",
              "          dataTable['output_type'] = 'display_data';\n",
              "          await google.colab.output.renderOutput(dataTable, element);\n",
              "          const docLink = document.createElement('div');\n",
              "          docLink.innerHTML = docLinkHtml;\n",
              "          element.appendChild(docLink);\n",
              "        }\n",
              "      </script>\n",
              "    </div>\n",
              "  </div>\n",
              "  "
            ]
          },
          "metadata": {},
          "execution_count": 247
        }
      ]
    },
    {
      "cell_type": "code",
      "source": [
        "# Ahora cambio el tipo de variable a entero (combustible)\n",
        "coches['combustible'] = coches['combustible'].astype(int)\n",
        "coches.info()"
      ],
      "metadata": {
        "colab": {
          "base_uri": "https://localhost:8080/"
        },
        "id": "_lq0eiGV7_Xh",
        "outputId": "ddafe536-f477-49c3-9bc5-342348e790df"
      },
      "execution_count": 248,
      "outputs": [
        {
          "output_type": "stream",
          "name": "stdout",
          "text": [
            "<class 'pandas.core.frame.DataFrame'>\n",
            "RangeIndex: 1927 entries, 0 to 1926\n",
            "Data columns (total 8 columns):\n",
            " #   Column       Non-Null Count  Dtype \n",
            "---  ------       --------------  ----- \n",
            " 0   titulo       1927 non-null   object\n",
            " 1   precio       1927 non-null   int64 \n",
            " 2   kilometros   1927 non-null   int64 \n",
            " 3   año          1927 non-null   int64 \n",
            " 4   combustible  1927 non-null   int64 \n",
            " 5   ciudad       1927 non-null   object\n",
            " 6   garantia     1927 non-null   bool  \n",
            " 7   url          1927 non-null   object\n",
            "dtypes: bool(1), int64(4), object(3)\n",
            "memory usage: 107.4+ KB\n"
          ]
        }
      ]
    },
    {
      "cell_type": "code",
      "source": [
        "coches.head()"
      ],
      "metadata": {
        "colab": {
          "base_uri": "https://localhost:8080/",
          "height": 206
        },
        "id": "Lr319UJ68dSS",
        "outputId": "1d65c4ef-3abb-45ec-f87f-3f80cb59c985"
      },
      "execution_count": 249,
      "outputs": [
        {
          "output_type": "execute_result",
          "data": {
            "text/plain": [
              "                                                titulo  precio  kilometros  \\\n",
              "0                    MERCEDES-BENZ Clase C C 220 d 4p.   16200      281000   \n",
              "1             MERCEDES-BENZ Clase C C 220 d Estate 5p.   26900      114336   \n",
              "2  MERCEDES-BENZ Clase C C 220 d Avantgarde Estate 5p.   11000      287500   \n",
              "3         MERCEDES-BENZ Clase C C 220 d Avantgarde 4p.   22900      110000   \n",
              "4                    MERCEDES-BENZ Clase C C 300 d 4p.   68000       10650   \n",
              "\n",
              "    año  combustible      ciudad  garantia  \\\n",
              "0  2017            1    Baleares     False   \n",
              "1  2017            1     Badajoz      True   \n",
              "2  2015            1  Valladolid     False   \n",
              "3  2015            1    Valencia      True   \n",
              "4  2021            4       Cádiz      True   \n",
              "\n",
              "                                                                                                url  \n",
              "0                      /mercedes-benz-clase-c-c-220-d-4p-diesel-2017-en-baleares-51618684-covo.aspx  \n",
              "1                /mercedes-benz-clase-c-c-220-d-estate-5p-diesel-2017-en-badajoz-50946817-covo.aspx  \n",
              "2  /mercedes-benz-clase-c-c-220-d-avantgarde-estate-5p-diesel-2015-en-valladolid-51386008-covo.aspx  \n",
              "3           /mercedes-benz-clase-c-c-220-d-avantgarde-4p-diesel-2015-en-valencia-51457158-covo.aspx  \n",
              "4              /mercedes-benz-clase-c-c-300-d-4p-electrico-hibrido-2021-en-cadiz-51662564-covo.aspx  "
            ],
            "text/html": [
              "\n",
              "  <div id=\"df-afffa9e6-36bb-4b06-b33e-e4cc2736159b\">\n",
              "    <div class=\"colab-df-container\">\n",
              "      <div>\n",
              "<style scoped>\n",
              "    .dataframe tbody tr th:only-of-type {\n",
              "        vertical-align: middle;\n",
              "    }\n",
              "\n",
              "    .dataframe tbody tr th {\n",
              "        vertical-align: top;\n",
              "    }\n",
              "\n",
              "    .dataframe thead th {\n",
              "        text-align: right;\n",
              "    }\n",
              "</style>\n",
              "<table border=\"1\" class=\"dataframe\">\n",
              "  <thead>\n",
              "    <tr style=\"text-align: right;\">\n",
              "      <th></th>\n",
              "      <th>titulo</th>\n",
              "      <th>precio</th>\n",
              "      <th>kilometros</th>\n",
              "      <th>año</th>\n",
              "      <th>combustible</th>\n",
              "      <th>ciudad</th>\n",
              "      <th>garantia</th>\n",
              "      <th>url</th>\n",
              "    </tr>\n",
              "  </thead>\n",
              "  <tbody>\n",
              "    <tr>\n",
              "      <th>0</th>\n",
              "      <td>MERCEDES-BENZ Clase C C 220 d 4p.</td>\n",
              "      <td>16200</td>\n",
              "      <td>281000</td>\n",
              "      <td>2017</td>\n",
              "      <td>1</td>\n",
              "      <td>Baleares</td>\n",
              "      <td>False</td>\n",
              "      <td>/mercedes-benz-clase-c-c-220-d-4p-diesel-2017-en-baleares-51618684-covo.aspx</td>\n",
              "    </tr>\n",
              "    <tr>\n",
              "      <th>1</th>\n",
              "      <td>MERCEDES-BENZ Clase C C 220 d Estate 5p.</td>\n",
              "      <td>26900</td>\n",
              "      <td>114336</td>\n",
              "      <td>2017</td>\n",
              "      <td>1</td>\n",
              "      <td>Badajoz</td>\n",
              "      <td>True</td>\n",
              "      <td>/mercedes-benz-clase-c-c-220-d-estate-5p-diesel-2017-en-badajoz-50946817-covo.aspx</td>\n",
              "    </tr>\n",
              "    <tr>\n",
              "      <th>2</th>\n",
              "      <td>MERCEDES-BENZ Clase C C 220 d Avantgarde Estate 5p.</td>\n",
              "      <td>11000</td>\n",
              "      <td>287500</td>\n",
              "      <td>2015</td>\n",
              "      <td>1</td>\n",
              "      <td>Valladolid</td>\n",
              "      <td>False</td>\n",
              "      <td>/mercedes-benz-clase-c-c-220-d-avantgarde-estate-5p-diesel-2015-en-valladolid-51386008-covo.aspx</td>\n",
              "    </tr>\n",
              "    <tr>\n",
              "      <th>3</th>\n",
              "      <td>MERCEDES-BENZ Clase C C 220 d Avantgarde 4p.</td>\n",
              "      <td>22900</td>\n",
              "      <td>110000</td>\n",
              "      <td>2015</td>\n",
              "      <td>1</td>\n",
              "      <td>Valencia</td>\n",
              "      <td>True</td>\n",
              "      <td>/mercedes-benz-clase-c-c-220-d-avantgarde-4p-diesel-2015-en-valencia-51457158-covo.aspx</td>\n",
              "    </tr>\n",
              "    <tr>\n",
              "      <th>4</th>\n",
              "      <td>MERCEDES-BENZ Clase C C 300 d 4p.</td>\n",
              "      <td>68000</td>\n",
              "      <td>10650</td>\n",
              "      <td>2021</td>\n",
              "      <td>4</td>\n",
              "      <td>Cádiz</td>\n",
              "      <td>True</td>\n",
              "      <td>/mercedes-benz-clase-c-c-300-d-4p-electrico-hibrido-2021-en-cadiz-51662564-covo.aspx</td>\n",
              "    </tr>\n",
              "  </tbody>\n",
              "</table>\n",
              "</div>\n",
              "      <button class=\"colab-df-convert\" onclick=\"convertToInteractive('df-afffa9e6-36bb-4b06-b33e-e4cc2736159b')\"\n",
              "              title=\"Convert this dataframe to an interactive table.\"\n",
              "              style=\"display:none;\">\n",
              "        \n",
              "  <svg xmlns=\"http://www.w3.org/2000/svg\" height=\"24px\"viewBox=\"0 0 24 24\"\n",
              "       width=\"24px\">\n",
              "    <path d=\"M0 0h24v24H0V0z\" fill=\"none\"/>\n",
              "    <path d=\"M18.56 5.44l.94 2.06.94-2.06 2.06-.94-2.06-.94-.94-2.06-.94 2.06-2.06.94zm-11 1L8.5 8.5l.94-2.06 2.06-.94-2.06-.94L8.5 2.5l-.94 2.06-2.06.94zm10 10l.94 2.06.94-2.06 2.06-.94-2.06-.94-.94-2.06-.94 2.06-2.06.94z\"/><path d=\"M17.41 7.96l-1.37-1.37c-.4-.4-.92-.59-1.43-.59-.52 0-1.04.2-1.43.59L10.3 9.45l-7.72 7.72c-.78.78-.78 2.05 0 2.83L4 21.41c.39.39.9.59 1.41.59.51 0 1.02-.2 1.41-.59l7.78-7.78 2.81-2.81c.8-.78.8-2.07 0-2.86zM5.41 20L4 18.59l7.72-7.72 1.47 1.35L5.41 20z\"/>\n",
              "  </svg>\n",
              "      </button>\n",
              "      \n",
              "  <style>\n",
              "    .colab-df-container {\n",
              "      display:flex;\n",
              "      flex-wrap:wrap;\n",
              "      gap: 12px;\n",
              "    }\n",
              "\n",
              "    .colab-df-convert {\n",
              "      background-color: #E8F0FE;\n",
              "      border: none;\n",
              "      border-radius: 50%;\n",
              "      cursor: pointer;\n",
              "      display: none;\n",
              "      fill: #1967D2;\n",
              "      height: 32px;\n",
              "      padding: 0 0 0 0;\n",
              "      width: 32px;\n",
              "    }\n",
              "\n",
              "    .colab-df-convert:hover {\n",
              "      background-color: #E2EBFA;\n",
              "      box-shadow: 0px 1px 2px rgba(60, 64, 67, 0.3), 0px 1px 3px 1px rgba(60, 64, 67, 0.15);\n",
              "      fill: #174EA6;\n",
              "    }\n",
              "\n",
              "    [theme=dark] .colab-df-convert {\n",
              "      background-color: #3B4455;\n",
              "      fill: #D2E3FC;\n",
              "    }\n",
              "\n",
              "    [theme=dark] .colab-df-convert:hover {\n",
              "      background-color: #434B5C;\n",
              "      box-shadow: 0px 1px 3px 1px rgba(0, 0, 0, 0.15);\n",
              "      filter: drop-shadow(0px 1px 2px rgba(0, 0, 0, 0.3));\n",
              "      fill: #FFFFFF;\n",
              "    }\n",
              "  </style>\n",
              "\n",
              "      <script>\n",
              "        const buttonEl =\n",
              "          document.querySelector('#df-afffa9e6-36bb-4b06-b33e-e4cc2736159b button.colab-df-convert');\n",
              "        buttonEl.style.display =\n",
              "          google.colab.kernel.accessAllowed ? 'block' : 'none';\n",
              "\n",
              "        async function convertToInteractive(key) {\n",
              "          const element = document.querySelector('#df-afffa9e6-36bb-4b06-b33e-e4cc2736159b');\n",
              "          const dataTable =\n",
              "            await google.colab.kernel.invokeFunction('convertToInteractive',\n",
              "                                                     [key], {});\n",
              "          if (!dataTable) return;\n",
              "\n",
              "          const docLinkHtml = 'Like what you see? Visit the ' +\n",
              "            '<a target=\"_blank\" href=https://colab.research.google.com/notebooks/data_table.ipynb>data table notebook</a>'\n",
              "            + ' to learn more about interactive tables.';\n",
              "          element.innerHTML = '';\n",
              "          dataTable['output_type'] = 'display_data';\n",
              "          await google.colab.output.renderOutput(dataTable, element);\n",
              "          const docLink = document.createElement('div');\n",
              "          docLink.innerHTML = docLinkHtml;\n",
              "          element.appendChild(docLink);\n",
              "        }\n",
              "      </script>\n",
              "    </div>\n",
              "  </div>\n",
              "  "
            ]
          },
          "metadata": {},
          "execution_count": 249
        }
      ]
    },
    {
      "cell_type": "markdown",
      "source": [
        "## Transformaciones"
      ],
      "metadata": {
        "id": "cu0F4A9CdFKI"
      }
    },
    {
      "cell_type": "markdown",
      "source": [
        "Transformaciones a realizar:\n",
        "\n",
        "Sacar más información de las columnas \"titulo\" y \"url\"\n",
        "Crear nueva columna con url completa añadiendo la url base de coches.net\n",
        "Crear otra variable con las coordenadas de cada ciudad\n",
        "Crear variable con max-min de kilometros (el escalado se hace con los datos de entrenamiento creo)\n",
        "Crear variable con la antigüedad de cada coche: now-año\n",
        "Crear variable dummy con el combustible\n",
        "\n",
        "Buscar outliers en las variables, boxplot\n",
        "Realizar estudios de distribuciones de las variables\n",
        "Estudio de la correlaciones entre las variables.\n",
        "Estudio de las correlaciones con la variable objetivo \"precio\"\n",
        "Hacer gráfico con mapa con las posiciones de las ciudades donde se venden los coches.\n",
        "Usar métodos de filtrado para regesion, f_regression y mutual_info_regession. F-test score y Mutual information\n",
        "\n",
        "\n"
      ],
      "metadata": {
        "id": "eDDRkErr9Cau"
      }
    },
    {
      "cell_type": "markdown",
      "source": [
        "### TRANSFORMACIONES<br/>\n",
        "\n",
        "\n",
        "\n",
        "* [X] Poner URL completa\n",
        "* [X] Extraer más información de \"titulo\" y \"url\"\n",
        "* [X] Coordenadas GPS de ciudades\n",
        "* [X] Escalado de variable kilómetros\n",
        "* [X] Crear nueva variable con la antigüedad del coches en años. Escalar.\n",
        "* [X] Variables binarias para combustible\n",
        "* [X] Crear archivo de salida para modelar\n",
        "\n",
        "\n",
        "\n",
        "### ANALISIS Y EXPLORACIONES\n",
        "\n",
        "* [X] Box plot de caracterísitcas.\n",
        "* [X] Análisis por agrupación de ciudades.\n",
        "* [X] Estudio de las distintas distribuciones.\n",
        "* [X] Estudio de correlaciones entre las variables.\n",
        "* [X] Estudio de correlaciones entre las variables y \"precio\".\n",
        "* [X] Estudio según localización GPS."
      ],
      "metadata": {
        "id": "LLLeiWdlavYg"
      }
    },
    {
      "cell_type": "markdown",
      "source": [
        "### Poner URL completa"
      ],
      "metadata": {
        "id": "jQ26sUDSdADE"
      }
    },
    {
      "cell_type": "code",
      "source": [
        "# Creamos URL completa\n",
        "from urllib.parse import urljoin\n",
        "\n",
        "url_base = \"https://www.coches.net/\"\n",
        "coches['web'] = [urljoin(url_base, url) for url in coches['url']]"
      ],
      "metadata": {
        "id": "SrFl_oY49AKZ"
      },
      "execution_count": 250,
      "outputs": []
    },
    {
      "cell_type": "code",
      "source": [
        "# Compruebo\n",
        "coches.web[0]"
      ],
      "metadata": {
        "colab": {
          "base_uri": "https://localhost:8080/",
          "height": 35
        },
        "id": "qKaf_wqSZdID",
        "outputId": "2e60ba83-143c-49a2-ec88-58c653cad4ea"
      },
      "execution_count": 251,
      "outputs": [
        {
          "output_type": "execute_result",
          "data": {
            "text/plain": [
              "'https://www.coches.net/mercedes-benz-clase-c-c-220-d-4p-diesel-2017-en-baleares-51618684-covo.aspx'"
            ],
            "application/vnd.google.colaboratory.intrinsic+json": {
              "type": "string"
            }
          },
          "metadata": {},
          "execution_count": 251
        }
      ]
    },
    {
      "cell_type": "markdown",
      "source": [
        "### Extraer información de \"titulo\" y de \"url\""
      ],
      "metadata": {
        "id": "agPIZ-wXfGZO"
      }
    },
    {
      "cell_type": "code",
      "source": [
        "print(coches.loc[[0],['titulo']])\n",
        "print(coches.loc[[0],['url']]) ##, 'url']]),"
      ],
      "metadata": {
        "colab": {
          "base_uri": "https://localhost:8080/"
        },
        "id": "rBZ-xbcTXbbn",
        "outputId": "95da787e-835c-4246-a19c-f70841e5fccf"
      },
      "execution_count": 252,
      "outputs": [
        {
          "output_type": "stream",
          "name": "stdout",
          "text": [
            "                              titulo\n",
            "0  MERCEDES-BENZ Clase C C 220 d 4p.\n",
            "                                                                            url\n",
            "0  /mercedes-benz-clase-c-c-220-d-4p-diesel-2017-en-baleares-51618684-covo.aspx\n"
          ]
        }
      ]
    },
    {
      "cell_type": "code",
      "source": [
        "coches.sample(5)"
      ],
      "metadata": {
        "colab": {
          "base_uri": "https://localhost:8080/",
          "height": 206
        },
        "id": "nSXEvARFXw9g",
        "outputId": "8a473dcd-ebe0-4559-9b77-d29122fb1691"
      },
      "execution_count": 253,
      "outputs": [
        {
          "output_type": "execute_result",
          "data": {
            "text/plain": [
              "                                               titulo  precio  kilometros  \\\n",
              "242  MERCEDES-BENZ Clase C C 220 BlueTEC AMG Line 4p.   23999      167500   \n",
              "114          MERCEDES-BENZ Clase C C 220 d 4MATIC 4p.   29795       69324   \n",
              "127           MERCEDES-BENZ Clase C C Coupe 220 d 2p.   35490       69520   \n",
              "705          MERCEDES-BENZ Clase C C 200 d Estate 5p.   26290       67000   \n",
              "855                 MERCEDES-BENZ Clase C C 300 e 4p.   42900        8000   \n",
              "\n",
              "      año  combustible    ciudad  garantia  \\\n",
              "242  2015            1  Alicante      True   \n",
              "114  2018            1    Madrid      True   \n",
              "127  2018            1  Valencia      True   \n",
              "705  2018            1    Madrid      True   \n",
              "855  2022            5    Madrid      True   \n",
              "\n",
              "                                                                                             url  \\\n",
              "242  /mercedes-benz-clase-c-c-220-bluetec-amg-line-4p-diesel-2014-en-alicante-51638144-covo.aspx   \n",
              "114            /mercedes-benz-clase-c-c-220-d-4matic-4p-diesel-2018-en-madrid-51673272-covo.aspx   \n",
              "127           /mercedes-benz-clase-c-c-coupe-220-d-2p-diesel-2018-en-valencia-51781176-covo.aspx   \n",
              "705            /mercedes-benz-clase-c-c-200-d-estate-5p-diesel-2018-en-madrid-51411122-covo.aspx   \n",
              "855  /km-0/mercedes-benz/clase_c/madrid/c_300_e-electrico-hibrido-de-gerencia-51132302-gevn.aspx   \n",
              "\n",
              "                                                                                                                   web  \n",
              "242  https://www.coches.net/mercedes-benz-clase-c-c-220-bluetec-amg-line-4p-diesel-2014-en-alicante-51638144-covo.aspx  \n",
              "114            https://www.coches.net/mercedes-benz-clase-c-c-220-d-4matic-4p-diesel-2018-en-madrid-51673272-covo.aspx  \n",
              "127           https://www.coches.net/mercedes-benz-clase-c-c-coupe-220-d-2p-diesel-2018-en-valencia-51781176-covo.aspx  \n",
              "705            https://www.coches.net/mercedes-benz-clase-c-c-200-d-estate-5p-diesel-2018-en-madrid-51411122-covo.aspx  \n",
              "855  https://www.coches.net/km-0/mercedes-benz/clase_c/madrid/c_300_e-electrico-hibrido-de-gerencia-51132302-gevn.aspx  "
            ],
            "text/html": [
              "\n",
              "  <div id=\"df-3001201d-6216-42c0-af8b-2ac610d2615f\">\n",
              "    <div class=\"colab-df-container\">\n",
              "      <div>\n",
              "<style scoped>\n",
              "    .dataframe tbody tr th:only-of-type {\n",
              "        vertical-align: middle;\n",
              "    }\n",
              "\n",
              "    .dataframe tbody tr th {\n",
              "        vertical-align: top;\n",
              "    }\n",
              "\n",
              "    .dataframe thead th {\n",
              "        text-align: right;\n",
              "    }\n",
              "</style>\n",
              "<table border=\"1\" class=\"dataframe\">\n",
              "  <thead>\n",
              "    <tr style=\"text-align: right;\">\n",
              "      <th></th>\n",
              "      <th>titulo</th>\n",
              "      <th>precio</th>\n",
              "      <th>kilometros</th>\n",
              "      <th>año</th>\n",
              "      <th>combustible</th>\n",
              "      <th>ciudad</th>\n",
              "      <th>garantia</th>\n",
              "      <th>url</th>\n",
              "      <th>web</th>\n",
              "    </tr>\n",
              "  </thead>\n",
              "  <tbody>\n",
              "    <tr>\n",
              "      <th>242</th>\n",
              "      <td>MERCEDES-BENZ Clase C C 220 BlueTEC AMG Line 4p.</td>\n",
              "      <td>23999</td>\n",
              "      <td>167500</td>\n",
              "      <td>2015</td>\n",
              "      <td>1</td>\n",
              "      <td>Alicante</td>\n",
              "      <td>True</td>\n",
              "      <td>/mercedes-benz-clase-c-c-220-bluetec-amg-line-4p-diesel-2014-en-alicante-51638144-covo.aspx</td>\n",
              "      <td>https://www.coches.net/mercedes-benz-clase-c-c-220-bluetec-amg-line-4p-diesel-2014-en-alicante-51638144-covo.aspx</td>\n",
              "    </tr>\n",
              "    <tr>\n",
              "      <th>114</th>\n",
              "      <td>MERCEDES-BENZ Clase C C 220 d 4MATIC 4p.</td>\n",
              "      <td>29795</td>\n",
              "      <td>69324</td>\n",
              "      <td>2018</td>\n",
              "      <td>1</td>\n",
              "      <td>Madrid</td>\n",
              "      <td>True</td>\n",
              "      <td>/mercedes-benz-clase-c-c-220-d-4matic-4p-diesel-2018-en-madrid-51673272-covo.aspx</td>\n",
              "      <td>https://www.coches.net/mercedes-benz-clase-c-c-220-d-4matic-4p-diesel-2018-en-madrid-51673272-covo.aspx</td>\n",
              "    </tr>\n",
              "    <tr>\n",
              "      <th>127</th>\n",
              "      <td>MERCEDES-BENZ Clase C C Coupe 220 d 2p.</td>\n",
              "      <td>35490</td>\n",
              "      <td>69520</td>\n",
              "      <td>2018</td>\n",
              "      <td>1</td>\n",
              "      <td>Valencia</td>\n",
              "      <td>True</td>\n",
              "      <td>/mercedes-benz-clase-c-c-coupe-220-d-2p-diesel-2018-en-valencia-51781176-covo.aspx</td>\n",
              "      <td>https://www.coches.net/mercedes-benz-clase-c-c-coupe-220-d-2p-diesel-2018-en-valencia-51781176-covo.aspx</td>\n",
              "    </tr>\n",
              "    <tr>\n",
              "      <th>705</th>\n",
              "      <td>MERCEDES-BENZ Clase C C 200 d Estate 5p.</td>\n",
              "      <td>26290</td>\n",
              "      <td>67000</td>\n",
              "      <td>2018</td>\n",
              "      <td>1</td>\n",
              "      <td>Madrid</td>\n",
              "      <td>True</td>\n",
              "      <td>/mercedes-benz-clase-c-c-200-d-estate-5p-diesel-2018-en-madrid-51411122-covo.aspx</td>\n",
              "      <td>https://www.coches.net/mercedes-benz-clase-c-c-200-d-estate-5p-diesel-2018-en-madrid-51411122-covo.aspx</td>\n",
              "    </tr>\n",
              "    <tr>\n",
              "      <th>855</th>\n",
              "      <td>MERCEDES-BENZ Clase C C 300 e 4p.</td>\n",
              "      <td>42900</td>\n",
              "      <td>8000</td>\n",
              "      <td>2022</td>\n",
              "      <td>5</td>\n",
              "      <td>Madrid</td>\n",
              "      <td>True</td>\n",
              "      <td>/km-0/mercedes-benz/clase_c/madrid/c_300_e-electrico-hibrido-de-gerencia-51132302-gevn.aspx</td>\n",
              "      <td>https://www.coches.net/km-0/mercedes-benz/clase_c/madrid/c_300_e-electrico-hibrido-de-gerencia-51132302-gevn.aspx</td>\n",
              "    </tr>\n",
              "  </tbody>\n",
              "</table>\n",
              "</div>\n",
              "      <button class=\"colab-df-convert\" onclick=\"convertToInteractive('df-3001201d-6216-42c0-af8b-2ac610d2615f')\"\n",
              "              title=\"Convert this dataframe to an interactive table.\"\n",
              "              style=\"display:none;\">\n",
              "        \n",
              "  <svg xmlns=\"http://www.w3.org/2000/svg\" height=\"24px\"viewBox=\"0 0 24 24\"\n",
              "       width=\"24px\">\n",
              "    <path d=\"M0 0h24v24H0V0z\" fill=\"none\"/>\n",
              "    <path d=\"M18.56 5.44l.94 2.06.94-2.06 2.06-.94-2.06-.94-.94-2.06-.94 2.06-2.06.94zm-11 1L8.5 8.5l.94-2.06 2.06-.94-2.06-.94L8.5 2.5l-.94 2.06-2.06.94zm10 10l.94 2.06.94-2.06 2.06-.94-2.06-.94-.94-2.06-.94 2.06-2.06.94z\"/><path d=\"M17.41 7.96l-1.37-1.37c-.4-.4-.92-.59-1.43-.59-.52 0-1.04.2-1.43.59L10.3 9.45l-7.72 7.72c-.78.78-.78 2.05 0 2.83L4 21.41c.39.39.9.59 1.41.59.51 0 1.02-.2 1.41-.59l7.78-7.78 2.81-2.81c.8-.78.8-2.07 0-2.86zM5.41 20L4 18.59l7.72-7.72 1.47 1.35L5.41 20z\"/>\n",
              "  </svg>\n",
              "      </button>\n",
              "      \n",
              "  <style>\n",
              "    .colab-df-container {\n",
              "      display:flex;\n",
              "      flex-wrap:wrap;\n",
              "      gap: 12px;\n",
              "    }\n",
              "\n",
              "    .colab-df-convert {\n",
              "      background-color: #E8F0FE;\n",
              "      border: none;\n",
              "      border-radius: 50%;\n",
              "      cursor: pointer;\n",
              "      display: none;\n",
              "      fill: #1967D2;\n",
              "      height: 32px;\n",
              "      padding: 0 0 0 0;\n",
              "      width: 32px;\n",
              "    }\n",
              "\n",
              "    .colab-df-convert:hover {\n",
              "      background-color: #E2EBFA;\n",
              "      box-shadow: 0px 1px 2px rgba(60, 64, 67, 0.3), 0px 1px 3px 1px rgba(60, 64, 67, 0.15);\n",
              "      fill: #174EA6;\n",
              "    }\n",
              "\n",
              "    [theme=dark] .colab-df-convert {\n",
              "      background-color: #3B4455;\n",
              "      fill: #D2E3FC;\n",
              "    }\n",
              "\n",
              "    [theme=dark] .colab-df-convert:hover {\n",
              "      background-color: #434B5C;\n",
              "      box-shadow: 0px 1px 3px 1px rgba(0, 0, 0, 0.15);\n",
              "      filter: drop-shadow(0px 1px 2px rgba(0, 0, 0, 0.3));\n",
              "      fill: #FFFFFF;\n",
              "    }\n",
              "  </style>\n",
              "\n",
              "      <script>\n",
              "        const buttonEl =\n",
              "          document.querySelector('#df-3001201d-6216-42c0-af8b-2ac610d2615f button.colab-df-convert');\n",
              "        buttonEl.style.display =\n",
              "          google.colab.kernel.accessAllowed ? 'block' : 'none';\n",
              "\n",
              "        async function convertToInteractive(key) {\n",
              "          const element = document.querySelector('#df-3001201d-6216-42c0-af8b-2ac610d2615f');\n",
              "          const dataTable =\n",
              "            await google.colab.kernel.invokeFunction('convertToInteractive',\n",
              "                                                     [key], {});\n",
              "          if (!dataTable) return;\n",
              "\n",
              "          const docLinkHtml = 'Like what you see? Visit the ' +\n",
              "            '<a target=\"_blank\" href=https://colab.research.google.com/notebooks/data_table.ipynb>data table notebook</a>'\n",
              "            + ' to learn more about interactive tables.';\n",
              "          element.innerHTML = '';\n",
              "          dataTable['output_type'] = 'display_data';\n",
              "          await google.colab.output.renderOutput(dataTable, element);\n",
              "          const docLink = document.createElement('div');\n",
              "          docLink.innerHTML = docLinkHtml;\n",
              "          element.appendChild(docLink);\n",
              "        }\n",
              "      </script>\n",
              "    </div>\n",
              "  </div>\n",
              "  "
            ]
          },
          "metadata": {},
          "execution_count": 253
        }
      ]
    },
    {
      "cell_type": "code",
      "source": [
        "import regex as re"
      ],
      "metadata": {
        "id": "WGfJqgoLh2-4"
      },
      "execution_count": 254,
      "outputs": []
    },
    {
      "cell_type": "markdown",
      "source": [
        "Crear nueva variable \"tipo\", con tipo de modelo clase C que es el coche. En caso no obtener esa información, identificar con la palabra \"NoInfo\""
      ],
      "metadata": {
        "id": "y0YsGAF4pxwp"
      }
    },
    {
      "cell_type": "code",
      "source": [
        "coches['tipo'] = coches['url'].str.extract('-(\\d{2,3})-').fillna('NoInfo')"
      ],
      "metadata": {
        "id": "a5VssjsSm_7y"
      },
      "execution_count": 255,
      "outputs": []
    },
    {
      "cell_type": "code",
      "source": [
        "coches.tipo.sample(10)"
      ],
      "metadata": {
        "colab": {
          "base_uri": "https://localhost:8080/"
        },
        "id": "mTHQ0jfNoa8w",
        "outputId": "17dc0ba6-eab0-43bf-b5a0-025dbf1fe05d"
      },
      "execution_count": 256,
      "outputs": [
        {
          "output_type": "execute_result",
          "data": {
            "text/plain": [
              "1213    250\n",
              "244      63\n",
              "214     220\n",
              "444     220\n",
              "1048    200\n",
              "657     220\n",
              "793     200\n",
              "740     180\n",
              "664     220\n",
              "439     220\n",
              "Name: tipo, dtype: object"
            ]
          },
          "metadata": {},
          "execution_count": 256
        }
      ]
    },
    {
      "cell_type": "code",
      "source": [
        "coches.value_counts('tipo')"
      ],
      "metadata": {
        "colab": {
          "base_uri": "https://localhost:8080/"
        },
        "id": "jqkRCBGHjCaH",
        "outputId": "75f76611-5da0-402e-94ef-7af03ce0bead"
      },
      "execution_count": 257,
      "outputs": [
        {
          "output_type": "execute_result",
          "data": {
            "text/plain": [
              "tipo\n",
              "220       1092\n",
              "200        279\n",
              "NoInfo     132\n",
              "250        111\n",
              "63          76\n",
              "300         71\n",
              "43          69\n",
              "180         56\n",
              "350         33\n",
              "450          4\n",
              "400          3\n",
              "45           1\n",
              "dtype: int64"
            ]
          },
          "metadata": {},
          "execution_count": 257
        }
      ]
    },
    {
      "cell_type": "markdown",
      "source": [
        "Crear nueva variable booleana, indicango si el vehículo tiene el acabado AMG True o no False"
      ],
      "metadata": {
        "id": "dy36o9d_qFLU"
      }
    },
    {
      "cell_type": "code",
      "source": [
        "coches['AMG'] = False\n",
        "coches.loc[coches.url.str.contains('amg', case=True),'AMG'] = True"
      ],
      "metadata": {
        "id": "-CVKoS5wpKuV"
      },
      "execution_count": 258,
      "outputs": []
    },
    {
      "cell_type": "code",
      "source": [
        "coches.value_counts('AMG')"
      ],
      "metadata": {
        "colab": {
          "base_uri": "https://localhost:8080/"
        },
        "id": "PXh4KKz-pmD2",
        "outputId": "fef29153-5c2f-43cd-90c9-13f07670bc8d"
      },
      "execution_count": 259,
      "outputs": [
        {
          "output_type": "execute_result",
          "data": {
            "text/plain": [
              "AMG\n",
              "False    1521\n",
              "True      406\n",
              "dtype: int64"
            ]
          },
          "metadata": {},
          "execution_count": 259
        }
      ]
    },
    {
      "cell_type": "markdown",
      "source": [
        "### Coordenadas GPS de ciudades"
      ],
      "metadata": {
        "id": "1Msdmtr9sHVi"
      }
    },
    {
      "cell_type": "markdown",
      "source": [
        "Creo una función para obtener las coordenadas de la cada ciudad"
      ],
      "metadata": {
        "id": "TMvXJYaVk0KT"
      }
    },
    {
      "cell_type": "code",
      "source": [
        "def get_coordinates(cities):\n",
        "  '''\n",
        "  Given the column name with the cities, get coordinates for every city in two\n",
        "  differents columns, \"lat_ciudad\" and \"lat_ciudad\" in a new DF\n",
        "  '''\n",
        "  \n",
        "  from geopy.geocoders import Nominatim\n",
        "\n",
        "  geolocator = Nominatim(user_agent=\"MyApp\")\n",
        "  ciudades = coches[cities].value_counts().index.tolist()\n",
        "\n",
        "  lat_ciudad = []\n",
        "  long_ciudad = []\n",
        "\n",
        "  for ciudad in ciudades:\n",
        "    location = geolocator.geocode(ciudad) \n",
        "    lat_ciudad.append(location.latitude)\n",
        "    long_ciudad.append(location.longitude)\n",
        "\n",
        "  df_ciudades = pd.DataFrame(list(zip(ciudades, lat_ciudad, long_ciudad)), columns =['ciudad', 'lat_ciudad', 'long_ciudad'])\n",
        "\n",
        "  return df_ciudades\n",
        "\n"
      ],
      "metadata": {
        "id": "XHiCnwQYk610"
      },
      "execution_count": 260,
      "outputs": []
    },
    {
      "cell_type": "code",
      "source": [
        "df_ciudades = get_coordinates('ciudad')"
      ],
      "metadata": {
        "id": "-_7Y_Q-OmMZF"
      },
      "execution_count": 261,
      "outputs": []
    },
    {
      "cell_type": "markdown",
      "source": [
        "Ahora uno los dos dataframe para tener cada coordenada con cada ciudad de la tabla \"coches\""
      ],
      "metadata": {
        "id": "Yn7R-CIcnKPH"
      }
    },
    {
      "cell_type": "code",
      "source": [
        "coches = pd.merge(coches, df_ciudades, on = 'ciudad', how = 'left')\n",
        "coches.head()"
      ],
      "metadata": {
        "colab": {
          "base_uri": "https://localhost:8080/",
          "height": 285
        },
        "id": "qAYd2Cu3nEOv",
        "outputId": "9d3ff119-2e6f-486c-c8e6-c211dfa39d6f"
      },
      "execution_count": 262,
      "outputs": [
        {
          "output_type": "execute_result",
          "data": {
            "text/plain": [
              "                                                titulo  precio  kilometros  \\\n",
              "0                    MERCEDES-BENZ Clase C C 220 d 4p.   16200      281000   \n",
              "1             MERCEDES-BENZ Clase C C 220 d Estate 5p.   26900      114336   \n",
              "2  MERCEDES-BENZ Clase C C 220 d Avantgarde Estate 5p.   11000      287500   \n",
              "3         MERCEDES-BENZ Clase C C 220 d Avantgarde 4p.   22900      110000   \n",
              "4                    MERCEDES-BENZ Clase C C 300 d 4p.   68000       10650   \n",
              "\n",
              "    año  combustible      ciudad  garantia  \\\n",
              "0  2017            1    Baleares     False   \n",
              "1  2017            1     Badajoz      True   \n",
              "2  2015            1  Valladolid     False   \n",
              "3  2015            1    Valencia      True   \n",
              "4  2021            4       Cádiz      True   \n",
              "\n",
              "                                                                                                url  \\\n",
              "0                      /mercedes-benz-clase-c-c-220-d-4p-diesel-2017-en-baleares-51618684-covo.aspx   \n",
              "1                /mercedes-benz-clase-c-c-220-d-estate-5p-diesel-2017-en-badajoz-50946817-covo.aspx   \n",
              "2  /mercedes-benz-clase-c-c-220-d-avantgarde-estate-5p-diesel-2015-en-valladolid-51386008-covo.aspx   \n",
              "3           /mercedes-benz-clase-c-c-220-d-avantgarde-4p-diesel-2015-en-valencia-51457158-covo.aspx   \n",
              "4              /mercedes-benz-clase-c-c-300-d-4p-electrico-hibrido-2021-en-cadiz-51662564-covo.aspx   \n",
              "\n",
              "                                                                                                                      web  \\\n",
              "0                      https://www.coches.net/mercedes-benz-clase-c-c-220-d-4p-diesel-2017-en-baleares-51618684-covo.aspx   \n",
              "1                https://www.coches.net/mercedes-benz-clase-c-c-220-d-estate-5p-diesel-2017-en-badajoz-50946817-covo.aspx   \n",
              "2  https://www.coches.net/mercedes-benz-clase-c-c-220-d-avantgarde-estate-5p-diesel-2015-en-valladolid-51386008-covo.aspx   \n",
              "3           https://www.coches.net/mercedes-benz-clase-c-c-220-d-avantgarde-4p-diesel-2015-en-valencia-51457158-covo.aspx   \n",
              "4              https://www.coches.net/mercedes-benz-clase-c-c-300-d-4p-electrico-hibrido-2021-en-cadiz-51662564-covo.aspx   \n",
              "\n",
              "  tipo    AMG  lat_ciudad  long_ciudad  \n",
              "0  220  False   39.613432     2.880354  \n",
              "1  220  False   38.878059    -6.970205  \n",
              "2  220  False   41.652133    -4.728562  \n",
              "3  220  False   39.469707    -0.376335  \n",
              "4  300  False   36.529744    -6.292898  "
            ],
            "text/html": [
              "\n",
              "  <div id=\"df-2d6f0c63-537f-48df-97c4-fcb7a5bc1805\">\n",
              "    <div class=\"colab-df-container\">\n",
              "      <div>\n",
              "<style scoped>\n",
              "    .dataframe tbody tr th:only-of-type {\n",
              "        vertical-align: middle;\n",
              "    }\n",
              "\n",
              "    .dataframe tbody tr th {\n",
              "        vertical-align: top;\n",
              "    }\n",
              "\n",
              "    .dataframe thead th {\n",
              "        text-align: right;\n",
              "    }\n",
              "</style>\n",
              "<table border=\"1\" class=\"dataframe\">\n",
              "  <thead>\n",
              "    <tr style=\"text-align: right;\">\n",
              "      <th></th>\n",
              "      <th>titulo</th>\n",
              "      <th>precio</th>\n",
              "      <th>kilometros</th>\n",
              "      <th>año</th>\n",
              "      <th>combustible</th>\n",
              "      <th>ciudad</th>\n",
              "      <th>garantia</th>\n",
              "      <th>url</th>\n",
              "      <th>web</th>\n",
              "      <th>tipo</th>\n",
              "      <th>AMG</th>\n",
              "      <th>lat_ciudad</th>\n",
              "      <th>long_ciudad</th>\n",
              "    </tr>\n",
              "  </thead>\n",
              "  <tbody>\n",
              "    <tr>\n",
              "      <th>0</th>\n",
              "      <td>MERCEDES-BENZ Clase C C 220 d 4p.</td>\n",
              "      <td>16200</td>\n",
              "      <td>281000</td>\n",
              "      <td>2017</td>\n",
              "      <td>1</td>\n",
              "      <td>Baleares</td>\n",
              "      <td>False</td>\n",
              "      <td>/mercedes-benz-clase-c-c-220-d-4p-diesel-2017-en-baleares-51618684-covo.aspx</td>\n",
              "      <td>https://www.coches.net/mercedes-benz-clase-c-c-220-d-4p-diesel-2017-en-baleares-51618684-covo.aspx</td>\n",
              "      <td>220</td>\n",
              "      <td>False</td>\n",
              "      <td>39.613432</td>\n",
              "      <td>2.880354</td>\n",
              "    </tr>\n",
              "    <tr>\n",
              "      <th>1</th>\n",
              "      <td>MERCEDES-BENZ Clase C C 220 d Estate 5p.</td>\n",
              "      <td>26900</td>\n",
              "      <td>114336</td>\n",
              "      <td>2017</td>\n",
              "      <td>1</td>\n",
              "      <td>Badajoz</td>\n",
              "      <td>True</td>\n",
              "      <td>/mercedes-benz-clase-c-c-220-d-estate-5p-diesel-2017-en-badajoz-50946817-covo.aspx</td>\n",
              "      <td>https://www.coches.net/mercedes-benz-clase-c-c-220-d-estate-5p-diesel-2017-en-badajoz-50946817-covo.aspx</td>\n",
              "      <td>220</td>\n",
              "      <td>False</td>\n",
              "      <td>38.878059</td>\n",
              "      <td>-6.970205</td>\n",
              "    </tr>\n",
              "    <tr>\n",
              "      <th>2</th>\n",
              "      <td>MERCEDES-BENZ Clase C C 220 d Avantgarde Estate 5p.</td>\n",
              "      <td>11000</td>\n",
              "      <td>287500</td>\n",
              "      <td>2015</td>\n",
              "      <td>1</td>\n",
              "      <td>Valladolid</td>\n",
              "      <td>False</td>\n",
              "      <td>/mercedes-benz-clase-c-c-220-d-avantgarde-estate-5p-diesel-2015-en-valladolid-51386008-covo.aspx</td>\n",
              "      <td>https://www.coches.net/mercedes-benz-clase-c-c-220-d-avantgarde-estate-5p-diesel-2015-en-valladolid-51386008-covo.aspx</td>\n",
              "      <td>220</td>\n",
              "      <td>False</td>\n",
              "      <td>41.652133</td>\n",
              "      <td>-4.728562</td>\n",
              "    </tr>\n",
              "    <tr>\n",
              "      <th>3</th>\n",
              "      <td>MERCEDES-BENZ Clase C C 220 d Avantgarde 4p.</td>\n",
              "      <td>22900</td>\n",
              "      <td>110000</td>\n",
              "      <td>2015</td>\n",
              "      <td>1</td>\n",
              "      <td>Valencia</td>\n",
              "      <td>True</td>\n",
              "      <td>/mercedes-benz-clase-c-c-220-d-avantgarde-4p-diesel-2015-en-valencia-51457158-covo.aspx</td>\n",
              "      <td>https://www.coches.net/mercedes-benz-clase-c-c-220-d-avantgarde-4p-diesel-2015-en-valencia-51457158-covo.aspx</td>\n",
              "      <td>220</td>\n",
              "      <td>False</td>\n",
              "      <td>39.469707</td>\n",
              "      <td>-0.376335</td>\n",
              "    </tr>\n",
              "    <tr>\n",
              "      <th>4</th>\n",
              "      <td>MERCEDES-BENZ Clase C C 300 d 4p.</td>\n",
              "      <td>68000</td>\n",
              "      <td>10650</td>\n",
              "      <td>2021</td>\n",
              "      <td>4</td>\n",
              "      <td>Cádiz</td>\n",
              "      <td>True</td>\n",
              "      <td>/mercedes-benz-clase-c-c-300-d-4p-electrico-hibrido-2021-en-cadiz-51662564-covo.aspx</td>\n",
              "      <td>https://www.coches.net/mercedes-benz-clase-c-c-300-d-4p-electrico-hibrido-2021-en-cadiz-51662564-covo.aspx</td>\n",
              "      <td>300</td>\n",
              "      <td>False</td>\n",
              "      <td>36.529744</td>\n",
              "      <td>-6.292898</td>\n",
              "    </tr>\n",
              "  </tbody>\n",
              "</table>\n",
              "</div>\n",
              "      <button class=\"colab-df-convert\" onclick=\"convertToInteractive('df-2d6f0c63-537f-48df-97c4-fcb7a5bc1805')\"\n",
              "              title=\"Convert this dataframe to an interactive table.\"\n",
              "              style=\"display:none;\">\n",
              "        \n",
              "  <svg xmlns=\"http://www.w3.org/2000/svg\" height=\"24px\"viewBox=\"0 0 24 24\"\n",
              "       width=\"24px\">\n",
              "    <path d=\"M0 0h24v24H0V0z\" fill=\"none\"/>\n",
              "    <path d=\"M18.56 5.44l.94 2.06.94-2.06 2.06-.94-2.06-.94-.94-2.06-.94 2.06-2.06.94zm-11 1L8.5 8.5l.94-2.06 2.06-.94-2.06-.94L8.5 2.5l-.94 2.06-2.06.94zm10 10l.94 2.06.94-2.06 2.06-.94-2.06-.94-.94-2.06-.94 2.06-2.06.94z\"/><path d=\"M17.41 7.96l-1.37-1.37c-.4-.4-.92-.59-1.43-.59-.52 0-1.04.2-1.43.59L10.3 9.45l-7.72 7.72c-.78.78-.78 2.05 0 2.83L4 21.41c.39.39.9.59 1.41.59.51 0 1.02-.2 1.41-.59l7.78-7.78 2.81-2.81c.8-.78.8-2.07 0-2.86zM5.41 20L4 18.59l7.72-7.72 1.47 1.35L5.41 20z\"/>\n",
              "  </svg>\n",
              "      </button>\n",
              "      \n",
              "  <style>\n",
              "    .colab-df-container {\n",
              "      display:flex;\n",
              "      flex-wrap:wrap;\n",
              "      gap: 12px;\n",
              "    }\n",
              "\n",
              "    .colab-df-convert {\n",
              "      background-color: #E8F0FE;\n",
              "      border: none;\n",
              "      border-radius: 50%;\n",
              "      cursor: pointer;\n",
              "      display: none;\n",
              "      fill: #1967D2;\n",
              "      height: 32px;\n",
              "      padding: 0 0 0 0;\n",
              "      width: 32px;\n",
              "    }\n",
              "\n",
              "    .colab-df-convert:hover {\n",
              "      background-color: #E2EBFA;\n",
              "      box-shadow: 0px 1px 2px rgba(60, 64, 67, 0.3), 0px 1px 3px 1px rgba(60, 64, 67, 0.15);\n",
              "      fill: #174EA6;\n",
              "    }\n",
              "\n",
              "    [theme=dark] .colab-df-convert {\n",
              "      background-color: #3B4455;\n",
              "      fill: #D2E3FC;\n",
              "    }\n",
              "\n",
              "    [theme=dark] .colab-df-convert:hover {\n",
              "      background-color: #434B5C;\n",
              "      box-shadow: 0px 1px 3px 1px rgba(0, 0, 0, 0.15);\n",
              "      filter: drop-shadow(0px 1px 2px rgba(0, 0, 0, 0.3));\n",
              "      fill: #FFFFFF;\n",
              "    }\n",
              "  </style>\n",
              "\n",
              "      <script>\n",
              "        const buttonEl =\n",
              "          document.querySelector('#df-2d6f0c63-537f-48df-97c4-fcb7a5bc1805 button.colab-df-convert');\n",
              "        buttonEl.style.display =\n",
              "          google.colab.kernel.accessAllowed ? 'block' : 'none';\n",
              "\n",
              "        async function convertToInteractive(key) {\n",
              "          const element = document.querySelector('#df-2d6f0c63-537f-48df-97c4-fcb7a5bc1805');\n",
              "          const dataTable =\n",
              "            await google.colab.kernel.invokeFunction('convertToInteractive',\n",
              "                                                     [key], {});\n",
              "          if (!dataTable) return;\n",
              "\n",
              "          const docLinkHtml = 'Like what you see? Visit the ' +\n",
              "            '<a target=\"_blank\" href=https://colab.research.google.com/notebooks/data_table.ipynb>data table notebook</a>'\n",
              "            + ' to learn more about interactive tables.';\n",
              "          element.innerHTML = '';\n",
              "          dataTable['output_type'] = 'display_data';\n",
              "          await google.colab.output.renderOutput(dataTable, element);\n",
              "          const docLink = document.createElement('div');\n",
              "          docLink.innerHTML = docLinkHtml;\n",
              "          element.appendChild(docLink);\n",
              "        }\n",
              "      </script>\n",
              "    </div>\n",
              "  </div>\n",
              "  "
            ]
          },
          "metadata": {},
          "execution_count": 262
        }
      ]
    },
    {
      "cell_type": "markdown",
      "source": [
        "### Escalado de la variable \"kilometros\""
      ],
      "metadata": {
        "id": "0qeDPxIxn4QF"
      }
    },
    {
      "cell_type": "markdown",
      "source": [
        "Creo función para devolver valores de una columna con su normalización Z"
      ],
      "metadata": {
        "id": "EUH4BwEgt0my"
      }
    },
    {
      "cell_type": "code",
      "source": [
        "def norm_z(columna):\n",
        "  '''\n",
        "  Get the Z transformation from a given column\n",
        "  '''\n",
        "\n",
        "  z = (coches[columna] - coches[columna].mean() / coches[columna].std())\n",
        "  return z"
      ],
      "metadata": {
        "id": "PzSNskjukM0v"
      },
      "execution_count": 263,
      "outputs": []
    },
    {
      "cell_type": "code",
      "source": [
        "coches['z_kilometros'] = norm_z('kilometros')\n"
      ],
      "metadata": {
        "id": "ZW5vdJuFuxZ8"
      },
      "execution_count": 264,
      "outputs": []
    },
    {
      "cell_type": "markdown",
      "source": [
        "### Crear nueva variable con la antigüedad del coches en años. Escalar."
      ],
      "metadata": {
        "id": "-FThqRKvw0tx"
      }
    },
    {
      "cell_type": "markdown",
      "source": [
        "Restar la fecha actual a la columna año para obtener los años del coches"
      ],
      "metadata": {
        "id": "NGqV3Z2zxHRw"
      }
    },
    {
      "cell_type": "code",
      "source": [
        "from datetime import datetime\n",
        "\n",
        "now = datetime.now().year\n",
        "coches['años'] = now - coches['año']"
      ],
      "metadata": {
        "id": "zc9blFidxAqG"
      },
      "execution_count": 265,
      "outputs": []
    },
    {
      "cell_type": "code",
      "source": [
        "coches.sample()"
      ],
      "metadata": {
        "colab": {
          "base_uri": "https://localhost:8080/",
          "height": 142
        },
        "id": "pvEBXaAewBtE",
        "outputId": "c8d68673-15e5-4925-8464-9ac6739948ae"
      },
      "execution_count": 266,
      "outputs": [
        {
          "output_type": "execute_result",
          "data": {
            "text/plain": [
              "                                        titulo  precio  kilometros   año  \\\n",
              "1234  MERCEDES-BENZ Clase C C 220 d Estate 5p.   42990       19683  2020   \n",
              "\n",
              "      combustible    ciudad  garantia  \\\n",
              "1234            1  Asturias      True   \n",
              "\n",
              "                                                                                      url  \\\n",
              "1234  /mercedes-benz-clase-c-c-220-d-estate-5p-diesel-2020-en-asturias-51624507-covo.aspx   \n",
              "\n",
              "                                                                                                            web  \\\n",
              "1234  https://www.coches.net/mercedes-benz-clase-c-c-220-d-estate-5p-diesel-2020-en-asturias-51624507-covo.aspx   \n",
              "\n",
              "     tipo    AMG  lat_ciudad  long_ciudad  z_kilometros  años  \n",
              "1234  220  False   43.271088    -5.854146  19681.419874     2  "
            ],
            "text/html": [
              "\n",
              "  <div id=\"df-7d2cfb07-0886-4b82-8901-181e14fc2cde\">\n",
              "    <div class=\"colab-df-container\">\n",
              "      <div>\n",
              "<style scoped>\n",
              "    .dataframe tbody tr th:only-of-type {\n",
              "        vertical-align: middle;\n",
              "    }\n",
              "\n",
              "    .dataframe tbody tr th {\n",
              "        vertical-align: top;\n",
              "    }\n",
              "\n",
              "    .dataframe thead th {\n",
              "        text-align: right;\n",
              "    }\n",
              "</style>\n",
              "<table border=\"1\" class=\"dataframe\">\n",
              "  <thead>\n",
              "    <tr style=\"text-align: right;\">\n",
              "      <th></th>\n",
              "      <th>titulo</th>\n",
              "      <th>precio</th>\n",
              "      <th>kilometros</th>\n",
              "      <th>año</th>\n",
              "      <th>combustible</th>\n",
              "      <th>ciudad</th>\n",
              "      <th>garantia</th>\n",
              "      <th>url</th>\n",
              "      <th>web</th>\n",
              "      <th>tipo</th>\n",
              "      <th>AMG</th>\n",
              "      <th>lat_ciudad</th>\n",
              "      <th>long_ciudad</th>\n",
              "      <th>z_kilometros</th>\n",
              "      <th>años</th>\n",
              "    </tr>\n",
              "  </thead>\n",
              "  <tbody>\n",
              "    <tr>\n",
              "      <th>1234</th>\n",
              "      <td>MERCEDES-BENZ Clase C C 220 d Estate 5p.</td>\n",
              "      <td>42990</td>\n",
              "      <td>19683</td>\n",
              "      <td>2020</td>\n",
              "      <td>1</td>\n",
              "      <td>Asturias</td>\n",
              "      <td>True</td>\n",
              "      <td>/mercedes-benz-clase-c-c-220-d-estate-5p-diesel-2020-en-asturias-51624507-covo.aspx</td>\n",
              "      <td>https://www.coches.net/mercedes-benz-clase-c-c-220-d-estate-5p-diesel-2020-en-asturias-51624507-covo.aspx</td>\n",
              "      <td>220</td>\n",
              "      <td>False</td>\n",
              "      <td>43.271088</td>\n",
              "      <td>-5.854146</td>\n",
              "      <td>19681.419874</td>\n",
              "      <td>2</td>\n",
              "    </tr>\n",
              "  </tbody>\n",
              "</table>\n",
              "</div>\n",
              "      <button class=\"colab-df-convert\" onclick=\"convertToInteractive('df-7d2cfb07-0886-4b82-8901-181e14fc2cde')\"\n",
              "              title=\"Convert this dataframe to an interactive table.\"\n",
              "              style=\"display:none;\">\n",
              "        \n",
              "  <svg xmlns=\"http://www.w3.org/2000/svg\" height=\"24px\"viewBox=\"0 0 24 24\"\n",
              "       width=\"24px\">\n",
              "    <path d=\"M0 0h24v24H0V0z\" fill=\"none\"/>\n",
              "    <path d=\"M18.56 5.44l.94 2.06.94-2.06 2.06-.94-2.06-.94-.94-2.06-.94 2.06-2.06.94zm-11 1L8.5 8.5l.94-2.06 2.06-.94-2.06-.94L8.5 2.5l-.94 2.06-2.06.94zm10 10l.94 2.06.94-2.06 2.06-.94-2.06-.94-.94-2.06-.94 2.06-2.06.94z\"/><path d=\"M17.41 7.96l-1.37-1.37c-.4-.4-.92-.59-1.43-.59-.52 0-1.04.2-1.43.59L10.3 9.45l-7.72 7.72c-.78.78-.78 2.05 0 2.83L4 21.41c.39.39.9.59 1.41.59.51 0 1.02-.2 1.41-.59l7.78-7.78 2.81-2.81c.8-.78.8-2.07 0-2.86zM5.41 20L4 18.59l7.72-7.72 1.47 1.35L5.41 20z\"/>\n",
              "  </svg>\n",
              "      </button>\n",
              "      \n",
              "  <style>\n",
              "    .colab-df-container {\n",
              "      display:flex;\n",
              "      flex-wrap:wrap;\n",
              "      gap: 12px;\n",
              "    }\n",
              "\n",
              "    .colab-df-convert {\n",
              "      background-color: #E8F0FE;\n",
              "      border: none;\n",
              "      border-radius: 50%;\n",
              "      cursor: pointer;\n",
              "      display: none;\n",
              "      fill: #1967D2;\n",
              "      height: 32px;\n",
              "      padding: 0 0 0 0;\n",
              "      width: 32px;\n",
              "    }\n",
              "\n",
              "    .colab-df-convert:hover {\n",
              "      background-color: #E2EBFA;\n",
              "      box-shadow: 0px 1px 2px rgba(60, 64, 67, 0.3), 0px 1px 3px 1px rgba(60, 64, 67, 0.15);\n",
              "      fill: #174EA6;\n",
              "    }\n",
              "\n",
              "    [theme=dark] .colab-df-convert {\n",
              "      background-color: #3B4455;\n",
              "      fill: #D2E3FC;\n",
              "    }\n",
              "\n",
              "    [theme=dark] .colab-df-convert:hover {\n",
              "      background-color: #434B5C;\n",
              "      box-shadow: 0px 1px 3px 1px rgba(0, 0, 0, 0.15);\n",
              "      filter: drop-shadow(0px 1px 2px rgba(0, 0, 0, 0.3));\n",
              "      fill: #FFFFFF;\n",
              "    }\n",
              "  </style>\n",
              "\n",
              "      <script>\n",
              "        const buttonEl =\n",
              "          document.querySelector('#df-7d2cfb07-0886-4b82-8901-181e14fc2cde button.colab-df-convert');\n",
              "        buttonEl.style.display =\n",
              "          google.colab.kernel.accessAllowed ? 'block' : 'none';\n",
              "\n",
              "        async function convertToInteractive(key) {\n",
              "          const element = document.querySelector('#df-7d2cfb07-0886-4b82-8901-181e14fc2cde');\n",
              "          const dataTable =\n",
              "            await google.colab.kernel.invokeFunction('convertToInteractive',\n",
              "                                                     [key], {});\n",
              "          if (!dataTable) return;\n",
              "\n",
              "          const docLinkHtml = 'Like what you see? Visit the ' +\n",
              "            '<a target=\"_blank\" href=https://colab.research.google.com/notebooks/data_table.ipynb>data table notebook</a>'\n",
              "            + ' to learn more about interactive tables.';\n",
              "          element.innerHTML = '';\n",
              "          dataTable['output_type'] = 'display_data';\n",
              "          await google.colab.output.renderOutput(dataTable, element);\n",
              "          const docLink = document.createElement('div');\n",
              "          docLink.innerHTML = docLinkHtml;\n",
              "          element.appendChild(docLink);\n",
              "        }\n",
              "      </script>\n",
              "    </div>\n",
              "  </div>\n",
              "  "
            ]
          },
          "metadata": {},
          "execution_count": 266
        }
      ]
    },
    {
      "cell_type": "markdown",
      "source": [
        "### Variables binarias para combustible y tipo"
      ],
      "metadata": {
        "id": "SmfSBNLWy91k"
      }
    },
    {
      "cell_type": "markdown",
      "source": [
        "Crear variables con el tipo de combustible"
      ],
      "metadata": {
        "id": "yGRjnyx7zAug"
      }
    },
    {
      "cell_type": "code",
      "source": [
        "# Usar dummies variables para generar las columnas binarias\n",
        "# Eliminamos primera columna \"combustible_1\", por lo que si el resto valen 0, quiere decir que se trata de\n",
        "# coche con combustible tipo 1 (diésel)\n",
        "coches['tipo_combustible'] = coches['combustible']\n",
        "coches['modelo_tipo'] = coches['tipo']\n",
        "coches = pd.get_dummies(coches, prefix = 'combustible', columns = ['combustible'], drop_first = True)\n",
        "coches = pd.get_dummies(coches, prefix = 'tipo', columns = ['tipo'], drop_first = True)\n",
        "coches.sample(1)"
      ],
      "metadata": {
        "colab": {
          "base_uri": "https://localhost:8080/",
          "height": 301
        },
        "id": "mPR4Y0PnzPRK",
        "outputId": "6c110e85-f797-4030-e2b1-36d6984c801b"
      },
      "execution_count": 267,
      "outputs": [
        {
          "output_type": "execute_result",
          "data": {
            "text/plain": [
              "                                       titulo  precio  kilometros   año  \\\n",
              "1154  MERCEDES-BENZ Clase C C Coupe 220 d 2p.   36900       75845  2018   \n",
              "\n",
              "      ciudad  garantia  \\\n",
              "1154  Madrid      True   \n",
              "\n",
              "                                                                                   url  \\\n",
              "1154  /mercedes-benz-clase-c-c-coupe-220-d-2p-diesel-2018-en-madrid-51639735-covo.aspx   \n",
              "\n",
              "                                                                                                         web  \\\n",
              "1154  https://www.coches.net/mercedes-benz-clase-c-c-coupe-220-d-2p-diesel-2018-en-madrid-51639735-covo.aspx   \n",
              "\n",
              "        AMG  lat_ciudad  long_ciudad  z_kilometros  años  tipo_combustible  \\\n",
              "1154  False   40.416705    -3.703582  75843.419874     4                 1   \n",
              "\n",
              "     modelo_tipo  combustible_2  combustible_4  combustible_5  tipo_200  \\\n",
              "1154         220              0              0              0         0   \n",
              "\n",
              "      tipo_220  tipo_250  tipo_300  tipo_350  tipo_400  tipo_43  tipo_45  \\\n",
              "1154         1         0         0         0         0        0        0   \n",
              "\n",
              "      tipo_450  tipo_63  tipo_NoInfo  \n",
              "1154         0        0            0  "
            ],
            "text/html": [
              "\n",
              "  <div id=\"df-8650372a-fd60-40de-afb7-25037a544832\">\n",
              "    <div class=\"colab-df-container\">\n",
              "      <div>\n",
              "<style scoped>\n",
              "    .dataframe tbody tr th:only-of-type {\n",
              "        vertical-align: middle;\n",
              "    }\n",
              "\n",
              "    .dataframe tbody tr th {\n",
              "        vertical-align: top;\n",
              "    }\n",
              "\n",
              "    .dataframe thead th {\n",
              "        text-align: right;\n",
              "    }\n",
              "</style>\n",
              "<table border=\"1\" class=\"dataframe\">\n",
              "  <thead>\n",
              "    <tr style=\"text-align: right;\">\n",
              "      <th></th>\n",
              "      <th>titulo</th>\n",
              "      <th>precio</th>\n",
              "      <th>kilometros</th>\n",
              "      <th>año</th>\n",
              "      <th>ciudad</th>\n",
              "      <th>garantia</th>\n",
              "      <th>url</th>\n",
              "      <th>web</th>\n",
              "      <th>AMG</th>\n",
              "      <th>lat_ciudad</th>\n",
              "      <th>long_ciudad</th>\n",
              "      <th>z_kilometros</th>\n",
              "      <th>años</th>\n",
              "      <th>tipo_combustible</th>\n",
              "      <th>modelo_tipo</th>\n",
              "      <th>combustible_2</th>\n",
              "      <th>combustible_4</th>\n",
              "      <th>combustible_5</th>\n",
              "      <th>tipo_200</th>\n",
              "      <th>tipo_220</th>\n",
              "      <th>tipo_250</th>\n",
              "      <th>tipo_300</th>\n",
              "      <th>tipo_350</th>\n",
              "      <th>tipo_400</th>\n",
              "      <th>tipo_43</th>\n",
              "      <th>tipo_45</th>\n",
              "      <th>tipo_450</th>\n",
              "      <th>tipo_63</th>\n",
              "      <th>tipo_NoInfo</th>\n",
              "    </tr>\n",
              "  </thead>\n",
              "  <tbody>\n",
              "    <tr>\n",
              "      <th>1154</th>\n",
              "      <td>MERCEDES-BENZ Clase C C Coupe 220 d 2p.</td>\n",
              "      <td>36900</td>\n",
              "      <td>75845</td>\n",
              "      <td>2018</td>\n",
              "      <td>Madrid</td>\n",
              "      <td>True</td>\n",
              "      <td>/mercedes-benz-clase-c-c-coupe-220-d-2p-diesel-2018-en-madrid-51639735-covo.aspx</td>\n",
              "      <td>https://www.coches.net/mercedes-benz-clase-c-c-coupe-220-d-2p-diesel-2018-en-madrid-51639735-covo.aspx</td>\n",
              "      <td>False</td>\n",
              "      <td>40.416705</td>\n",
              "      <td>-3.703582</td>\n",
              "      <td>75843.419874</td>\n",
              "      <td>4</td>\n",
              "      <td>1</td>\n",
              "      <td>220</td>\n",
              "      <td>0</td>\n",
              "      <td>0</td>\n",
              "      <td>0</td>\n",
              "      <td>0</td>\n",
              "      <td>1</td>\n",
              "      <td>0</td>\n",
              "      <td>0</td>\n",
              "      <td>0</td>\n",
              "      <td>0</td>\n",
              "      <td>0</td>\n",
              "      <td>0</td>\n",
              "      <td>0</td>\n",
              "      <td>0</td>\n",
              "      <td>0</td>\n",
              "    </tr>\n",
              "  </tbody>\n",
              "</table>\n",
              "</div>\n",
              "      <button class=\"colab-df-convert\" onclick=\"convertToInteractive('df-8650372a-fd60-40de-afb7-25037a544832')\"\n",
              "              title=\"Convert this dataframe to an interactive table.\"\n",
              "              style=\"display:none;\">\n",
              "        \n",
              "  <svg xmlns=\"http://www.w3.org/2000/svg\" height=\"24px\"viewBox=\"0 0 24 24\"\n",
              "       width=\"24px\">\n",
              "    <path d=\"M0 0h24v24H0V0z\" fill=\"none\"/>\n",
              "    <path d=\"M18.56 5.44l.94 2.06.94-2.06 2.06-.94-2.06-.94-.94-2.06-.94 2.06-2.06.94zm-11 1L8.5 8.5l.94-2.06 2.06-.94-2.06-.94L8.5 2.5l-.94 2.06-2.06.94zm10 10l.94 2.06.94-2.06 2.06-.94-2.06-.94-.94-2.06-.94 2.06-2.06.94z\"/><path d=\"M17.41 7.96l-1.37-1.37c-.4-.4-.92-.59-1.43-.59-.52 0-1.04.2-1.43.59L10.3 9.45l-7.72 7.72c-.78.78-.78 2.05 0 2.83L4 21.41c.39.39.9.59 1.41.59.51 0 1.02-.2 1.41-.59l7.78-7.78 2.81-2.81c.8-.78.8-2.07 0-2.86zM5.41 20L4 18.59l7.72-7.72 1.47 1.35L5.41 20z\"/>\n",
              "  </svg>\n",
              "      </button>\n",
              "      \n",
              "  <style>\n",
              "    .colab-df-container {\n",
              "      display:flex;\n",
              "      flex-wrap:wrap;\n",
              "      gap: 12px;\n",
              "    }\n",
              "\n",
              "    .colab-df-convert {\n",
              "      background-color: #E8F0FE;\n",
              "      border: none;\n",
              "      border-radius: 50%;\n",
              "      cursor: pointer;\n",
              "      display: none;\n",
              "      fill: #1967D2;\n",
              "      height: 32px;\n",
              "      padding: 0 0 0 0;\n",
              "      width: 32px;\n",
              "    }\n",
              "\n",
              "    .colab-df-convert:hover {\n",
              "      background-color: #E2EBFA;\n",
              "      box-shadow: 0px 1px 2px rgba(60, 64, 67, 0.3), 0px 1px 3px 1px rgba(60, 64, 67, 0.15);\n",
              "      fill: #174EA6;\n",
              "    }\n",
              "\n",
              "    [theme=dark] .colab-df-convert {\n",
              "      background-color: #3B4455;\n",
              "      fill: #D2E3FC;\n",
              "    }\n",
              "\n",
              "    [theme=dark] .colab-df-convert:hover {\n",
              "      background-color: #434B5C;\n",
              "      box-shadow: 0px 1px 3px 1px rgba(0, 0, 0, 0.15);\n",
              "      filter: drop-shadow(0px 1px 2px rgba(0, 0, 0, 0.3));\n",
              "      fill: #FFFFFF;\n",
              "    }\n",
              "  </style>\n",
              "\n",
              "      <script>\n",
              "        const buttonEl =\n",
              "          document.querySelector('#df-8650372a-fd60-40de-afb7-25037a544832 button.colab-df-convert');\n",
              "        buttonEl.style.display =\n",
              "          google.colab.kernel.accessAllowed ? 'block' : 'none';\n",
              "\n",
              "        async function convertToInteractive(key) {\n",
              "          const element = document.querySelector('#df-8650372a-fd60-40de-afb7-25037a544832');\n",
              "          const dataTable =\n",
              "            await google.colab.kernel.invokeFunction('convertToInteractive',\n",
              "                                                     [key], {});\n",
              "          if (!dataTable) return;\n",
              "\n",
              "          const docLinkHtml = 'Like what you see? Visit the ' +\n",
              "            '<a target=\"_blank\" href=https://colab.research.google.com/notebooks/data_table.ipynb>data table notebook</a>'\n",
              "            + ' to learn more about interactive tables.';\n",
              "          element.innerHTML = '';\n",
              "          dataTable['output_type'] = 'display_data';\n",
              "          await google.colab.output.renderOutput(dataTable, element);\n",
              "          const docLink = document.createElement('div');\n",
              "          docLink.innerHTML = docLinkHtml;\n",
              "          element.appendChild(docLink);\n",
              "        }\n",
              "      </script>\n",
              "    </div>\n",
              "  </div>\n",
              "  "
            ]
          },
          "metadata": {},
          "execution_count": 267
        }
      ]
    },
    {
      "cell_type": "markdown",
      "source": [
        "Crear nuevas variables para identificar la carrocería a partir del número de puertas.\n",
        "\n",
        "* 2-3 $\\rightarrow$ Coupé-Cabrio\n",
        "* 4 $\\rightarrow$ Berlina\n",
        "* 5 $\\rightarrow$ Estate (portón)\n"
      ],
      "metadata": {
        "id": "KCBWQ1U9nFE-"
      }
    },
    {
      "cell_type": "code",
      "source": [
        "# Buscar texto entre  dos o tres digitos (220,63, ...) y el final de la frase, (4|5)p. (4p. o 5p.)\n",
        "# Extrae numero de puertas de 2,3,4p.\n",
        "\n",
        "coches['puertas'] =  coches['titulo'].str.extract('(\\d{1})p.').fillna('NoInfo')\n",
        "coches.value_counts('puertas')"
      ],
      "metadata": {
        "colab": {
          "base_uri": "https://localhost:8080/"
        },
        "id": "Er4k52ASnDko",
        "outputId": "155c21db-32ae-4e62-9162-40dfd16bd1fa"
      },
      "execution_count": 268,
      "outputs": [
        {
          "output_type": "execute_result",
          "data": {
            "text/plain": [
              "puertas\n",
              "4         859\n",
              "5         577\n",
              "2         402\n",
              "NoInfo     87\n",
              "3           2\n",
              "dtype: int64"
            ]
          },
          "metadata": {},
          "execution_count": 268
        }
      ]
    },
    {
      "cell_type": "markdown",
      "source": [
        "Crear nuevas varibles con el resto de información relevante que encontramos en la información.\n",
        "\n",
        "1.   4MATIC\n",
        "2.   Avantgarde\n",
        "3.   BlueTEC \n",
        "4.   Sportive \n",
        "5.   Exclusive\n",
        "6.   S Edition\n",
        "7.   d Edition\n",
        "\n"
      ],
      "metadata": {
        "id": "XwXzDLMEoYu0"
      }
    },
    {
      "cell_type": "code",
      "source": [
        "# extraigo información\n",
        "coches['acabado'] =  coches['titulo'].str.extract('\\d{2,3}(.*)\\s\\d{1}p.').fillna('NoInfo')\n",
        "\n",
        "# Creo nuevas columnas con las características a completar\n",
        "acabados = ['4MATIC', 'Avantgarde', 'BlueTEC', 'Sportive', 'Exclusive', 'S Edition', 'd Edition']\n",
        "\n",
        "for _ in acabados:\n",
        "  coches[_] = False\n",
        "\n",
        "# Añado columnas con nombres de los acabados, indicando con True o False si poseen ese acabado\n",
        "for each in acabados:\n",
        "  coches[each] = np.where((coches.acabado.str.contains(each)), True, False)\n",
        "\n",
        "# Verifico\n",
        "coches.sample(5)"
      ],
      "metadata": {
        "colab": {
          "base_uri": "https://localhost:8080/",
          "height": 912
        },
        "id": "uIrpJN7WWs61",
        "outputId": "36c7ebc4-023f-4898-ca3a-5001273c3048"
      },
      "execution_count": 269,
      "outputs": [
        {
          "output_type": "execute_result",
          "data": {
            "text/plain": [
              "                                                        titulo  precio  \\\n",
              "1268                   MERCEDES-BENZ Clase C C Coupe 220 d 2p.   37500   \n",
              "5                              MERCEDES-BENZ Clase C C 200 4p.   34490   \n",
              "829   MERCEDES-BENZ Clase C Cabrio MercedesAMG C 43 4MATIC 2p.   77900   \n",
              "1593                         MERCEDES-BENZ Clase C C 220 d 4p.   29900   \n",
              "1697       MERCEDES-BENZ Clase C MercedesAMG C 63 S Estate 5p.   78995   \n",
              "\n",
              "      kilometros   año     ciudad  garantia  \\\n",
              "1268       50000  2017   Asturias      True   \n",
              "5          41875  2019       Jaén      True   \n",
              "829         8865  2020  Barcelona      True   \n",
              "1593       73794  2018    Sevilla      True   \n",
              "1697       55000  2018  Barcelona     False   \n",
              "\n",
              "                                                                                                         url  \\\n",
              "1268                         /mercedes-benz-clase-c-c-coupe-220-d-diesel-2017-en-asturias-50684172-covo.aspx   \n",
              "5                          /mercedes-benz-clase-c-c-200-4p-electrico-hibrido-2019-en-jaen-51686358-covo.aspx   \n",
              "829   /mercedes-benz-clase-c-cabrio-mercedesamg-c-43-4matic-2p-gasolina-2020-en-barcelona-50238608-covo.aspx   \n",
              "1593                             /mercedes-benz-clase-c-c-220-d-4p-diesel-2018-en-sevilla-51449839-covo.aspx   \n",
              "1697       /mercedes-benz-clase-c-mercedesamg-c-63-s-estate-5p-gasolina-2018-en-barcelona-51337342-covo.aspx   \n",
              "\n",
              "                                                                                                                               web  \\\n",
              "1268                         https://www.coches.net/mercedes-benz-clase-c-c-coupe-220-d-diesel-2017-en-asturias-50684172-covo.aspx   \n",
              "5                          https://www.coches.net/mercedes-benz-clase-c-c-200-4p-electrico-hibrido-2019-en-jaen-51686358-covo.aspx   \n",
              "829   https://www.coches.net/mercedes-benz-clase-c-cabrio-mercedesamg-c-43-4matic-2p-gasolina-2020-en-barcelona-50238608-covo.aspx   \n",
              "1593                             https://www.coches.net/mercedes-benz-clase-c-c-220-d-4p-diesel-2018-en-sevilla-51449839-covo.aspx   \n",
              "1697       https://www.coches.net/mercedes-benz-clase-c-mercedesamg-c-63-s-estate-5p-gasolina-2018-en-barcelona-51337342-covo.aspx   \n",
              "\n",
              "        AMG  lat_ciudad  long_ciudad  z_kilometros  años  tipo_combustible  \\\n",
              "1268  False   43.271088    -5.854146  49998.419874     5                 1   \n",
              "5     False   37.955728    -3.492056  41873.419874     3                 4   \n",
              "829    True   41.382894     2.177432   8863.419874     2                 2   \n",
              "1593  False   37.388630    -5.995340  73792.419874     4                 1   \n",
              "1697   True   41.382894     2.177432  54998.419874     4                 2   \n",
              "\n",
              "     modelo_tipo  combustible_2  combustible_4  combustible_5  tipo_200  \\\n",
              "1268         220              0              0              0         0   \n",
              "5            200              0              1              0         1   \n",
              "829           43              1              0              0         0   \n",
              "1593         220              0              0              0         0   \n",
              "1697          63              1              0              0         0   \n",
              "\n",
              "      tipo_220  tipo_250  tipo_300  tipo_350  tipo_400  tipo_43  tipo_45  \\\n",
              "1268         1         0         0         0         0        0        0   \n",
              "5            0         0         0         0         0        0        0   \n",
              "829          0         0         0         0         0        1        0   \n",
              "1593         1         0         0         0         0        0        0   \n",
              "1697         0         0         0         0         0        0        0   \n",
              "\n",
              "      tipo_450  tipo_63  tipo_NoInfo puertas    acabado  4MATIC  Avantgarde  \\\n",
              "1268         0        0            0       2          d   False       False   \n",
              "5            0        0            0       4              False       False   \n",
              "829          0        0            0       2     4MATIC    True       False   \n",
              "1593         0        0            0       4          d   False       False   \n",
              "1697         0        1            0       5   S Estate   False       False   \n",
              "\n",
              "      BlueTEC  Sportive  Exclusive  S Edition  d Edition  \n",
              "1268    False     False      False      False      False  \n",
              "5       False     False      False      False      False  \n",
              "829     False     False      False      False      False  \n",
              "1593    False     False      False      False      False  \n",
              "1697    False     False      False      False      False  "
            ],
            "text/html": [
              "\n",
              "  <div id=\"df-6f31e9cd-a0b6-4440-8793-73af695cabc0\">\n",
              "    <div class=\"colab-df-container\">\n",
              "      <div>\n",
              "<style scoped>\n",
              "    .dataframe tbody tr th:only-of-type {\n",
              "        vertical-align: middle;\n",
              "    }\n",
              "\n",
              "    .dataframe tbody tr th {\n",
              "        vertical-align: top;\n",
              "    }\n",
              "\n",
              "    .dataframe thead th {\n",
              "        text-align: right;\n",
              "    }\n",
              "</style>\n",
              "<table border=\"1\" class=\"dataframe\">\n",
              "  <thead>\n",
              "    <tr style=\"text-align: right;\">\n",
              "      <th></th>\n",
              "      <th>titulo</th>\n",
              "      <th>precio</th>\n",
              "      <th>kilometros</th>\n",
              "      <th>año</th>\n",
              "      <th>ciudad</th>\n",
              "      <th>garantia</th>\n",
              "      <th>url</th>\n",
              "      <th>web</th>\n",
              "      <th>AMG</th>\n",
              "      <th>lat_ciudad</th>\n",
              "      <th>long_ciudad</th>\n",
              "      <th>z_kilometros</th>\n",
              "      <th>años</th>\n",
              "      <th>tipo_combustible</th>\n",
              "      <th>modelo_tipo</th>\n",
              "      <th>combustible_2</th>\n",
              "      <th>combustible_4</th>\n",
              "      <th>combustible_5</th>\n",
              "      <th>tipo_200</th>\n",
              "      <th>tipo_220</th>\n",
              "      <th>tipo_250</th>\n",
              "      <th>tipo_300</th>\n",
              "      <th>tipo_350</th>\n",
              "      <th>tipo_400</th>\n",
              "      <th>tipo_43</th>\n",
              "      <th>tipo_45</th>\n",
              "      <th>tipo_450</th>\n",
              "      <th>tipo_63</th>\n",
              "      <th>tipo_NoInfo</th>\n",
              "      <th>puertas</th>\n",
              "      <th>acabado</th>\n",
              "      <th>4MATIC</th>\n",
              "      <th>Avantgarde</th>\n",
              "      <th>BlueTEC</th>\n",
              "      <th>Sportive</th>\n",
              "      <th>Exclusive</th>\n",
              "      <th>S Edition</th>\n",
              "      <th>d Edition</th>\n",
              "    </tr>\n",
              "  </thead>\n",
              "  <tbody>\n",
              "    <tr>\n",
              "      <th>1268</th>\n",
              "      <td>MERCEDES-BENZ Clase C C Coupe 220 d 2p.</td>\n",
              "      <td>37500</td>\n",
              "      <td>50000</td>\n",
              "      <td>2017</td>\n",
              "      <td>Asturias</td>\n",
              "      <td>True</td>\n",
              "      <td>/mercedes-benz-clase-c-c-coupe-220-d-diesel-2017-en-asturias-50684172-covo.aspx</td>\n",
              "      <td>https://www.coches.net/mercedes-benz-clase-c-c-coupe-220-d-diesel-2017-en-asturias-50684172-covo.aspx</td>\n",
              "      <td>False</td>\n",
              "      <td>43.271088</td>\n",
              "      <td>-5.854146</td>\n",
              "      <td>49998.419874</td>\n",
              "      <td>5</td>\n",
              "      <td>1</td>\n",
              "      <td>220</td>\n",
              "      <td>0</td>\n",
              "      <td>0</td>\n",
              "      <td>0</td>\n",
              "      <td>0</td>\n",
              "      <td>1</td>\n",
              "      <td>0</td>\n",
              "      <td>0</td>\n",
              "      <td>0</td>\n",
              "      <td>0</td>\n",
              "      <td>0</td>\n",
              "      <td>0</td>\n",
              "      <td>0</td>\n",
              "      <td>0</td>\n",
              "      <td>0</td>\n",
              "      <td>2</td>\n",
              "      <td>d</td>\n",
              "      <td>False</td>\n",
              "      <td>False</td>\n",
              "      <td>False</td>\n",
              "      <td>False</td>\n",
              "      <td>False</td>\n",
              "      <td>False</td>\n",
              "      <td>False</td>\n",
              "    </tr>\n",
              "    <tr>\n",
              "      <th>5</th>\n",
              "      <td>MERCEDES-BENZ Clase C C 200 4p.</td>\n",
              "      <td>34490</td>\n",
              "      <td>41875</td>\n",
              "      <td>2019</td>\n",
              "      <td>Jaén</td>\n",
              "      <td>True</td>\n",
              "      <td>/mercedes-benz-clase-c-c-200-4p-electrico-hibrido-2019-en-jaen-51686358-covo.aspx</td>\n",
              "      <td>https://www.coches.net/mercedes-benz-clase-c-c-200-4p-electrico-hibrido-2019-en-jaen-51686358-covo.aspx</td>\n",
              "      <td>False</td>\n",
              "      <td>37.955728</td>\n",
              "      <td>-3.492056</td>\n",
              "      <td>41873.419874</td>\n",
              "      <td>3</td>\n",
              "      <td>4</td>\n",
              "      <td>200</td>\n",
              "      <td>0</td>\n",
              "      <td>1</td>\n",
              "      <td>0</td>\n",
              "      <td>1</td>\n",
              "      <td>0</td>\n",
              "      <td>0</td>\n",
              "      <td>0</td>\n",
              "      <td>0</td>\n",
              "      <td>0</td>\n",
              "      <td>0</td>\n",
              "      <td>0</td>\n",
              "      <td>0</td>\n",
              "      <td>0</td>\n",
              "      <td>0</td>\n",
              "      <td>4</td>\n",
              "      <td></td>\n",
              "      <td>False</td>\n",
              "      <td>False</td>\n",
              "      <td>False</td>\n",
              "      <td>False</td>\n",
              "      <td>False</td>\n",
              "      <td>False</td>\n",
              "      <td>False</td>\n",
              "    </tr>\n",
              "    <tr>\n",
              "      <th>829</th>\n",
              "      <td>MERCEDES-BENZ Clase C Cabrio MercedesAMG C 43 4MATIC 2p.</td>\n",
              "      <td>77900</td>\n",
              "      <td>8865</td>\n",
              "      <td>2020</td>\n",
              "      <td>Barcelona</td>\n",
              "      <td>True</td>\n",
              "      <td>/mercedes-benz-clase-c-cabrio-mercedesamg-c-43-4matic-2p-gasolina-2020-en-barcelona-50238608-covo.aspx</td>\n",
              "      <td>https://www.coches.net/mercedes-benz-clase-c-cabrio-mercedesamg-c-43-4matic-2p-gasolina-2020-en-barcelona-50238608-covo.aspx</td>\n",
              "      <td>True</td>\n",
              "      <td>41.382894</td>\n",
              "      <td>2.177432</td>\n",
              "      <td>8863.419874</td>\n",
              "      <td>2</td>\n",
              "      <td>2</td>\n",
              "      <td>43</td>\n",
              "      <td>1</td>\n",
              "      <td>0</td>\n",
              "      <td>0</td>\n",
              "      <td>0</td>\n",
              "      <td>0</td>\n",
              "      <td>0</td>\n",
              "      <td>0</td>\n",
              "      <td>0</td>\n",
              "      <td>0</td>\n",
              "      <td>1</td>\n",
              "      <td>0</td>\n",
              "      <td>0</td>\n",
              "      <td>0</td>\n",
              "      <td>0</td>\n",
              "      <td>2</td>\n",
              "      <td>4MATIC</td>\n",
              "      <td>True</td>\n",
              "      <td>False</td>\n",
              "      <td>False</td>\n",
              "      <td>False</td>\n",
              "      <td>False</td>\n",
              "      <td>False</td>\n",
              "      <td>False</td>\n",
              "    </tr>\n",
              "    <tr>\n",
              "      <th>1593</th>\n",
              "      <td>MERCEDES-BENZ Clase C C 220 d 4p.</td>\n",
              "      <td>29900</td>\n",
              "      <td>73794</td>\n",
              "      <td>2018</td>\n",
              "      <td>Sevilla</td>\n",
              "      <td>True</td>\n",
              "      <td>/mercedes-benz-clase-c-c-220-d-4p-diesel-2018-en-sevilla-51449839-covo.aspx</td>\n",
              "      <td>https://www.coches.net/mercedes-benz-clase-c-c-220-d-4p-diesel-2018-en-sevilla-51449839-covo.aspx</td>\n",
              "      <td>False</td>\n",
              "      <td>37.388630</td>\n",
              "      <td>-5.995340</td>\n",
              "      <td>73792.419874</td>\n",
              "      <td>4</td>\n",
              "      <td>1</td>\n",
              "      <td>220</td>\n",
              "      <td>0</td>\n",
              "      <td>0</td>\n",
              "      <td>0</td>\n",
              "      <td>0</td>\n",
              "      <td>1</td>\n",
              "      <td>0</td>\n",
              "      <td>0</td>\n",
              "      <td>0</td>\n",
              "      <td>0</td>\n",
              "      <td>0</td>\n",
              "      <td>0</td>\n",
              "      <td>0</td>\n",
              "      <td>0</td>\n",
              "      <td>0</td>\n",
              "      <td>4</td>\n",
              "      <td>d</td>\n",
              "      <td>False</td>\n",
              "      <td>False</td>\n",
              "      <td>False</td>\n",
              "      <td>False</td>\n",
              "      <td>False</td>\n",
              "      <td>False</td>\n",
              "      <td>False</td>\n",
              "    </tr>\n",
              "    <tr>\n",
              "      <th>1697</th>\n",
              "      <td>MERCEDES-BENZ Clase C MercedesAMG C 63 S Estate 5p.</td>\n",
              "      <td>78995</td>\n",
              "      <td>55000</td>\n",
              "      <td>2018</td>\n",
              "      <td>Barcelona</td>\n",
              "      <td>False</td>\n",
              "      <td>/mercedes-benz-clase-c-mercedesamg-c-63-s-estate-5p-gasolina-2018-en-barcelona-51337342-covo.aspx</td>\n",
              "      <td>https://www.coches.net/mercedes-benz-clase-c-mercedesamg-c-63-s-estate-5p-gasolina-2018-en-barcelona-51337342-covo.aspx</td>\n",
              "      <td>True</td>\n",
              "      <td>41.382894</td>\n",
              "      <td>2.177432</td>\n",
              "      <td>54998.419874</td>\n",
              "      <td>4</td>\n",
              "      <td>2</td>\n",
              "      <td>63</td>\n",
              "      <td>1</td>\n",
              "      <td>0</td>\n",
              "      <td>0</td>\n",
              "      <td>0</td>\n",
              "      <td>0</td>\n",
              "      <td>0</td>\n",
              "      <td>0</td>\n",
              "      <td>0</td>\n",
              "      <td>0</td>\n",
              "      <td>0</td>\n",
              "      <td>0</td>\n",
              "      <td>0</td>\n",
              "      <td>1</td>\n",
              "      <td>0</td>\n",
              "      <td>5</td>\n",
              "      <td>S Estate</td>\n",
              "      <td>False</td>\n",
              "      <td>False</td>\n",
              "      <td>False</td>\n",
              "      <td>False</td>\n",
              "      <td>False</td>\n",
              "      <td>False</td>\n",
              "      <td>False</td>\n",
              "    </tr>\n",
              "  </tbody>\n",
              "</table>\n",
              "</div>\n",
              "      <button class=\"colab-df-convert\" onclick=\"convertToInteractive('df-6f31e9cd-a0b6-4440-8793-73af695cabc0')\"\n",
              "              title=\"Convert this dataframe to an interactive table.\"\n",
              "              style=\"display:none;\">\n",
              "        \n",
              "  <svg xmlns=\"http://www.w3.org/2000/svg\" height=\"24px\"viewBox=\"0 0 24 24\"\n",
              "       width=\"24px\">\n",
              "    <path d=\"M0 0h24v24H0V0z\" fill=\"none\"/>\n",
              "    <path d=\"M18.56 5.44l.94 2.06.94-2.06 2.06-.94-2.06-.94-.94-2.06-.94 2.06-2.06.94zm-11 1L8.5 8.5l.94-2.06 2.06-.94-2.06-.94L8.5 2.5l-.94 2.06-2.06.94zm10 10l.94 2.06.94-2.06 2.06-.94-2.06-.94-.94-2.06-.94 2.06-2.06.94z\"/><path d=\"M17.41 7.96l-1.37-1.37c-.4-.4-.92-.59-1.43-.59-.52 0-1.04.2-1.43.59L10.3 9.45l-7.72 7.72c-.78.78-.78 2.05 0 2.83L4 21.41c.39.39.9.59 1.41.59.51 0 1.02-.2 1.41-.59l7.78-7.78 2.81-2.81c.8-.78.8-2.07 0-2.86zM5.41 20L4 18.59l7.72-7.72 1.47 1.35L5.41 20z\"/>\n",
              "  </svg>\n",
              "      </button>\n",
              "      \n",
              "  <style>\n",
              "    .colab-df-container {\n",
              "      display:flex;\n",
              "      flex-wrap:wrap;\n",
              "      gap: 12px;\n",
              "    }\n",
              "\n",
              "    .colab-df-convert {\n",
              "      background-color: #E8F0FE;\n",
              "      border: none;\n",
              "      border-radius: 50%;\n",
              "      cursor: pointer;\n",
              "      display: none;\n",
              "      fill: #1967D2;\n",
              "      height: 32px;\n",
              "      padding: 0 0 0 0;\n",
              "      width: 32px;\n",
              "    }\n",
              "\n",
              "    .colab-df-convert:hover {\n",
              "      background-color: #E2EBFA;\n",
              "      box-shadow: 0px 1px 2px rgba(60, 64, 67, 0.3), 0px 1px 3px 1px rgba(60, 64, 67, 0.15);\n",
              "      fill: #174EA6;\n",
              "    }\n",
              "\n",
              "    [theme=dark] .colab-df-convert {\n",
              "      background-color: #3B4455;\n",
              "      fill: #D2E3FC;\n",
              "    }\n",
              "\n",
              "    [theme=dark] .colab-df-convert:hover {\n",
              "      background-color: #434B5C;\n",
              "      box-shadow: 0px 1px 3px 1px rgba(0, 0, 0, 0.15);\n",
              "      filter: drop-shadow(0px 1px 2px rgba(0, 0, 0, 0.3));\n",
              "      fill: #FFFFFF;\n",
              "    }\n",
              "  </style>\n",
              "\n",
              "      <script>\n",
              "        const buttonEl =\n",
              "          document.querySelector('#df-6f31e9cd-a0b6-4440-8793-73af695cabc0 button.colab-df-convert');\n",
              "        buttonEl.style.display =\n",
              "          google.colab.kernel.accessAllowed ? 'block' : 'none';\n",
              "\n",
              "        async function convertToInteractive(key) {\n",
              "          const element = document.querySelector('#df-6f31e9cd-a0b6-4440-8793-73af695cabc0');\n",
              "          const dataTable =\n",
              "            await google.colab.kernel.invokeFunction('convertToInteractive',\n",
              "                                                     [key], {});\n",
              "          if (!dataTable) return;\n",
              "\n",
              "          const docLinkHtml = 'Like what you see? Visit the ' +\n",
              "            '<a target=\"_blank\" href=https://colab.research.google.com/notebooks/data_table.ipynb>data table notebook</a>'\n",
              "            + ' to learn more about interactive tables.';\n",
              "          element.innerHTML = '';\n",
              "          dataTable['output_type'] = 'display_data';\n",
              "          await google.colab.output.renderOutput(dataTable, element);\n",
              "          const docLink = document.createElement('div');\n",
              "          docLink.innerHTML = docLinkHtml;\n",
              "          element.appendChild(docLink);\n",
              "        }\n",
              "      </script>\n",
              "    </div>\n",
              "  </div>\n",
              "  "
            ]
          },
          "metadata": {},
          "execution_count": 269
        }
      ]
    },
    {
      "cell_type": "code",
      "source": [
        "# Elimino columna intermedia \"acabado\"\n",
        "coches = coches.drop('acabado', axis = 1)"
      ],
      "metadata": {
        "id": "JUSVsG1gqKIm"
      },
      "execution_count": 270,
      "outputs": []
    },
    {
      "cell_type": "markdown",
      "source": [
        "Salvaguardar DataFrame"
      ],
      "metadata": {
        "id": "tSB1TjBW4mfC"
      }
    },
    {
      "cell_type": "code",
      "source": [
        "coches_copy = coches.copy()"
      ],
      "metadata": {
        "id": "VsTh1wH11twT"
      },
      "execution_count": 271,
      "outputs": []
    },
    {
      "cell_type": "markdown",
      "source": [
        "### Box plot de características."
      ],
      "metadata": {
        "id": "VZQfL7U-486K"
      }
    },
    {
      "cell_type": "markdown",
      "source": [
        "Mostrar varibles categóricas en diagramas de caja y bigotes"
      ],
      "metadata": {
        "id": "BZe84OBC542o"
      }
    },
    {
      "cell_type": "code",
      "source": [
        "# Function from the example of the course. (Thaks to the author).\n",
        "# Codigo utilizado durante la formación recibida por \"Udacity\"\n",
        "def boxgrid(x, y, **kwargs):\n",
        "    \"\"\" Quick hack for creating box plots with seaborn's PairGrid. \"\"\"\n",
        "    default_color = sns.color_palette()[0]\n",
        "    sns.boxplot(x, y, color = default_color)\n",
        "    plt.xticks(rotation = 30)\n",
        "    \n",
        "# Plotting the graph\n",
        "plt.figure(figsize = [20, 20])\n",
        "g = sns.PairGrid(data = coches, y_vars = ['precio', 'kilometros'], \n",
        "                x_vars = ['año', 'garantia', 'modelo_tipo', 'AMG', 'tipo_combustible', 'puertas'], height = 3, aspect = 1.5)\n",
        "\n",
        "g.fig.subplots_adjust(top=0.95)\n",
        "g.fig.suptitle('Variables categóricas frente a numéricas')\n",
        "g.map(boxgrid)\n",
        "plt.show();"
      ],
      "metadata": {
        "colab": {
          "base_uri": "https://localhost:8080/",
          "height": 477
        },
        "id": "p31o2D5K477x",
        "outputId": "98b117de-523d-4e6c-d19a-8ca14347df51"
      },
      "execution_count": 272,
      "outputs": [
        {
          "output_type": "display_data",
          "data": {
            "text/plain": [
              "<Figure size 1440x1440 with 0 Axes>"
            ]
          },
          "metadata": {}
        },
        {
          "output_type": "display_data",
          "data": {
            "text/plain": [
              "<Figure size 1944x432 with 12 Axes>"
            ],
            "image/png": "[encoded data removed]"
          },
          "metadata": {
            "needs_background": "light"
          }
        }
      ]
    },
    {
      "cell_type": "markdown",
      "source": [
        "### Análisis por agrupación"
      ],
      "metadata": {
        "id": "Gfuki5tJ9Lvt"
      }
    },
    {
      "cell_type": "markdown",
      "source": [
        "Analizar media y mediana de precios por ciudad"
      ],
      "metadata": {
        "id": "wyyemHJe9cAq"
      }
    },
    {
      "cell_type": "code",
      "source": [
        "# Agrupar datos\n",
        "coches_city_price_mean = coches.groupby('ciudad')['precio'].mean().reset_index()\n",
        "coches_city_price_median = coches.groupby('ciudad')['precio'].median().reset_index()"
      ],
      "metadata": {
        "id": "1MpYzCF44ugL"
      },
      "execution_count": 273,
      "outputs": []
    },
    {
      "cell_type": "code",
      "source": [
        "# Crear gráfico\n",
        "plt.figure(figsize = (30,20))\n",
        "bars_precio = plt.bar(coches_city_price_mean.ciudad,coches_city_price_mean.precio, label = 'precio medio')\n",
        "median_precio = plt.plot(coches_city_price_median.ciudad, coches_city_price_median.precio, color = 'red', label = 'precio mediana')\n",
        "plt.plot([], [], ' ', label=\"Vehículos anunciados\")\n",
        "plt.tick_params(axis = 'x',labelrotation = 45, labelsize = 10)\n",
        "plt.tick_params(axis = 'y', labelsize = 20)\n",
        "plt.ylabel('Precio, euros',fontdict = {'fontsize': 40})\n",
        "plt.xlabel('Ciudad',fontdict = {'fontsize': 40})\n",
        "plt.title('Media y mediana de los precios por ciudad',fontdict = {'fontsize': 40},pad = 0)\n",
        "plt.legend(prop = {'size': 20})\n",
        "\n",
        "\n",
        "# Añado texto en cada barra con el número de unidades por ciudad\n",
        "nCiudad = coches.value_counts('ciudad').reset_index()\n",
        "nCiudad = nCiudad.sort_values('ciudad')\n",
        "x = coches_city_price_mean.ciudad\n",
        "y = coches_city_price_mean.precio\n",
        "n = nCiudad[0]\n",
        "for x, y, n in zip(x, y, n):\n",
        "   plt.text(x, y, n)\n",
        "\n",
        "plt.show();"
      ],
      "metadata": {
        "colab": {
          "base_uri": "https://localhost:8080/",
          "height": 1000
        },
        "id": "YfkB74z9dFNq",
        "outputId": "268f4101-e8f5-471d-a165-0e20dbe35274"
      },
      "execution_count": 274,
      "outputs": [
        {
          "output_type": "display_data",
          "data": {
            "text/plain": [
              "<Figure size 2160x1440 with 1 Axes>"
            ],
            "image/png": "[encoded data removed]"
          },
          "metadata": {
            "needs_background": "light"
          }
        }
      ]
    },
    {
      "cell_type": "markdown",
      "source": [
        "### Estudio de las distintas distribuciones."
      ],
      "metadata": {
        "id": "MMUDGakfEdm1"
      }
    },
    {
      "cell_type": "markdown",
      "source": [
        "Distribución de la variable precio"
      ],
      "metadata": {
        "id": "gUc49GK-Ef0t"
      }
    },
    {
      "cell_type": "code",
      "source": [
        "# Creando el histograma\n",
        "binsize = 500\n",
        "bins = np.arange(0, coches['precio'].max()+binsize, binsize)\n",
        "\n",
        "plt.figure(figsize=[15, 10])\n",
        "plt.hist(data = coches, x = 'precio', bins = bins)\n",
        "plt.xlabel('Precio (€)')\n",
        "plt.title('Número de vehículos por precio')\n",
        "plt.show();"
      ],
      "metadata": {
        "colab": {
          "base_uri": "https://localhost:8080/",
          "height": 621
        },
        "id": "p41imGLw_e8F",
        "outputId": "ca8ac164-60f3-421f-8093-b66feacc4846"
      },
      "execution_count": 275,
      "outputs": [
        {
          "output_type": "display_data",
          "data": {
            "text/plain": [
              "<Figure size 1080x720 with 1 Axes>"
            ],
            "image/png": "[encoded data removed]"
          },
          "metadata": {
            "needs_background": "light"
          }
        }
      ]
    },
    {
      "cell_type": "markdown",
      "source": [
        "Distribución de la variable kilómetros"
      ],
      "metadata": {
        "id": "tsSqwLZvFoha"
      }
    },
    {
      "cell_type": "code",
      "source": [
        "# Creando el histograma\n",
        "binsize = 1000\n",
        "bins = np.arange(0, coches['kilometros'].max()+binsize, binsize)\n",
        "\n",
        "plt.figure(figsize=[15, 10])\n",
        "plt.hist(data = coches, x = 'kilometros', bins = bins)\n",
        "plt.xlabel('Kilómetros')\n",
        "plt.title('Cantidad de vehículos por kilómetros')\n",
        "plt.show();"
      ],
      "metadata": {
        "colab": {
          "base_uri": "https://localhost:8080/",
          "height": 621
        },
        "id": "KUUzScZBAY2L",
        "outputId": "431d19c1-fe8d-485c-a58f-100e3652f258"
      },
      "execution_count": 276,
      "outputs": [
        {
          "output_type": "display_data",
          "data": {
            "text/plain": [
              "<Figure size 1080x720 with 1 Axes>"
            ],
            "image/png": "[encoded data removed]"
          },
          "metadata": {
            "needs_background": "light"
          }
        }
      ]
    },
    {
      "cell_type": "markdown",
      "source": [
        "### Estudio de correlaciones entre las variables."
      ],
      "metadata": {
        "id": "FS-Pp0vNGaJz"
      }
    },
    {
      "cell_type": "code",
      "source": [
        "## Poner matriz de correlación con heatmap"
      ],
      "metadata": {
        "id": "IETyJ6OrFvyZ"
      },
      "execution_count": 277,
      "outputs": []
    },
    {
      "cell_type": "code",
      "source": [
        "numeric_vars = ['precio', 'kilometros', 'lat_ciudad', 'long_ciudad', 'años']"
      ],
      "metadata": {
        "id": "EVHDUU0Z_iRD"
      },
      "execution_count": 278,
      "outputs": []
    },
    {
      "cell_type": "code",
      "source": [
        "# correlation plot\n",
        "plt.figure(figsize = [8, 5])\n",
        "sns.heatmap(coches[numeric_vars].corr(), annot = True, fmt = '.3f',\n",
        "           cmap = 'pink', center = 0)\n",
        "\n",
        "plt.title('Heat map de correlación entre variables numéricas')\n",
        "plt.show();"
      ],
      "metadata": {
        "colab": {
          "base_uri": "https://localhost:8080/",
          "height": 337
        },
        "id": "iLmqAUxl_hbi",
        "outputId": "7a6a10b5-f4ef-40fc-8faf-32b096f700ee"
      },
      "execution_count": 279,
      "outputs": [
        {
          "output_type": "display_data",
          "data": {
            "text/plain": [
              "<Figure size 576x360 with 2 Axes>"
            ],
            "image/png": "[encoded data removed]"
          },
          "metadata": {
            "needs_background": "light"
          }
        }
      ]
    },
    {
      "cell_type": "markdown",
      "source": [
        "### Estudio de correlaciones entre las variables y \"precio\""
      ],
      "metadata": {
        "id": "_HMrVtvCC5Jc"
      }
    },
    {
      "cell_type": "code",
      "source": [
        "# Scatter plot\n",
        "g = sns.PairGrid(data = coches, vars = numeric_vars)\n",
        "g = g.map_diag(plt.hist, bins = 20)\n",
        "\n",
        "g.fig.subplots_adjust(top=0.95)\n",
        "g.fig.suptitle('Diagrama de puntos para variables numéricas')\n",
        "g.map_offdiag(plt.scatter);"
      ],
      "metadata": {
        "colab": {
          "base_uri": "https://localhost:8080/",
          "height": 899
        },
        "id": "JZO2VZM8C3-O",
        "outputId": "762da42d-d744-41d6-beb2-c8a59e69ee6c"
      },
      "execution_count": 280,
      "outputs": [
        {
          "output_type": "display_data",
          "data": {
            "text/plain": [
              "<Figure size 900x900 with 30 Axes>"
            ],
            "image/png": "[encoded data removed]"
          },
          "metadata": {
            "needs_background": "light"
          }
        }
      ]
    },
    {
      "cell_type": "markdown",
      "source": [
        "### Estudio según localización GPS"
      ],
      "metadata": {
        "id": "Mt9JUCh7Dzgq"
      }
    },
    {
      "cell_type": "code",
      "source": [
        "import plotly.express as px"
      ],
      "metadata": {
        "id": "_5V7jiYrGgus"
      },
      "execution_count": 281,
      "outputs": []
    },
    {
      "cell_type": "code",
      "source": [
        "fig = px.scatter_geo(coches,lat='lat_ciudad',lon='long_ciudad', hover_name=\"ciudad\")\n",
        "fig.update_layout(title = 'World map', title_x=0.5)\n",
        "fig.show()"
      ],
      "metadata": {
        "id": "hjegbN1IaA7t",
        "colab": {
          "base_uri": "https://localhost:8080/",
          "height": 542
        },
        "outputId": "8a15f31e-e88f-4dbc-aac1-24914962c0d4"
      },
      "execution_count": 282,
      "outputs": [
        {
          "output_type": "display_data",
          "data": {
            "text/html": [
              "<html>\n",
              "<head><meta charset=\"utf-8\" /></head>\n",
              "<body>\n",
              "    <div>            <script src=\"https://cdnjs.cloudflare.com/ajax/libs/mathjax/2.7.5/MathJax.js?config=TeX-AMS-MML_SVG\"></script><script type=\"text/javascript\">if (window.MathJax) {MathJax.Hub.Config({SVG: {font: \"STIX-Web\"}});}</script>                <script type=\"text/javascript\">window.PlotlyConfig = {MathJaxConfig: 'local'};</script>\n",
              "        <script src=\"https://cdn.plot.ly/plotly-2.8.3.min.js\"></script>                <div id=\"6a95b75f-d4b1-49e5-8bd9-0f6c4de1fe8b\" class=\"plotly-graph-div\" style=\"height:525px; width:100%;\"></div>            <script type=\"text/javascript\">                                    window.PLOTLYENV=window.PLOTLYENV || {};                                    if (document.getElementById(\"6a95b75f-d4b1-49e5-8bd9-0f6c4de1fe8b\")) {                    Plotly.newPlot(                        \"6a95b75f-d4b1-49e5-8bd9-0f6c4de1fe8b\",                        [{\"geo\":\"geo\",\"hovertemplate\":\"<b>%{hovertext}</b><br><br>lat_ciudad=%{lat}<br>long_ciudad=%{lon}<extra></extra>\",\"hovertext\":[\"Baleares\",\"Badajoz\",\"Valladolid\",\"Valencia\",\"C\\u00e1diz\",\"Ja\\u00e9n\",\"M\\u00e1laga\",\"Madrid\",\"Sevilla\",\"Valladolid\",\"Murcia\",\"Albacete\",\"Madrid\",\"Valencia\",\"Madrid\",\"Valladolid\",\"M\\u00e1laga\",\"Toledo\",\"Barcelona\",\"A Coru\\u00f1a\",\"M\\u00e1laga\",\"Madrid\",\"Valencia\",\"La Rioja\",\"Huelva\",\"Madrid\",\"Madrid\",\"Valencia\",\"Lleida\",\"Castell\\u00f3n\",\"Madrid\",\"Madrid\",\"Barcelona\",\"Alicante\",\"Murcia\",\"Alicante\",\"Sevilla\",\"Madrid\",\"Castell\\u00f3n\",\"C\\u00e1ceres\",\"M\\u00e1laga\",\"Toledo\",\"Sevilla\",\"Pontevedra\",\"Toledo\",\"Navarra\",\"Sevilla\",\"Zaragoza\",\"Madrid\",\"Burgos\",\"M\\u00e1laga\",\"La Rioja\",\"M\\u00e1laga\",\"C\\u00f3rdoba\",\"Barcelona\",\"Madrid\",\"Valencia\",\"Zaragoza\",\"Lleida\",\"Barcelona\",\"Madrid\",\"Almer\\u00eda\",\"Barcelona\",\"Barcelona\",\"Badajoz\",\"Las Palmas\",\"Burgos\",\"Pontevedra\",\"Valladolid\",\"Barcelona\",\"Valencia\",\"Sevilla\",\"Sevilla\",\"Sevilla\",\"Barcelona\",\"Barcelona\",\"Barcelona\",\"Asturias\",\"Madrid\",\"Madrid\",\"M\\u00e1laga\",\"Valencia\",\"M\\u00e1laga\",\"Barcelona\",\"Badajoz\",\"Burgos\",\"C\\u00e1diz\",\"Barcelona\",\"Vizcaya\",\"C\\u00f3rdoba\",\"Valencia\",\"Barcelona\",\"Burgos\",\"Valencia\",\"Pontevedra\",\"Barcelona\",\"Pontevedra\",\"Valencia\",\"Madrid\",\"M\\u00e1laga\",\"Tarragona\",\"Valencia\",\"Barcelona\",\"Salamanca\",\"Madrid\",\"Valencia\",\"Granada\",\"Palencia\",\"Vizcaya\",\"Valencia\",\"Murcia\",\"Murcia\",\"Madrid\",\"Murcia\",\"Madrid\",\"Vizcaya\",\"Valencia\",\"Sevilla\",\"Barcelona\",\"Ja\\u00e9n\",\"Barcelona\",\"Toledo\",\"Pontevedra\",\"Ja\\u00e9n\",\"Madrid\",\"Barcelona\",\"Madrid\",\"Valencia\",\"Alicante\",\"Valencia\",\"Sevilla\",\"C\\u00e1ceres\",\"Valencia\",\"Sevilla\",\"Barcelona\",\"Cantabria\",\"Sevilla\",\"M\\u00e1laga\",\"Alicante\",\"Alicante\",\"Valencia\",\"Alicante\",\"Almer\\u00eda\",\"Valencia\",\"Valencia\",\"Alicante\",\"Valencia\",\"Sevilla\",\"Madrid\",\"Sevilla\",\"Sevilla\",\"Valencia\",\"C\\u00e1ceres\",\"Lleida\",\"C\\u00f3rdoba\",\"Madrid\",\"Ja\\u00e9n\",\"Valencia\",\"Vizcaya\",\"C\\u00f3rdoba\",\"Vizcaya\",\"Valencia\",\"Ja\\u00e9n\",\"Sevilla\",\"Sevilla\",\"Valencia\",\"Sevilla\",\"Barcelona\",\"Madrid\",\"Madrid\",\"Almer\\u00eda\",\"Valencia\",\"Valencia\",\"Tarragona\",\"Ja\\u00e9n\",\"Toledo\",\"Guip\\u00fazcoa\",\"Sevilla\",\"Ciudad Real\",\"Navarra\",\"Valencia\",\"Madrid\",\"Barcelona\",\"Vizcaya\",\"Barcelona\",\"Barcelona\",\"Sevilla\",\"Barcelona\",\"Sevilla\",\"Barcelona\",\"Valencia\",\"Valencia\",\"Valencia\",\"Burgos\",\"Asturias\",\"Badajoz\",\"Madrid\",\"Madrid\",\"Madrid\",\"Madrid\",\"Sevilla\",\"Valencia\",\"Valencia\",\"Valencia\",\"Valladolid\",\"Madrid\",\"M\\u00e1laga\",\"Valencia\",\"Asturias\",\"Asturias\",\"Alicante\",\"Madrid\",\"Madrid\",\"Madrid\",\"Madrid\",\"Pontevedra\",\"Las Palmas\",\"Valencia\",\"Huelva\",\"Ja\\u00e9n\",\"M\\u00e1laga\",\"Barcelona\",\"Almer\\u00eda\",\"Valencia\",\"Granada\",\"Madrid\",\"Sevilla\",\"Madrid\",\"Valencia\",\"Valencia\",\"Valencia\",\"Murcia\",\"Barcelona\",\"Navarra\",\"C\\u00e1diz\",\"Alicante\",\"Barcelona\",\"Alicante\",\"Alicante\",\"Alicante\",\"Alicante\",\"Alicante\",\"Alicante\",\"Barcelona\",\"M\\u00e1laga\",\"Madrid\",\"Barcelona\",\"Barcelona\",\"Las Palmas\",\"Madrid\",\"Sevilla\",\"M\\u00e1laga\",\"Alicante\",\"Alicante\",\"Valencia\",\"Valencia\",\"Barcelona\",\"Madrid\",\"Sevilla\",\"Le\\u00f3n\",\"M\\u00e1laga\",\"Toledo\",\"Vizcaya\",\"Valencia\",\"Sevilla\",\"C\\u00e1ceres\",\"Ja\\u00e9n\",\"Barcelona\",\"La Rioja\",\"Las Palmas\",\"Madrid\",\"Valencia\",\"Vizcaya\",\"Vizcaya\",\"Barcelona\",\"Barcelona\",\"Murcia\",\"Sevilla\",\"Sevilla\",\"Alicante\",\"Murcia\",\"Barcelona\",\"Navarra\",\"Tarragona\",\"Barcelona\",\"Asturias\",\"Alicante\",\"Badajoz\",\"Sevilla\",\"Alicante\",\"Alicante\",\"A Coru\\u00f1a\",\"A Coru\\u00f1a\",\"Granada\",\"Madrid\",\"Granada\",\"Granada\",\"Valencia\",\"Sevilla\",\"Valencia\",\"Valencia\",\"Valencia\",\"Valencia\",\"Valencia\",\"Lleida\",\"\\u00c1lava\",\"Madrid\",\"Valencia\",\"Madrid\",\"M\\u00e1laga\",\"Sevilla\",\"Las Palmas\",\"Madrid\",\"Valencia\",\"Ja\\u00e9n\",\"Zaragoza\",\"Valencia\",\"Madrid\",\"Madrid\",\"Barcelona\",\"Madrid\",\"M\\u00e1laga\",\"Barcelona\",\"Las Palmas\",\"Alicante\",\"Madrid\",\"Salamanca\",\"Salamanca\",\"Salamanca\",\"Madrid\",\"A Coru\\u00f1a\",\"Madrid\",\"A Coru\\u00f1a\",\"M\\u00e1laga\",\"Salamanca\",\"Barcelona\",\"Toledo\",\"Madrid\",\"Barcelona\",\"Sta. C. Tenerife\",\"Sta. C. Tenerife\",\"Badajoz\",\"Madrid\",\"Madrid\",\"Madrid\",\"Vizcaya\",\"Sevilla\",\"Ja\\u00e9n\",\"Madrid\",\"Valencia\",\"Madrid\",\"Almer\\u00eda\",\"Baleares\",\"Sevilla\",\"M\\u00e1laga\",\"Toledo\",\"C\\u00e1diz\",\"A Coru\\u00f1a\",\"Murcia\",\"Valladolid\",\"Valladolid\",\"C\\u00e1diz\",\"Alicante\",\"Asturias\",\"C\\u00e1diz\",\"C\\u00e1diz\",\"Barcelona\",\"Le\\u00f3n\",\"Barcelona\",\"Barcelona\",\"Badajoz\",\"Le\\u00f3n\",\"Madrid\",\"Madrid\",\"Toledo\",\"Madrid\",\"Zaragoza\",\"Madrid\",\"Valencia\",\"Valencia\",\"Valencia\",\"Asturias\",\"A Coru\\u00f1a\",\"Murcia\",\"Madrid\",\"Ja\\u00e9n\",\"M\\u00e1laga\",\"C\\u00e1ceres\",\"Valencia\",\"Toledo\",\"Valencia\",\"Valencia\",\"Valencia\",\"Valencia\",\"M\\u00e1laga\",\"Valencia\",\"Alicante\",\"Valencia\",\"Madrid\",\"Vizcaya\",\"Madrid\",\"Vizcaya\",\"Barcelona\",\"Valencia\",\"Barcelona\",\"Sta. C. Tenerife\",\"Sevilla\",\"Barcelona\",\"Valencia\",\"Valencia\",\"Pontevedra\",\"Guip\\u00fazcoa\",\"Le\\u00f3n\",\"Granada\",\"Madrid\",\"M\\u00e1laga\",\"Guip\\u00fazcoa\",\"Barcelona\",\"Toledo\",\"A Coru\\u00f1a\",\"A Coru\\u00f1a\",\"Baleares\",\"Castell\\u00f3n\",\"Ja\\u00e9n\",\"Pontevedra\",\"Baleares\",\"M\\u00e1laga\",\"Barcelona\",\"M\\u00e1laga\",\"Madrid\",\"Madrid\",\"Madrid\",\"Murcia\",\"Sevilla\",\"Badajoz\",\"Baleares\",\"Vizcaya\",\"Murcia\",\"Murcia\",\"Badajoz\",\"Vizcaya\",\"Castell\\u00f3n\",\"Castell\\u00f3n\",\"Castell\\u00f3n\",\"Valencia\",\"Madrid\",\"Madrid\",\"Sta. C. Tenerife\",\"Las Palmas\",\"Barcelona\",\"Le\\u00f3n\",\"Toledo\",\"Madrid\",\"Madrid\",\"Madrid\",\"Almer\\u00eda\",\"\\u00c1vila\",\"Barcelona\",\"Guip\\u00fazcoa\",\"Madrid\",\"Barcelona\",\"La Rioja\",\"Vizcaya\",\"Barcelona\",\"C\\u00e1ceres\",\"Valladolid\",\"Madrid\",\"Madrid\",\"Alicante\",\"Madrid\",\"C\\u00f3rdoba\",\"Valencia\",\"Salamanca\",\"Ja\\u00e9n\",\"Ja\\u00e9n\",\"Ja\\u00e9n\",\"Ciudad Real\",\"Murcia\",\"Madrid\",\"Madrid\",\"Madrid\",\"Madrid\",\"Madrid\",\"Madrid\",\"Guip\\u00fazcoa\",\"Madrid\",\"Madrid\",\"Valencia\",\"Madrid\",\"A Coru\\u00f1a\",\"Granada\",\"Barcelona\",\"Barcelona\",\"C\\u00e1diz\",\"C\\u00e1diz\",\"Madrid\",\"C\\u00e1diz\",\"C\\u00e1diz\",\"M\\u00e1laga\",\"Salamanca\",\"Salamanca\",\"Madrid\",\"Barcelona\",\"Soria\",\"C\\u00e1ceres\",\"Toledo\",\"Murcia\",\"Salamanca\",\"Salamanca\",\"Salamanca\",\"Salamanca\",\"Badajoz\",\"Badajoz\",\"Sevilla\",\"Sevilla\",\"Sevilla\",\"M\\u00e1laga\",\"M\\u00e1laga\",\"Madrid\",\"M\\u00e1laga\",\"Madrid\",\"Castell\\u00f3n\",\"Valencia\",\"M\\u00e1laga\",\"Madrid\",\"Sevilla\",\"Murcia\",\"Alicante\",\"C\\u00e1diz\",\"Madrid\",\"Alicante\",\"Valencia\",\"Madrid\",\"Granada\",\"Madrid\",\"M\\u00e1laga\",\"Lugo\",\"Valencia\",\"Madrid\",\"Le\\u00f3n\",\"M\\u00e1laga\",\"Valencia\",\"Lleida\",\"Madrid\",\"Valladolid\",\"Madrid\",\"Alicante\",\"Madrid\",\"Alicante\",\"Castell\\u00f3n\",\"Madrid\",\"C\\u00f3rdoba\",\"Alicante\",\"Madrid\",\"Madrid\",\"Madrid\",\"Asturias\",\"Asturias\",\"La Rioja\",\"Madrid\",\"Lugo\",\"Salamanca\",\"Valencia\",\"Madrid\",\"Madrid\",\"Guip\\u00fazcoa\",\"Alicante\",\"A Coru\\u00f1a\",\"Barcelona\",\"Madrid\",\"Valencia\",\"Valencia\",\"Valencia\",\"Valencia\",\"Valencia\",\"Madrid\",\"Navarra\",\"Ciudad Real\",\"Segovia\",\"Madrid\",\"Sevilla\",\"Alicante\",\"Ja\\u00e9n\",\"Salamanca\",\"Pontevedra\",\"Madrid\",\"Madrid\",\"Barcelona\",\"Madrid\",\"Granada\",\"Alicante\",\"M\\u00e1laga\",\"Sevilla\",\"Sevilla\",\"Ja\\u00e9n\",\"Ja\\u00e9n\",\"Ja\\u00e9n\",\"Barcelona\",\"Madrid\",\"Madrid\",\"Madrid\",\"Madrid\",\"Madrid\",\"Madrid\",\"Madrid\",\"Madrid\",\"La Rioja\",\"Toledo\",\"Guip\\u00fazcoa\",\"Ciudad Real\",\"Asturias\",\"Sta. C. Tenerife\",\"Sevilla\",\"Tarragona\",\"Alicante\",\"Valencia\",\"Navarra\",\"Barcelona\",\"Madrid\",\"Lugo\",\"Barcelona\",\"Ja\\u00e9n\",\"Madrid\",\"Madrid\",\"Valencia\",\"Valencia\",\"Valencia\",\"Valencia\",\"Murcia\",\"Lleida\",\"Lugo\",\"Zaragoza\",\"Madrid\",\"Madrid\",\"Madrid\",\"Sevilla\",\"M\\u00e1laga\",\"M\\u00e1laga\",\"M\\u00e1laga\",\"C\\u00e1diz\",\"M\\u00e1laga\",\"Sta. C. Tenerife\",\"Madrid\",\"C\\u00f3rdoba\",\"Valencia\",\"Sevilla\",\"Alicante\",\"Madrid\",\"Madrid\",\"M\\u00e1laga\",\"M\\u00e1laga\",\"Sevilla\",\"Las Palmas\",\"Castell\\u00f3n\",\"Huelva\",\"Madrid\",\"Sevilla\",\"Sevilla\",\"Madrid\",\"M\\u00e1laga\",\"Valladolid\",\"Lleida\",\"\\u00c1lava\",\"Salamanca\",\"Madrid\",\"Granada\",\"Asturias\",\"Asturias\",\"Almer\\u00eda\",\"Alicante\",\"Barcelona\",\"Toledo\",\"M\\u00e1laga\",\"Sevilla\",\"M\\u00e1laga\",\"M\\u00e1laga\",\"Ja\\u00e9n\",\"Ja\\u00e9n\",\"Sevilla\",\"Ja\\u00e9n\",\"Sevilla\",\"Madrid\",\"Alicante\",\"Murcia\",\"Madrid\",\"Madrid\",\"Valencia\",\"Barcelona\",\"Madrid\",\"Valencia\",\"Madrid\",\"Girona\",\"Girona\",\"Murcia\",\"Badajoz\",\"La Rioja\",\"Alicante\",\"Valencia\",\"Zaragoza\",\"C\\u00e1ceres\",\"Madrid\",\"Madrid\",\"La Rioja\",\"Barcelona\",\"Toledo\",\"Madrid\",\"Lugo\",\"Badajoz\",\"Granada\",\"Zamora\",\"Barcelona\",\"A Coru\\u00f1a\",\"Barcelona\",\"Sevilla\",\"Barcelona\",\"Barcelona\",\"Pontevedra\",\"Barcelona\",\"M\\u00e1laga\",\"A Coru\\u00f1a\",\"Vizcaya\",\"Sevilla\",\"Vizcaya\",\"Navarra\",\"Alicante\",\"Ja\\u00e9n\",\"C\\u00e1diz\",\"C\\u00e1diz\",\"C\\u00e1diz\",\"Valencia\",\"Sevilla\",\"Cantabria\",\"Sevilla\",\"Madrid\",\"Almer\\u00eda\",\"Barcelona\",\"Madrid\",\"Valencia\",\"Granada\",\"Valencia\",\"Barcelona\",\"Barcelona\",\"Sevilla\",\"Granada\",\"Sevilla\",\"Asturias\",\"Murcia\",\"Madrid\",\"Alicante\",\"Las Palmas\",\"Valencia\",\"Valencia\",\"Madrid\",\"Valencia\",\"Valencia\",\"M\\u00e1laga\",\"Valencia\",\"Vizcaya\",\"Vizcaya\",\"Castell\\u00f3n\",\"Barcelona\",\"Madrid\",\"Zaragoza\",\"Sevilla\",\"Ciudad Real\",\"Valencia\",\"Madrid\",\"Ja\\u00e9n\",\"Las Palmas\",\"Valencia\",\"Valencia\",\"Valencia\",\"Asturias\",\"Valencia\",\"Valencia\",\"Valencia\",\"Valencia\",\"Valencia\",\"Valencia\",\"Barcelona\",\"C\\u00e1ceres\",\"Madrid\",\"Madrid\",\"Barcelona\",\"Alicante\",\"Sevilla\",\"Barcelona\",\"Sevilla\",\"Zamora\",\"Cantabria\",\"Huelva\",\"Sta. C. Tenerife\",\"Albacete\",\"Madrid\",\"Pontevedra\",\"Barcelona\",\"Zaragoza\",\"La Rioja\",\"Madrid\",\"Madrid\",\"Granada\",\"Madrid\",\"Barcelona\",\"A Coru\\u00f1a\",\"Barcelona\",\"Navarra\",\"Murcia\",\"Vizcaya\",\"Alicante\",\"Madrid\",\"M\\u00e1laga\",\"Granada\",\"M\\u00e1laga\",\"M\\u00e1laga\",\"M\\u00e1laga\",\"M\\u00e1laga\",\"M\\u00e1laga\",\"M\\u00e1laga\",\"Madrid\",\"C\\u00f3rdoba\",\"Alicante\",\"Madrid\",\"Sevilla\",\"Barcelona\",\"Madrid\",\"M\\u00e1laga\",\"Madrid\",\"Salamanca\",\"Madrid\",\"Barcelona\",\"Valencia\",\"Sevilla\",\"Granada\",\"Madrid\",\"Toledo\",\"Ja\\u00e9n\",\"Murcia\",\"Zaragoza\",\"Ciudad Real\",\"Tarragona\",\"Sevilla\",\"Le\\u00f3n\",\"Guadalajara\",\"Guadalajara\",\"Granada\",\"Barcelona\",\"Albacete\",\"Salamanca\",\"Salamanca\",\"Guadalajara\",\"Madrid\",\"Valencia\",\"Madrid\",\"Barcelona\",\"Burgos\",\"Madrid\",\"Alicante\",\"Ja\\u00e9n\",\"Granada\",\"Madrid\",\"Madrid\",\"Madrid\",\"Madrid\",\"Castell\\u00f3n\",\"Baleares\",\"Alicante\",\"Las Palmas\",\"Girona\",\"Lugo\",\"Cantabria\",\"Barcelona\",\"Zamora\",\"Madrid\",\"Baleares\",\"Barcelona\",\"Madrid\",\"Toledo\",\"Madrid\",\"Ja\\u00e9n\",\"Madrid\",\"Madrid\",\"C\\u00e1diz\",\"Sevilla\",\"Barcelona\",\"Vizcaya\",\"Madrid\",\"Almer\\u00eda\",\"Alicante\",\"Madrid\",\"Cantabria\",\"Madrid\",\"M\\u00e1laga\",\"Alicante\",\"Valladolid\",\"Salamanca\",\"Pontevedra\",\"Ja\\u00e9n\",\"Orense\",\"Alicante\",\"C\\u00e1diz\",\"Valencia\",\"La Rioja\",\"Salamanca\",\"C\\u00e1diz\",\"Castell\\u00f3n\",\"Badajoz\",\"Barcelona\",\"Barcelona\",\"Sevilla\",\"Barcelona\",\"Madrid\",\"Barcelona\",\"M\\u00e1laga\",\"Barcelona\",\"Sta. C. Tenerife\",\"M\\u00e1laga\",\"Barcelona\",\"Sevilla\",\"Valencia\",\"Murcia\",\"Badajoz\",\"M\\u00e1laga\",\"Granada\",\"Madrid\",\"Castell\\u00f3n\",\"Castell\\u00f3n\",\"Castell\\u00f3n\",\"Madrid\",\"C\\u00e1diz\",\"Granada\",\"Barcelona\",\"C\\u00e1diz\",\"Barcelona\",\"Sevilla\",\"Alicante\",\"Vizcaya\",\"Albacete\",\"C\\u00f3rdoba\",\"Alicante\",\"C\\u00f3rdoba\",\"C\\u00f3rdoba\",\"C\\u00f3rdoba\",\"Tarragona\",\"Albacete\",\"Granada\",\"Albacete\",\"Alicante\",\"A Coru\\u00f1a\",\"Alicante\",\"Asturias\",\"Alicante\",\"Barcelona\",\"Ciudad Real\",\"Valencia\",\"Madrid\",\"Barcelona\",\"Barcelona\",\"Castell\\u00f3n\",\"Valencia\",\"Murcia\",\"Murcia\",\"Valencia\",\"Barcelona\",\"Murcia\",\"Ciudad Real\",\"Ciudad Real\",\"Valencia\",\"Valencia\",\"Valencia\",\"Madrid\",\"Huelva\",\"Madrid\",\"Murcia\",\"Valencia\",\"Murcia\",\"Vizcaya\",\"Vizcaya\",\"Toledo\",\"Vizcaya\",\"Toledo\",\"Barcelona\",\"Salamanca\",\"Madrid\",\"Cantabria\",\"Sevilla\",\"Sevilla\",\"Alicante\",\"Barcelona\",\"Pontevedra\",\"Navarra\",\"M\\u00e1laga\",\"Barcelona\",\"Barcelona\",\"Murcia\",\"Madrid\",\"Madrid\",\"Sevilla\",\"Valencia\",\"Murcia\",\"Vizcaya\",\"M\\u00e1laga\",\"C\\u00e1diz\",\"C\\u00f3rdoba\",\"Alicante\",\"Madrid\",\"Madrid\",\"Ja\\u00e9n\",\"Madrid\",\"Madrid\",\"Valencia\",\"Valencia\",\"Barcelona\",\"Toledo\",\"Madrid\",\"Madrid\",\"Valencia\",\"Badajoz\",\"Sevilla\",\"Barcelona\",\"Navarra\",\"A Coru\\u00f1a\",\"Sevilla\",\"Valencia\",\"Barcelona\",\"C\\u00e1diz\",\"Valencia\",\"Vizcaya\",\"A Coru\\u00f1a\",\"Madrid\",\"Valladolid\",\"Sta. C. Tenerife\",\"Madrid\",\"Madrid\",\"Valencia\",\"Granada\",\"Madrid\",\"Madrid\",\"Madrid\",\"Madrid\",\"Madrid\",\"Madrid\",\"Madrid\",\"Madrid\",\"Barcelona\",\"Asturias\",\"Barcelona\",\"La Rioja\",\"Asturias\",\"Asturias\",\"Valencia\",\"C\\u00e1diz\",\"Madrid\",\"Alicante\",\"Madrid\",\"Barcelona\",\"Madrid\",\"Valladolid\",\"Granada\",\"Salamanca\",\"Salamanca\",\"Pontevedra\",\"Barcelona\",\"Cantabria\",\"Madrid\",\"Valencia\",\"Albacete\",\"Melilla\",\"C\\u00f3rdoba\",\"La Rioja\",\"Madrid\",\"Ja\\u00e9n\",\"Sevilla\",\"A Coru\\u00f1a\",\"Murcia\",\"Madrid\",\"C\\u00e1diz\",\"Barcelona\",\"Navarra\",\"Barcelona\",\"Baleares\",\"Barcelona\",\"Madrid\",\"Madrid\",\"Valencia\",\"Murcia\",\"Valencia\",\"Valladolid\",\"Valencia\",\"Valencia\",\"Valencia\",\"Barcelona\",\"Madrid\",\"Barcelona\",\"Valencia\",\"Barcelona\",\"Madrid\",\"Albacete\",\"Almer\\u00eda\",\"M\\u00e1laga\",\"M\\u00e1laga\",\"Alicante\",\"Burgos\",\"Madrid\",\"Asturias\",\"Girona\",\"Zaragoza\",\"Toledo\",\"Badajoz\",\"Badajoz\",\"Madrid\",\"Pontevedra\",\"Pontevedra\",\"Ja\\u00e9n\",\"Vizcaya\",\"Tarragona\",\"M\\u00e1laga\",\"Madrid\",\"Tarragona\",\"Albacete\",\"Albacete\",\"Vizcaya\",\"Cantabria\",\"M\\u00e1laga\",\"Alicante\",\"Alicante\",\"M\\u00e1laga\",\"Pontevedra\",\"Badajoz\",\"Badajoz\",\"Sevilla\",\"Girona\",\"Sevilla\",\"Madrid\",\"Cantabria\",\"Murcia\",\"Vizcaya\",\"C\\u00e1diz\",\"Madrid\",\"Barcelona\",\"Madrid\",\"Badajoz\",\"Badajoz\",\"Badajoz\",\"Sevilla\",\"Baleares\",\"Alicante\",\"Huelva\",\"Barcelona\",\"Madrid\",\"Madrid\",\"Huelva\",\"Asturias\",\"Cuenca\",\"C\\u00e1diz\",\"Madrid\",\"A Coru\\u00f1a\",\"Valencia\",\"Barcelona\",\"Madrid\",\"Sevilla\",\"Sevilla\",\"Le\\u00f3n\",\"M\\u00e1laga\",\"Madrid\",\"Barcelona\",\"Barcelona\",\"Asturias\",\"Pontevedra\",\"Sta. C. Tenerife\",\"Burgos\",\"Guip\\u00fazcoa\",\"Pontevedra\",\"Madrid\",\"Cuenca\",\"Zaragoza\",\"Madrid\",\"Valencia\",\"Ja\\u00e9n\",\"Madrid\",\"Guip\\u00fazcoa\",\"Salamanca\",\"M\\u00e1laga\",\"Madrid\",\"Girona\",\"Baleares\",\"Barcelona\",\"Granada\",\"Sevilla\",\"Huelva\",\"Salamanca\",\"Barcelona\",\"M\\u00e1laga\",\"Sevilla\",\"Sevilla\",\"Sevilla\",\"Sevilla\",\"Sevilla\",\"Sevilla\",\"Sevilla\",\"Sevilla\",\"Sevilla\",\"Sevilla\",\"Sevilla\",\"Sevilla\",\"Sevilla\",\"Sevilla\",\"Valencia\",\"Valencia\",\"Valencia\",\"Valencia\",\"Valencia\",\"Valencia\",\"Valencia\",\"Sevilla\",\"Alicante\",\"Valencia\",\"Valencia\",\"Valencia\",\"Valencia\",\"Valencia\",\"Valencia\",\"Barcelona\",\"Valencia\",\"Huelva\",\"Madrid\",\"Murcia\",\"M\\u00e1laga\",\"Madrid\",\"Madrid\",\"Zaragoza\",\"Asturias\",\"Madrid\",\"Asturias\",\"Asturias\",\"Asturias\",\"Barcelona\",\"Barcelona\",\"Barcelona\",\"A Coru\\u00f1a\",\"A Coru\\u00f1a\",\"M\\u00e1laga\",\"A Coru\\u00f1a\",\"A Coru\\u00f1a\",\"A Coru\\u00f1a\",\"A Coru\\u00f1a\",\"Alicante\",\"Barcelona\",\"Alicante\",\"Madrid\",\"Ciudad Real\",\"Asturias\",\"Barcelona\",\"M\\u00e1laga\",\"Madrid\",\"Madrid\",\"Valencia\",\"Ciudad Real\",\"Sevilla\",\"Barcelona\",\"Madrid\",\"Baleares\",\"Guadalajara\",\"Guadalajara\",\"Guadalajara\",\"Sevilla\",\"Madrid\",\"Segovia\",\"\\u00c1vila\",\"Asturias\",\"M\\u00e1laga\",\"M\\u00e1laga\",\"Badajoz\",\"Sevilla\",\"M\\u00e1laga\",\"Sevilla\",\"Madrid\",\"M\\u00e1laga\",\"Sevilla\",\"Le\\u00f3n\",\"Navarra\",\"Vizcaya\",\"Granada\",\"Madrid\",\"Madrid\",\"Alicante\",\"Sevilla\",\"Madrid\",\"Madrid\",\"Madrid\",\"M\\u00e1laga\",\"Badajoz\",\"Madrid\",\"Alicante\",\"La Rioja\",\"Alicante\",\"Vizcaya\",\"Barcelona\",\"Vizcaya\",\"Alicante\",\"Madrid\",\"Madrid\",\"Madrid\",\"Ciudad Real\",\"Pontevedra\",\"Valencia\",\"Ciudad Real\",\"Madrid\",\"Madrid\",\"Madrid\",\"Madrid\",\"Segovia\",\"A Coru\\u00f1a\",\"Madrid\",\"Valladolid\",\"Sevilla\",\"Valencia\",\"Valencia\",\"Valencia\",\"Valencia\",\"Sevilla\",\"Sevilla\",\"Sevilla\",\"Sevilla\",\"Madrid\",\"Madrid\",\"Madrid\",\"Madrid\",\"Asturias\",\"Asturias\",\"Asturias\",\"Asturias\",\"Madrid\",\"Madrid\",\"Guip\\u00fazcoa\",\"Madrid\",\"Valencia\",\"Valencia\",\"Madrid\",\"Almer\\u00eda\",\"Barcelona\",\"Barcelona\",\"Almer\\u00eda\",\"Madrid\",\"Alicante\",\"A Coru\\u00f1a\",\"A Coru\\u00f1a\",\"A Coru\\u00f1a\",\"A Coru\\u00f1a\",\"Pontevedra\",\"Madrid\",\"Valencia\",\"A Coru\\u00f1a\",\"Madrid\",\"Barcelona\",\"Huelva\",\"Madrid\",\"Barcelona\",\"Madrid\",\"Asturias\",\"Guadalajara\",\"Lleida\",\"Salamanca\",\"Pontevedra\",\"Pontevedra\",\"Granada\",\"Madrid\",\"Vizcaya\",\"Albacete\",\"Barcelona\",\"Sta. C. Tenerife\",\"Las Palmas\",\"Murcia\",\"Sevilla\",\"Barcelona\",\"Barcelona\",\"Murcia\",\"Barcelona\",\"Barcelona\",\"Valencia\",\"Valencia\",\"Valencia\",\"Madrid\",\"M\\u00e1laga\",\"M\\u00e1laga\",\"Madrid\",\"Madrid\",\"Madrid\",\"Asturias\",\"Burgos\",\"A Coru\\u00f1a\",\"Barcelona\",\"Barcelona\",\"Barcelona\",\"Barcelona\",\"Barcelona\",\"Barcelona\",\"Barcelona\",\"Barcelona\",\"Barcelona\",\"Barcelona\",\"M\\u00e1laga\",\"M\\u00e1laga\",\"M\\u00e1laga\",\"M\\u00e1laga\",\"M\\u00e1laga\",\"M\\u00e1laga\",\"M\\u00e1laga\",\"M\\u00e1laga\",\"M\\u00e1laga\",\"Sevilla\",\"M\\u00e1laga\",\"M\\u00e1laga\",\"M\\u00e1laga\",\"M\\u00e1laga\",\"M\\u00e1laga\",\"Salamanca\",\"Asturias\",\"Asturias\",\"Valencia\",\"Lugo\",\"Sevilla\",\"Madrid\",\"Madrid\",\"Madrid\",\"C\\u00f3rdoba\",\"Madrid\",\"Murcia\",\"Madrid\",\"Cantabria\",\"Barcelona\",\"Zaragoza\",\"Sevilla\",\"Girona\",\"Granada\",\"Madrid\",\"Madrid\",\"Madrid\",\"Barcelona\",\"Sevilla\",\"Albacete\",\"Madrid\",\"Madrid\",\"Madrid\",\"Madrid\",\"Granada\",\"Murcia\",\"Murcia\",\"Madrid\",\"Valencia\",\"Murcia\",\"C\\u00e1diz\",\"Le\\u00f3n\",\"Pontevedra\",\"Navarra\",\"Ciudad Real\",\"Valencia\",\"Barcelona\",\"Sevilla\",\"Pontevedra\",\"A Coru\\u00f1a\",\"Madrid\",\"Barcelona\",\"Valencia\",\"Madrid\",\"Sevilla\",\"Cantabria\",\"Vizcaya\",\"Madrid\",\"Sevilla\",\"Barcelona\",\"Barcelona\",\"Madrid\",\"Toledo\",\"Toledo\",\"Toledo\",\"Barcelona\",\"Navarra\",\"Sevilla\",\"M\\u00e1laga\",\"Albacete\",\"Madrid\",\"Sevilla\",\"C\\u00e1ceres\",\"Cantabria\",\"Valencia\",\"Guip\\u00fazcoa\",\"Madrid\",\"Madrid\",\"Valencia\",\"Valencia\",\"Albacete\",\"Alicante\",\"Orense\",\"Barcelona\",\"Barcelona\",\"Madrid\",\"Madrid\",\"Barcelona\",\"Madrid\",\"Madrid\",\"Valencia\",\"Madrid\",\"C\\u00e1diz\",\"Almer\\u00eda\",\"Madrid\",\"Murcia\",\"Sevilla\",\"Sevilla\",\"Sevilla\",\"Madrid\",\"Segovia\",\"Madrid\",\"C\\u00e1ceres\",\"Valencia\",\"Valencia\",\"Madrid\",\"Madrid\",\"Sevilla\",\"Sevilla\",\"Barcelona\",\"C\\u00f3rdoba\",\"Baleares\",\"Vizcaya\",\"Sevilla\",\"Sevilla\",\"M\\u00e1laga\",\"Madrid\",\"Sevilla\",\"Toledo\",\"Valencia\",\"Madrid\",\"Pontevedra\",\"Madrid\",\"Madrid\",\"Madrid\",\"Sevilla\",\"A Coru\\u00f1a\",\"Valladolid\",\"Alicante\",\"Sta. C. Tenerife\",\"Pontevedra\",\"Murcia\",\"Pontevedra\",\"Barcelona\",\"A Coru\\u00f1a\",\"Valencia\",\"Orense\",\"Murcia\",\"Madrid\",\"Alicante\",\"Barcelona\",\"A Coru\\u00f1a\",\"Barcelona\",\"Pontevedra\",\"Almer\\u00eda\",\"Zaragoza\",\"Cuenca\",\"Baleares\",\"C\\u00e1diz\",\"Barcelona\",\"Madrid\",\"Valencia\",\"M\\u00e1laga\",\"Barcelona\",\"Guip\\u00fazcoa\",\"Toledo\",\"Murcia\",\"Madrid\",\"Huelva\",\"Madrid\",\"Cantabria\",\"Barcelona\",\"Madrid\",\"C\\u00e1diz\",\"Sevilla\",\"Valencia\",\"Valencia\",\"Madrid\",\"Sevilla\",\"Pontevedra\",\"Las Palmas\",\"Le\\u00f3n\",\"Barcelona\",\"Pontevedra\",\"Almer\\u00eda\",\"Madrid\",\"Madrid\",\"M\\u00e1laga\",\"Vizcaya\",\"Toledo\",\"C\\u00e1diz\",\"Alicante\",\"Barcelona\",\"Sevilla\",\"Sevilla\",\"Valencia\",\"Valencia\",\"Madrid\",\"Madrid\",\"Valencia\",\"A Coru\\u00f1a\",\"La Rioja\",\"Sevilla\",\"Guadalajara\",\"Valencia\",\"Barcelona\",\"Madrid\",\"Murcia\",\"La Rioja\",\"Madrid\",\"Salamanca\",\"C\\u00f3rdoba\",\"M\\u00e1laga\",\"M\\u00e1laga\",\"Alicante\",\"Barcelona\",\"Alicante\",\"Ciudad Real\",\"\\u00c1lava\",\"Huelva\",\"Alicante\",\"Sevilla\",\"A Coru\\u00f1a\",\"A Coru\\u00f1a\",\"Sevilla\",\"Sevilla\",\"Valencia\",\"Barcelona\",\"Barcelona\",\"Murcia\",\"Sevilla\",\"Barcelona\",\"Alicante\",\"Asturias\",\"Salamanca\",\"A Coru\\u00f1a\",\"Madrid\",\"Murcia\",\"Badajoz\",\"Barcelona\",\"Murcia\",\"Baleares\",\"Ciudad Real\",\"M\\u00e1laga\",\"M\\u00e1laga\",\"Barcelona\",\"Ja\\u00e9n\",\"M\\u00e1laga\",\"Barcelona\",\"Barcelona\",\"A Coru\\u00f1a\",\"Pontevedra\",\"\\u00c1lava\",\"Valencia\",\"Girona\",\"Lugo\",\"M\\u00e1laga\",\"Valencia\",\"Almer\\u00eda\",\"Madrid\",\"M\\u00e1laga\",\"Madrid\",\"M\\u00e1laga\",\"Madrid\",\"Madrid\",\"Madrid\",\"C\\u00e1ceres\",\"Ciudad Real\",\"Valencia\",\"C\\u00e1diz\",\"Sevilla\",\"Valencia\",\"Sevilla\",\"Zamora\",\"Ceuta\",\"Madrid\",\"Albacete\",\"A Coru\\u00f1a\",\"Salamanca\",\"Alicante\",\"Valencia\",\"Toledo\",\"Madrid\",\"Valencia\",\"M\\u00e1laga\",\"Sevilla\",\"Girona\",\"Pontevedra\",\"Sevilla\",\"Salamanca\",\"Burgos\",\"Pontevedra\",\"Madrid\",\"Granada\",\"Barcelona\",\"Valencia\",\"Granada\",\"Barcelona\",\"Alicante\",\"Granada\",\"A Coru\\u00f1a\",\"Murcia\",\"Toledo\",\"Madrid\",\"Barcelona\",\"Sevilla\",\"Sevilla\",\"Pontevedra\",\"Alicante\",\"Almer\\u00eda\",\"La Rioja\",\"Madrid\",\"Barcelona\",\"Alicante\",\"Pontevedra\",\"Sevilla\",\"M\\u00e1laga\",\"Murcia\",\"M\\u00e1laga\",\"Valencia\",\"Valencia\",\"Sevilla\",\"Sevilla\",\"Madrid\",\"Madrid\",\"Zamora\",\"Sevilla\",\"M\\u00e1laga\",\"Barcelona\",\"Murcia\",\"Barcelona\",\"Murcia\",\"A Coru\\u00f1a\",\"Huelva\",\"Zaragoza\",\"Barcelona\",\"Madrid\",\"M\\u00e1laga\",\"Valencia\",\"Valencia\",\"C\\u00e1diz\",\"Sevilla\",\"A Coru\\u00f1a\",\"Ciudad Real\",\"Sta. C. Tenerife\",\"Alicante\",\"Baleares\",\"Badajoz\",\"Sta. C. Tenerife\",\"C\\u00e1diz\",\"Barcelona\",\"Madrid\",\"\\u00c1lava\",\"Madrid\",\"Barcelona\",\"Barcelona\",\"M\\u00e1laga\",\"Valencia\",\"Asturias\",\"Sevilla\",\"Alicante\",\"Sta. C. Tenerife\",\"Ciudad Real\",\"Madrid\",\"M\\u00e1laga\",\"M\\u00e1laga\",\"Asturias\",\"Madrid\",\"Madrid\",\"A Coru\\u00f1a\",\"Ja\\u00e9n\",\"Cantabria\",\"Sevilla\",\"Sevilla\",\"A Coru\\u00f1a\",\"Murcia\",\"Murcia\",\"Albacete\",\"M\\u00e1laga\",\"C\\u00e1diz\",\"Valencia\",\"Sevilla\",\"Madrid\",\"M\\u00e1laga\",\"M\\u00e1laga\",\"M\\u00e1laga\",\"Barcelona\",\"Barcelona\",\"Valencia\",\"Valencia\",\"Valencia\",\"Sevilla\",\"Sevilla\",\"Sevilla\",\"Barcelona\",\"A Coru\\u00f1a\",\"Madrid\",\"Alicante\",\"Badajoz\",\"Sta. C. Tenerife\",\"Sevilla\",\"Madrid\",\"Castell\\u00f3n\",\"Toledo\",\"Madrid\",\"Badajoz\",\"Castell\\u00f3n\",\"M\\u00e1laga\",\"Madrid\",\"Le\\u00f3n\",\"Madrid\",\"Madrid\",\"A Coru\\u00f1a\",\"M\\u00e1laga\",\"Ciudad Real\",\"Castell\\u00f3n\",\"\\u00c1lava\",\"Madrid\",\"Asturias\",\"Valencia\",\"Madrid\",\"Barcelona\",\"Sta. C. Tenerife\",\"Barcelona\",\"C\\u00f3rdoba\",\"Zaragoza\",\"Barcelona\",\"Toledo\",\"Salamanca\",\"Alicante\",\"Toledo\",\"Murcia\",\"Ciudad Real\",\"Valencia\",\"Sevilla\",\"Madrid\",\"Teruel\",\"C\\u00e1diz\",\"Barcelona\",\"C\\u00e1diz\",\"Badajoz\",\"Castell\\u00f3n\",\"Salamanca\",\"Granada\",\"Barcelona\",\"Girona\",\"Asturias\",\"M\\u00e1laga\",\"Pontevedra\",\"Castell\\u00f3n\",\"Madrid\",\"Madrid\",\"Sta. C. Tenerife\",\"Alicante\",\"Sevilla\",\"Valencia\",\"Salamanca\",\"Madrid\",\"Madrid\",\"Almer\\u00eda\",\"Le\\u00f3n\",\"Navarra\",\"Sevilla\",\"Barcelona\",\"Murcia\",\"Sevilla\",\"Madrid\",\"M\\u00e1laga\",\"Pontevedra\",\"Pontevedra\",\"M\\u00e1laga\",\"Murcia\",\"Ja\\u00e9n\",\"Ja\\u00e9n\",\"Barcelona\",\"Lugo\",\"Barcelona\",\"Guip\\u00fazcoa\",\"Ja\\u00e9n\",\"Vizcaya\",\"Barcelona\",\"Barcelona\",\"Huelva\",\"Valencia\",\"M\\u00e1laga\",\"Madrid\",\"Las Palmas\",\"Asturias\",\"M\\u00e1laga\",\"Sevilla\",\"Asturias\",\"C\\u00f3rdoba\",\"Girona\",\"Pontevedra\",\"Barcelona\",\"Albacete\",\"Sta. C. Tenerife\",\"C\\u00f3rdoba\",\"A Coru\\u00f1a\",\"Asturias\",\"Ja\\u00e9n\",\"Salamanca\",\"\\u00c1lava\",\"Valencia\",\"Cantabria\",\"Madrid\",\"Barcelona\",\"Cuenca\",\"Murcia\",\"Las Palmas\",\"Las Palmas\",\"Alicante\",\"Guip\\u00fazcoa\",\"Badajoz\",\"Murcia\",\"A Coru\\u00f1a\",\"Madrid\",\"Sta. C. Tenerife\",\"Barcelona\",\"Madrid\",\"Alicante\",\"Sta. C. Tenerife\",\"Barcelona\",\"Huelva\",\"Madrid\",\"Las Palmas\",\"Sevilla\"],\"lat\":[39.613432,38.8780585,41.6521328,39.4697065,36.5297438,37.9557275,36.7213028,40.4167047,37.3886303,41.6521328,37.9923795,38.9950921,40.4167047,39.4697065,40.4167047,41.6521328,36.7213028,39.8560679,41.3828939,43.3709703,36.7213028,40.4167047,39.4697065,42.2814642,37.2575874,40.4167047,40.4167047,39.4697065,41.6147605,40.25185675,40.4167047,40.4167047,41.3828939,38.3436365,37.9923795,38.3436365,37.3886303,40.4167047,40.25185675,39.4745175,36.7213028,39.8560679,37.3886303,42.6075172,39.8560679,42.61254875,37.3886303,41.6521342,40.4167047,42.34484975,36.7213028,42.2814642,36.7213028,37.8845813,41.3828939,40.4167047,39.4697065,41.6521342,41.6147605,41.3828939,40.4167047,36.8414197,41.3828939,41.3828939,38.8780585,27.9580004,42.34484975,42.6075172,41.6521328,41.3828939,39.4697065,37.3886303,37.3886303,37.3886303,41.3828939,41.3828939,41.3828939,43.271087800000004,40.4167047,40.4167047,36.7213028,39.4697065,36.7213028,41.3828939,38.8780585,42.34484975,36.5297438,41.3828939,43.238482000000005,37.8845813,39.4697065,41.3828939,42.34484975,39.4697065,42.6075172,41.3828939,42.6075172,39.4697065,40.4167047,36.7213028,41.1172364,39.4697065,41.3828939,40.9651572,40.4167047,39.4697065,37.1734995,42.409632200000004,43.238482000000005,39.4697065,37.9923795,37.9923795,40.4167047,37.9923795,40.4167047,43.238482000000005,39.4697065,37.3886303,41.3828939,37.9557275,41.3828939,39.8560679,42.6075172,37.9557275,40.4167047,41.3828939,40.4167047,39.4697065,38.3436365,39.4697065,37.3886303,39.4745175,39.4697065,37.3886303,41.3828939,43.1595664,37.3886303,36.7213028,38.3436365,38.3436365,39.4697065,38.3436365,36.8414197,39.4697065,39.4697065,38.3436365,39.4697065,37.3886303,40.4167047,37.3886303,37.3886303,39.4697065,39.4745175,41.6147605,37.8845813,40.4167047,37.9557275,39.4697065,43.238482000000005,37.8845813,43.238482000000005,39.4697065,37.9557275,37.3886303,37.3886303,39.4697065,37.3886303,41.3828939,40.4167047,40.4167047,36.8414197,39.4697065,39.4697065,41.1172364,37.9557275,39.8560679,43.144527800000006,37.3886303,38.959734749999996,42.61254875,39.4697065,40.4167047,41.3828939,43.238482000000005,41.3828939,41.3828939,37.3886303,41.3828939,37.3886303,41.3828939,39.4697065,39.4697065,39.4697065,42.34484975,43.271087800000004,38.8780585,40.4167047,40.4167047,40.4167047,40.4167047,37.3886303,39.4697065,39.4697065,39.4697065,41.6521328,40.4167047,36.7213028,39.4697065,43.271087800000004,43.271087800000004,38.3436365,40.4167047,40.4167047,40.4167047,40.4167047,42.6075172,27.9580004,39.4697065,37.2575874,37.9557275,36.7213028,41.3828939,36.8414197,39.4697065,37.1734995,40.4167047,37.3886303,40.4167047,39.4697065,39.4697065,39.4697065,37.9923795,41.3828939,42.61254875,36.5297438,38.3436365,41.3828939,38.3436365,38.3436365,38.3436365,38.3436365,38.3436365,38.3436365,41.3828939,36.7213028,40.4167047,41.3828939,41.3828939,27.9580004,40.4167047,37.3886303,36.7213028,38.3436365,38.3436365,39.4697065,39.4697065,41.3828939,40.4167047,37.3886303,42.63414505,36.7213028,39.8560679,43.238482000000005,39.4697065,37.3886303,39.4745175,37.9557275,41.3828939,42.2814642,27.9580004,40.4167047,39.4697065,43.238482000000005,43.238482000000005,41.3828939,41.3828939,37.9923795,37.3886303,37.3886303,38.3436365,37.9923795,41.3828939,42.61254875,41.1172364,41.3828939,43.271087800000004,38.3436365,38.8780585,37.3886303,38.3436365,38.3436365,43.3709703,43.3709703,37.1734995,40.4167047,37.1734995,37.1734995,39.4697065,37.3886303,39.4697065,39.4697065,39.4697065,39.4697065,39.4697065,41.6147605,42.844072249999996,40.4167047,39.4697065,40.4167047,36.7213028,37.3886303,27.9580004,40.4167047,39.4697065,37.9557275,41.6521342,39.4697065,40.4167047,40.4167047,41.3828939,40.4167047,36.7213028,41.3828939,27.9580004,38.3436365,40.4167047,40.9651572,40.9651572,40.9651572,40.4167047,43.3709703,40.4167047,43.3709703,36.7213028,40.9651572,41.3828939,39.8560679,40.4167047,41.3828939,37.5934439,37.5934439,38.8780585,40.4167047,40.4167047,40.4167047,43.238482000000005,37.3886303,37.9557275,40.4167047,39.4697065,40.4167047,36.8414197,39.613432,37.3886303,36.7213028,39.8560679,36.5297438,43.3709703,37.9923795,41.6521328,41.6521328,36.5297438,38.3436365,43.271087800000004,36.5297438,36.5297438,41.3828939,42.63414505,41.3828939,41.3828939,38.8780585,42.63414505,40.4167047,40.4167047,39.8560679,40.4167047,41.6521342,40.4167047,39.4697065,39.4697065,39.4697065,43.271087800000004,43.3709703,37.9923795,40.4167047,37.9557275,36.7213028,39.4745175,39.4697065,39.8560679,39.4697065,39.4697065,39.4697065,39.4697065,36.7213028,39.4697065,38.3436365,39.4697065,40.4167047,43.238482000000005,40.4167047,43.238482000000005,41.3828939,39.4697065,41.3828939,37.5934439,37.3886303,41.3828939,39.4697065,39.4697065,42.6075172,43.144527800000006,42.63414505,37.1734995,40.4167047,36.7213028,43.144527800000006,41.3828939,39.8560679,43.3709703,43.3709703,39.613432,40.25185675,37.9557275,42.6075172,39.613432,36.7213028,41.3828939,36.7213028,40.4167047,40.4167047,40.4167047,37.9923795,37.3886303,38.8780585,39.613432,43.238482000000005,37.9923795,37.9923795,38.8780585,43.238482000000005,40.25185675,40.25185675,40.25185675,39.4697065,40.4167047,40.4167047,37.5934439,27.9580004,41.3828939,42.63414505,39.8560679,40.4167047,40.4167047,40.4167047,36.8414197,40.656478,41.3828939,43.144527800000006,40.4167047,41.3828939,42.2814642,43.238482000000005,41.3828939,39.4745175,41.6521328,40.4167047,40.4167047,38.3436365,40.4167047,37.8845813,39.4697065,40.9651572,37.9557275,37.9557275,37.9557275,38.959734749999996,37.9923795,40.4167047,40.4167047,40.4167047,40.4167047,40.4167047,40.4167047,43.144527800000006,40.4167047,40.4167047,39.4697065,40.4167047,43.3709703,37.1734995,41.3828939,41.3828939,36.5297438,36.5297438,40.4167047,36.5297438,36.5297438,36.7213028,40.9651572,40.9651572,40.4167047,41.3828939,41.60125045,39.4745175,39.8560679,37.9923795,40.9651572,40.9651572,40.9651572,40.9651572,38.8780585,38.8780585,37.3886303,37.3886303,37.3886303,36.7213028,36.7213028,40.4167047,36.7213028,40.4167047,40.25185675,39.4697065,36.7213028,40.4167047,37.3886303,37.9923795,38.3436365,36.5297438,40.4167047,38.3436365,39.4697065,40.4167047,37.1734995,40.4167047,36.7213028,43.0462247,39.4697065,40.4167047,42.63414505,36.7213028,39.4697065,41.6147605,40.4167047,41.6521328,40.4167047,38.3436365,40.4167047,38.3436365,40.25185675,40.4167047,37.8845813,38.3436365,40.4167047,40.4167047,40.4167047,43.271087800000004,43.271087800000004,42.2814642,40.4167047,43.0462247,40.9651572,39.4697065,40.4167047,40.4167047,43.144527800000006,38.3436365,43.3709703,41.3828939,40.4167047,39.4697065,39.4697065,39.4697065,39.4697065,39.4697065,40.4167047,42.61254875,38.959734749999996,40.9502159,40.4167047,37.3886303,38.3436365,37.9557275,40.9651572,42.6075172,40.4167047,40.4167047,41.3828939,40.4167047,37.1734995,38.3436365,36.7213028,37.3886303,37.3886303,37.9557275,37.9557275,37.9557275,41.3828939,40.4167047,40.4167047,40.4167047,40.4167047,40.4167047,40.4167047,40.4167047,40.4167047,42.2814642,39.8560679,43.144527800000006,38.959734749999996,43.271087800000004,37.5934439,37.3886303,41.1172364,38.3436365,39.4697065,42.61254875,41.3828939,40.4167047,43.0462247,41.3828939,37.9557275,40.4167047,40.4167047,39.4697065,39.4697065,39.4697065,39.4697065,37.9923795,41.6147605,43.0462247,41.6521342,40.4167047,40.4167047,40.4167047,37.3886303,36.7213028,36.7213028,36.7213028,36.5297438,36.7213028,37.5934439,40.4167047,37.8845813,39.4697065,37.3886303,38.3436365,40.4167047,40.4167047,36.7213028,36.7213028,37.3886303,27.9580004,40.25185675,37.2575874,40.4167047,37.3886303,37.3886303,40.4167047,36.7213028,41.6521328,41.6147605,42.844072249999996,40.9651572,40.4167047,37.1734995,43.271087800000004,43.271087800000004,36.8414197,38.3436365,41.3828939,39.8560679,36.7213028,37.3886303,36.7213028,36.7213028,37.9557275,37.9557275,37.3886303,37.9557275,37.3886303,40.4167047,38.3436365,37.9923795,40.4167047,40.4167047,39.4697065,41.3828939,40.4167047,39.4697065,40.4167047,41.9793006,41.9793006,37.9923795,38.8780585,42.2814642,38.3436365,39.4697065,41.6521342,39.4745175,40.4167047,40.4167047,42.2814642,41.3828939,39.8560679,40.4167047,43.0462247,38.8780585,37.1734995,41.6857693,41.3828939,43.3709703,41.3828939,37.3886303,41.3828939,41.3828939,42.6075172,41.3828939,36.7213028,43.3709703,43.238482000000005,37.3886303,43.238482000000005,42.61254875,38.3436365,37.9557275,36.5297438,36.5297438,36.5297438,39.4697065,37.3886303,43.1595664,37.3886303,40.4167047,36.8414197,41.3828939,40.4167047,39.4697065,37.1734995,39.4697065,41.3828939,41.3828939,37.3886303,37.1734995,37.3886303,43.271087800000004,37.9923795,40.4167047,38.3436365,27.9580004,39.4697065,39.4697065,40.4167047,39.4697065,39.4697065,36.7213028,39.4697065,43.238482000000005,43.238482000000005,40.25185675,41.3828939,40.4167047,41.6521342,37.3886303,38.959734749999996,39.4697065,40.4167047,37.9557275,27.9580004,39.4697065,39.4697065,39.4697065,43.271087800000004,39.4697065,39.4697065,39.4697065,39.4697065,39.4697065,39.4697065,41.3828939,39.4745175,40.4167047,40.4167047,41.3828939,38.3436365,37.3886303,41.3828939,37.3886303,41.6857693,43.1595664,37.2575874,37.5934439,38.9950921,40.4167047,42.6075172,41.3828939,41.6521342,42.2814642,40.4167047,40.4167047,37.1734995,40.4167047,41.3828939,43.3709703,41.3828939,42.61254875,37.9923795,43.238482000000005,38.3436365,40.4167047,36.7213028,37.1734995,36.7213028,36.7213028,36.7213028,36.7213028,36.7213028,36.7213028,40.4167047,37.8845813,38.3436365,40.4167047,37.3886303,41.3828939,40.4167047,36.7213028,40.4167047,40.9651572,40.4167047,41.3828939,39.4697065,37.3886303,37.1734995,40.4167047,39.8560679,37.9557275,37.9923795,41.6521342,38.959734749999996,41.1172364,37.3886303,42.63414505,20.6720375,20.6720375,37.1734995,41.3828939,38.9950921,40.9651572,40.9651572,20.6720375,40.4167047,39.4697065,40.4167047,41.3828939,42.34484975,40.4167047,38.3436365,37.9557275,37.1734995,40.4167047,40.4167047,40.4167047,40.4167047,40.25185675,39.613432,38.3436365,27.9580004,41.9793006,43.0462247,43.1595664,41.3828939,41.6857693,40.4167047,39.613432,41.3828939,40.4167047,39.8560679,40.4167047,37.9557275,40.4167047,40.4167047,36.5297438,37.3886303,41.3828939,43.238482000000005,40.4167047,36.8414197,38.3436365,40.4167047,43.1595664,40.4167047,36.7213028,38.3436365,41.6521328,40.9651572,42.6075172,37.9557275,42.1968459,38.3436365,36.5297438,39.4697065,42.2814642,40.9651572,36.5297438,40.25185675,38.8780585,41.3828939,41.3828939,37.3886303,41.3828939,40.4167047,41.3828939,36.7213028,41.3828939,37.5934439,36.7213028,41.3828939,37.3886303,39.4697065,37.9923795,38.8780585,36.7213028,37.1734995,40.4167047,40.25185675,40.25185675,40.25185675,40.4167047,36.5297438,37.1734995,41.3828939,36.5297438,41.3828939,37.3886303,38.3436365,43.238482000000005,38.9950921,37.8845813,38.3436365,37.8845813,37.8845813,37.8845813,41.1172364,38.9950921,37.1734995,38.9950921,38.3436365,43.3709703,38.3436365,43.271087800000004,38.3436365,41.3828939,38.959734749999996,39.4697065,40.4167047,41.3828939,41.3828939,40.25185675,39.4697065,37.9923795,37.9923795,39.4697065,41.3828939,37.9923795,38.959734749999996,38.959734749999996,39.4697065,39.4697065,39.4697065,40.4167047,37.2575874,40.4167047,37.9923795,39.4697065,37.9923795,43.238482000000005,43.238482000000005,39.8560679,43.238482000000005,39.8560679,41.3828939,40.9651572,40.4167047,43.1595664,37.3886303,37.3886303,38.3436365,41.3828939,42.6075172,42.61254875,36.7213028,41.3828939,41.3828939,37.9923795,40.4167047,40.4167047,37.3886303,39.4697065,37.9923795,43.238482000000005,36.7213028,36.5297438,37.8845813,38.3436365,40.4167047,40.4167047,37.9557275,40.4167047,40.4167047,39.4697065,39.4697065,41.3828939,39.8560679,40.4167047,40.4167047,39.4697065,38.8780585,37.3886303,41.3828939,42.61254875,43.3709703,37.3886303,39.4697065,41.3828939,36.5297438,39.4697065,43.238482000000005,43.3709703,40.4167047,41.6521328,37.5934439,40.4167047,40.4167047,39.4697065,37.1734995,40.4167047,40.4167047,40.4167047,40.4167047,40.4167047,40.4167047,40.4167047,40.4167047,41.3828939,43.271087800000004,41.3828939,42.2814642,43.271087800000004,43.271087800000004,39.4697065,36.5297438,40.4167047,38.3436365,40.4167047,41.3828939,40.4167047,41.6521328,37.1734995,40.9651572,40.9651572,42.6075172,41.3828939,43.1595664,40.4167047,39.4697065,38.9950921,35.2918698,37.8845813,42.2814642,40.4167047,37.9557275,37.3886303,43.3709703,37.9923795,40.4167047,36.5297438,41.3828939,42.61254875,41.3828939,39.613432,41.3828939,40.4167047,40.4167047,39.4697065,37.9923795,39.4697065,41.6521328,39.4697065,39.4697065,39.4697065,41.3828939,40.4167047,41.3828939,39.4697065,41.3828939,40.4167047,38.9950921,36.8414197,36.7213028,36.7213028,38.3436365,42.34484975,40.4167047,43.271087800000004,41.9793006,41.6521342,39.8560679,38.8780585,38.8780585,40.4167047,42.6075172,42.6075172,37.9557275,43.238482000000005,41.1172364,36.7213028,40.4167047,41.1172364,38.9950921,38.9950921,43.238482000000005,43.1595664,36.7213028,38.3436365,38.3436365,36.7213028,42.6075172,38.8780585,38.8780585,37.3886303,41.9793006,37.3886303,40.4167047,43.1595664,37.9923795,43.238482000000005,36.5297438,40.4167047,41.3828939,40.4167047,38.8780585,38.8780585,38.8780585,37.3886303,39.613432,38.3436365,37.2575874,41.3828939,40.4167047,40.4167047,37.2575874,43.271087800000004,40.0681156,36.5297438,40.4167047,43.3709703,39.4697065,41.3828939,40.4167047,37.3886303,37.3886303,42.63414505,36.7213028,40.4167047,41.3828939,41.3828939,43.271087800000004,42.6075172,37.5934439,42.34484975,43.144527800000006,42.6075172,40.4167047,40.0681156,41.6521342,40.4167047,39.4697065,37.9557275,40.4167047,43.144527800000006,40.9651572,36.7213028,40.4167047,41.9793006,39.613432,41.3828939,37.1734995,37.3886303,37.2575874,40.9651572,41.3828939,36.7213028,37.3886303,37.3886303,37.3886303,37.3886303,37.3886303,37.3886303,37.3886303,37.3886303,37.3886303,37.3886303,37.3886303,37.3886303,37.3886303,37.3886303,39.4697065,39.4697065,39.4697065,39.4697065,39.4697065,39.4697065,39.4697065,37.3886303,38.3436365,39.4697065,39.4697065,39.4697065,39.4697065,39.4697065,39.4697065,41.3828939,39.4697065,37.2575874,40.4167047,37.9923795,36.7213028,40.4167047,40.4167047,41.6521342,43.271087800000004,40.4167047,43.271087800000004,43.271087800000004,43.271087800000004,41.3828939,41.3828939,41.3828939,43.3709703,43.3709703,36.7213028,43.3709703,43.3709703,43.3709703,43.3709703,38.3436365,41.3828939,38.3436365,40.4167047,38.959734749999996,43.271087800000004,41.3828939,36.7213028,40.4167047,40.4167047,39.4697065,38.959734749999996,37.3886303,41.3828939,40.4167047,39.613432,20.6720375,20.6720375,20.6720375,37.3886303,40.4167047,40.9502159,40.656478,43.271087800000004,36.7213028,36.7213028,38.8780585,37.3886303,36.7213028,37.3886303,40.4167047,36.7213028,37.3886303,42.63414505,42.61254875,43.238482000000005,37.1734995,40.4167047,40.4167047,38.3436365,37.3886303,40.4167047,40.4167047,40.4167047,36.7213028,38.8780585,40.4167047,38.3436365,42.2814642,38.3436365,43.238482000000005,41.3828939,43.238482000000005,38.3436365,40.4167047,40.4167047,40.4167047,38.959734749999996,42.6075172,39.4697065,38.959734749999996,40.4167047,40.4167047,40.4167047,40.4167047,40.9502159,43.3709703,40.4167047,41.6521328,37.3886303,39.4697065,39.4697065,39.4697065,39.4697065,37.3886303,37.3886303,37.3886303,37.3886303,40.4167047,40.4167047,40.4167047,40.4167047,43.271087800000004,43.271087800000004,43.271087800000004,43.271087800000004,40.4167047,40.4167047,43.144527800000006,40.4167047,39.4697065,39.4697065,40.4167047,36.8414197,41.3828939,41.3828939,36.8414197,40.4167047,38.3436365,43.3709703,43.3709703,43.3709703,43.3709703,42.6075172,40.4167047,39.4697065,43.3709703,40.4167047,41.3828939,37.2575874,40.4167047,41.3828939,40.4167047,43.271087800000004,20.6720375,41.6147605,40.9651572,42.6075172,42.6075172,37.1734995,40.4167047,43.238482000000005,38.9950921,41.3828939,37.5934439,27.9580004,37.9923795,37.3886303,41.3828939,41.3828939,37.9923795,41.3828939,41.3828939,39.4697065,39.4697065,39.4697065,40.4167047,36.7213028,36.7213028,40.4167047,40.4167047,40.4167047,43.271087800000004,42.34484975,43.3709703,41.3828939,41.3828939,41.3828939,41.3828939,41.3828939,41.3828939,41.3828939,41.3828939,41.3828939,41.3828939,36.7213028,36.7213028,36.7213028,36.7213028,36.7213028,36.7213028,36.7213028,36.7213028,36.7213028,37.3886303,36.7213028,36.7213028,36.7213028,36.7213028,36.7213028,40.9651572,43.271087800000004,43.271087800000004,39.4697065,43.0462247,37.3886303,40.4167047,40.4167047,40.4167047,37.8845813,40.4167047,37.9923795,40.4167047,43.1595664,41.3828939,41.6521342,37.3886303,41.9793006,37.1734995,40.4167047,40.4167047,40.4167047,41.3828939,37.3886303,38.9950921,40.4167047,40.4167047,40.4167047,40.4167047,37.1734995,37.9923795,37.9923795,40.4167047,39.4697065,37.9923795,36.5297438,42.63414505,42.6075172,42.61254875,38.959734749999996,39.4697065,41.3828939,37.3886303,42.6075172,43.3709703,40.4167047,41.3828939,39.4697065,40.4167047,37.3886303,43.1595664,43.238482000000005,40.4167047,37.3886303,41.3828939,41.3828939,40.4167047,39.8560679,39.8560679,39.8560679,41.3828939,42.61254875,37.3886303,36.7213028,38.9950921,40.4167047,37.3886303,39.4745175,43.1595664,39.4697065,43.144527800000006,40.4167047,40.4167047,39.4697065,39.4697065,38.9950921,38.3436365,42.1968459,41.3828939,41.3828939,40.4167047,40.4167047,41.3828939,40.4167047,40.4167047,39.4697065,40.4167047,36.5297438,36.8414197,40.4167047,37.9923795,37.3886303,37.3886303,37.3886303,40.4167047,40.9502159,40.4167047,39.4745175,39.4697065,39.4697065,40.4167047,40.4167047,37.3886303,37.3886303,41.3828939,37.8845813,39.613432,43.238482000000005,37.3886303,37.3886303,36.7213028,40.4167047,37.3886303,39.8560679,39.4697065,40.4167047,42.6075172,40.4167047,40.4167047,40.4167047,37.3886303,43.3709703,41.6521328,38.3436365,37.5934439,42.6075172,37.9923795,42.6075172,41.3828939,43.3709703,39.4697065,42.1968459,37.9923795,40.4167047,38.3436365,41.3828939,43.3709703,41.3828939,42.6075172,36.8414197,41.6521342,40.0681156,39.613432,36.5297438,41.3828939,40.4167047,39.4697065,36.7213028,41.3828939,43.144527800000006,39.8560679,37.9923795,40.4167047,37.2575874,40.4167047,43.1595664,41.3828939,40.4167047,36.5297438,37.3886303,39.4697065,39.4697065,40.4167047,37.3886303,42.6075172,27.9580004,42.63414505,41.3828939,42.6075172,36.8414197,40.4167047,40.4167047,36.7213028,43.238482000000005,39.8560679,36.5297438,38.3436365,41.3828939,37.3886303,37.3886303,39.4697065,39.4697065,40.4167047,40.4167047,39.4697065,43.3709703,42.2814642,37.3886303,20.6720375,39.4697065,41.3828939,40.4167047,37.9923795,42.2814642,40.4167047,40.9651572,37.8845813,36.7213028,36.7213028,38.3436365,41.3828939,38.3436365,38.959734749999996,42.844072249999996,37.2575874,38.3436365,37.3886303,43.3709703,43.3709703,37.3886303,37.3886303,39.4697065,41.3828939,41.3828939,37.9923795,37.3886303,41.3828939,38.3436365,43.271087800000004,40.9651572,43.3709703,40.4167047,37.9923795,38.8780585,41.3828939,37.9923795,39.613432,38.959734749999996,36.7213028,36.7213028,41.3828939,37.9557275,36.7213028,41.3828939,41.3828939,43.3709703,42.6075172,42.844072249999996,39.4697065,41.9793006,43.0462247,36.7213028,39.4697065,36.8414197,40.4167047,36.7213028,40.4167047,36.7213028,40.4167047,40.4167047,40.4167047,39.4745175,38.959734749999996,39.4697065,36.5297438,37.3886303,39.4697065,37.3886303,41.6857693,35.888361,40.4167047,38.9950921,43.3709703,40.9651572,38.3436365,39.4697065,39.8560679,40.4167047,39.4697065,36.7213028,37.3886303,41.9793006,42.6075172,37.3886303,40.9651572,42.34484975,42.6075172,40.4167047,37.1734995,41.3828939,39.4697065,37.1734995,41.3828939,38.3436365,37.1734995,43.3709703,37.9923795,39.8560679,40.4167047,41.3828939,37.3886303,37.3886303,42.6075172,38.3436365,36.8414197,42.2814642,40.4167047,41.3828939,38.3436365,42.6075172,37.3886303,36.7213028,37.9923795,36.7213028,39.4697065,39.4697065,37.3886303,37.3886303,40.4167047,40.4167047,41.6857693,37.3886303,36.7213028,41.3828939,37.9923795,41.3828939,37.9923795,43.3709703,37.2575874,41.6521342,41.3828939,40.4167047,36.7213028,39.4697065,39.4697065,36.5297438,37.3886303,43.3709703,38.959734749999996,37.5934439,38.3436365,39.613432,38.8780585,37.5934439,36.5297438,41.3828939,40.4167047,42.844072249999996,40.4167047,41.3828939,41.3828939,36.7213028,39.4697065,43.271087800000004,37.3886303,38.3436365,37.5934439,38.959734749999996,40.4167047,36.7213028,36.7213028,43.271087800000004,40.4167047,40.4167047,43.3709703,37.9557275,43.1595664,37.3886303,37.3886303,43.3709703,37.9923795,37.9923795,38.9950921,36.7213028,36.5297438,39.4697065,37.3886303,40.4167047,36.7213028,36.7213028,36.7213028,41.3828939,41.3828939,39.4697065,39.4697065,39.4697065,37.3886303,37.3886303,37.3886303,41.3828939,43.3709703,40.4167047,38.3436365,38.8780585,37.5934439,37.3886303,40.4167047,40.25185675,39.8560679,40.4167047,38.8780585,40.25185675,36.7213028,40.4167047,42.63414505,40.4167047,40.4167047,43.3709703,36.7213028,38.959734749999996,40.25185675,42.844072249999996,40.4167047,43.271087800000004,39.4697065,40.4167047,41.3828939,37.5934439,41.3828939,37.8845813,41.6521342,41.3828939,39.8560679,40.9651572,38.3436365,39.8560679,37.9923795,38.959734749999996,39.4697065,37.3886303,40.4167047,40.6005259,36.5297438,41.3828939,36.5297438,38.8780585,40.25185675,40.9651572,37.1734995,41.3828939,41.9793006,43.271087800000004,36.7213028,42.6075172,40.25185675,40.4167047,40.4167047,37.5934439,38.3436365,37.3886303,39.4697065,40.9651572,40.4167047,40.4167047,36.8414197,42.63414505,42.61254875,37.3886303,41.3828939,37.9923795,37.3886303,40.4167047,36.7213028,42.6075172,42.6075172,36.7213028,37.9923795,37.9557275,37.9557275,41.3828939,43.0462247,41.3828939,43.144527800000006,37.9557275,43.238482000000005,41.3828939,41.3828939,37.2575874,39.4697065,36.7213028,40.4167047,27.9580004,43.271087800000004,36.7213028,37.3886303,43.271087800000004,37.8845813,41.9793006,42.6075172,41.3828939,38.9950921,37.5934439,37.8845813,43.3709703,43.271087800000004,37.9557275,40.9651572,42.844072249999996,39.4697065,43.1595664,40.4167047,41.3828939,40.0681156,37.9923795,27.9580004,27.9580004,38.3436365,43.144527800000006,38.8780585,37.9923795,43.3709703,40.4167047,37.5934439,41.3828939,40.4167047,38.3436365,37.5934439,41.3828939,37.2575874,40.4167047,27.9580004,37.3886303],\"legendgroup\":\"\",\"lon\":[2.880353635614984,-6.9702048,-4.728562,-0.3763353,-6.2928976,-3.492055612037218,-4.4216366,-3.7035825,-5.9953403,-4.728562,-1.1305431,-1.8559154,-3.7035825,-0.3763353,-3.7035825,-4.728562,-4.4216366,-4.0239568,2.1774322,-8.3959425,-4.4216366,-3.7035825,-0.3763353,-2.482804975070473,-6.9484945,-3.7035825,-3.7035825,-0.3763353,0.6267842,-0.061505110105748245,-3.7035825,-3.7035825,2.1774322,-0.4881708,-1.1305431,-0.4881708,-5.9953403,-3.7035825,-0.061505110105748245,-6.3716761,-4.4216366,-4.0239568,-5.9953403,-8.4714942,-4.0239568,-1.830787673361753,-5.9953403,-0.8809428,-3.7035825,-3.681247658403683,-4.4216366,-2.482804975070473,-4.4216366,-4.7760138,2.1774322,-3.7035825,-0.3763353,-0.8809428,0.6267842,2.1774322,-3.7035825,-2.4628135,2.1774322,2.1774322,-6.9702048,-15.6062305376665,-3.681247658403683,-8.4714942,-4.728562,2.1774322,-0.3763353,-5.9953403,-5.9953403,-5.9953403,2.1774322,2.1774322,2.1774322,-5.854145744587305,-3.7035825,-3.7035825,-4.4216366,-0.3763353,-4.4216366,2.1774322,-6.9702048,-3.681247658403683,-6.2928976,2.1774322,-2.85163163999482,-4.7760138,-0.3763353,2.1774322,-3.681247658403683,-0.3763353,-8.4714942,2.1774322,-8.4714942,-0.3763353,-3.7035825,-4.4216366,1.2546057,-0.3763353,2.1774322,-5.6640182,-3.7035825,-0.3763353,-3.5995337,-4.616100410293067,-2.85163163999482,-0.3763353,-1.1305431,-1.1305431,-3.7035825,-1.1305431,-3.7035825,-2.85163163999482,-0.3763353,-5.9953403,2.1774322,-3.492055612037218,2.1774322,-4.0239568,-8.4714942,-3.492055612037218,-3.7035825,2.1774322,-3.7035825,-0.3763353,-0.4881708,-0.3763353,-5.9953403,-6.3716761,-0.3763353,-5.9953403,2.1774322,-4.0878382,-5.9953403,-4.4216366,-0.4881708,-0.4881708,-0.3763353,-0.4881708,-2.4628135,-0.3763353,-0.3763353,-0.4881708,-0.3763353,-5.9953403,-3.7035825,-5.9953403,-5.9953403,-0.3763353,-6.3716761,0.6267842,-4.7760138,-3.7035825,-3.492055612037218,-0.3763353,-2.85163163999482,-4.7760138,-2.85163163999482,-0.3763353,-3.492055612037218,-5.9953403,-5.9953403,-0.3763353,-5.9953403,2.1774322,-3.7035825,-3.7035825,-2.4628135,-0.3763353,-0.3763353,1.2546057,-3.492055612037218,-4.0239568,-2.2037955488327494,-5.9953403,-3.8828744402485436,-1.830787673361753,-0.3763353,-3.7035825,2.1774322,-2.85163163999482,2.1774322,2.1774322,-5.9953403,2.1774322,-5.9953403,2.1774322,-0.3763353,-0.3763353,-0.3763353,-3.681247658403683,-5.854145744587305,-6.9702048,-3.7035825,-3.7035825,-3.7035825,-3.7035825,-5.9953403,-0.3763353,-0.3763353,-0.3763353,-4.728562,-3.7035825,-4.4216366,-0.3763353,-5.854145744587305,-5.854145744587305,-0.4881708,-3.7035825,-3.7035825,-3.7035825,-3.7035825,-8.4714942,-15.6062305376665,-0.3763353,-6.9484945,-3.492055612037218,-4.4216366,2.1774322,-2.4628135,-0.3763353,-3.5995337,-3.7035825,-5.9953403,-3.7035825,-0.3763353,-0.3763353,-0.3763353,-1.1305431,2.1774322,-1.830787673361753,-6.2928976,-0.4881708,2.1774322,-0.4881708,-0.4881708,-0.4881708,-0.4881708,-0.4881708,-0.4881708,2.1774322,-4.4216366,-3.7035825,2.1774322,2.1774322,-15.6062305376665,-3.7035825,-5.9953403,-4.4216366,-0.4881708,-0.4881708,-0.3763353,-0.3763353,2.1774322,-3.7035825,-5.9953403,-5.971415104539984,-4.4216366,-4.0239568,-2.85163163999482,-0.3763353,-5.9953403,-6.3716761,-3.492055612037218,2.1774322,-2.482804975070473,-15.6062305376665,-3.7035825,-0.3763353,-2.85163163999482,-2.85163163999482,2.1774322,2.1774322,-1.1305431,-5.9953403,-5.9953403,-0.4881708,-1.1305431,2.1774322,-1.830787673361753,1.2546057,2.1774322,-5.854145744587305,-0.4881708,-6.9702048,-5.9953403,-0.4881708,-0.4881708,-8.3959425,-8.3959425,-3.5995337,-3.7035825,-3.5995337,-3.5995337,-0.3763353,-5.9953403,-0.3763353,-0.3763353,-0.3763353,-0.3763353,-0.3763353,0.6267842,-2.6820829322126283,-3.7035825,-0.3763353,-3.7035825,-4.4216366,-5.9953403,-15.6062305376665,-3.7035825,-0.3763353,-3.492055612037218,-0.8809428,-0.3763353,-3.7035825,-3.7035825,2.1774322,-3.7035825,-4.4216366,2.1774322,-15.6062305376665,-0.4881708,-3.7035825,-5.6640182,-5.6640182,-5.6640182,-3.7035825,-8.3959425,-3.7035825,-8.3959425,-4.4216366,-5.6640182,2.1774322,-4.0239568,-3.7035825,2.1774322,-0.9589222,-0.9589222,-6.9702048,-3.7035825,-3.7035825,-3.7035825,-2.85163163999482,-5.9953403,-3.492055612037218,-3.7035825,-0.3763353,-3.7035825,-2.4628135,2.880353635614984,-5.9953403,-4.4216366,-4.0239568,-6.2928976,-8.3959425,-1.1305431,-4.728562,-4.728562,-6.2928976,-0.4881708,-5.854145744587305,-6.2928976,-6.2928976,2.1774322,-5.971415104539984,2.1774322,2.1774322,-6.9702048,-5.971415104539984,-3.7035825,-3.7035825,-4.0239568,-3.7035825,-0.8809428,-3.7035825,-0.3763353,-0.3763353,-0.3763353,-5.854145744587305,-8.3959425,-1.1305431,-3.7035825,-3.492055612037218,-4.4216366,-6.3716761,-0.3763353,-4.0239568,-0.3763353,-0.3763353,-0.3763353,-0.3763353,-4.4216366,-0.3763353,-0.4881708,-0.3763353,-3.7035825,-2.85163163999482,-3.7035825,-2.85163163999482,2.1774322,-0.3763353,2.1774322,-0.9589222,-5.9953403,2.1774322,-0.3763353,-0.3763353,-8.4714942,-2.2037955488327494,-5.971415104539984,-3.5995337,-3.7035825,-4.4216366,-2.2037955488327494,2.1774322,-4.0239568,-8.3959425,-8.3959425,2.880353635614984,-0.061505110105748245,-3.492055612037218,-8.4714942,2.880353635614984,-4.4216366,2.1774322,-4.4216366,-3.7035825,-3.7035825,-3.7035825,-1.1305431,-5.9953403,-6.9702048,2.880353635614984,-2.85163163999482,-1.1305431,-1.1305431,-6.9702048,-2.85163163999482,-0.061505110105748245,-0.061505110105748245,-0.061505110105748245,-0.3763353,-3.7035825,-3.7035825,-0.9589222,-15.6062305376665,2.1774322,-5.971415104539984,-4.0239568,-3.7035825,-3.7035825,-3.7035825,-2.4628135,-4.7002172,2.1774322,-2.2037955488327494,-3.7035825,2.1774322,-2.482804975070473,-2.85163163999482,2.1774322,-6.3716761,-4.728562,-3.7035825,-3.7035825,-0.4881708,-3.7035825,-4.7760138,-0.3763353,-5.6640182,-3.492055612037218,-3.492055612037218,-3.492055612037218,-3.8828744402485436,-1.1305431,-3.7035825,-3.7035825,-3.7035825,-3.7035825,-3.7035825,-3.7035825,-2.2037955488327494,-3.7035825,-3.7035825,-0.3763353,-3.7035825,-8.3959425,-3.5995337,2.1774322,2.1774322,-6.2928976,-6.2928976,-3.7035825,-6.2928976,-6.2928976,-4.4216366,-5.6640182,-5.6640182,-3.7035825,2.1774322,-2.721938035449954,-6.3716761,-4.0239568,-1.1305431,-5.6640182,-5.6640182,-5.6640182,-5.6640182,-6.9702048,-6.9702048,-5.9953403,-5.9953403,-5.9953403,-4.4216366,-4.4216366,-3.7035825,-4.4216366,-3.7035825,-0.061505110105748245,-0.3763353,-4.4216366,-3.7035825,-5.9953403,-1.1305431,-0.4881708,-6.2928976,-3.7035825,-0.4881708,-0.3763353,-3.7035825,-3.5995337,-3.7035825,-4.4216366,-7.4739921,-0.3763353,-3.7035825,-5.971415104539984,-4.4216366,-0.3763353,0.6267842,-3.7035825,-4.728562,-3.7035825,-0.4881708,-3.7035825,-0.4881708,-0.061505110105748245,-3.7035825,-4.7760138,-0.4881708,-3.7035825,-3.7035825,-3.7035825,-5.854145744587305,-5.854145744587305,-2.482804975070473,-3.7035825,-7.4739921,-5.6640182,-0.3763353,-3.7035825,-3.7035825,-2.2037955488327494,-0.4881708,-8.3959425,2.1774322,-3.7035825,-0.3763353,-0.3763353,-0.3763353,-0.3763353,-0.3763353,-3.7035825,-1.830787673361753,-3.8828744402485436,-4.1241494,-3.7035825,-5.9953403,-0.4881708,-3.492055612037218,-5.6640182,-8.4714942,-3.7035825,-3.7035825,2.1774322,-3.7035825,-3.5995337,-0.4881708,-4.4216366,-5.9953403,-5.9953403,-3.492055612037218,-3.492055612037218,-3.492055612037218,2.1774322,-3.7035825,-3.7035825,-3.7035825,-3.7035825,-3.7035825,-3.7035825,-3.7035825,-3.7035825,-2.482804975070473,-4.0239568,-2.2037955488327494,-3.8828744402485436,-5.854145744587305,-0.9589222,-5.9953403,1.2546057,-0.4881708,-0.3763353,-1.830787673361753,2.1774322,-3.7035825,-7.4739921,2.1774322,-3.492055612037218,-3.7035825,-3.7035825,-0.3763353,-0.3763353,-0.3763353,-0.3763353,-1.1305431,0.6267842,-7.4739921,-0.8809428,-3.7035825,-3.7035825,-3.7035825,-5.9953403,-4.4216366,-4.4216366,-4.4216366,-6.2928976,-4.4216366,-0.9589222,-3.7035825,-4.7760138,-0.3763353,-5.9953403,-0.4881708,-3.7035825,-3.7035825,-4.4216366,-4.4216366,-5.9953403,-15.6062305376665,-0.061505110105748245,-6.9484945,-3.7035825,-5.9953403,-5.9953403,-3.7035825,-4.4216366,-4.728562,0.6267842,-2.6820829322126283,-5.6640182,-3.7035825,-3.5995337,-5.854145744587305,-5.854145744587305,-2.4628135,-0.4881708,2.1774322,-4.0239568,-4.4216366,-5.9953403,-4.4216366,-4.4216366,-3.492055612037218,-3.492055612037218,-5.9953403,-3.492055612037218,-5.9953403,-3.7035825,-0.4881708,-1.1305431,-3.7035825,-3.7035825,-0.3763353,2.1774322,-3.7035825,-0.3763353,-3.7035825,2.8199439,2.8199439,-1.1305431,-6.9702048,-2.482804975070473,-0.4881708,-0.3763353,-0.8809428,-6.3716761,-3.7035825,-3.7035825,-2.482804975070473,2.1774322,-4.0239568,-3.7035825,-7.4739921,-6.9702048,-3.5995337,-5.942315018340977,2.1774322,-8.3959425,2.1774322,-5.9953403,2.1774322,2.1774322,-8.4714942,2.1774322,-4.4216366,-8.3959425,-2.85163163999482,-5.9953403,-2.85163163999482,-1.830787673361753,-0.4881708,-3.492055612037218,-6.2928976,-6.2928976,-6.2928976,-0.3763353,-5.9953403,-4.0878382,-5.9953403,-3.7035825,-2.4628135,2.1774322,-3.7035825,-0.3763353,-3.5995337,-0.3763353,2.1774322,2.1774322,-5.9953403,-3.5995337,-5.9953403,-5.854145744587305,-1.1305431,-3.7035825,-0.4881708,-15.6062305376665,-0.3763353,-0.3763353,-3.7035825,-0.3763353,-0.3763353,-4.4216366,-0.3763353,-2.85163163999482,-2.85163163999482,-0.061505110105748245,2.1774322,-3.7035825,-0.8809428,-5.9953403,-3.8828744402485436,-0.3763353,-3.7035825,-3.492055612037218,-15.6062305376665,-0.3763353,-0.3763353,-0.3763353,-5.854145744587305,-0.3763353,-0.3763353,-0.3763353,-0.3763353,-0.3763353,-0.3763353,2.1774322,-6.3716761,-3.7035825,-3.7035825,2.1774322,-0.4881708,-5.9953403,2.1774322,-5.9953403,-5.942315018340977,-4.0878382,-6.9484945,-0.9589222,-1.8559154,-3.7035825,-8.4714942,2.1774322,-0.8809428,-2.482804975070473,-3.7035825,-3.7035825,-3.5995337,-3.7035825,2.1774322,-8.3959425,2.1774322,-1.830787673361753,-1.1305431,-2.85163163999482,-0.4881708,-3.7035825,-4.4216366,-3.5995337,-4.4216366,-4.4216366,-4.4216366,-4.4216366,-4.4216366,-4.4216366,-3.7035825,-4.7760138,-0.4881708,-3.7035825,-5.9953403,2.1774322,-3.7035825,-4.4216366,-3.7035825,-5.6640182,-3.7035825,2.1774322,-0.3763353,-5.9953403,-3.5995337,-3.7035825,-4.0239568,-3.492055612037218,-1.1305431,-0.8809428,-3.8828744402485436,1.2546057,-5.9953403,-5.971415104539984,-103.338396,-103.338396,-3.5995337,2.1774322,-1.8559154,-5.6640182,-5.6640182,-103.338396,-3.7035825,-0.3763353,-3.7035825,2.1774322,-3.681247658403683,-3.7035825,-0.4881708,-3.492055612037218,-3.5995337,-3.7035825,-3.7035825,-3.7035825,-3.7035825,-0.061505110105748245,2.880353635614984,-0.4881708,-15.6062305376665,2.8199439,-7.4739921,-4.0878382,2.1774322,-5.942315018340977,-3.7035825,2.880353635614984,2.1774322,-3.7035825,-4.0239568,-3.7035825,-3.492055612037218,-3.7035825,-3.7035825,-6.2928976,-5.9953403,2.1774322,-2.85163163999482,-3.7035825,-2.4628135,-0.4881708,-3.7035825,-4.0878382,-3.7035825,-4.4216366,-0.4881708,-4.728562,-5.6640182,-8.4714942,-3.492055612037218,-7.6114105,-0.4881708,-6.2928976,-0.3763353,-2.482804975070473,-5.6640182,-6.2928976,-0.061505110105748245,-6.9702048,2.1774322,2.1774322,-5.9953403,2.1774322,-3.7035825,2.1774322,-4.4216366,2.1774322,-0.9589222,-4.4216366,2.1774322,-5.9953403,-0.3763353,-1.1305431,-6.9702048,-4.4216366,-3.5995337,-3.7035825,-0.061505110105748245,-0.061505110105748245,-0.061505110105748245,-3.7035825,-6.2928976,-3.5995337,2.1774322,-6.2928976,2.1774322,-5.9953403,-0.4881708,-2.85163163999482,-1.8559154,-4.7760138,-0.4881708,-4.7760138,-4.7760138,-4.7760138,1.2546057,-1.8559154,-3.5995337,-1.8559154,-0.4881708,-8.3959425,-0.4881708,-5.854145744587305,-0.4881708,2.1774322,-3.8828744402485436,-0.3763353,-3.7035825,2.1774322,2.1774322,-0.061505110105748245,-0.3763353,-1.1305431,-1.1305431,-0.3763353,2.1774322,-1.1305431,-3.8828744402485436,-3.8828744402485436,-0.3763353,-0.3763353,-0.3763353,-3.7035825,-6.9484945,-3.7035825,-1.1305431,-0.3763353,-1.1305431,-2.85163163999482,-2.85163163999482,-4.0239568,-2.85163163999482,-4.0239568,2.1774322,-5.6640182,-3.7035825,-4.0878382,-5.9953403,-5.9953403,-0.4881708,2.1774322,-8.4714942,-1.830787673361753,-4.4216366,2.1774322,2.1774322,-1.1305431,-3.7035825,-3.7035825,-5.9953403,-0.3763353,-1.1305431,-2.85163163999482,-4.4216366,-6.2928976,-4.7760138,-0.4881708,-3.7035825,-3.7035825,-3.492055612037218,-3.7035825,-3.7035825,-0.3763353,-0.3763353,2.1774322,-4.0239568,-3.7035825,-3.7035825,-0.3763353,-6.9702048,-5.9953403,2.1774322,-1.830787673361753,-8.3959425,-5.9953403,-0.3763353,2.1774322,-6.2928976,-0.3763353,-2.85163163999482,-8.3959425,-3.7035825,-4.728562,-0.9589222,-3.7035825,-3.7035825,-0.3763353,-3.5995337,-3.7035825,-3.7035825,-3.7035825,-3.7035825,-3.7035825,-3.7035825,-3.7035825,-3.7035825,2.1774322,-5.854145744587305,2.1774322,-2.482804975070473,-5.854145744587305,-5.854145744587305,-0.3763353,-6.2928976,-3.7035825,-0.4881708,-3.7035825,2.1774322,-3.7035825,-4.728562,-3.5995337,-5.6640182,-5.6640182,-8.4714942,2.1774322,-4.0878382,-3.7035825,-0.3763353,-1.8559154,-2.9409026,-4.7760138,-2.482804975070473,-3.7035825,-3.492055612037218,-5.9953403,-8.3959425,-1.1305431,-3.7035825,-6.2928976,2.1774322,-1.830787673361753,2.1774322,2.880353635614984,2.1774322,-3.7035825,-3.7035825,-0.3763353,-1.1305431,-0.3763353,-4.728562,-0.3763353,-0.3763353,-0.3763353,2.1774322,-3.7035825,2.1774322,-0.3763353,2.1774322,-3.7035825,-1.8559154,-2.4628135,-4.4216366,-4.4216366,-0.4881708,-3.681247658403683,-3.7035825,-5.854145744587305,2.8199439,-0.8809428,-4.0239568,-6.9702048,-6.9702048,-3.7035825,-8.4714942,-8.4714942,-3.492055612037218,-2.85163163999482,1.2546057,-4.4216366,-3.7035825,1.2546057,-1.8559154,-1.8559154,-2.85163163999482,-4.0878382,-4.4216366,-0.4881708,-0.4881708,-4.4216366,-8.4714942,-6.9702048,-6.9702048,-5.9953403,2.8199439,-5.9953403,-3.7035825,-4.0878382,-1.1305431,-2.85163163999482,-6.2928976,-3.7035825,2.1774322,-3.7035825,-6.9702048,-6.9702048,-6.9702048,-5.9953403,2.880353635614984,-0.4881708,-6.9484945,2.1774322,-3.7035825,-3.7035825,-6.9484945,-5.854145744587305,-2.1348241,-6.2928976,-3.7035825,-8.3959425,-0.3763353,2.1774322,-3.7035825,-5.9953403,-5.9953403,-5.971415104539984,-4.4216366,-3.7035825,2.1774322,2.1774322,-5.854145744587305,-8.4714942,-0.9589222,-3.681247658403683,-2.2037955488327494,-8.4714942,-3.7035825,-2.1348241,-0.8809428,-3.7035825,-0.3763353,-3.492055612037218,-3.7035825,-2.2037955488327494,-5.6640182,-4.4216366,-3.7035825,2.8199439,2.880353635614984,2.1774322,-3.5995337,-5.9953403,-6.9484945,-5.6640182,2.1774322,-4.4216366,-5.9953403,-5.9953403,-5.9953403,-5.9953403,-5.9953403,-5.9953403,-5.9953403,-5.9953403,-5.9953403,-5.9953403,-5.9953403,-5.9953403,-5.9953403,-5.9953403,-0.3763353,-0.3763353,-0.3763353,-0.3763353,-0.3763353,-0.3763353,-0.3763353,-5.9953403,-0.4881708,-0.3763353,-0.3763353,-0.3763353,-0.3763353,-0.3763353,-0.3763353,2.1774322,-0.3763353,-6.9484945,-3.7035825,-1.1305431,-4.4216366,-3.7035825,-3.7035825,-0.8809428,-5.854145744587305,-3.7035825,-5.854145744587305,-5.854145744587305,-5.854145744587305,2.1774322,2.1774322,2.1774322,-8.3959425,-8.3959425,-4.4216366,-8.3959425,-8.3959425,-8.3959425,-8.3959425,-0.4881708,2.1774322,-0.4881708,-3.7035825,-3.8828744402485436,-5.854145744587305,2.1774322,-4.4216366,-3.7035825,-3.7035825,-0.3763353,-3.8828744402485436,-5.9953403,2.1774322,-3.7035825,2.880353635614984,-103.338396,-103.338396,-103.338396,-5.9953403,-3.7035825,-4.1241494,-4.7002172,-5.854145744587305,-4.4216366,-4.4216366,-6.9702048,-5.9953403,-4.4216366,-5.9953403,-3.7035825,-4.4216366,-5.9953403,-5.971415104539984,-1.830787673361753,-2.85163163999482,-3.5995337,-3.7035825,-3.7035825,-0.4881708,-5.9953403,-3.7035825,-3.7035825,-3.7035825,-4.4216366,-6.9702048,-3.7035825,-0.4881708,-2.482804975070473,-0.4881708,-2.85163163999482,2.1774322,-2.85163163999482,-0.4881708,-3.7035825,-3.7035825,-3.7035825,-3.8828744402485436,-8.4714942,-0.3763353,-3.8828744402485436,-3.7035825,-3.7035825,-3.7035825,-3.7035825,-4.1241494,-8.3959425,-3.7035825,-4.728562,-5.9953403,-0.3763353,-0.3763353,-0.3763353,-0.3763353,-5.9953403,-5.9953403,-5.9953403,-5.9953403,-3.7035825,-3.7035825,-3.7035825,-3.7035825,-5.854145744587305,-5.854145744587305,-5.854145744587305,-5.854145744587305,-3.7035825,-3.7035825,-2.2037955488327494,-3.7035825,-0.3763353,-0.3763353,-3.7035825,-2.4628135,2.1774322,2.1774322,-2.4628135,-3.7035825,-0.4881708,-8.3959425,-8.3959425,-8.3959425,-8.3959425,-8.4714942,-3.7035825,-0.3763353,-8.3959425,-3.7035825,2.1774322,-6.9484945,-3.7035825,2.1774322,-3.7035825,-5.854145744587305,-103.338396,0.6267842,-5.6640182,-8.4714942,-8.4714942,-3.5995337,-3.7035825,-2.85163163999482,-1.8559154,2.1774322,-0.9589222,-15.6062305376665,-1.1305431,-5.9953403,2.1774322,2.1774322,-1.1305431,2.1774322,2.1774322,-0.3763353,-0.3763353,-0.3763353,-3.7035825,-4.4216366,-4.4216366,-3.7035825,-3.7035825,-3.7035825,-5.854145744587305,-3.681247658403683,-8.3959425,2.1774322,2.1774322,2.1774322,2.1774322,2.1774322,2.1774322,2.1774322,2.1774322,2.1774322,2.1774322,-4.4216366,-4.4216366,-4.4216366,-4.4216366,-4.4216366,-4.4216366,-4.4216366,-4.4216366,-4.4216366,-5.9953403,-4.4216366,-4.4216366,-4.4216366,-4.4216366,-4.4216366,-5.6640182,-5.854145744587305,-5.854145744587305,-0.3763353,-7.4739921,-5.9953403,-3.7035825,-3.7035825,-3.7035825,-4.7760138,-3.7035825,-1.1305431,-3.7035825,-4.0878382,2.1774322,-0.8809428,-5.9953403,2.8199439,-3.5995337,-3.7035825,-3.7035825,-3.7035825,2.1774322,-5.9953403,-1.8559154,-3.7035825,-3.7035825,-3.7035825,-3.7035825,-3.5995337,-1.1305431,-1.1305431,-3.7035825,-0.3763353,-1.1305431,-6.2928976,-5.971415104539984,-8.4714942,-1.830787673361753,-3.8828744402485436,-0.3763353,2.1774322,-5.9953403,-8.4714942,-8.3959425,-3.7035825,2.1774322,-0.3763353,-3.7035825,-5.9953403,-4.0878382,-2.85163163999482,-3.7035825,-5.9953403,2.1774322,2.1774322,-3.7035825,-4.0239568,-4.0239568,-4.0239568,2.1774322,-1.830787673361753,-5.9953403,-4.4216366,-1.8559154,-3.7035825,-5.9953403,-6.3716761,-4.0878382,-0.3763353,-2.2037955488327494,-3.7035825,-3.7035825,-0.3763353,-0.3763353,-1.8559154,-0.4881708,-7.6114105,2.1774322,2.1774322,-3.7035825,-3.7035825,2.1774322,-3.7035825,-3.7035825,-0.3763353,-3.7035825,-6.2928976,-2.4628135,-3.7035825,-1.1305431,-5.9953403,-5.9953403,-5.9953403,-3.7035825,-4.1241494,-3.7035825,-6.3716761,-0.3763353,-0.3763353,-3.7035825,-3.7035825,-5.9953403,-5.9953403,2.1774322,-4.7760138,2.880353635614984,-2.85163163999482,-5.9953403,-5.9953403,-4.4216366,-3.7035825,-5.9953403,-4.0239568,-0.3763353,-3.7035825,-8.4714942,-3.7035825,-3.7035825,-3.7035825,-5.9953403,-8.3959425,-4.728562,-0.4881708,-0.9589222,-8.4714942,-1.1305431,-8.4714942,2.1774322,-8.3959425,-0.3763353,-7.6114105,-1.1305431,-3.7035825,-0.4881708,2.1774322,-8.3959425,2.1774322,-8.4714942,-2.4628135,-0.8809428,-2.1348241,2.880353635614984,-6.2928976,2.1774322,-3.7035825,-0.3763353,-4.4216366,2.1774322,-2.2037955488327494,-4.0239568,-1.1305431,-3.7035825,-6.9484945,-3.7035825,-4.0878382,2.1774322,-3.7035825,-6.2928976,-5.9953403,-0.3763353,-0.3763353,-3.7035825,-5.9953403,-8.4714942,-15.6062305376665,-5.971415104539984,2.1774322,-8.4714942,-2.4628135,-3.7035825,-3.7035825,-4.4216366,-2.85163163999482,-4.0239568,-6.2928976,-0.4881708,2.1774322,-5.9953403,-5.9953403,-0.3763353,-0.3763353,-3.7035825,-3.7035825,-0.3763353,-8.3959425,-2.482804975070473,-5.9953403,-103.338396,-0.3763353,2.1774322,-3.7035825,-1.1305431,-2.482804975070473,-3.7035825,-5.6640182,-4.7760138,-4.4216366,-4.4216366,-0.4881708,2.1774322,-0.4881708,-3.8828744402485436,-2.6820829322126283,-6.9484945,-0.4881708,-5.9953403,-8.3959425,-8.3959425,-5.9953403,-5.9953403,-0.3763353,2.1774322,2.1774322,-1.1305431,-5.9953403,2.1774322,-0.4881708,-5.854145744587305,-5.6640182,-8.3959425,-3.7035825,-1.1305431,-6.9702048,2.1774322,-1.1305431,2.880353635614984,-3.8828744402485436,-4.4216366,-4.4216366,2.1774322,-3.492055612037218,-4.4216366,2.1774322,2.1774322,-8.3959425,-8.4714942,-2.6820829322126283,-0.3763353,2.8199439,-7.4739921,-4.4216366,-0.3763353,-2.4628135,-3.7035825,-4.4216366,-3.7035825,-4.4216366,-3.7035825,-3.7035825,-3.7035825,-6.3716761,-3.8828744402485436,-0.3763353,-6.2928976,-5.9953403,-0.3763353,-5.9953403,-5.942315018340977,-5.304138,-3.7035825,-1.8559154,-8.3959425,-5.6640182,-0.4881708,-0.3763353,-4.0239568,-3.7035825,-0.3763353,-4.4216366,-5.9953403,2.8199439,-8.4714942,-5.9953403,-5.6640182,-3.681247658403683,-8.4714942,-3.7035825,-3.5995337,2.1774322,-0.3763353,-3.5995337,2.1774322,-0.4881708,-3.5995337,-8.3959425,-1.1305431,-4.0239568,-3.7035825,2.1774322,-5.9953403,-5.9953403,-8.4714942,-0.4881708,-2.4628135,-2.482804975070473,-3.7035825,2.1774322,-0.4881708,-8.4714942,-5.9953403,-4.4216366,-1.1305431,-4.4216366,-0.3763353,-0.3763353,-5.9953403,-5.9953403,-3.7035825,-3.7035825,-5.942315018340977,-5.9953403,-4.4216366,2.1774322,-1.1305431,2.1774322,-1.1305431,-8.3959425,-6.9484945,-0.8809428,2.1774322,-3.7035825,-4.4216366,-0.3763353,-0.3763353,-6.2928976,-5.9953403,-8.3959425,-3.8828744402485436,-0.9589222,-0.4881708,2.880353635614984,-6.9702048,-0.9589222,-6.2928976,2.1774322,-3.7035825,-2.6820829322126283,-3.7035825,2.1774322,2.1774322,-4.4216366,-0.3763353,-5.854145744587305,-5.9953403,-0.4881708,-0.9589222,-3.8828744402485436,-3.7035825,-4.4216366,-4.4216366,-5.854145744587305,-3.7035825,-3.7035825,-8.3959425,-3.492055612037218,-4.0878382,-5.9953403,-5.9953403,-8.3959425,-1.1305431,-1.1305431,-1.8559154,-4.4216366,-6.2928976,-0.3763353,-5.9953403,-3.7035825,-4.4216366,-4.4216366,-4.4216366,2.1774322,2.1774322,-0.3763353,-0.3763353,-0.3763353,-5.9953403,-5.9953403,-5.9953403,2.1774322,-8.3959425,-3.7035825,-0.4881708,-6.9702048,-0.9589222,-5.9953403,-3.7035825,-0.061505110105748245,-4.0239568,-3.7035825,-6.9702048,-0.061505110105748245,-4.4216366,-3.7035825,-5.971415104539984,-3.7035825,-3.7035825,-8.3959425,-4.4216366,-3.8828744402485436,-0.061505110105748245,-2.6820829322126283,-3.7035825,-5.854145744587305,-0.3763353,-3.7035825,2.1774322,-0.9589222,2.1774322,-4.7760138,-0.8809428,2.1774322,-4.0239568,-5.6640182,-0.4881708,-4.0239568,-1.1305431,-3.8828744402485436,-0.3763353,-5.9953403,-3.7035825,-0.9229281754890265,-6.2928976,2.1774322,-6.2928976,-6.9702048,-0.061505110105748245,-5.6640182,-3.5995337,2.1774322,2.8199439,-5.854145744587305,-4.4216366,-8.4714942,-0.061505110105748245,-3.7035825,-3.7035825,-0.9589222,-0.4881708,-5.9953403,-0.3763353,-5.6640182,-3.7035825,-3.7035825,-2.4628135,-5.971415104539984,-1.830787673361753,-5.9953403,2.1774322,-1.1305431,-5.9953403,-3.7035825,-4.4216366,-8.4714942,-8.4714942,-4.4216366,-1.1305431,-3.492055612037218,-3.492055612037218,2.1774322,-7.4739921,2.1774322,-2.2037955488327494,-3.492055612037218,-2.85163163999482,2.1774322,2.1774322,-6.9484945,-0.3763353,-4.4216366,-3.7035825,-15.6062305376665,-5.854145744587305,-4.4216366,-5.9953403,-5.854145744587305,-4.7760138,2.8199439,-8.4714942,2.1774322,-1.8559154,-0.9589222,-4.7760138,-8.3959425,-5.854145744587305,-3.492055612037218,-5.6640182,-2.6820829322126283,-0.3763353,-4.0878382,-3.7035825,2.1774322,-2.1348241,-1.1305431,-15.6062305376665,-15.6062305376665,-0.4881708,-2.2037955488327494,-6.9702048,-1.1305431,-8.3959425,-3.7035825,-0.9589222,2.1774322,-3.7035825,-0.4881708,-0.9589222,2.1774322,-6.9484945,-3.7035825,-15.6062305376665,-5.9953403],\"marker\":{\"color\":\"#636efa\",\"symbol\":\"circle\"},\"mode\":\"markers\",\"name\":\"\",\"showlegend\":false,\"type\":\"scattergeo\"}],                        {\"template\":{\"data\":{\"bar\":[{\"error_x\":{\"color\":\"#2a3f5f\"},\"error_y\":{\"color\":\"#2a3f5f\"},\"marker\":{\"line\":{\"color\":\"#E5ECF6\",\"width\":0.5},\"pattern\":{\"fillmode\":\"overlay\",\"size\":10,\"solidity\":0.2}},\"type\":\"bar\"}],\"barpolar\":[{\"marker\":{\"line\":{\"color\":\"#E5ECF6\",\"width\":0.5},\"pattern\":{\"fillmode\":\"overlay\",\"size\":10,\"solidity\":0.2}},\"type\":\"barpolar\"}],\"carpet\":[{\"aaxis\":{\"endlinecolor\":\"#2a3f5f\",\"gridcolor\":\"white\",\"linecolor\":\"white\",\"minorgridcolor\":\"white\",\"startlinecolor\":\"#2a3f5f\"},\"baxis\":{\"endlinecolor\":\"#2a3f5f\",\"gridcolor\":\"white\",\"linecolor\":\"white\",\"minorgridcolor\":\"white\",\"startlinecolor\":\"#2a3f5f\"},\"type\":\"carpet\"}],\"choropleth\":[{\"colorbar\":{\"outlinewidth\":0,\"ticks\":\"\"},\"type\":\"choropleth\"}],\"contour\":[{\"colorbar\":{\"outlinewidth\":0,\"ticks\":\"\"},\"colorscale\":[[0.0,\"#0d0887\"],[0.1111111111111111,\"#46039f\"],[0.2222222222222222,\"#7201a8\"],[0.3333333333333333,\"#9c179e\"],[0.4444444444444444,\"#bd3786\"],[0.5555555555555556,\"#d8576b\"],[0.6666666666666666,\"#ed7953\"],[0.7777777777777778,\"#fb9f3a\"],[0.8888888888888888,\"#fdca26\"],[1.0,\"#f0f921\"]],\"type\":\"contour\"}],\"contourcarpet\":[{\"colorbar\":{\"outlinewidth\":0,\"ticks\":\"\"},\"type\":\"contourcarpet\"}],\"heatmap\":[{\"colorbar\":{\"outlinewidth\":0,\"ticks\":\"\"},\"colorscale\":[[0.0,\"#0d0887\"],[0.1111111111111111,\"#46039f\"],[0.2222222222222222,\"#7201a8\"],[0.3333333333333333,\"#9c179e\"],[0.4444444444444444,\"#bd3786\"],[0.5555555555555556,\"#d8576b\"],[0.6666666666666666,\"#ed7953\"],[0.7777777777777778,\"#fb9f3a\"],[0.8888888888888888,\"#fdca26\"],[1.0,\"#f0f921\"]],\"type\":\"heatmap\"}],\"heatmapgl\":[{\"colorbar\":{\"outlinewidth\":0,\"ticks\":\"\"},\"colorscale\":[[0.0,\"#0d0887\"],[0.1111111111111111,\"#46039f\"],[0.2222222222222222,\"#7201a8\"],[0.3333333333333333,\"#9c179e\"],[0.4444444444444444,\"#bd3786\"],[0.5555555555555556,\"#d8576b\"],[0.6666666666666666,\"#ed7953\"],[0.7777777777777778,\"#fb9f3a\"],[0.8888888888888888,\"#fdca26\"],[1.0,\"#f0f921\"]],\"type\":\"heatmapgl\"}],\"histogram\":[{\"marker\":{\"pattern\":{\"fillmode\":\"overlay\",\"size\":10,\"solidity\":0.2}},\"type\":\"histogram\"}],\"histogram2d\":[{\"colorbar\":{\"outlinewidth\":0,\"ticks\":\"\"},\"colorscale\":[[0.0,\"#0d0887\"],[0.1111111111111111,\"#46039f\"],[0.2222222222222222,\"#7201a8\"],[0.3333333333333333,\"#9c179e\"],[0.4444444444444444,\"#bd3786\"],[0.5555555555555556,\"#d8576b\"],[0.6666666666666666,\"#ed7953\"],[0.7777777777777778,\"#fb9f3a\"],[0.8888888888888888,\"#fdca26\"],[1.0,\"#f0f921\"]],\"type\":\"histogram2d\"}],\"histogram2dcontour\":[{\"colorbar\":{\"outlinewidth\":0,\"ticks\":\"\"},\"colorscale\":[[0.0,\"#0d0887\"],[0.1111111111111111,\"#46039f\"],[0.2222222222222222,\"#7201a8\"],[0.3333333333333333,\"#9c179e\"],[0.4444444444444444,\"#bd3786\"],[0.5555555555555556,\"#d8576b\"],[0.6666666666666666,\"#ed7953\"],[0.7777777777777778,\"#fb9f3a\"],[0.8888888888888888,\"#fdca26\"],[1.0,\"#f0f921\"]],\"type\":\"histogram2dcontour\"}],\"mesh3d\":[{\"colorbar\":{\"outlinewidth\":0,\"ticks\":\"\"},\"type\":\"mesh3d\"}],\"parcoords\":[{\"line\":{\"colorbar\":{\"outlinewidth\":0,\"ticks\":\"\"}},\"type\":\"parcoords\"}],\"pie\":[{\"automargin\":true,\"type\":\"pie\"}],\"scatter\":[{\"marker\":{\"colorbar\":{\"outlinewidth\":0,\"ticks\":\"\"}},\"type\":\"scatter\"}],\"scatter3d\":[{\"line\":{\"colorbar\":{\"outlinewidth\":0,\"ticks\":\"\"}},\"marker\":{\"colorbar\":{\"outlinewidth\":0,\"ticks\":\"\"}},\"type\":\"scatter3d\"}],\"scattercarpet\":[{\"marker\":{\"colorbar\":{\"outlinewidth\":0,\"ticks\":\"\"}},\"type\":\"scattercarpet\"}],\"scattergeo\":[{\"marker\":{\"colorbar\":{\"outlinewidth\":0,\"ticks\":\"\"}},\"type\":\"scattergeo\"}],\"scattergl\":[{\"marker\":{\"colorbar\":{\"outlinewidth\":0,\"ticks\":\"\"}},\"type\":\"scattergl\"}],\"scattermapbox\":[{\"marker\":{\"colorbar\":{\"outlinewidth\":0,\"ticks\":\"\"}},\"type\":\"scattermapbox\"}],\"scatterpolar\":[{\"marker\":{\"colorbar\":{\"outlinewidth\":0,\"ticks\":\"\"}},\"type\":\"scatterpolar\"}],\"scatterpolargl\":[{\"marker\":{\"colorbar\":{\"outlinewidth\":0,\"ticks\":\"\"}},\"type\":\"scatterpolargl\"}],\"scatterternary\":[{\"marker\":{\"colorbar\":{\"outlinewidth\":0,\"ticks\":\"\"}},\"type\":\"scatterternary\"}],\"surface\":[{\"colorbar\":{\"outlinewidth\":0,\"ticks\":\"\"},\"colorscale\":[[0.0,\"#0d0887\"],[0.1111111111111111,\"#46039f\"],[0.2222222222222222,\"#7201a8\"],[0.3333333333333333,\"#9c179e\"],[0.4444444444444444,\"#bd3786\"],[0.5555555555555556,\"#d8576b\"],[0.6666666666666666,\"#ed7953\"],[0.7777777777777778,\"#fb9f3a\"],[0.8888888888888888,\"#fdca26\"],[1.0,\"#f0f921\"]],\"type\":\"surface\"}],\"table\":[{\"cells\":{\"fill\":{\"color\":\"#EBF0F8\"},\"line\":{\"color\":\"white\"}},\"header\":{\"fill\":{\"color\":\"#C8D4E3\"},\"line\":{\"color\":\"white\"}},\"type\":\"table\"}]},\"layout\":{\"annotationdefaults\":{\"arrowcolor\":\"#2a3f5f\",\"arrowhead\":0,\"arrowwidth\":1},\"autotypenumbers\":\"strict\",\"coloraxis\":{\"colorbar\":{\"outlinewidth\":0,\"ticks\":\"\"}},\"colorscale\":{\"diverging\":[[0,\"#8e0152\"],[0.1,\"#c51b7d\"],[0.2,\"#de77ae\"],[0.3,\"#f1b6da\"],[0.4,\"#fde0ef\"],[0.5,\"#f7f7f7\"],[0.6,\"#e6f5d0\"],[0.7,\"#b8e186\"],[0.8,\"#7fbc41\"],[0.9,\"#4d9221\"],[1,\"#276419\"]],\"sequential\":[[0.0,\"#0d0887\"],[0.1111111111111111,\"#46039f\"],[0.2222222222222222,\"#7201a8\"],[0.3333333333333333,\"#9c179e\"],[0.4444444444444444,\"#bd3786\"],[0.5555555555555556,\"#d8576b\"],[0.6666666666666666,\"#ed7953\"],[0.7777777777777778,\"#fb9f3a\"],[0.8888888888888888,\"#fdca26\"],[1.0,\"#f0f921\"]],\"sequentialminus\":[[0.0,\"#0d0887\"],[0.1111111111111111,\"#46039f\"],[0.2222222222222222,\"#7201a8\"],[0.3333333333333333,\"#9c179e\"],[0.4444444444444444,\"#bd3786\"],[0.5555555555555556,\"#d8576b\"],[0.6666666666666666,\"#ed7953\"],[0.7777777777777778,\"#fb9f3a\"],[0.8888888888888888,\"#fdca26\"],[1.0,\"#f0f921\"]]},\"colorway\":[\"#636efa\",\"#EF553B\",\"#00cc96\",\"#ab63fa\",\"#FFA15A\",\"#19d3f3\",\"#FF6692\",\"#B6E880\",\"#FF97FF\",\"#FECB52\"],\"font\":{\"color\":\"#2a3f5f\"},\"geo\":{\"bgcolor\":\"white\",\"lakecolor\":\"white\",\"landcolor\":\"#E5ECF6\",\"showlakes\":true,\"showland\":true,\"subunitcolor\":\"white\"},\"hoverlabel\":{\"align\":\"left\"},\"hovermode\":\"closest\",\"mapbox\":{\"style\":\"light\"},\"paper_bgcolor\":\"white\",\"plot_bgcolor\":\"#E5ECF6\",\"polar\":{\"angularaxis\":{\"gridcolor\":\"white\",\"linecolor\":\"white\",\"ticks\":\"\"},\"bgcolor\":\"#E5ECF6\",\"radialaxis\":{\"gridcolor\":\"white\",\"linecolor\":\"white\",\"ticks\":\"\"}},\"scene\":{\"xaxis\":{\"backgroundcolor\":\"#E5ECF6\",\"gridcolor\":\"white\",\"gridwidth\":2,\"linecolor\":\"white\",\"showbackground\":true,\"ticks\":\"\",\"zerolinecolor\":\"white\"},\"yaxis\":{\"backgroundcolor\":\"#E5ECF6\",\"gridcolor\":\"white\",\"gridwidth\":2,\"linecolor\":\"white\",\"showbackground\":true,\"ticks\":\"\",\"zerolinecolor\":\"white\"},\"zaxis\":{\"backgroundcolor\":\"#E5ECF6\",\"gridcolor\":\"white\",\"gridwidth\":2,\"linecolor\":\"white\",\"showbackground\":true,\"ticks\":\"\",\"zerolinecolor\":\"white\"}},\"shapedefaults\":{\"line\":{\"color\":\"#2a3f5f\"}},\"ternary\":{\"aaxis\":{\"gridcolor\":\"white\",\"linecolor\":\"white\",\"ticks\":\"\"},\"baxis\":{\"gridcolor\":\"white\",\"linecolor\":\"white\",\"ticks\":\"\"},\"bgcolor\":\"#E5ECF6\",\"caxis\":{\"gridcolor\":\"white\",\"linecolor\":\"white\",\"ticks\":\"\"}},\"title\":{\"x\":0.05},\"xaxis\":{\"automargin\":true,\"gridcolor\":\"white\",\"linecolor\":\"white\",\"ticks\":\"\",\"title\":{\"standoff\":15},\"zerolinecolor\":\"white\",\"zerolinewidth\":2},\"yaxis\":{\"automargin\":true,\"gridcolor\":\"white\",\"linecolor\":\"white\",\"ticks\":\"\",\"title\":{\"standoff\":15},\"zerolinecolor\":\"white\",\"zerolinewidth\":2}}},\"geo\":{\"domain\":{\"x\":[0.0,1.0],\"y\":[0.0,1.0]},\"center\":{}},\"legend\":{\"tracegroupgap\":0},\"margin\":{\"t\":60},\"title\":{\"text\":\"World map\",\"x\":0.5}},                        {\"responsive\": true}                    ).then(function(){\n",
              "                            \n",
              "var gd = document.getElementById('6a95b75f-d4b1-49e5-8bd9-0f6c4de1fe8b');\n",
              "var x = new MutationObserver(function (mutations, observer) {{\n",
              "        var display = window.getComputedStyle(gd).display;\n",
              "        if (!display || display === 'none') {{\n",
              "            console.log([gd, 'removed!']);\n",
              "            Plotly.purge(gd);\n",
              "            observer.disconnect();\n",
              "        }}\n",
              "}});\n",
              "\n",
              "// Listen for the removal of the full notebook cells\n",
              "var notebookContainer = gd.closest('#notebook-container');\n",
              "if (notebookContainer) {{\n",
              "    x.observe(notebookContainer, {childList: true});\n",
              "}}\n",
              "\n",
              "// Listen for the clearing of the current output cell\n",
              "var outputEl = gd.closest('.output');\n",
              "if (outputEl) {{\n",
              "    x.observe(outputEl, {childList: true});\n",
              "}}\n",
              "\n",
              "                        })                };                            </script>        </div>\n",
              "</body>\n",
              "</html>"
            ]
          },
          "metadata": {}
        }
      ]
    },
    {
      "cell_type": "code",
      "source": [
        "# Descubrimos que Guadalajara es incorrecto en las coordenadas\n",
        "# Quito información de Guadalajara, Sta. Cruz de Tenerife y Las Palmas para comparar de nuevo PairGrid"
      ],
      "metadata": {
        "id": "PTj0j1loEkZt"
      },
      "execution_count": 283,
      "outputs": []
    },
    {
      "cell_type": "code",
      "source": [
        "coches_check_GPS = coches[~((coches['ciudad'] == 'Guadalajara') | (coches['ciudad'] == 'Sta. C. Tenerife') | (coches['ciudad'] == 'Las Palmas'))]"
      ],
      "metadata": {
        "id": "KFobSHUuIIvc"
      },
      "execution_count": 284,
      "outputs": []
    },
    {
      "cell_type": "code",
      "source": [
        "# Scatter plot\n",
        "g = sns.PairGrid(data = coches_check_GPS, vars = numeric_vars)\n",
        "g = g.map_diag(plt.hist, bins = 20)\n",
        "\n",
        "g.fig.subplots_adjust(top=0.95)\n",
        "g.fig.suptitle('Diagrama de puntos para variables numéricas')\n",
        "g.map_offdiag(plt.scatter);"
      ],
      "metadata": {
        "colab": {
          "base_uri": "https://localhost:8080/",
          "height": 899
        },
        "id": "TI_Q7vPUHXyJ",
        "outputId": "595196d1-5300-478b-f3e6-8f14b1233d89"
      },
      "execution_count": 285,
      "outputs": [
        {
          "output_type": "display_data",
          "data": {
            "text/plain": [
              "<Figure size 900x900 with 30 Axes>"
            ],
            "image/png": "[encoded data removed]"
          },
          "metadata": {
            "needs_background": "light"
          }
        }
      ]
    },
    {
      "cell_type": "markdown",
      "source": [
        "No se observa ninguna relación significativa entre las coordenadas de las ciudades y el precio de lo vehículos del estudio."
      ],
      "metadata": {
        "id": "OYGwY3vKKPwp"
      }
    },
    {
      "cell_type": "markdown",
      "source": [
        "### Crear archivo de salida para modelar"
      ],
      "metadata": {
        "id": "vw75G-deKxK_"
      }
    },
    {
      "cell_type": "markdown",
      "source": [
        "Seleccionar variables de interés para proceder a la etapa de modelado de regresión"
      ],
      "metadata": {
        "id": "JLsuIqCdK0bj"
      }
    },
    {
      "cell_type": "code",
      "source": [
        "coches.sample()"
      ],
      "metadata": {
        "colab": {
          "base_uri": "https://localhost:8080/",
          "height": 335
        },
        "id": "9nO2s_OTKHVX",
        "outputId": "0f984849-73d0-4ee3-e06c-1b975279f766"
      },
      "execution_count": 286,
      "outputs": [
        {
          "output_type": "execute_result",
          "data": {
            "text/plain": [
              "                                               titulo  precio  kilometros  \\\n",
              "139  MERCEDES-BENZ Clase C C Coupe 220 d AMG Line 2p.   26999      131000   \n",
              "\n",
              "      año    ciudad  garantia  \\\n",
              "139  2016  Alicante      True   \n",
              "\n",
              "                                                                                             url  \\\n",
              "139  /mercedes-benz-clase-c-c-coupe-220-d-amg-line-2p-diesel-2016-en-alicante-51568298-covo.aspx   \n",
              "\n",
              "                                                                                                                   web  \\\n",
              "139  https://www.coches.net/mercedes-benz-clase-c-c-coupe-220-d-amg-line-2p-diesel-2016-en-alicante-51568298-covo.aspx   \n",
              "\n",
              "      AMG  lat_ciudad  long_ciudad   z_kilometros  años  tipo_combustible  \\\n",
              "139  True   38.343637    -0.488171  130998.419874     6                 1   \n",
              "\n",
              "    modelo_tipo  combustible_2  combustible_4  combustible_5  tipo_200  \\\n",
              "139         220              0              0              0         0   \n",
              "\n",
              "     tipo_220  tipo_250  tipo_300  tipo_350  tipo_400  tipo_43  tipo_45  \\\n",
              "139         1         0         0         0         0        0        0   \n",
              "\n",
              "     tipo_450  tipo_63  tipo_NoInfo puertas  4MATIC  Avantgarde  BlueTEC  \\\n",
              "139         0        0            0       2   False       False    False   \n",
              "\n",
              "     Sportive  Exclusive  S Edition  d Edition  \n",
              "139     False      False      False      False  "
            ],
            "text/html": [
              "\n",
              "  <div id=\"df-f23ed878-4123-4afb-9154-1fbefb2ae9db\">\n",
              "    <div class=\"colab-df-container\">\n",
              "      <div>\n",
              "<style scoped>\n",
              "    .dataframe tbody tr th:only-of-type {\n",
              "        vertical-align: middle;\n",
              "    }\n",
              "\n",
              "    .dataframe tbody tr th {\n",
              "        vertical-align: top;\n",
              "    }\n",
              "\n",
              "    .dataframe thead th {\n",
              "        text-align: right;\n",
              "    }\n",
              "</style>\n",
              "<table border=\"1\" class=\"dataframe\">\n",
              "  <thead>\n",
              "    <tr style=\"text-align: right;\">\n",
              "      <th></th>\n",
              "      <th>titulo</th>\n",
              "      <th>precio</th>\n",
              "      <th>kilometros</th>\n",
              "      <th>año</th>\n",
              "      <th>ciudad</th>\n",
              "      <th>garantia</th>\n",
              "      <th>url</th>\n",
              "      <th>web</th>\n",
              "      <th>AMG</th>\n",
              "      <th>lat_ciudad</th>\n",
              "      <th>long_ciudad</th>\n",
              "      <th>z_kilometros</th>\n",
              "      <th>años</th>\n",
              "      <th>tipo_combustible</th>\n",
              "      <th>modelo_tipo</th>\n",
              "      <th>combustible_2</th>\n",
              "      <th>combustible_4</th>\n",
              "      <th>combustible_5</th>\n",
              "      <th>tipo_200</th>\n",
              "      <th>tipo_220</th>\n",
              "      <th>tipo_250</th>\n",
              "      <th>tipo_300</th>\n",
              "      <th>tipo_350</th>\n",
              "      <th>tipo_400</th>\n",
              "      <th>tipo_43</th>\n",
              "      <th>tipo_45</th>\n",
              "      <th>tipo_450</th>\n",
              "      <th>tipo_63</th>\n",
              "      <th>tipo_NoInfo</th>\n",
              "      <th>puertas</th>\n",
              "      <th>4MATIC</th>\n",
              "      <th>Avantgarde</th>\n",
              "      <th>BlueTEC</th>\n",
              "      <th>Sportive</th>\n",
              "      <th>Exclusive</th>\n",
              "      <th>S Edition</th>\n",
              "      <th>d Edition</th>\n",
              "    </tr>\n",
              "  </thead>\n",
              "  <tbody>\n",
              "    <tr>\n",
              "      <th>139</th>\n",
              "      <td>MERCEDES-BENZ Clase C C Coupe 220 d AMG Line 2p.</td>\n",
              "      <td>26999</td>\n",
              "      <td>131000</td>\n",
              "      <td>2016</td>\n",
              "      <td>Alicante</td>\n",
              "      <td>True</td>\n",
              "      <td>/mercedes-benz-clase-c-c-coupe-220-d-amg-line-2p-diesel-2016-en-alicante-51568298-covo.aspx</td>\n",
              "      <td>https://www.coches.net/mercedes-benz-clase-c-c-coupe-220-d-amg-line-2p-diesel-2016-en-alicante-51568298-covo.aspx</td>\n",
              "      <td>True</td>\n",
              "      <td>38.343637</td>\n",
              "      <td>-0.488171</td>\n",
              "      <td>130998.419874</td>\n",
              "      <td>6</td>\n",
              "      <td>1</td>\n",
              "      <td>220</td>\n",
              "      <td>0</td>\n",
              "      <td>0</td>\n",
              "      <td>0</td>\n",
              "      <td>0</td>\n",
              "      <td>1</td>\n",
              "      <td>0</td>\n",
              "      <td>0</td>\n",
              "      <td>0</td>\n",
              "      <td>0</td>\n",
              "      <td>0</td>\n",
              "      <td>0</td>\n",
              "      <td>0</td>\n",
              "      <td>0</td>\n",
              "      <td>0</td>\n",
              "      <td>2</td>\n",
              "      <td>False</td>\n",
              "      <td>False</td>\n",
              "      <td>False</td>\n",
              "      <td>False</td>\n",
              "      <td>False</td>\n",
              "      <td>False</td>\n",
              "      <td>False</td>\n",
              "    </tr>\n",
              "  </tbody>\n",
              "</table>\n",
              "</div>\n",
              "      <button class=\"colab-df-convert\" onclick=\"convertToInteractive('df-f23ed878-4123-4afb-9154-1fbefb2ae9db')\"\n",
              "              title=\"Convert this dataframe to an interactive table.\"\n",
              "              style=\"display:none;\">\n",
              "        \n",
              "  <svg xmlns=\"http://www.w3.org/2000/svg\" height=\"24px\"viewBox=\"0 0 24 24\"\n",
              "       width=\"24px\">\n",
              "    <path d=\"M0 0h24v24H0V0z\" fill=\"none\"/>\n",
              "    <path d=\"M18.56 5.44l.94 2.06.94-2.06 2.06-.94-2.06-.94-.94-2.06-.94 2.06-2.06.94zm-11 1L8.5 8.5l.94-2.06 2.06-.94-2.06-.94L8.5 2.5l-.94 2.06-2.06.94zm10 10l.94 2.06.94-2.06 2.06-.94-2.06-.94-.94-2.06-.94 2.06-2.06.94z\"/><path d=\"M17.41 7.96l-1.37-1.37c-.4-.4-.92-.59-1.43-.59-.52 0-1.04.2-1.43.59L10.3 9.45l-7.72 7.72c-.78.78-.78 2.05 0 2.83L4 21.41c.39.39.9.59 1.41.59.51 0 1.02-.2 1.41-.59l7.78-7.78 2.81-2.81c.8-.78.8-2.07 0-2.86zM5.41 20L4 18.59l7.72-7.72 1.47 1.35L5.41 20z\"/>\n",
              "  </svg>\n",
              "      </button>\n",
              "      \n",
              "  <style>\n",
              "    .colab-df-container {\n",
              "      display:flex;\n",
              "      flex-wrap:wrap;\n",
              "      gap: 12px;\n",
              "    }\n",
              "\n",
              "    .colab-df-convert {\n",
              "      background-color: #E8F0FE;\n",
              "      border: none;\n",
              "      border-radius: 50%;\n",
              "      cursor: pointer;\n",
              "      display: none;\n",
              "      fill: #1967D2;\n",
              "      height: 32px;\n",
              "      padding: 0 0 0 0;\n",
              "      width: 32px;\n",
              "    }\n",
              "\n",
              "    .colab-df-convert:hover {\n",
              "      background-color: #E2EBFA;\n",
              "      box-shadow: 0px 1px 2px rgba(60, 64, 67, 0.3), 0px 1px 3px 1px rgba(60, 64, 67, 0.15);\n",
              "      fill: #174EA6;\n",
              "    }\n",
              "\n",
              "    [theme=dark] .colab-df-convert {\n",
              "      background-color: #3B4455;\n",
              "      fill: #D2E3FC;\n",
              "    }\n",
              "\n",
              "    [theme=dark] .colab-df-convert:hover {\n",
              "      background-color: #434B5C;\n",
              "      box-shadow: 0px 1px 3px 1px rgba(0, 0, 0, 0.15);\n",
              "      filter: drop-shadow(0px 1px 2px rgba(0, 0, 0, 0.3));\n",
              "      fill: #FFFFFF;\n",
              "    }\n",
              "  </style>\n",
              "\n",
              "      <script>\n",
              "        const buttonEl =\n",
              "          document.querySelector('#df-f23ed878-4123-4afb-9154-1fbefb2ae9db button.colab-df-convert');\n",
              "        buttonEl.style.display =\n",
              "          google.colab.kernel.accessAllowed ? 'block' : 'none';\n",
              "\n",
              "        async function convertToInteractive(key) {\n",
              "          const element = document.querySelector('#df-f23ed878-4123-4afb-9154-1fbefb2ae9db');\n",
              "          const dataTable =\n",
              "            await google.colab.kernel.invokeFunction('convertToInteractive',\n",
              "                                                     [key], {});\n",
              "          if (!dataTable) return;\n",
              "\n",
              "          const docLinkHtml = 'Like what you see? Visit the ' +\n",
              "            '<a target=\"_blank\" href=https://colab.research.google.com/notebooks/data_table.ipynb>data table notebook</a>'\n",
              "            + ' to learn more about interactive tables.';\n",
              "          element.innerHTML = '';\n",
              "          dataTable['output_type'] = 'display_data';\n",
              "          await google.colab.output.renderOutput(dataTable, element);\n",
              "          const docLink = document.createElement('div');\n",
              "          docLink.innerHTML = docLinkHtml;\n",
              "          element.appendChild(docLink);\n",
              "        }\n",
              "      </script>\n",
              "    </div>\n",
              "  </div>\n",
              "  "
            ]
          },
          "metadata": {},
          "execution_count": 286
        }
      ]
    },
    {
      "cell_type": "code",
      "source": [
        "var_model = ['precio', 'kilometros', 'garantia', 'AMG', 'años'\n",
        "            , 'combustible_2', 'combustible_4', 'z_kilometros'\n",
        "            , 'combustible_5', 'tipo_200', 'tipo_220', 'tipo_250'\n",
        "            , 'tipo_300', 'tipo_350', 'tipo_400', 'tipo_43'\n",
        "            , 'tipo_45', 'tipo_450', 'tipo_63', 'tipo_NoInfo'\n",
        "            , 'puertas', '4MATIC', 'Avantgarde', 'BlueTEC'\n",
        "            , 'Sportive', 'Exclusive', 'S Edition', 'd Edition']\n",
        "\n",
        "coches_model = coches[var_model]"
      ],
      "metadata": {
        "id": "2pEsldW4LAzX"
      },
      "execution_count": 287,
      "outputs": []
    },
    {
      "cell_type": "code",
      "source": [
        "coches_model.sample(5)"
      ],
      "metadata": {
        "colab": {
          "base_uri": "https://localhost:8080/",
          "height": 206
        },
        "id": "KYrVwz17Mn78",
        "outputId": "a6e6f4db-7130-48c8-dc13-a1bf1dc989e1"
      },
      "execution_count": 288,
      "outputs": [
        {
          "output_type": "execute_result",
          "data": {
            "text/plain": [
              "      precio  kilometros  garantia    AMG  años  combustible_2  combustible_4  \\\n",
              "1114   16900      319000      True  False     6              0              0   \n",
              "910    17900      208000      True  False     8              0              0   \n",
              "420    42900       51000      True  False     4              0              0   \n",
              "678    46900       99000      True   True     4              1              0   \n",
              "1209   22490       99946      True  False     7              0              0   \n",
              "\n",
              "       z_kilometros  combustible_5  tipo_200  tipo_220  tipo_250  tipo_300  \\\n",
              "1114  318998.419874              0         0         1         0         0   \n",
              "910   207998.419874              0         0         1         0         0   \n",
              "420    50998.419874              0         0         1         0         0   \n",
              "678    98998.419874              0         0         0         0         0   \n",
              "1209   99944.419874              0         0         1         0         0   \n",
              "\n",
              "      tipo_350  tipo_400  tipo_43  tipo_45  tipo_450  tipo_63  tipo_NoInfo  \\\n",
              "1114         0         0        0        0         0        0            0   \n",
              "910          0         0        0        0         0        0            0   \n",
              "420          0         0        0        0         0        0            0   \n",
              "678          0         0        1        0         0        0            0   \n",
              "1209         0         0        0        0         0        0            0   \n",
              "\n",
              "     puertas  4MATIC  Avantgarde  BlueTEC  Sportive  Exclusive  S Edition  \\\n",
              "1114       4   False       False    False     False      False      False   \n",
              "910   NoInfo   False       False    False     False      False      False   \n",
              "420        4   False       False    False     False      False      False   \n",
              "678        5    True       False    False     False      False      False   \n",
              "1209       5   False        True     True     False      False      False   \n",
              "\n",
              "      d Edition  \n",
              "1114      False  \n",
              "910       False  \n",
              "420       False  \n",
              "678       False  \n",
              "1209      False  "
            ],
            "text/html": [
              "\n",
              "  <div id=\"df-92f7bba1-6e7f-43f1-b9c3-5a19e35b3aae\">\n",
              "    <div class=\"colab-df-container\">\n",
              "      <div>\n",
              "<style scoped>\n",
              "    .dataframe tbody tr th:only-of-type {\n",
              "        vertical-align: middle;\n",
              "    }\n",
              "\n",
              "    .dataframe tbody tr th {\n",
              "        vertical-align: top;\n",
              "    }\n",
              "\n",
              "    .dataframe thead th {\n",
              "        text-align: right;\n",
              "    }\n",
              "</style>\n",
              "<table border=\"1\" class=\"dataframe\">\n",
              "  <thead>\n",
              "    <tr style=\"text-align: right;\">\n",
              "      <th></th>\n",
              "      <th>precio</th>\n",
              "      <th>kilometros</th>\n",
              "      <th>garantia</th>\n",
              "      <th>AMG</th>\n",
              "      <th>años</th>\n",
              "      <th>combustible_2</th>\n",
              "      <th>combustible_4</th>\n",
              "      <th>z_kilometros</th>\n",
              "      <th>combustible_5</th>\n",
              "      <th>tipo_200</th>\n",
              "      <th>tipo_220</th>\n",
              "      <th>tipo_250</th>\n",
              "      <th>tipo_300</th>\n",
              "      <th>tipo_350</th>\n",
              "      <th>tipo_400</th>\n",
              "      <th>tipo_43</th>\n",
              "      <th>tipo_45</th>\n",
              "      <th>tipo_450</th>\n",
              "      <th>tipo_63</th>\n",
              "      <th>tipo_NoInfo</th>\n",
              "      <th>puertas</th>\n",
              "      <th>4MATIC</th>\n",
              "      <th>Avantgarde</th>\n",
              "      <th>BlueTEC</th>\n",
              "      <th>Sportive</th>\n",
              "      <th>Exclusive</th>\n",
              "      <th>S Edition</th>\n",
              "      <th>d Edition</th>\n",
              "    </tr>\n",
              "  </thead>\n",
              "  <tbody>\n",
              "    <tr>\n",
              "      <th>1114</th>\n",
              "      <td>16900</td>\n",
              "      <td>319000</td>\n",
              "      <td>True</td>\n",
              "      <td>False</td>\n",
              "      <td>6</td>\n",
              "      <td>0</td>\n",
              "      <td>0</td>\n",
              "      <td>318998.419874</td>\n",
              "      <td>0</td>\n",
              "      <td>0</td>\n",
              "      <td>1</td>\n",
              "      <td>0</td>\n",
              "      <td>0</td>\n",
              "      <td>0</td>\n",
              "      <td>0</td>\n",
              "      <td>0</td>\n",
              "      <td>0</td>\n",
              "      <td>0</td>\n",
              "      <td>0</td>\n",
              "      <td>0</td>\n",
              "      <td>4</td>\n",
              "      <td>False</td>\n",
              "      <td>False</td>\n",
              "      <td>False</td>\n",
              "      <td>False</td>\n",
              "      <td>False</td>\n",
              "      <td>False</td>\n",
              "      <td>False</td>\n",
              "    </tr>\n",
              "    <tr>\n",
              "      <th>910</th>\n",
              "      <td>17900</td>\n",
              "      <td>208000</td>\n",
              "      <td>True</td>\n",
              "      <td>False</td>\n",
              "      <td>8</td>\n",
              "      <td>0</td>\n",
              "      <td>0</td>\n",
              "      <td>207998.419874</td>\n",
              "      <td>0</td>\n",
              "      <td>0</td>\n",
              "      <td>1</td>\n",
              "      <td>0</td>\n",
              "      <td>0</td>\n",
              "      <td>0</td>\n",
              "      <td>0</td>\n",
              "      <td>0</td>\n",
              "      <td>0</td>\n",
              "      <td>0</td>\n",
              "      <td>0</td>\n",
              "      <td>0</td>\n",
              "      <td>NoInfo</td>\n",
              "      <td>False</td>\n",
              "      <td>False</td>\n",
              "      <td>False</td>\n",
              "      <td>False</td>\n",
              "      <td>False</td>\n",
              "      <td>False</td>\n",
              "      <td>False</td>\n",
              "    </tr>\n",
              "    <tr>\n",
              "      <th>420</th>\n",
              "      <td>42900</td>\n",
              "      <td>51000</td>\n",
              "      <td>True</td>\n",
              "      <td>False</td>\n",
              "      <td>4</td>\n",
              "      <td>0</td>\n",
              "      <td>0</td>\n",
              "      <td>50998.419874</td>\n",
              "      <td>0</td>\n",
              "      <td>0</td>\n",
              "      <td>1</td>\n",
              "      <td>0</td>\n",
              "      <td>0</td>\n",
              "      <td>0</td>\n",
              "      <td>0</td>\n",
              "      <td>0</td>\n",
              "      <td>0</td>\n",
              "      <td>0</td>\n",
              "      <td>0</td>\n",
              "      <td>0</td>\n",
              "      <td>4</td>\n",
              "      <td>False</td>\n",
              "      <td>False</td>\n",
              "      <td>False</td>\n",
              "      <td>False</td>\n",
              "      <td>False</td>\n",
              "      <td>False</td>\n",
              "      <td>False</td>\n",
              "    </tr>\n",
              "    <tr>\n",
              "      <th>678</th>\n",
              "      <td>46900</td>\n",
              "      <td>99000</td>\n",
              "      <td>True</td>\n",
              "      <td>True</td>\n",
              "      <td>4</td>\n",
              "      <td>1</td>\n",
              "      <td>0</td>\n",
              "      <td>98998.419874</td>\n",
              "      <td>0</td>\n",
              "      <td>0</td>\n",
              "      <td>0</td>\n",
              "      <td>0</td>\n",
              "      <td>0</td>\n",
              "      <td>0</td>\n",
              "      <td>0</td>\n",
              "      <td>1</td>\n",
              "      <td>0</td>\n",
              "      <td>0</td>\n",
              "      <td>0</td>\n",
              "      <td>0</td>\n",
              "      <td>5</td>\n",
              "      <td>True</td>\n",
              "      <td>False</td>\n",
              "      <td>False</td>\n",
              "      <td>False</td>\n",
              "      <td>False</td>\n",
              "      <td>False</td>\n",
              "      <td>False</td>\n",
              "    </tr>\n",
              "    <tr>\n",
              "      <th>1209</th>\n",
              "      <td>22490</td>\n",
              "      <td>99946</td>\n",
              "      <td>True</td>\n",
              "      <td>False</td>\n",
              "      <td>7</td>\n",
              "      <td>0</td>\n",
              "      <td>0</td>\n",
              "      <td>99944.419874</td>\n",
              "      <td>0</td>\n",
              "      <td>0</td>\n",
              "      <td>1</td>\n",
              "      <td>0</td>\n",
              "      <td>0</td>\n",
              "      <td>0</td>\n",
              "      <td>0</td>\n",
              "      <td>0</td>\n",
              "      <td>0</td>\n",
              "      <td>0</td>\n",
              "      <td>0</td>\n",
              "      <td>0</td>\n",
              "      <td>5</td>\n",
              "      <td>False</td>\n",
              "      <td>True</td>\n",
              "      <td>True</td>\n",
              "      <td>False</td>\n",
              "      <td>False</td>\n",
              "      <td>False</td>\n",
              "      <td>False</td>\n",
              "    </tr>\n",
              "  </tbody>\n",
              "</table>\n",
              "</div>\n",
              "      <button class=\"colab-df-convert\" onclick=\"convertToInteractive('df-92f7bba1-6e7f-43f1-b9c3-5a19e35b3aae')\"\n",
              "              title=\"Convert this dataframe to an interactive table.\"\n",
              "              style=\"display:none;\">\n",
              "        \n",
              "  <svg xmlns=\"http://www.w3.org/2000/svg\" height=\"24px\"viewBox=\"0 0 24 24\"\n",
              "       width=\"24px\">\n",
              "    <path d=\"M0 0h24v24H0V0z\" fill=\"none\"/>\n",
              "    <path d=\"M18.56 5.44l.94 2.06.94-2.06 2.06-.94-2.06-.94-.94-2.06-.94 2.06-2.06.94zm-11 1L8.5 8.5l.94-2.06 2.06-.94-2.06-.94L8.5 2.5l-.94 2.06-2.06.94zm10 10l.94 2.06.94-2.06 2.06-.94-2.06-.94-.94-2.06-.94 2.06-2.06.94z\"/><path d=\"M17.41 7.96l-1.37-1.37c-.4-.4-.92-.59-1.43-.59-.52 0-1.04.2-1.43.59L10.3 9.45l-7.72 7.72c-.78.78-.78 2.05 0 2.83L4 21.41c.39.39.9.59 1.41.59.51 0 1.02-.2 1.41-.59l7.78-7.78 2.81-2.81c.8-.78.8-2.07 0-2.86zM5.41 20L4 18.59l7.72-7.72 1.47 1.35L5.41 20z\"/>\n",
              "  </svg>\n",
              "      </button>\n",
              "      \n",
              "  <style>\n",
              "    .colab-df-container {\n",
              "      display:flex;\n",
              "      flex-wrap:wrap;\n",
              "      gap: 12px;\n",
              "    }\n",
              "\n",
              "    .colab-df-convert {\n",
              "      background-color: #E8F0FE;\n",
              "      border: none;\n",
              "      border-radius: 50%;\n",
              "      cursor: pointer;\n",
              "      display: none;\n",
              "      fill: #1967D2;\n",
              "      height: 32px;\n",
              "      padding: 0 0 0 0;\n",
              "      width: 32px;\n",
              "    }\n",
              "\n",
              "    .colab-df-convert:hover {\n",
              "      background-color: #E2EBFA;\n",
              "      box-shadow: 0px 1px 2px rgba(60, 64, 67, 0.3), 0px 1px 3px 1px rgba(60, 64, 67, 0.15);\n",
              "      fill: #174EA6;\n",
              "    }\n",
              "\n",
              "    [theme=dark] .colab-df-convert {\n",
              "      background-color: #3B4455;\n",
              "      fill: #D2E3FC;\n",
              "    }\n",
              "\n",
              "    [theme=dark] .colab-df-convert:hover {\n",
              "      background-color: #434B5C;\n",
              "      box-shadow: 0px 1px 3px 1px rgba(0, 0, 0, 0.15);\n",
              "      filter: drop-shadow(0px 1px 2px rgba(0, 0, 0, 0.3));\n",
              "      fill: #FFFFFF;\n",
              "    }\n",
              "  </style>\n",
              "\n",
              "      <script>\n",
              "        const buttonEl =\n",
              "          document.querySelector('#df-92f7bba1-6e7f-43f1-b9c3-5a19e35b3aae button.colab-df-convert');\n",
              "        buttonEl.style.display =\n",
              "          google.colab.kernel.accessAllowed ? 'block' : 'none';\n",
              "\n",
              "        async function convertToInteractive(key) {\n",
              "          const element = document.querySelector('#df-92f7bba1-6e7f-43f1-b9c3-5a19e35b3aae');\n",
              "          const dataTable =\n",
              "            await google.colab.kernel.invokeFunction('convertToInteractive',\n",
              "                                                     [key], {});\n",
              "          if (!dataTable) return;\n",
              "\n",
              "          const docLinkHtml = 'Like what you see? Visit the ' +\n",
              "            '<a target=\"_blank\" href=https://colab.research.google.com/notebooks/data_table.ipynb>data table notebook</a>'\n",
              "            + ' to learn more about interactive tables.';\n",
              "          element.innerHTML = '';\n",
              "          dataTable['output_type'] = 'display_data';\n",
              "          await google.colab.output.renderOutput(dataTable, element);\n",
              "          const docLink = document.createElement('div');\n",
              "          docLink.innerHTML = docLinkHtml;\n",
              "          element.appendChild(docLink);\n",
              "        }\n",
              "      </script>\n",
              "    </div>\n",
              "  </div>\n",
              "  "
            ]
          },
          "metadata": {},
          "execution_count": 288
        }
      ]
    },
    {
      "cell_type": "code",
      "source": [
        "coches_model.to_csv('/content/Webscraping/EDA/cochesEDA_Output.csv', index = False)"
      ],
      "metadata": {
        "id": "gaPzLEX9McHu"
      },
      "execution_count": 289,
      "outputs": []
    }
  ]
}