{
  "nbformat": 4,
  "nbformat_minor": 0,
  "metadata": {
    "colab": {
      "name": "EDA_coches.ipynb",
      "provenance": [],
      "collapsed_sections": [],
      "authorship_tag": "ABX9TyMl5Rpw0E4taZ2ZLfsxJze6",
      "include_colab_link": true
    },
    "kernelspec": {
      "name": "python3",
      "display_name": "Python 3"
    },
    "language_info": {
      "name": "python"
    }
  },
  "cells": [
    {
      "cell_type": "markdown",
      "metadata": {
        "id": "view-in-github",
        "colab_type": "text"
      },
      "source": [
        "<a href=\"https://colab.research.google.com/github/JAlonMor/Webscraping/blob/main/EDA_coches.ipynb\" target=\"_parent\"><img src=\"https://colab.research.google.com/assets/colab-badge.svg\" alt=\"Open In Colab\"/></a>"
      ]
    },
    {
      "cell_type": "code",
      "execution_count": 161,
      "metadata": {
        "colab": {
          "base_uri": "https://localhost:8080/"
        },
        "id": "UQIncPczwaYz",
        "outputId": "1b41fa99-887f-4624-9591-7075fecdddc8"
      },
      "outputs": [
        {
          "output_type": "stream",
          "name": "stdout",
          "text": [
            "Cloning into 'Webscraping'...\n",
            "remote: Enumerating objects: 39, done.\u001b[K\n",
            "remote: Counting objects: 100% (39/39), done.\u001b[K\n",
            "remote: Compressing objects: 100% (34/34), done.\u001b[K\n",
            "remote: Total 39 (delta 13), reused 0 (delta 0), pack-reused 0\u001b[K\n",
            "Unpacking objects: 100% (39/39), done.\n"
          ]
        }
      ],
      "source": [
        "# Clonar repositorio de GitHub si no está disponible\n",
        "\n",
        "import os\n",
        "curr_dir = os.getcwd()\n",
        "\n",
        "if not os.path.exists(os.path.join(curr_dir, '../.ROOT_DIR')):\n",
        "  !git clone https://github.com/JAlonMor/Webscraping.git\n",
        "  os.chdir(os.path.join(curr_dir, 'Webscraping/EDA'))\n",
        "\n"
      ]
    },
    {
      "cell_type": "code",
      "source": [
        "import numpy as np\n",
        "import pandas as pd\n",
        "import seaborn as sns\n",
        "import matplotlib.pyplot as plt\n",
        "%matplotlib inline\n",
        "\n",
        "import warnings\n",
        "warnings.filterwarnings('ignore')"
      ],
      "metadata": {
        "id": "kGnNylHFx0H4"
      },
      "execution_count": 162,
      "outputs": []
    },
    {
      "cell_type": "code",
      "source": [
        "# Creo DataFrame a partir de los datos obtenidos mediante web scraping\n",
        "\n",
        "coches = pd.read_csv(\"/content/Webscraping/EDA/coches_net.csv\")"
      ],
      "metadata": {
        "id": "o1h8QfX7ylrA"
      },
      "execution_count": 163,
      "outputs": []
    },
    {
      "cell_type": "code",
      "source": [
        "coches.head()"
      ],
      "metadata": {
        "colab": {
          "base_uri": "https://localhost:8080/",
          "height": 206
        },
        "id": "DH7NOWXRy_Q-",
        "outputId": "b736d06b-9870-423b-dfc6-5072103fe364"
      },
      "execution_count": 164,
      "outputs": [
        {
          "output_type": "execute_result",
          "data": {
            "text/plain": [
              "                                                titulo  precio  kilometros  \\\n",
              "0                    MERCEDES-BENZ Clase C C 220 d 4p.   16200      281000   \n",
              "1             MERCEDES-BENZ Clase C C 220 d Estate 5p.   26900      114336   \n",
              "2  MERCEDES-BENZ Clase C C 220 d Avantgarde Estate 5p.   11000      287500   \n",
              "3         MERCEDES-BENZ Clase C C 220 d Avantgarde 4p.   22900      110000   \n",
              "4                    MERCEDES-BENZ Clase C C 300 d 4p.   68000       10650   \n",
              "\n",
              "    año  combustible      ciudad  garantia  \\\n",
              "0  2017          1.0    Baleares     False   \n",
              "1  2017          1.0     Badajoz      True   \n",
              "2  2015          1.0  Valladolid     False   \n",
              "3  2015          1.0    Valencia      True   \n",
              "4  2021          4.0       Cádiz      True   \n",
              "\n",
              "                                                                                                url  \n",
              "0                      /mercedes-benz-clase-c-c-220-d-4p-diesel-2017-en-baleares-51618684-covo.aspx  \n",
              "1                /mercedes-benz-clase-c-c-220-d-estate-5p-diesel-2017-en-badajoz-50946817-covo.aspx  \n",
              "2  /mercedes-benz-clase-c-c-220-d-avantgarde-estate-5p-diesel-2015-en-valladolid-51386008-covo.aspx  \n",
              "3           /mercedes-benz-clase-c-c-220-d-avantgarde-4p-diesel-2015-en-valencia-51457158-covo.aspx  \n",
              "4              /mercedes-benz-clase-c-c-300-d-4p-electrico-hibrido-2021-en-cadiz-51662564-covo.aspx  "
            ],
            "text/html": [
              "\n",
              "  <div id=\"df-5f0033af-fcd7-4fda-82a9-260b803cd3f0\">\n",
              "    <div class=\"colab-df-container\">\n",
              "      <div>\n",
              "<style scoped>\n",
              "    .dataframe tbody tr th:only-of-type {\n",
              "        vertical-align: middle;\n",
              "    }\n",
              "\n",
              "    .dataframe tbody tr th {\n",
              "        vertical-align: top;\n",
              "    }\n",
              "\n",
              "    .dataframe thead th {\n",
              "        text-align: right;\n",
              "    }\n",
              "</style>\n",
              "<table border=\"1\" class=\"dataframe\">\n",
              "  <thead>\n",
              "    <tr style=\"text-align: right;\">\n",
              "      <th></th>\n",
              "      <th>titulo</th>\n",
              "      <th>precio</th>\n",
              "      <th>kilometros</th>\n",
              "      <th>año</th>\n",
              "      <th>combustible</th>\n",
              "      <th>ciudad</th>\n",
              "      <th>garantia</th>\n",
              "      <th>url</th>\n",
              "    </tr>\n",
              "  </thead>\n",
              "  <tbody>\n",
              "    <tr>\n",
              "      <th>0</th>\n",
              "      <td>MERCEDES-BENZ Clase C C 220 d 4p.</td>\n",
              "      <td>16200</td>\n",
              "      <td>281000</td>\n",
              "      <td>2017</td>\n",
              "      <td>1.0</td>\n",
              "      <td>Baleares</td>\n",
              "      <td>False</td>\n",
              "      <td>/mercedes-benz-clase-c-c-220-d-4p-diesel-2017-en-baleares-51618684-covo.aspx</td>\n",
              "    </tr>\n",
              "    <tr>\n",
              "      <th>1</th>\n",
              "      <td>MERCEDES-BENZ Clase C C 220 d Estate 5p.</td>\n",
              "      <td>26900</td>\n",
              "      <td>114336</td>\n",
              "      <td>2017</td>\n",
              "      <td>1.0</td>\n",
              "      <td>Badajoz</td>\n",
              "      <td>True</td>\n",
              "      <td>/mercedes-benz-clase-c-c-220-d-estate-5p-diesel-2017-en-badajoz-50946817-covo.aspx</td>\n",
              "    </tr>\n",
              "    <tr>\n",
              "      <th>2</th>\n",
              "      <td>MERCEDES-BENZ Clase C C 220 d Avantgarde Estate 5p.</td>\n",
              "      <td>11000</td>\n",
              "      <td>287500</td>\n",
              "      <td>2015</td>\n",
              "      <td>1.0</td>\n",
              "      <td>Valladolid</td>\n",
              "      <td>False</td>\n",
              "      <td>/mercedes-benz-clase-c-c-220-d-avantgarde-estate-5p-diesel-2015-en-valladolid-51386008-covo.aspx</td>\n",
              "    </tr>\n",
              "    <tr>\n",
              "      <th>3</th>\n",
              "      <td>MERCEDES-BENZ Clase C C 220 d Avantgarde 4p.</td>\n",
              "      <td>22900</td>\n",
              "      <td>110000</td>\n",
              "      <td>2015</td>\n",
              "      <td>1.0</td>\n",
              "      <td>Valencia</td>\n",
              "      <td>True</td>\n",
              "      <td>/mercedes-benz-clase-c-c-220-d-avantgarde-4p-diesel-2015-en-valencia-51457158-covo.aspx</td>\n",
              "    </tr>\n",
              "    <tr>\n",
              "      <th>4</th>\n",
              "      <td>MERCEDES-BENZ Clase C C 300 d 4p.</td>\n",
              "      <td>68000</td>\n",
              "      <td>10650</td>\n",
              "      <td>2021</td>\n",
              "      <td>4.0</td>\n",
              "      <td>Cádiz</td>\n",
              "      <td>True</td>\n",
              "      <td>/mercedes-benz-clase-c-c-300-d-4p-electrico-hibrido-2021-en-cadiz-51662564-covo.aspx</td>\n",
              "    </tr>\n",
              "  </tbody>\n",
              "</table>\n",
              "</div>\n",
              "      <button class=\"colab-df-convert\" onclick=\"convertToInteractive('df-5f0033af-fcd7-4fda-82a9-260b803cd3f0')\"\n",
              "              title=\"Convert this dataframe to an interactive table.\"\n",
              "              style=\"display:none;\">\n",
              "        \n",
              "  <svg xmlns=\"http://www.w3.org/2000/svg\" height=\"24px\"viewBox=\"0 0 24 24\"\n",
              "       width=\"24px\">\n",
              "    <path d=\"M0 0h24v24H0V0z\" fill=\"none\"/>\n",
              "    <path d=\"M18.56 5.44l.94 2.06.94-2.06 2.06-.94-2.06-.94-.94-2.06-.94 2.06-2.06.94zm-11 1L8.5 8.5l.94-2.06 2.06-.94-2.06-.94L8.5 2.5l-.94 2.06-2.06.94zm10 10l.94 2.06.94-2.06 2.06-.94-2.06-.94-.94-2.06-.94 2.06-2.06.94z\"/><path d=\"M17.41 7.96l-1.37-1.37c-.4-.4-.92-.59-1.43-.59-.52 0-1.04.2-1.43.59L10.3 9.45l-7.72 7.72c-.78.78-.78 2.05 0 2.83L4 21.41c.39.39.9.59 1.41.59.51 0 1.02-.2 1.41-.59l7.78-7.78 2.81-2.81c.8-.78.8-2.07 0-2.86zM5.41 20L4 18.59l7.72-7.72 1.47 1.35L5.41 20z\"/>\n",
              "  </svg>\n",
              "      </button>\n",
              "      \n",
              "  <style>\n",
              "    .colab-df-container {\n",
              "      display:flex;\n",
              "      flex-wrap:wrap;\n",
              "      gap: 12px;\n",
              "    }\n",
              "\n",
              "    .colab-df-convert {\n",
              "      background-color: #E8F0FE;\n",
              "      border: none;\n",
              "      border-radius: 50%;\n",
              "      cursor: pointer;\n",
              "      display: none;\n",
              "      fill: #1967D2;\n",
              "      height: 32px;\n",
              "      padding: 0 0 0 0;\n",
              "      width: 32px;\n",
              "    }\n",
              "\n",
              "    .colab-df-convert:hover {\n",
              "      background-color: #E2EBFA;\n",
              "      box-shadow: 0px 1px 2px rgba(60, 64, 67, 0.3), 0px 1px 3px 1px rgba(60, 64, 67, 0.15);\n",
              "      fill: #174EA6;\n",
              "    }\n",
              "\n",
              "    [theme=dark] .colab-df-convert {\n",
              "      background-color: #3B4455;\n",
              "      fill: #D2E3FC;\n",
              "    }\n",
              "\n",
              "    [theme=dark] .colab-df-convert:hover {\n",
              "      background-color: #434B5C;\n",
              "      box-shadow: 0px 1px 3px 1px rgba(0, 0, 0, 0.15);\n",
              "      filter: drop-shadow(0px 1px 2px rgba(0, 0, 0, 0.3));\n",
              "      fill: #FFFFFF;\n",
              "    }\n",
              "  </style>\n",
              "\n",
              "      <script>\n",
              "        const buttonEl =\n",
              "          document.querySelector('#df-5f0033af-fcd7-4fda-82a9-260b803cd3f0 button.colab-df-convert');\n",
              "        buttonEl.style.display =\n",
              "          google.colab.kernel.accessAllowed ? 'block' : 'none';\n",
              "\n",
              "        async function convertToInteractive(key) {\n",
              "          const element = document.querySelector('#df-5f0033af-fcd7-4fda-82a9-260b803cd3f0');\n",
              "          const dataTable =\n",
              "            await google.colab.kernel.invokeFunction('convertToInteractive',\n",
              "                                                     [key], {});\n",
              "          if (!dataTable) return;\n",
              "\n",
              "          const docLinkHtml = 'Like what you see? Visit the ' +\n",
              "            '<a target=\"_blank\" href=https://colab.research.google.com/notebooks/data_table.ipynb>data table notebook</a>'\n",
              "            + ' to learn more about interactive tables.';\n",
              "          element.innerHTML = '';\n",
              "          dataTable['output_type'] = 'display_data';\n",
              "          await google.colab.output.renderOutput(dataTable, element);\n",
              "          const docLink = document.createElement('div');\n",
              "          docLink.innerHTML = docLinkHtml;\n",
              "          element.appendChild(docLink);\n",
              "        }\n",
              "      </script>\n",
              "    </div>\n",
              "  </div>\n",
              "  "
            ]
          },
          "metadata": {},
          "execution_count": 164
        }
      ]
    },
    {
      "cell_type": "code",
      "source": [
        "coches.info()"
      ],
      "metadata": {
        "colab": {
          "base_uri": "https://localhost:8080/"
        },
        "id": "uYDAvkh0zzpX",
        "outputId": "02da46fc-b8c7-4f77-cf95-d00b8ce28f1c"
      },
      "execution_count": 165,
      "outputs": [
        {
          "output_type": "stream",
          "name": "stdout",
          "text": [
            "<class 'pandas.core.frame.DataFrame'>\n",
            "RangeIndex: 1927 entries, 0 to 1926\n",
            "Data columns (total 8 columns):\n",
            " #   Column       Non-Null Count  Dtype  \n",
            "---  ------       --------------  -----  \n",
            " 0   titulo       1927 non-null   object \n",
            " 1   precio       1927 non-null   int64  \n",
            " 2   kilometros   1927 non-null   int64  \n",
            " 3   año          1927 non-null   int64  \n",
            " 4   combustible  1925 non-null   float64\n",
            " 5   ciudad       1927 non-null   object \n",
            " 6   garantia     1927 non-null   bool   \n",
            " 7   url          1927 non-null   object \n",
            "dtypes: bool(1), float64(1), int64(3), object(3)\n",
            "memory usage: 107.4+ KB\n"
          ]
        }
      ]
    },
    {
      "cell_type": "markdown",
      "source": [
        "## Limpieza"
      ],
      "metadata": {
        "id": "xuescEbedSDW"
      }
    },
    {
      "cell_type": "code",
      "source": [
        "# Tenemos dos valores nulos en la variable combustible\n",
        "\n",
        "coches[coches.combustible.isnull()]"
      ],
      "metadata": {
        "colab": {
          "base_uri": "https://localhost:8080/",
          "height": 112
        },
        "id": "2uWC1lSJz3Ck",
        "outputId": "1e7f9eb2-e975-4044-e1d8-c115de8d0f98"
      },
      "execution_count": 166,
      "outputs": [
        {
          "output_type": "execute_result",
          "data": {
            "text/plain": [
              "                          titulo  precio  kilometros   año  combustible  \\\n",
              "416   MERCEDES-BENZ Clase C  5p.   28500      150000  2015          NaN   \n",
              "1566               MERCEDES-BENZ   33300       34400  2017          NaN   \n",
              "\n",
              "         ciudad  garantia  \\\n",
              "416   Guipúzcoa     False   \n",
              "1566     Murcia     False   \n",
              "\n",
              "                                                                        url  \n",
              "416   /mercedes-benz-clase-c--5p-otros-2015-en-guipuzcoa-51760617-covo.aspx  \n",
              "1566     /mercedes-benz-clase-c--5p-otros-2017-en-murcia-51484724-covo.aspx  "
            ],
            "text/html": [
              "\n",
              "  <div id=\"df-8c8c4753-b34d-48e8-a8d9-89fdf67b536a\">\n",
              "    <div class=\"colab-df-container\">\n",
              "      <div>\n",
              "<style scoped>\n",
              "    .dataframe tbody tr th:only-of-type {\n",
              "        vertical-align: middle;\n",
              "    }\n",
              "\n",
              "    .dataframe tbody tr th {\n",
              "        vertical-align: top;\n",
              "    }\n",
              "\n",
              "    .dataframe thead th {\n",
              "        text-align: right;\n",
              "    }\n",
              "</style>\n",
              "<table border=\"1\" class=\"dataframe\">\n",
              "  <thead>\n",
              "    <tr style=\"text-align: right;\">\n",
              "      <th></th>\n",
              "      <th>titulo</th>\n",
              "      <th>precio</th>\n",
              "      <th>kilometros</th>\n",
              "      <th>año</th>\n",
              "      <th>combustible</th>\n",
              "      <th>ciudad</th>\n",
              "      <th>garantia</th>\n",
              "      <th>url</th>\n",
              "    </tr>\n",
              "  </thead>\n",
              "  <tbody>\n",
              "    <tr>\n",
              "      <th>416</th>\n",
              "      <td>MERCEDES-BENZ Clase C  5p.</td>\n",
              "      <td>28500</td>\n",
              "      <td>150000</td>\n",
              "      <td>2015</td>\n",
              "      <td>NaN</td>\n",
              "      <td>Guipúzcoa</td>\n",
              "      <td>False</td>\n",
              "      <td>/mercedes-benz-clase-c--5p-otros-2015-en-guipuzcoa-51760617-covo.aspx</td>\n",
              "    </tr>\n",
              "    <tr>\n",
              "      <th>1566</th>\n",
              "      <td>MERCEDES-BENZ</td>\n",
              "      <td>33300</td>\n",
              "      <td>34400</td>\n",
              "      <td>2017</td>\n",
              "      <td>NaN</td>\n",
              "      <td>Murcia</td>\n",
              "      <td>False</td>\n",
              "      <td>/mercedes-benz-clase-c--5p-otros-2017-en-murcia-51484724-covo.aspx</td>\n",
              "    </tr>\n",
              "  </tbody>\n",
              "</table>\n",
              "</div>\n",
              "      <button class=\"colab-df-convert\" onclick=\"convertToInteractive('df-8c8c4753-b34d-48e8-a8d9-89fdf67b536a')\"\n",
              "              title=\"Convert this dataframe to an interactive table.\"\n",
              "              style=\"display:none;\">\n",
              "        \n",
              "  <svg xmlns=\"http://www.w3.org/2000/svg\" height=\"24px\"viewBox=\"0 0 24 24\"\n",
              "       width=\"24px\">\n",
              "    <path d=\"M0 0h24v24H0V0z\" fill=\"none\"/>\n",
              "    <path d=\"M18.56 5.44l.94 2.06.94-2.06 2.06-.94-2.06-.94-.94-2.06-.94 2.06-2.06.94zm-11 1L8.5 8.5l.94-2.06 2.06-.94-2.06-.94L8.5 2.5l-.94 2.06-2.06.94zm10 10l.94 2.06.94-2.06 2.06-.94-2.06-.94-.94-2.06-.94 2.06-2.06.94z\"/><path d=\"M17.41 7.96l-1.37-1.37c-.4-.4-.92-.59-1.43-.59-.52 0-1.04.2-1.43.59L10.3 9.45l-7.72 7.72c-.78.78-.78 2.05 0 2.83L4 21.41c.39.39.9.59 1.41.59.51 0 1.02-.2 1.41-.59l7.78-7.78 2.81-2.81c.8-.78.8-2.07 0-2.86zM5.41 20L4 18.59l7.72-7.72 1.47 1.35L5.41 20z\"/>\n",
              "  </svg>\n",
              "      </button>\n",
              "      \n",
              "  <style>\n",
              "    .colab-df-container {\n",
              "      display:flex;\n",
              "      flex-wrap:wrap;\n",
              "      gap: 12px;\n",
              "    }\n",
              "\n",
              "    .colab-df-convert {\n",
              "      background-color: #E8F0FE;\n",
              "      border: none;\n",
              "      border-radius: 50%;\n",
              "      cursor: pointer;\n",
              "      display: none;\n",
              "      fill: #1967D2;\n",
              "      height: 32px;\n",
              "      padding: 0 0 0 0;\n",
              "      width: 32px;\n",
              "    }\n",
              "\n",
              "    .colab-df-convert:hover {\n",
              "      background-color: #E2EBFA;\n",
              "      box-shadow: 0px 1px 2px rgba(60, 64, 67, 0.3), 0px 1px 3px 1px rgba(60, 64, 67, 0.15);\n",
              "      fill: #174EA6;\n",
              "    }\n",
              "\n",
              "    [theme=dark] .colab-df-convert {\n",
              "      background-color: #3B4455;\n",
              "      fill: #D2E3FC;\n",
              "    }\n",
              "\n",
              "    [theme=dark] .colab-df-convert:hover {\n",
              "      background-color: #434B5C;\n",
              "      box-shadow: 0px 1px 3px 1px rgba(0, 0, 0, 0.15);\n",
              "      filter: drop-shadow(0px 1px 2px rgba(0, 0, 0, 0.3));\n",
              "      fill: #FFFFFF;\n",
              "    }\n",
              "  </style>\n",
              "\n",
              "      <script>\n",
              "        const buttonEl =\n",
              "          document.querySelector('#df-8c8c4753-b34d-48e8-a8d9-89fdf67b536a button.colab-df-convert');\n",
              "        buttonEl.style.display =\n",
              "          google.colab.kernel.accessAllowed ? 'block' : 'none';\n",
              "\n",
              "        async function convertToInteractive(key) {\n",
              "          const element = document.querySelector('#df-8c8c4753-b34d-48e8-a8d9-89fdf67b536a');\n",
              "          const dataTable =\n",
              "            await google.colab.kernel.invokeFunction('convertToInteractive',\n",
              "                                                     [key], {});\n",
              "          if (!dataTable) return;\n",
              "\n",
              "          const docLinkHtml = 'Like what you see? Visit the ' +\n",
              "            '<a target=\"_blank\" href=https://colab.research.google.com/notebooks/data_table.ipynb>data table notebook</a>'\n",
              "            + ' to learn more about interactive tables.';\n",
              "          element.innerHTML = '';\n",
              "          dataTable['output_type'] = 'display_data';\n",
              "          await google.colab.output.renderOutput(dataTable, element);\n",
              "          const docLink = document.createElement('div');\n",
              "          docLink.innerHTML = docLinkHtml;\n",
              "          element.appendChild(docLink);\n",
              "        }\n",
              "      </script>\n",
              "    </div>\n",
              "  </div>\n",
              "  "
            ]
          },
          "metadata": {},
          "execution_count": 166
        }
      ]
    },
    {
      "cell_type": "code",
      "source": [
        "# Al ser solo dos observaciones, trataré de solucionarlo manualmente. Veamos las URL\n",
        "\n",
        "coches.iloc[416,:].url"
      ],
      "metadata": {
        "colab": {
          "base_uri": "https://localhost:8080/",
          "height": 35
        },
        "id": "FjBGpjxu0QIP",
        "outputId": "8de43736-553e-43c8-c1fa-60153e4a1f18"
      },
      "execution_count": 167,
      "outputs": [
        {
          "output_type": "execute_result",
          "data": {
            "text/plain": [
              "'/mercedes-benz-clase-c--5p-otros-2015-en-guipuzcoa-51760617-covo.aspx'"
            ],
            "application/vnd.google.colaboratory.intrinsic+json": {
              "type": "string"
            }
          },
          "metadata": {},
          "execution_count": 167
        }
      ]
    },
    {
      "cell_type": "markdown",
      "source": [
        "Es un híbrido diésel (4)"
      ],
      "metadata": {
        "id": "EZvjKoWP2TRv"
      }
    },
    {
      "cell_type": "code",
      "source": [
        "coches.iloc[1566,:].url"
      ],
      "metadata": {
        "colab": {
          "base_uri": "https://localhost:8080/",
          "height": 35
        },
        "id": "7JFs-o1o1KjE",
        "outputId": "3a22b11e-108d-4c2f-996f-48360cd45597"
      },
      "execution_count": 168,
      "outputs": [
        {
          "output_type": "execute_result",
          "data": {
            "text/plain": [
              "'/mercedes-benz-clase-c--5p-otros-2017-en-murcia-51484724-covo.aspx'"
            ],
            "application/vnd.google.colaboratory.intrinsic+json": {
              "type": "string"
            }
          },
          "metadata": {},
          "execution_count": 168
        }
      ]
    },
    {
      "cell_type": "markdown",
      "source": [
        "Es un híbrido enchufable (gasolina) (5)"
      ],
      "metadata": {
        "id": "EEYOuMP_3I08"
      }
    },
    {
      "cell_type": "code",
      "source": [
        "coches.combustible.unique()"
      ],
      "metadata": {
        "colab": {
          "base_uri": "https://localhost:8080/"
        },
        "id": "nRfmyFa72cw7",
        "outputId": "f1d9f9a4-5e9e-43ea-dc76-b8af206f103d"
      },
      "execution_count": 169,
      "outputs": [
        {
          "output_type": "execute_result",
          "data": {
            "text/plain": [
              "array([ 1.,  4.,  2.,  5., nan])"
            ]
          },
          "metadata": {},
          "execution_count": 169
        }
      ]
    },
    {
      "cell_type": "markdown",
      "source": [
        "Códigos de los diferentes combustibles\n",
        "\n",
        "* 1 $\\rightarrow$ Diésel\n",
        "* 2 $\\rightarrow$ Gasolina\n",
        "* 4 $\\rightarrow$ Híbrido\n",
        "* 5 $\\rightarrow$ Híbrido enchufable\n"
      ],
      "metadata": {
        "id": "DoUQKSIX5biM"
      }
    },
    {
      "cell_type": "code",
      "source": [
        "coches.iloc[416,:].combustible = 4.0\n",
        "coches.iloc[1566,:].combustible = 5.0"
      ],
      "metadata": {
        "id": "OARXMKwS4fJz"
      },
      "execution_count": 170,
      "outputs": []
    },
    {
      "cell_type": "code",
      "source": [
        "coches.iloc[416,4] = 4.0\n",
        "coches.iloc[1566,4] = 5.0"
      ],
      "metadata": {
        "id": "ebhhFLNg7fvh"
      },
      "execution_count": 171,
      "outputs": []
    },
    {
      "cell_type": "code",
      "source": [
        "coches[coches.combustible.isnull()]"
      ],
      "metadata": {
        "colab": {
          "base_uri": "https://localhost:8080/",
          "height": 49
        },
        "id": "IwZNPyY27y3Y",
        "outputId": "8ad0791d-f2b7-4dd5-8268-26a3f56adca2"
      },
      "execution_count": 172,
      "outputs": [
        {
          "output_type": "execute_result",
          "data": {
            "text/plain": [
              "Empty DataFrame\n",
              "Columns: [titulo, precio, kilometros, año, combustible, ciudad, garantia, url]\n",
              "Index: []"
            ],
            "text/html": [
              "\n",
              "  <div id=\"df-4011609f-f9c0-4051-8a46-42392636413c\">\n",
              "    <div class=\"colab-df-container\">\n",
              "      <div>\n",
              "<style scoped>\n",
              "    .dataframe tbody tr th:only-of-type {\n",
              "        vertical-align: middle;\n",
              "    }\n",
              "\n",
              "    .dataframe tbody tr th {\n",
              "        vertical-align: top;\n",
              "    }\n",
              "\n",
              "    .dataframe thead th {\n",
              "        text-align: right;\n",
              "    }\n",
              "</style>\n",
              "<table border=\"1\" class=\"dataframe\">\n",
              "  <thead>\n",
              "    <tr style=\"text-align: right;\">\n",
              "      <th></th>\n",
              "      <th>titulo</th>\n",
              "      <th>precio</th>\n",
              "      <th>kilometros</th>\n",
              "      <th>año</th>\n",
              "      <th>combustible</th>\n",
              "      <th>ciudad</th>\n",
              "      <th>garantia</th>\n",
              "      <th>url</th>\n",
              "    </tr>\n",
              "  </thead>\n",
              "  <tbody>\n",
              "  </tbody>\n",
              "</table>\n",
              "</div>\n",
              "      <button class=\"colab-df-convert\" onclick=\"convertToInteractive('df-4011609f-f9c0-4051-8a46-42392636413c')\"\n",
              "              title=\"Convert this dataframe to an interactive table.\"\n",
              "              style=\"display:none;\">\n",
              "        \n",
              "  <svg xmlns=\"http://www.w3.org/2000/svg\" height=\"24px\"viewBox=\"0 0 24 24\"\n",
              "       width=\"24px\">\n",
              "    <path d=\"M0 0h24v24H0V0z\" fill=\"none\"/>\n",
              "    <path d=\"M18.56 5.44l.94 2.06.94-2.06 2.06-.94-2.06-.94-.94-2.06-.94 2.06-2.06.94zm-11 1L8.5 8.5l.94-2.06 2.06-.94-2.06-.94L8.5 2.5l-.94 2.06-2.06.94zm10 10l.94 2.06.94-2.06 2.06-.94-2.06-.94-.94-2.06-.94 2.06-2.06.94z\"/><path d=\"M17.41 7.96l-1.37-1.37c-.4-.4-.92-.59-1.43-.59-.52 0-1.04.2-1.43.59L10.3 9.45l-7.72 7.72c-.78.78-.78 2.05 0 2.83L4 21.41c.39.39.9.59 1.41.59.51 0 1.02-.2 1.41-.59l7.78-7.78 2.81-2.81c.8-.78.8-2.07 0-2.86zM5.41 20L4 18.59l7.72-7.72 1.47 1.35L5.41 20z\"/>\n",
              "  </svg>\n",
              "      </button>\n",
              "      \n",
              "  <style>\n",
              "    .colab-df-container {\n",
              "      display:flex;\n",
              "      flex-wrap:wrap;\n",
              "      gap: 12px;\n",
              "    }\n",
              "\n",
              "    .colab-df-convert {\n",
              "      background-color: #E8F0FE;\n",
              "      border: none;\n",
              "      border-radius: 50%;\n",
              "      cursor: pointer;\n",
              "      display: none;\n",
              "      fill: #1967D2;\n",
              "      height: 32px;\n",
              "      padding: 0 0 0 0;\n",
              "      width: 32px;\n",
              "    }\n",
              "\n",
              "    .colab-df-convert:hover {\n",
              "      background-color: #E2EBFA;\n",
              "      box-shadow: 0px 1px 2px rgba(60, 64, 67, 0.3), 0px 1px 3px 1px rgba(60, 64, 67, 0.15);\n",
              "      fill: #174EA6;\n",
              "    }\n",
              "\n",
              "    [theme=dark] .colab-df-convert {\n",
              "      background-color: #3B4455;\n",
              "      fill: #D2E3FC;\n",
              "    }\n",
              "\n",
              "    [theme=dark] .colab-df-convert:hover {\n",
              "      background-color: #434B5C;\n",
              "      box-shadow: 0px 1px 3px 1px rgba(0, 0, 0, 0.15);\n",
              "      filter: drop-shadow(0px 1px 2px rgba(0, 0, 0, 0.3));\n",
              "      fill: #FFFFFF;\n",
              "    }\n",
              "  </style>\n",
              "\n",
              "      <script>\n",
              "        const buttonEl =\n",
              "          document.querySelector('#df-4011609f-f9c0-4051-8a46-42392636413c button.colab-df-convert');\n",
              "        buttonEl.style.display =\n",
              "          google.colab.kernel.accessAllowed ? 'block' : 'none';\n",
              "\n",
              "        async function convertToInteractive(key) {\n",
              "          const element = document.querySelector('#df-4011609f-f9c0-4051-8a46-42392636413c');\n",
              "          const dataTable =\n",
              "            await google.colab.kernel.invokeFunction('convertToInteractive',\n",
              "                                                     [key], {});\n",
              "          if (!dataTable) return;\n",
              "\n",
              "          const docLinkHtml = 'Like what you see? Visit the ' +\n",
              "            '<a target=\"_blank\" href=https://colab.research.google.com/notebooks/data_table.ipynb>data table notebook</a>'\n",
              "            + ' to learn more about interactive tables.';\n",
              "          element.innerHTML = '';\n",
              "          dataTable['output_type'] = 'display_data';\n",
              "          await google.colab.output.renderOutput(dataTable, element);\n",
              "          const docLink = document.createElement('div');\n",
              "          docLink.innerHTML = docLinkHtml;\n",
              "          element.appendChild(docLink);\n",
              "        }\n",
              "      </script>\n",
              "    </div>\n",
              "  </div>\n",
              "  "
            ]
          },
          "metadata": {},
          "execution_count": 172
        }
      ]
    },
    {
      "cell_type": "code",
      "source": [
        "# Ahora cambio el tipo de variable a entero (combustible)\n",
        "coches['combustible'] = coches['combustible'].astype(int)\n",
        "coches.info()"
      ],
      "metadata": {
        "colab": {
          "base_uri": "https://localhost:8080/"
        },
        "id": "_lq0eiGV7_Xh",
        "outputId": "3d068873-c27f-4ce9-c080-b3bb17b51f99"
      },
      "execution_count": 173,
      "outputs": [
        {
          "output_type": "stream",
          "name": "stdout",
          "text": [
            "<class 'pandas.core.frame.DataFrame'>\n",
            "RangeIndex: 1927 entries, 0 to 1926\n",
            "Data columns (total 8 columns):\n",
            " #   Column       Non-Null Count  Dtype \n",
            "---  ------       --------------  ----- \n",
            " 0   titulo       1927 non-null   object\n",
            " 1   precio       1927 non-null   int64 \n",
            " 2   kilometros   1927 non-null   int64 \n",
            " 3   año          1927 non-null   int64 \n",
            " 4   combustible  1927 non-null   int64 \n",
            " 5   ciudad       1927 non-null   object\n",
            " 6   garantia     1927 non-null   bool  \n",
            " 7   url          1927 non-null   object\n",
            "dtypes: bool(1), int64(4), object(3)\n",
            "memory usage: 107.4+ KB\n"
          ]
        }
      ]
    },
    {
      "cell_type": "code",
      "source": [
        "coches.head()"
      ],
      "metadata": {
        "colab": {
          "base_uri": "https://localhost:8080/",
          "height": 206
        },
        "id": "Lr319UJ68dSS",
        "outputId": "ea02eade-0588-4d29-9821-31f238446152"
      },
      "execution_count": 174,
      "outputs": [
        {
          "output_type": "execute_result",
          "data": {
            "text/plain": [
              "                                                titulo  precio  kilometros  \\\n",
              "0                    MERCEDES-BENZ Clase C C 220 d 4p.   16200      281000   \n",
              "1             MERCEDES-BENZ Clase C C 220 d Estate 5p.   26900      114336   \n",
              "2  MERCEDES-BENZ Clase C C 220 d Avantgarde Estate 5p.   11000      287500   \n",
              "3         MERCEDES-BENZ Clase C C 220 d Avantgarde 4p.   22900      110000   \n",
              "4                    MERCEDES-BENZ Clase C C 300 d 4p.   68000       10650   \n",
              "\n",
              "    año  combustible      ciudad  garantia  \\\n",
              "0  2017            1    Baleares     False   \n",
              "1  2017            1     Badajoz      True   \n",
              "2  2015            1  Valladolid     False   \n",
              "3  2015            1    Valencia      True   \n",
              "4  2021            4       Cádiz      True   \n",
              "\n",
              "                                                                                                url  \n",
              "0                      /mercedes-benz-clase-c-c-220-d-4p-diesel-2017-en-baleares-51618684-covo.aspx  \n",
              "1                /mercedes-benz-clase-c-c-220-d-estate-5p-diesel-2017-en-badajoz-50946817-covo.aspx  \n",
              "2  /mercedes-benz-clase-c-c-220-d-avantgarde-estate-5p-diesel-2015-en-valladolid-51386008-covo.aspx  \n",
              "3           /mercedes-benz-clase-c-c-220-d-avantgarde-4p-diesel-2015-en-valencia-51457158-covo.aspx  \n",
              "4              /mercedes-benz-clase-c-c-300-d-4p-electrico-hibrido-2021-en-cadiz-51662564-covo.aspx  "
            ],
            "text/html": [
              "\n",
              "  <div id=\"df-f08a8441-0219-484c-960d-b43fee9b60eb\">\n",
              "    <div class=\"colab-df-container\">\n",
              "      <div>\n",
              "<style scoped>\n",
              "    .dataframe tbody tr th:only-of-type {\n",
              "        vertical-align: middle;\n",
              "    }\n",
              "\n",
              "    .dataframe tbody tr th {\n",
              "        vertical-align: top;\n",
              "    }\n",
              "\n",
              "    .dataframe thead th {\n",
              "        text-align: right;\n",
              "    }\n",
              "</style>\n",
              "<table border=\"1\" class=\"dataframe\">\n",
              "  <thead>\n",
              "    <tr style=\"text-align: right;\">\n",
              "      <th></th>\n",
              "      <th>titulo</th>\n",
              "      <th>precio</th>\n",
              "      <th>kilometros</th>\n",
              "      <th>año</th>\n",
              "      <th>combustible</th>\n",
              "      <th>ciudad</th>\n",
              "      <th>garantia</th>\n",
              "      <th>url</th>\n",
              "    </tr>\n",
              "  </thead>\n",
              "  <tbody>\n",
              "    <tr>\n",
              "      <th>0</th>\n",
              "      <td>MERCEDES-BENZ Clase C C 220 d 4p.</td>\n",
              "      <td>16200</td>\n",
              "      <td>281000</td>\n",
              "      <td>2017</td>\n",
              "      <td>1</td>\n",
              "      <td>Baleares</td>\n",
              "      <td>False</td>\n",
              "      <td>/mercedes-benz-clase-c-c-220-d-4p-diesel-2017-en-baleares-51618684-covo.aspx</td>\n",
              "    </tr>\n",
              "    <tr>\n",
              "      <th>1</th>\n",
              "      <td>MERCEDES-BENZ Clase C C 220 d Estate 5p.</td>\n",
              "      <td>26900</td>\n",
              "      <td>114336</td>\n",
              "      <td>2017</td>\n",
              "      <td>1</td>\n",
              "      <td>Badajoz</td>\n",
              "      <td>True</td>\n",
              "      <td>/mercedes-benz-clase-c-c-220-d-estate-5p-diesel-2017-en-badajoz-50946817-covo.aspx</td>\n",
              "    </tr>\n",
              "    <tr>\n",
              "      <th>2</th>\n",
              "      <td>MERCEDES-BENZ Clase C C 220 d Avantgarde Estate 5p.</td>\n",
              "      <td>11000</td>\n",
              "      <td>287500</td>\n",
              "      <td>2015</td>\n",
              "      <td>1</td>\n",
              "      <td>Valladolid</td>\n",
              "      <td>False</td>\n",
              "      <td>/mercedes-benz-clase-c-c-220-d-avantgarde-estate-5p-diesel-2015-en-valladolid-51386008-covo.aspx</td>\n",
              "    </tr>\n",
              "    <tr>\n",
              "      <th>3</th>\n",
              "      <td>MERCEDES-BENZ Clase C C 220 d Avantgarde 4p.</td>\n",
              "      <td>22900</td>\n",
              "      <td>110000</td>\n",
              "      <td>2015</td>\n",
              "      <td>1</td>\n",
              "      <td>Valencia</td>\n",
              "      <td>True</td>\n",
              "      <td>/mercedes-benz-clase-c-c-220-d-avantgarde-4p-diesel-2015-en-valencia-51457158-covo.aspx</td>\n",
              "    </tr>\n",
              "    <tr>\n",
              "      <th>4</th>\n",
              "      <td>MERCEDES-BENZ Clase C C 300 d 4p.</td>\n",
              "      <td>68000</td>\n",
              "      <td>10650</td>\n",
              "      <td>2021</td>\n",
              "      <td>4</td>\n",
              "      <td>Cádiz</td>\n",
              "      <td>True</td>\n",
              "      <td>/mercedes-benz-clase-c-c-300-d-4p-electrico-hibrido-2021-en-cadiz-51662564-covo.aspx</td>\n",
              "    </tr>\n",
              "  </tbody>\n",
              "</table>\n",
              "</div>\n",
              "      <button class=\"colab-df-convert\" onclick=\"convertToInteractive('df-f08a8441-0219-484c-960d-b43fee9b60eb')\"\n",
              "              title=\"Convert this dataframe to an interactive table.\"\n",
              "              style=\"display:none;\">\n",
              "        \n",
              "  <svg xmlns=\"http://www.w3.org/2000/svg\" height=\"24px\"viewBox=\"0 0 24 24\"\n",
              "       width=\"24px\">\n",
              "    <path d=\"M0 0h24v24H0V0z\" fill=\"none\"/>\n",
              "    <path d=\"M18.56 5.44l.94 2.06.94-2.06 2.06-.94-2.06-.94-.94-2.06-.94 2.06-2.06.94zm-11 1L8.5 8.5l.94-2.06 2.06-.94-2.06-.94L8.5 2.5l-.94 2.06-2.06.94zm10 10l.94 2.06.94-2.06 2.06-.94-2.06-.94-.94-2.06-.94 2.06-2.06.94z\"/><path d=\"M17.41 7.96l-1.37-1.37c-.4-.4-.92-.59-1.43-.59-.52 0-1.04.2-1.43.59L10.3 9.45l-7.72 7.72c-.78.78-.78 2.05 0 2.83L4 21.41c.39.39.9.59 1.41.59.51 0 1.02-.2 1.41-.59l7.78-7.78 2.81-2.81c.8-.78.8-2.07 0-2.86zM5.41 20L4 18.59l7.72-7.72 1.47 1.35L5.41 20z\"/>\n",
              "  </svg>\n",
              "      </button>\n",
              "      \n",
              "  <style>\n",
              "    .colab-df-container {\n",
              "      display:flex;\n",
              "      flex-wrap:wrap;\n",
              "      gap: 12px;\n",
              "    }\n",
              "\n",
              "    .colab-df-convert {\n",
              "      background-color: #E8F0FE;\n",
              "      border: none;\n",
              "      border-radius: 50%;\n",
              "      cursor: pointer;\n",
              "      display: none;\n",
              "      fill: #1967D2;\n",
              "      height: 32px;\n",
              "      padding: 0 0 0 0;\n",
              "      width: 32px;\n",
              "    }\n",
              "\n",
              "    .colab-df-convert:hover {\n",
              "      background-color: #E2EBFA;\n",
              "      box-shadow: 0px 1px 2px rgba(60, 64, 67, 0.3), 0px 1px 3px 1px rgba(60, 64, 67, 0.15);\n",
              "      fill: #174EA6;\n",
              "    }\n",
              "\n",
              "    [theme=dark] .colab-df-convert {\n",
              "      background-color: #3B4455;\n",
              "      fill: #D2E3FC;\n",
              "    }\n",
              "\n",
              "    [theme=dark] .colab-df-convert:hover {\n",
              "      background-color: #434B5C;\n",
              "      box-shadow: 0px 1px 3px 1px rgba(0, 0, 0, 0.15);\n",
              "      filter: drop-shadow(0px 1px 2px rgba(0, 0, 0, 0.3));\n",
              "      fill: #FFFFFF;\n",
              "    }\n",
              "  </style>\n",
              "\n",
              "      <script>\n",
              "        const buttonEl =\n",
              "          document.querySelector('#df-f08a8441-0219-484c-960d-b43fee9b60eb button.colab-df-convert');\n",
              "        buttonEl.style.display =\n",
              "          google.colab.kernel.accessAllowed ? 'block' : 'none';\n",
              "\n",
              "        async function convertToInteractive(key) {\n",
              "          const element = document.querySelector('#df-f08a8441-0219-484c-960d-b43fee9b60eb');\n",
              "          const dataTable =\n",
              "            await google.colab.kernel.invokeFunction('convertToInteractive',\n",
              "                                                     [key], {});\n",
              "          if (!dataTable) return;\n",
              "\n",
              "          const docLinkHtml = 'Like what you see? Visit the ' +\n",
              "            '<a target=\"_blank\" href=https://colab.research.google.com/notebooks/data_table.ipynb>data table notebook</a>'\n",
              "            + ' to learn more about interactive tables.';\n",
              "          element.innerHTML = '';\n",
              "          dataTable['output_type'] = 'display_data';\n",
              "          await google.colab.output.renderOutput(dataTable, element);\n",
              "          const docLink = document.createElement('div');\n",
              "          docLink.innerHTML = docLinkHtml;\n",
              "          element.appendChild(docLink);\n",
              "        }\n",
              "      </script>\n",
              "    </div>\n",
              "  </div>\n",
              "  "
            ]
          },
          "metadata": {},
          "execution_count": 174
        }
      ]
    },
    {
      "cell_type": "markdown",
      "source": [
        "## Transformaciones"
      ],
      "metadata": {
        "id": "cu0F4A9CdFKI"
      }
    },
    {
      "cell_type": "markdown",
      "source": [
        "Transformaciones a realizar:\n",
        "\n",
        "Sacar más información de las columnas \"titulo\" y \"url\"\n",
        "Crear nueva columna con url completa añadiendo la url base de coches.net\n",
        "Crear otra variable con las coordenadas de cada ciudad\n",
        "Crear variable con max-min de kilometros (el escalado se hace con los datos de entrenamiento creo)\n",
        "Crear variable con la antigüedad de cada coche: now-año\n",
        "Crear variable dummy con el combustible\n",
        "\n",
        "Buscar outliers en las variables, boxplot\n",
        "Realizar estudios de distribuciones de las variables\n",
        "Estudio de la correlaciones entre las variables.\n",
        "Estudio de las correlaciones con la variable objetivo \"precio\"\n",
        "Hacer gráfico con mapa con las posiciones de las ciudades donde se venden los coches.\n",
        "Usar métodos de filtrado para regesion, f_regression y mutual_info_regession. F-test score y Mutual information\n",
        "\n",
        "\n"
      ],
      "metadata": {
        "id": "eDDRkErr9Cau"
      }
    },
    {
      "cell_type": "markdown",
      "source": [
        "### TRANSFORMACIONES<br/>\n",
        "\n",
        "\n",
        "\n",
        "* [X] Poner URL completa\n",
        "* [X] Extraer más información de \"titulo\" y \"url\"\n",
        "* [X] Coordenadas GPS de ciudades\n",
        "* [X] Escalado de variable kilómetros\n",
        "* [X] Crear nueva variable con la antigüedad del coches en años. Escalar.\n",
        "* [X] Variables binarias para combustible\n",
        "* [ ] Crear archivo de salida para modelar\n",
        "\n",
        "\n",
        "\n",
        "### ANALISIS Y EXPLORACIONES\n",
        "\n",
        "* [X] Box plot de caracterísitcas.\n",
        "* [X] Análisis por agrupación de ciudades.\n",
        "* [X] Estudio de las distintas distribuciones.\n",
        "* [ ] Estudio de correlaciones entre las variables.\n",
        "* [ ] Estudio de correlaciones entre las variables y \"precio\".\n",
        "* [ ] Estudio según localización GPS."
      ],
      "metadata": {
        "id": "LLLeiWdlavYg"
      }
    },
    {
      "cell_type": "markdown",
      "source": [
        "### Poner URL completa"
      ],
      "metadata": {
        "id": "jQ26sUDSdADE"
      }
    },
    {
      "cell_type": "code",
      "source": [
        "# Creamos URL completa\n",
        "from urllib.parse import urljoin\n",
        "\n",
        "url_base = \"https://www.coches.net/\"\n",
        "coches['web'] = [urljoin(url_base, url) for url in coches['url']]"
      ],
      "metadata": {
        "id": "SrFl_oY49AKZ"
      },
      "execution_count": 175,
      "outputs": []
    },
    {
      "cell_type": "code",
      "source": [
        "# Compruebo\n",
        "coches.web[0]"
      ],
      "metadata": {
        "colab": {
          "base_uri": "https://localhost:8080/",
          "height": 35
        },
        "id": "qKaf_wqSZdID",
        "outputId": "aa30bb8a-005a-42ef-b3dd-45de4f5abbb7"
      },
      "execution_count": 176,
      "outputs": [
        {
          "output_type": "execute_result",
          "data": {
            "text/plain": [
              "'https://www.coches.net/mercedes-benz-clase-c-c-220-d-4p-diesel-2017-en-baleares-51618684-covo.aspx'"
            ],
            "application/vnd.google.colaboratory.intrinsic+json": {
              "type": "string"
            }
          },
          "metadata": {},
          "execution_count": 176
        }
      ]
    },
    {
      "cell_type": "markdown",
      "source": [
        "### Extraer información de \"titulo\" y de \"url\""
      ],
      "metadata": {
        "id": "agPIZ-wXfGZO"
      }
    },
    {
      "cell_type": "code",
      "source": [
        "# Aumento la cantidad de caracteres a mostrar por pantalla\n",
        "pd.options.display.max_colwidth = 200"
      ],
      "metadata": {
        "id": "eqXpcqGCh58Q"
      },
      "execution_count": 177,
      "outputs": []
    },
    {
      "cell_type": "code",
      "source": [
        "print(coches.loc[[0],['titulo']])\n",
        "print(coches.loc[[0],['url']]) ##, 'url']]),"
      ],
      "metadata": {
        "colab": {
          "base_uri": "https://localhost:8080/"
        },
        "id": "rBZ-xbcTXbbn",
        "outputId": "7472be8d-4a4d-4055-b836-6ae252489a3d"
      },
      "execution_count": 178,
      "outputs": [
        {
          "output_type": "stream",
          "name": "stdout",
          "text": [
            "                              titulo\n",
            "0  MERCEDES-BENZ Clase C C 220 d 4p.\n",
            "                                                                            url\n",
            "0  /mercedes-benz-clase-c-c-220-d-4p-diesel-2017-en-baleares-51618684-covo.aspx\n"
          ]
        }
      ]
    },
    {
      "cell_type": "code",
      "source": [
        "coches.sample(5)"
      ],
      "metadata": {
        "colab": {
          "base_uri": "https://localhost:8080/",
          "height": 337
        },
        "id": "nSXEvARFXw9g",
        "outputId": "533707d4-240b-4910-9f62-8810e175984d"
      },
      "execution_count": 179,
      "outputs": [
        {
          "output_type": "execute_result",
          "data": {
            "text/plain": [
              "                                                       titulo  precio  \\\n",
              "822                  MERCEDES-BENZ Clase C C 200 d Estate 5p.   26900   \n",
              "1093                  MERCEDES-BENZ Clase C C Coupe 220 d 2p.   34990   \n",
              "1464                 MERCEDES-BENZ Clase C C 200 d Estate 5p.   27850   \n",
              "687                   MERCEDES-BENZ Clase C C Coupe 220 d 2p.   35900   \n",
              "552   MERCEDES-BENZ Clase C C 220 BlueTEC AMG Line Estate 5p.   17900   \n",
              "\n",
              "      kilometros   año  combustible     ciudad  garantia  \\\n",
              "822        95850  2019            1    Sevilla      True   \n",
              "1093       38000  2018            1   Valencia     False   \n",
              "1464       99950  2019            1    Sevilla      True   \n",
              "687        71500  2017            1  Barcelona      True   \n",
              "552       234000  2015            1   Alicante      True   \n",
              "\n",
              "                                                                                                     url  \\\n",
              "822                   /mercedes-benz-clase-c-c-200-d-estate-5p-diesel-2019-en-sevilla-51612019-covo.aspx   \n",
              "1093                  /mercedes-benz-clase-c-c-coupe-220-d-2p-diesel-2018-en-valencia-51657771-covo.aspx   \n",
              "1464                  /mercedes-benz-clase-c-c-200-d-estate-5p-diesel-2019-en-sevilla-51553614-covo.aspx   \n",
              "687                  /mercedes-benz-clase-c-c-coupe-220-d-2p-diesel-2017-en-barcelona-51666007-covo.aspx   \n",
              "552   /mercedes-benz-clase-c-c-220-bluetec-amg-line-estate-5p-diesel-2015-en-alicante-51747183-covo.aspx   \n",
              "\n",
              "                                                                                                                           web  \n",
              "822                   https://www.coches.net/mercedes-benz-clase-c-c-200-d-estate-5p-diesel-2019-en-sevilla-51612019-covo.aspx  \n",
              "1093                  https://www.coches.net/mercedes-benz-clase-c-c-coupe-220-d-2p-diesel-2018-en-valencia-51657771-covo.aspx  \n",
              "1464                  https://www.coches.net/mercedes-benz-clase-c-c-200-d-estate-5p-diesel-2019-en-sevilla-51553614-covo.aspx  \n",
              "687                  https://www.coches.net/mercedes-benz-clase-c-c-coupe-220-d-2p-diesel-2017-en-barcelona-51666007-covo.aspx  \n",
              "552   https://www.coches.net/mercedes-benz-clase-c-c-220-bluetec-amg-line-estate-5p-diesel-2015-en-alicante-51747183-covo.aspx  "
            ],
            "text/html": [
              "\n",
              "  <div id=\"df-557c936f-8f16-4e8b-beb2-5b32a5627dee\">\n",
              "    <div class=\"colab-df-container\">\n",
              "      <div>\n",
              "<style scoped>\n",
              "    .dataframe tbody tr th:only-of-type {\n",
              "        vertical-align: middle;\n",
              "    }\n",
              "\n",
              "    .dataframe tbody tr th {\n",
              "        vertical-align: top;\n",
              "    }\n",
              "\n",
              "    .dataframe thead th {\n",
              "        text-align: right;\n",
              "    }\n",
              "</style>\n",
              "<table border=\"1\" class=\"dataframe\">\n",
              "  <thead>\n",
              "    <tr style=\"text-align: right;\">\n",
              "      <th></th>\n",
              "      <th>titulo</th>\n",
              "      <th>precio</th>\n",
              "      <th>kilometros</th>\n",
              "      <th>año</th>\n",
              "      <th>combustible</th>\n",
              "      <th>ciudad</th>\n",
              "      <th>garantia</th>\n",
              "      <th>url</th>\n",
              "      <th>web</th>\n",
              "    </tr>\n",
              "  </thead>\n",
              "  <tbody>\n",
              "    <tr>\n",
              "      <th>822</th>\n",
              "      <td>MERCEDES-BENZ Clase C C 200 d Estate 5p.</td>\n",
              "      <td>26900</td>\n",
              "      <td>95850</td>\n",
              "      <td>2019</td>\n",
              "      <td>1</td>\n",
              "      <td>Sevilla</td>\n",
              "      <td>True</td>\n",
              "      <td>/mercedes-benz-clase-c-c-200-d-estate-5p-diesel-2019-en-sevilla-51612019-covo.aspx</td>\n",
              "      <td>https://www.coches.net/mercedes-benz-clase-c-c-200-d-estate-5p-diesel-2019-en-sevilla-51612019-covo.aspx</td>\n",
              "    </tr>\n",
              "    <tr>\n",
              "      <th>1093</th>\n",
              "      <td>MERCEDES-BENZ Clase C C Coupe 220 d 2p.</td>\n",
              "      <td>34990</td>\n",
              "      <td>38000</td>\n",
              "      <td>2018</td>\n",
              "      <td>1</td>\n",
              "      <td>Valencia</td>\n",
              "      <td>False</td>\n",
              "      <td>/mercedes-benz-clase-c-c-coupe-220-d-2p-diesel-2018-en-valencia-51657771-covo.aspx</td>\n",
              "      <td>https://www.coches.net/mercedes-benz-clase-c-c-coupe-220-d-2p-diesel-2018-en-valencia-51657771-covo.aspx</td>\n",
              "    </tr>\n",
              "    <tr>\n",
              "      <th>1464</th>\n",
              "      <td>MERCEDES-BENZ Clase C C 200 d Estate 5p.</td>\n",
              "      <td>27850</td>\n",
              "      <td>99950</td>\n",
              "      <td>2019</td>\n",
              "      <td>1</td>\n",
              "      <td>Sevilla</td>\n",
              "      <td>True</td>\n",
              "      <td>/mercedes-benz-clase-c-c-200-d-estate-5p-diesel-2019-en-sevilla-51553614-covo.aspx</td>\n",
              "      <td>https://www.coches.net/mercedes-benz-clase-c-c-200-d-estate-5p-diesel-2019-en-sevilla-51553614-covo.aspx</td>\n",
              "    </tr>\n",
              "    <tr>\n",
              "      <th>687</th>\n",
              "      <td>MERCEDES-BENZ Clase C C Coupe 220 d 2p.</td>\n",
              "      <td>35900</td>\n",
              "      <td>71500</td>\n",
              "      <td>2017</td>\n",
              "      <td>1</td>\n",
              "      <td>Barcelona</td>\n",
              "      <td>True</td>\n",
              "      <td>/mercedes-benz-clase-c-c-coupe-220-d-2p-diesel-2017-en-barcelona-51666007-covo.aspx</td>\n",
              "      <td>https://www.coches.net/mercedes-benz-clase-c-c-coupe-220-d-2p-diesel-2017-en-barcelona-51666007-covo.aspx</td>\n",
              "    </tr>\n",
              "    <tr>\n",
              "      <th>552</th>\n",
              "      <td>MERCEDES-BENZ Clase C C 220 BlueTEC AMG Line Estate 5p.</td>\n",
              "      <td>17900</td>\n",
              "      <td>234000</td>\n",
              "      <td>2015</td>\n",
              "      <td>1</td>\n",
              "      <td>Alicante</td>\n",
              "      <td>True</td>\n",
              "      <td>/mercedes-benz-clase-c-c-220-bluetec-amg-line-estate-5p-diesel-2015-en-alicante-51747183-covo.aspx</td>\n",
              "      <td>https://www.coches.net/mercedes-benz-clase-c-c-220-bluetec-amg-line-estate-5p-diesel-2015-en-alicante-51747183-covo.aspx</td>\n",
              "    </tr>\n",
              "  </tbody>\n",
              "</table>\n",
              "</div>\n",
              "      <button class=\"colab-df-convert\" onclick=\"convertToInteractive('df-557c936f-8f16-4e8b-beb2-5b32a5627dee')\"\n",
              "              title=\"Convert this dataframe to an interactive table.\"\n",
              "              style=\"display:none;\">\n",
              "        \n",
              "  <svg xmlns=\"http://www.w3.org/2000/svg\" height=\"24px\"viewBox=\"0 0 24 24\"\n",
              "       width=\"24px\">\n",
              "    <path d=\"M0 0h24v24H0V0z\" fill=\"none\"/>\n",
              "    <path d=\"M18.56 5.44l.94 2.06.94-2.06 2.06-.94-2.06-.94-.94-2.06-.94 2.06-2.06.94zm-11 1L8.5 8.5l.94-2.06 2.06-.94-2.06-.94L8.5 2.5l-.94 2.06-2.06.94zm10 10l.94 2.06.94-2.06 2.06-.94-2.06-.94-.94-2.06-.94 2.06-2.06.94z\"/><path d=\"M17.41 7.96l-1.37-1.37c-.4-.4-.92-.59-1.43-.59-.52 0-1.04.2-1.43.59L10.3 9.45l-7.72 7.72c-.78.78-.78 2.05 0 2.83L4 21.41c.39.39.9.59 1.41.59.51 0 1.02-.2 1.41-.59l7.78-7.78 2.81-2.81c.8-.78.8-2.07 0-2.86zM5.41 20L4 18.59l7.72-7.72 1.47 1.35L5.41 20z\"/>\n",
              "  </svg>\n",
              "      </button>\n",
              "      \n",
              "  <style>\n",
              "    .colab-df-container {\n",
              "      display:flex;\n",
              "      flex-wrap:wrap;\n",
              "      gap: 12px;\n",
              "    }\n",
              "\n",
              "    .colab-df-convert {\n",
              "      background-color: #E8F0FE;\n",
              "      border: none;\n",
              "      border-radius: 50%;\n",
              "      cursor: pointer;\n",
              "      display: none;\n",
              "      fill: #1967D2;\n",
              "      height: 32px;\n",
              "      padding: 0 0 0 0;\n",
              "      width: 32px;\n",
              "    }\n",
              "\n",
              "    .colab-df-convert:hover {\n",
              "      background-color: #E2EBFA;\n",
              "      box-shadow: 0px 1px 2px rgba(60, 64, 67, 0.3), 0px 1px 3px 1px rgba(60, 64, 67, 0.15);\n",
              "      fill: #174EA6;\n",
              "    }\n",
              "\n",
              "    [theme=dark] .colab-df-convert {\n",
              "      background-color: #3B4455;\n",
              "      fill: #D2E3FC;\n",
              "    }\n",
              "\n",
              "    [theme=dark] .colab-df-convert:hover {\n",
              "      background-color: #434B5C;\n",
              "      box-shadow: 0px 1px 3px 1px rgba(0, 0, 0, 0.15);\n",
              "      filter: drop-shadow(0px 1px 2px rgba(0, 0, 0, 0.3));\n",
              "      fill: #FFFFFF;\n",
              "    }\n",
              "  </style>\n",
              "\n",
              "      <script>\n",
              "        const buttonEl =\n",
              "          document.querySelector('#df-557c936f-8f16-4e8b-beb2-5b32a5627dee button.colab-df-convert');\n",
              "        buttonEl.style.display =\n",
              "          google.colab.kernel.accessAllowed ? 'block' : 'none';\n",
              "\n",
              "        async function convertToInteractive(key) {\n",
              "          const element = document.querySelector('#df-557c936f-8f16-4e8b-beb2-5b32a5627dee');\n",
              "          const dataTable =\n",
              "            await google.colab.kernel.invokeFunction('convertToInteractive',\n",
              "                                                     [key], {});\n",
              "          if (!dataTable) return;\n",
              "\n",
              "          const docLinkHtml = 'Like what you see? Visit the ' +\n",
              "            '<a target=\"_blank\" href=https://colab.research.google.com/notebooks/data_table.ipynb>data table notebook</a>'\n",
              "            + ' to learn more about interactive tables.';\n",
              "          element.innerHTML = '';\n",
              "          dataTable['output_type'] = 'display_data';\n",
              "          await google.colab.output.renderOutput(dataTable, element);\n",
              "          const docLink = document.createElement('div');\n",
              "          docLink.innerHTML = docLinkHtml;\n",
              "          element.appendChild(docLink);\n",
              "        }\n",
              "      </script>\n",
              "    </div>\n",
              "  </div>\n",
              "  "
            ]
          },
          "metadata": {},
          "execution_count": 179
        }
      ]
    },
    {
      "cell_type": "code",
      "source": [
        "import regex as re"
      ],
      "metadata": {
        "id": "WGfJqgoLh2-4"
      },
      "execution_count": 180,
      "outputs": []
    },
    {
      "cell_type": "markdown",
      "source": [
        "Crear nueva variable \"tipo\", con tipo de modelo clase C que es el coche. En caso no obtener esa información, identificar con la palabra \"NoInfo\""
      ],
      "metadata": {
        "id": "y0YsGAF4pxwp"
      }
    },
    {
      "cell_type": "code",
      "source": [
        "coches['tipo'] = coches['url'].str.extract('-(\\d{2,3})-').fillna('NoInfo')"
      ],
      "metadata": {
        "id": "a5VssjsSm_7y"
      },
      "execution_count": 181,
      "outputs": []
    },
    {
      "cell_type": "code",
      "source": [
        "coches.tipo.sample(10)"
      ],
      "metadata": {
        "colab": {
          "base_uri": "https://localhost:8080/"
        },
        "id": "mTHQ0jfNoa8w",
        "outputId": "1be5b80a-5d64-4415-f92c-c913136f46e2"
      },
      "execution_count": 182,
      "outputs": [
        {
          "output_type": "execute_result",
          "data": {
            "text/plain": [
              "366        180\n",
              "1107       220\n",
              "91          63\n",
              "571        220\n",
              "1879       180\n",
              "761        220\n",
              "1510    NoInfo\n",
              "437        220\n",
              "1634       220\n",
              "1480       200\n",
              "Name: tipo, dtype: object"
            ]
          },
          "metadata": {},
          "execution_count": 182
        }
      ]
    },
    {
      "cell_type": "code",
      "source": [
        "coches.value_counts('tipo')"
      ],
      "metadata": {
        "colab": {
          "base_uri": "https://localhost:8080/"
        },
        "id": "jqkRCBGHjCaH",
        "outputId": "1b2e1d85-1a8c-4910-eb29-c084a1b69364"
      },
      "execution_count": 183,
      "outputs": [
        {
          "output_type": "execute_result",
          "data": {
            "text/plain": [
              "tipo\n",
              "220       1092\n",
              "200        279\n",
              "NoInfo     132\n",
              "250        111\n",
              "63          76\n",
              "300         71\n",
              "43          69\n",
              "180         56\n",
              "350         33\n",
              "450          4\n",
              "400          3\n",
              "45           1\n",
              "dtype: int64"
            ]
          },
          "metadata": {},
          "execution_count": 183
        }
      ]
    },
    {
      "cell_type": "markdown",
      "source": [
        "Crear nueva variable booleana, indicango si el vehículo tiene el acabado AMG True o no False"
      ],
      "metadata": {
        "id": "dy36o9d_qFLU"
      }
    },
    {
      "cell_type": "code",
      "source": [
        "coches['AMG'] = False\n",
        "coches.loc[coches.url.str.contains('amg', case=True),'AMG'] = True"
      ],
      "metadata": {
        "id": "-CVKoS5wpKuV"
      },
      "execution_count": 184,
      "outputs": []
    },
    {
      "cell_type": "code",
      "source": [
        "coches.value_counts('AMG')"
      ],
      "metadata": {
        "colab": {
          "base_uri": "https://localhost:8080/"
        },
        "id": "PXh4KKz-pmD2",
        "outputId": "680550de-75bf-4e11-ff78-7d33e79a6e79"
      },
      "execution_count": 185,
      "outputs": [
        {
          "output_type": "execute_result",
          "data": {
            "text/plain": [
              "AMG\n",
              "False    1521\n",
              "True      406\n",
              "dtype: int64"
            ]
          },
          "metadata": {},
          "execution_count": 185
        }
      ]
    },
    {
      "cell_type": "markdown",
      "source": [
        "### Coordenadas GPS de ciudades"
      ],
      "metadata": {
        "id": "1Msdmtr9sHVi"
      }
    },
    {
      "cell_type": "markdown",
      "source": [
        "Creo una función para obtener las coordenadas de la cada ciudad"
      ],
      "metadata": {
        "id": "TMvXJYaVk0KT"
      }
    },
    {
      "cell_type": "code",
      "source": [
        "def get_coordinates(cities):\n",
        "  '''\n",
        "  Given the column name with the cities, get coordinates for every city in two\n",
        "  differents columns, \"lat_ciudad\" and \"lat_ciudad\" in a new DF\n",
        "  '''\n",
        "  \n",
        "  from geopy.geocoders import Nominatim\n",
        "\n",
        "  geolocator = Nominatim(user_agent=\"MyApp\")\n",
        "  ciudades = coches[cities].value_counts().index.tolist()\n",
        "\n",
        "  lat_ciudad = []\n",
        "  long_ciudad = []\n",
        "\n",
        "  for ciudad in ciudades:\n",
        "    location = geolocator.geocode(ciudad) \n",
        "    lat_ciudad.append(location.latitude)\n",
        "    long_ciudad.append(location.longitude)\n",
        "\n",
        "  df_ciudades = pd.DataFrame(list(zip(ciudades, lat_ciudad, long_ciudad)), columns =['ciudad', 'lat_ciudad', 'long_ciudad'])\n",
        "\n",
        "  return df_ciudades\n",
        "\n"
      ],
      "metadata": {
        "id": "XHiCnwQYk610"
      },
      "execution_count": 186,
      "outputs": []
    },
    {
      "cell_type": "code",
      "source": [
        "df_ciudades = get_coordinates('ciudad')"
      ],
      "metadata": {
        "id": "-_7Y_Q-OmMZF"
      },
      "execution_count": 187,
      "outputs": []
    },
    {
      "cell_type": "markdown",
      "source": [
        "Ahora uno los dos dataframe para tener cada coordenada con cada ciudad de la tabla \"coches\""
      ],
      "metadata": {
        "id": "Yn7R-CIcnKPH"
      }
    },
    {
      "cell_type": "code",
      "source": [
        "coches = pd.merge(coches, df_ciudades, on = 'ciudad', how = 'left')\n",
        "coches.head()"
      ],
      "metadata": {
        "colab": {
          "base_uri": "https://localhost:8080/",
          "height": 406
        },
        "id": "qAYd2Cu3nEOv",
        "outputId": "26a9f736-c726-4b5e-d516-e07211174cf7"
      },
      "execution_count": 188,
      "outputs": [
        {
          "output_type": "execute_result",
          "data": {
            "text/plain": [
              "                                                titulo  precio  kilometros  \\\n",
              "0                    MERCEDES-BENZ Clase C C 220 d 4p.   16200      281000   \n",
              "1             MERCEDES-BENZ Clase C C 220 d Estate 5p.   26900      114336   \n",
              "2  MERCEDES-BENZ Clase C C 220 d Avantgarde Estate 5p.   11000      287500   \n",
              "3         MERCEDES-BENZ Clase C C 220 d Avantgarde 4p.   22900      110000   \n",
              "4                    MERCEDES-BENZ Clase C C 300 d 4p.   68000       10650   \n",
              "\n",
              "    año  combustible      ciudad  garantia  \\\n",
              "0  2017            1    Baleares     False   \n",
              "1  2017            1     Badajoz      True   \n",
              "2  2015            1  Valladolid     False   \n",
              "3  2015            1    Valencia      True   \n",
              "4  2021            4       Cádiz      True   \n",
              "\n",
              "                                                                                                url  \\\n",
              "0                      /mercedes-benz-clase-c-c-220-d-4p-diesel-2017-en-baleares-51618684-covo.aspx   \n",
              "1                /mercedes-benz-clase-c-c-220-d-estate-5p-diesel-2017-en-badajoz-50946817-covo.aspx   \n",
              "2  /mercedes-benz-clase-c-c-220-d-avantgarde-estate-5p-diesel-2015-en-valladolid-51386008-covo.aspx   \n",
              "3           /mercedes-benz-clase-c-c-220-d-avantgarde-4p-diesel-2015-en-valencia-51457158-covo.aspx   \n",
              "4              /mercedes-benz-clase-c-c-300-d-4p-electrico-hibrido-2021-en-cadiz-51662564-covo.aspx   \n",
              "\n",
              "                                                                                                                      web  \\\n",
              "0                      https://www.coches.net/mercedes-benz-clase-c-c-220-d-4p-diesel-2017-en-baleares-51618684-covo.aspx   \n",
              "1                https://www.coches.net/mercedes-benz-clase-c-c-220-d-estate-5p-diesel-2017-en-badajoz-50946817-covo.aspx   \n",
              "2  https://www.coches.net/mercedes-benz-clase-c-c-220-d-avantgarde-estate-5p-diesel-2015-en-valladolid-51386008-covo.aspx   \n",
              "3           https://www.coches.net/mercedes-benz-clase-c-c-220-d-avantgarde-4p-diesel-2015-en-valencia-51457158-covo.aspx   \n",
              "4              https://www.coches.net/mercedes-benz-clase-c-c-300-d-4p-electrico-hibrido-2021-en-cadiz-51662564-covo.aspx   \n",
              "\n",
              "  tipo    AMG  lat_ciudad  long_ciudad  \n",
              "0  220  False   39.613432     2.880354  \n",
              "1  220  False   38.878059    -6.970205  \n",
              "2  220  False   41.652133    -4.728562  \n",
              "3  220  False   39.469707    -0.376335  \n",
              "4  300  False   36.529744    -6.292898  "
            ],
            "text/html": [
              "\n",
              "  <div id=\"df-a6e261e9-a825-48c2-924f-531080cd5209\">\n",
              "    <div class=\"colab-df-container\">\n",
              "      <div>\n",
              "<style scoped>\n",
              "    .dataframe tbody tr th:only-of-type {\n",
              "        vertical-align: middle;\n",
              "    }\n",
              "\n",
              "    .dataframe tbody tr th {\n",
              "        vertical-align: top;\n",
              "    }\n",
              "\n",
              "    .dataframe thead th {\n",
              "        text-align: right;\n",
              "    }\n",
              "</style>\n",
              "<table border=\"1\" class=\"dataframe\">\n",
              "  <thead>\n",
              "    <tr style=\"text-align: right;\">\n",
              "      <th></th>\n",
              "      <th>titulo</th>\n",
              "      <th>precio</th>\n",
              "      <th>kilometros</th>\n",
              "      <th>año</th>\n",
              "      <th>combustible</th>\n",
              "      <th>ciudad</th>\n",
              "      <th>garantia</th>\n",
              "      <th>url</th>\n",
              "      <th>web</th>\n",
              "      <th>tipo</th>\n",
              "      <th>AMG</th>\n",
              "      <th>lat_ciudad</th>\n",
              "      <th>long_ciudad</th>\n",
              "    </tr>\n",
              "  </thead>\n",
              "  <tbody>\n",
              "    <tr>\n",
              "      <th>0</th>\n",
              "      <td>MERCEDES-BENZ Clase C C 220 d 4p.</td>\n",
              "      <td>16200</td>\n",
              "      <td>281000</td>\n",
              "      <td>2017</td>\n",
              "      <td>1</td>\n",
              "      <td>Baleares</td>\n",
              "      <td>False</td>\n",
              "      <td>/mercedes-benz-clase-c-c-220-d-4p-diesel-2017-en-baleares-51618684-covo.aspx</td>\n",
              "      <td>https://www.coches.net/mercedes-benz-clase-c-c-220-d-4p-diesel-2017-en-baleares-51618684-covo.aspx</td>\n",
              "      <td>220</td>\n",
              "      <td>False</td>\n",
              "      <td>39.613432</td>\n",
              "      <td>2.880354</td>\n",
              "    </tr>\n",
              "    <tr>\n",
              "      <th>1</th>\n",
              "      <td>MERCEDES-BENZ Clase C C 220 d Estate 5p.</td>\n",
              "      <td>26900</td>\n",
              "      <td>114336</td>\n",
              "      <td>2017</td>\n",
              "      <td>1</td>\n",
              "      <td>Badajoz</td>\n",
              "      <td>True</td>\n",
              "      <td>/mercedes-benz-clase-c-c-220-d-estate-5p-diesel-2017-en-badajoz-50946817-covo.aspx</td>\n",
              "      <td>https://www.coches.net/mercedes-benz-clase-c-c-220-d-estate-5p-diesel-2017-en-badajoz-50946817-covo.aspx</td>\n",
              "      <td>220</td>\n",
              "      <td>False</td>\n",
              "      <td>38.878059</td>\n",
              "      <td>-6.970205</td>\n",
              "    </tr>\n",
              "    <tr>\n",
              "      <th>2</th>\n",
              "      <td>MERCEDES-BENZ Clase C C 220 d Avantgarde Estate 5p.</td>\n",
              "      <td>11000</td>\n",
              "      <td>287500</td>\n",
              "      <td>2015</td>\n",
              "      <td>1</td>\n",
              "      <td>Valladolid</td>\n",
              "      <td>False</td>\n",
              "      <td>/mercedes-benz-clase-c-c-220-d-avantgarde-estate-5p-diesel-2015-en-valladolid-51386008-covo.aspx</td>\n",
              "      <td>https://www.coches.net/mercedes-benz-clase-c-c-220-d-avantgarde-estate-5p-diesel-2015-en-valladolid-51386008-covo.aspx</td>\n",
              "      <td>220</td>\n",
              "      <td>False</td>\n",
              "      <td>41.652133</td>\n",
              "      <td>-4.728562</td>\n",
              "    </tr>\n",
              "    <tr>\n",
              "      <th>3</th>\n",
              "      <td>MERCEDES-BENZ Clase C C 220 d Avantgarde 4p.</td>\n",
              "      <td>22900</td>\n",
              "      <td>110000</td>\n",
              "      <td>2015</td>\n",
              "      <td>1</td>\n",
              "      <td>Valencia</td>\n",
              "      <td>True</td>\n",
              "      <td>/mercedes-benz-clase-c-c-220-d-avantgarde-4p-diesel-2015-en-valencia-51457158-covo.aspx</td>\n",
              "      <td>https://www.coches.net/mercedes-benz-clase-c-c-220-d-avantgarde-4p-diesel-2015-en-valencia-51457158-covo.aspx</td>\n",
              "      <td>220</td>\n",
              "      <td>False</td>\n",
              "      <td>39.469707</td>\n",
              "      <td>-0.376335</td>\n",
              "    </tr>\n",
              "    <tr>\n",
              "      <th>4</th>\n",
              "      <td>MERCEDES-BENZ Clase C C 300 d 4p.</td>\n",
              "      <td>68000</td>\n",
              "      <td>10650</td>\n",
              "      <td>2021</td>\n",
              "      <td>4</td>\n",
              "      <td>Cádiz</td>\n",
              "      <td>True</td>\n",
              "      <td>/mercedes-benz-clase-c-c-300-d-4p-electrico-hibrido-2021-en-cadiz-51662564-covo.aspx</td>\n",
              "      <td>https://www.coches.net/mercedes-benz-clase-c-c-300-d-4p-electrico-hibrido-2021-en-cadiz-51662564-covo.aspx</td>\n",
              "      <td>300</td>\n",
              "      <td>False</td>\n",
              "      <td>36.529744</td>\n",
              "      <td>-6.292898</td>\n",
              "    </tr>\n",
              "  </tbody>\n",
              "</table>\n",
              "</div>\n",
              "      <button class=\"colab-df-convert\" onclick=\"convertToInteractive('df-a6e261e9-a825-48c2-924f-531080cd5209')\"\n",
              "              title=\"Convert this dataframe to an interactive table.\"\n",
              "              style=\"display:none;\">\n",
              "        \n",
              "  <svg xmlns=\"http://www.w3.org/2000/svg\" height=\"24px\"viewBox=\"0 0 24 24\"\n",
              "       width=\"24px\">\n",
              "    <path d=\"M0 0h24v24H0V0z\" fill=\"none\"/>\n",
              "    <path d=\"M18.56 5.44l.94 2.06.94-2.06 2.06-.94-2.06-.94-.94-2.06-.94 2.06-2.06.94zm-11 1L8.5 8.5l.94-2.06 2.06-.94-2.06-.94L8.5 2.5l-.94 2.06-2.06.94zm10 10l.94 2.06.94-2.06 2.06-.94-2.06-.94-.94-2.06-.94 2.06-2.06.94z\"/><path d=\"M17.41 7.96l-1.37-1.37c-.4-.4-.92-.59-1.43-.59-.52 0-1.04.2-1.43.59L10.3 9.45l-7.72 7.72c-.78.78-.78 2.05 0 2.83L4 21.41c.39.39.9.59 1.41.59.51 0 1.02-.2 1.41-.59l7.78-7.78 2.81-2.81c.8-.78.8-2.07 0-2.86zM5.41 20L4 18.59l7.72-7.72 1.47 1.35L5.41 20z\"/>\n",
              "  </svg>\n",
              "      </button>\n",
              "      \n",
              "  <style>\n",
              "    .colab-df-container {\n",
              "      display:flex;\n",
              "      flex-wrap:wrap;\n",
              "      gap: 12px;\n",
              "    }\n",
              "\n",
              "    .colab-df-convert {\n",
              "      background-color: #E8F0FE;\n",
              "      border: none;\n",
              "      border-radius: 50%;\n",
              "      cursor: pointer;\n",
              "      display: none;\n",
              "      fill: #1967D2;\n",
              "      height: 32px;\n",
              "      padding: 0 0 0 0;\n",
              "      width: 32px;\n",
              "    }\n",
              "\n",
              "    .colab-df-convert:hover {\n",
              "      background-color: #E2EBFA;\n",
              "      box-shadow: 0px 1px 2px rgba(60, 64, 67, 0.3), 0px 1px 3px 1px rgba(60, 64, 67, 0.15);\n",
              "      fill: #174EA6;\n",
              "    }\n",
              "\n",
              "    [theme=dark] .colab-df-convert {\n",
              "      background-color: #3B4455;\n",
              "      fill: #D2E3FC;\n",
              "    }\n",
              "\n",
              "    [theme=dark] .colab-df-convert:hover {\n",
              "      background-color: #434B5C;\n",
              "      box-shadow: 0px 1px 3px 1px rgba(0, 0, 0, 0.15);\n",
              "      filter: drop-shadow(0px 1px 2px rgba(0, 0, 0, 0.3));\n",
              "      fill: #FFFFFF;\n",
              "    }\n",
              "  </style>\n",
              "\n",
              "      <script>\n",
              "        const buttonEl =\n",
              "          document.querySelector('#df-a6e261e9-a825-48c2-924f-531080cd5209 button.colab-df-convert');\n",
              "        buttonEl.style.display =\n",
              "          google.colab.kernel.accessAllowed ? 'block' : 'none';\n",
              "\n",
              "        async function convertToInteractive(key) {\n",
              "          const element = document.querySelector('#df-a6e261e9-a825-48c2-924f-531080cd5209');\n",
              "          const dataTable =\n",
              "            await google.colab.kernel.invokeFunction('convertToInteractive',\n",
              "                                                     [key], {});\n",
              "          if (!dataTable) return;\n",
              "\n",
              "          const docLinkHtml = 'Like what you see? Visit the ' +\n",
              "            '<a target=\"_blank\" href=https://colab.research.google.com/notebooks/data_table.ipynb>data table notebook</a>'\n",
              "            + ' to learn more about interactive tables.';\n",
              "          element.innerHTML = '';\n",
              "          dataTable['output_type'] = 'display_data';\n",
              "          await google.colab.output.renderOutput(dataTable, element);\n",
              "          const docLink = document.createElement('div');\n",
              "          docLink.innerHTML = docLinkHtml;\n",
              "          element.appendChild(docLink);\n",
              "        }\n",
              "      </script>\n",
              "    </div>\n",
              "  </div>\n",
              "  "
            ]
          },
          "metadata": {},
          "execution_count": 188
        }
      ]
    },
    {
      "cell_type": "markdown",
      "source": [
        "### Escalado de la variable \"kilometros\""
      ],
      "metadata": {
        "id": "0qeDPxIxn4QF"
      }
    },
    {
      "cell_type": "markdown",
      "source": [
        "Creo función para devolver valores de una columna con su normalización Z"
      ],
      "metadata": {
        "id": "EUH4BwEgt0my"
      }
    },
    {
      "cell_type": "code",
      "source": [
        "def norm_z(columna):\n",
        "  '''\n",
        "  Get the Z transformation from a given column\n",
        "  '''\n",
        "\n",
        "  z = (coches[columna] - coches[columna].mean() / coches[columna].std())\n",
        "  return z"
      ],
      "metadata": {
        "id": "PzSNskjukM0v"
      },
      "execution_count": 189,
      "outputs": []
    },
    {
      "cell_type": "code",
      "source": [
        "coches['z_kilometros'] = norm_z('kilometros')\n"
      ],
      "metadata": {
        "id": "ZW5vdJuFuxZ8"
      },
      "execution_count": 190,
      "outputs": []
    },
    {
      "cell_type": "markdown",
      "source": [
        "### Crear nueva variable con la antigüedad del coches en años. Escalar."
      ],
      "metadata": {
        "id": "-FThqRKvw0tx"
      }
    },
    {
      "cell_type": "markdown",
      "source": [
        "Restar la fecha actual a la columna año para obtener los años del coches"
      ],
      "metadata": {
        "id": "NGqV3Z2zxHRw"
      }
    },
    {
      "cell_type": "code",
      "source": [
        "from datetime import datetime\n",
        "\n",
        "now = datetime.now().year\n",
        "coches['años'] = now - coches['año']"
      ],
      "metadata": {
        "id": "zc9blFidxAqG"
      },
      "execution_count": 191,
      "outputs": []
    },
    {
      "cell_type": "code",
      "source": [
        "coches.sample()"
      ],
      "metadata": {
        "colab": {
          "base_uri": "https://localhost:8080/",
          "height": 177
        },
        "id": "pvEBXaAewBtE",
        "outputId": "93d9e2d5-ba1a-4b3d-bb2c-a4bd258f905b"
      },
      "execution_count": 192,
      "outputs": [
        {
          "output_type": "execute_result",
          "data": {
            "text/plain": [
              "                                                 titulo  precio  kilometros  \\\n",
              "1588  MERCEDES-BENZ Clase C C 220 d AMG Line Estate 5p.   26990      100000   \n",
              "\n",
              "       año  combustible   ciudad  garantia  \\\n",
              "1588  2016            1  Vizcaya      True   \n",
              "\n",
              "                                                                                              url  \\\n",
              "1588  /mercedes-benz-clase-c-c-220-d-amg-line-estate-5p-diesel-2016-en-vizcaya-51455997-covo.aspx   \n",
              "\n",
              "                                                                                                                    web  \\\n",
              "1588  https://www.coches.net/mercedes-benz-clase-c-c-220-d-amg-line-estate-5p-diesel-2016-en-vizcaya-51455997-covo.aspx   \n",
              "\n",
              "     tipo   AMG  lat_ciudad  long_ciudad  z_kilometros  años  \n",
              "1588  220  True   43.238482    -2.851632  99998.419874     6  "
            ],
            "text/html": [
              "\n",
              "  <div id=\"df-703661ff-8d0e-4c1c-a7b4-c1bd76f3b905\">\n",
              "    <div class=\"colab-df-container\">\n",
              "      <div>\n",
              "<style scoped>\n",
              "    .dataframe tbody tr th:only-of-type {\n",
              "        vertical-align: middle;\n",
              "    }\n",
              "\n",
              "    .dataframe tbody tr th {\n",
              "        vertical-align: top;\n",
              "    }\n",
              "\n",
              "    .dataframe thead th {\n",
              "        text-align: right;\n",
              "    }\n",
              "</style>\n",
              "<table border=\"1\" class=\"dataframe\">\n",
              "  <thead>\n",
              "    <tr style=\"text-align: right;\">\n",
              "      <th></th>\n",
              "      <th>titulo</th>\n",
              "      <th>precio</th>\n",
              "      <th>kilometros</th>\n",
              "      <th>año</th>\n",
              "      <th>combustible</th>\n",
              "      <th>ciudad</th>\n",
              "      <th>garantia</th>\n",
              "      <th>url</th>\n",
              "      <th>web</th>\n",
              "      <th>tipo</th>\n",
              "      <th>AMG</th>\n",
              "      <th>lat_ciudad</th>\n",
              "      <th>long_ciudad</th>\n",
              "      <th>z_kilometros</th>\n",
              "      <th>años</th>\n",
              "    </tr>\n",
              "  </thead>\n",
              "  <tbody>\n",
              "    <tr>\n",
              "      <th>1588</th>\n",
              "      <td>MERCEDES-BENZ Clase C C 220 d AMG Line Estate 5p.</td>\n",
              "      <td>26990</td>\n",
              "      <td>100000</td>\n",
              "      <td>2016</td>\n",
              "      <td>1</td>\n",
              "      <td>Vizcaya</td>\n",
              "      <td>True</td>\n",
              "      <td>/mercedes-benz-clase-c-c-220-d-amg-line-estate-5p-diesel-2016-en-vizcaya-51455997-covo.aspx</td>\n",
              "      <td>https://www.coches.net/mercedes-benz-clase-c-c-220-d-amg-line-estate-5p-diesel-2016-en-vizcaya-51455997-covo.aspx</td>\n",
              "      <td>220</td>\n",
              "      <td>True</td>\n",
              "      <td>43.238482</td>\n",
              "      <td>-2.851632</td>\n",
              "      <td>99998.419874</td>\n",
              "      <td>6</td>\n",
              "    </tr>\n",
              "  </tbody>\n",
              "</table>\n",
              "</div>\n",
              "      <button class=\"colab-df-convert\" onclick=\"convertToInteractive('df-703661ff-8d0e-4c1c-a7b4-c1bd76f3b905')\"\n",
              "              title=\"Convert this dataframe to an interactive table.\"\n",
              "              style=\"display:none;\">\n",
              "        \n",
              "  <svg xmlns=\"http://www.w3.org/2000/svg\" height=\"24px\"viewBox=\"0 0 24 24\"\n",
              "       width=\"24px\">\n",
              "    <path d=\"M0 0h24v24H0V0z\" fill=\"none\"/>\n",
              "    <path d=\"M18.56 5.44l.94 2.06.94-2.06 2.06-.94-2.06-.94-.94-2.06-.94 2.06-2.06.94zm-11 1L8.5 8.5l.94-2.06 2.06-.94-2.06-.94L8.5 2.5l-.94 2.06-2.06.94zm10 10l.94 2.06.94-2.06 2.06-.94-2.06-.94-.94-2.06-.94 2.06-2.06.94z\"/><path d=\"M17.41 7.96l-1.37-1.37c-.4-.4-.92-.59-1.43-.59-.52 0-1.04.2-1.43.59L10.3 9.45l-7.72 7.72c-.78.78-.78 2.05 0 2.83L4 21.41c.39.39.9.59 1.41.59.51 0 1.02-.2 1.41-.59l7.78-7.78 2.81-2.81c.8-.78.8-2.07 0-2.86zM5.41 20L4 18.59l7.72-7.72 1.47 1.35L5.41 20z\"/>\n",
              "  </svg>\n",
              "      </button>\n",
              "      \n",
              "  <style>\n",
              "    .colab-df-container {\n",
              "      display:flex;\n",
              "      flex-wrap:wrap;\n",
              "      gap: 12px;\n",
              "    }\n",
              "\n",
              "    .colab-df-convert {\n",
              "      background-color: #E8F0FE;\n",
              "      border: none;\n",
              "      border-radius: 50%;\n",
              "      cursor: pointer;\n",
              "      display: none;\n",
              "      fill: #1967D2;\n",
              "      height: 32px;\n",
              "      padding: 0 0 0 0;\n",
              "      width: 32px;\n",
              "    }\n",
              "\n",
              "    .colab-df-convert:hover {\n",
              "      background-color: #E2EBFA;\n",
              "      box-shadow: 0px 1px 2px rgba(60, 64, 67, 0.3), 0px 1px 3px 1px rgba(60, 64, 67, 0.15);\n",
              "      fill: #174EA6;\n",
              "    }\n",
              "\n",
              "    [theme=dark] .colab-df-convert {\n",
              "      background-color: #3B4455;\n",
              "      fill: #D2E3FC;\n",
              "    }\n",
              "\n",
              "    [theme=dark] .colab-df-convert:hover {\n",
              "      background-color: #434B5C;\n",
              "      box-shadow: 0px 1px 3px 1px rgba(0, 0, 0, 0.15);\n",
              "      filter: drop-shadow(0px 1px 2px rgba(0, 0, 0, 0.3));\n",
              "      fill: #FFFFFF;\n",
              "    }\n",
              "  </style>\n",
              "\n",
              "      <script>\n",
              "        const buttonEl =\n",
              "          document.querySelector('#df-703661ff-8d0e-4c1c-a7b4-c1bd76f3b905 button.colab-df-convert');\n",
              "        buttonEl.style.display =\n",
              "          google.colab.kernel.accessAllowed ? 'block' : 'none';\n",
              "\n",
              "        async function convertToInteractive(key) {\n",
              "          const element = document.querySelector('#df-703661ff-8d0e-4c1c-a7b4-c1bd76f3b905');\n",
              "          const dataTable =\n",
              "            await google.colab.kernel.invokeFunction('convertToInteractive',\n",
              "                                                     [key], {});\n",
              "          if (!dataTable) return;\n",
              "\n",
              "          const docLinkHtml = 'Like what you see? Visit the ' +\n",
              "            '<a target=\"_blank\" href=https://colab.research.google.com/notebooks/data_table.ipynb>data table notebook</a>'\n",
              "            + ' to learn more about interactive tables.';\n",
              "          element.innerHTML = '';\n",
              "          dataTable['output_type'] = 'display_data';\n",
              "          await google.colab.output.renderOutput(dataTable, element);\n",
              "          const docLink = document.createElement('div');\n",
              "          docLink.innerHTML = docLinkHtml;\n",
              "          element.appendChild(docLink);\n",
              "        }\n",
              "      </script>\n",
              "    </div>\n",
              "  </div>\n",
              "  "
            ]
          },
          "metadata": {},
          "execution_count": 192
        }
      ]
    },
    {
      "cell_type": "markdown",
      "source": [
        "### Variables binarias para combustible y tipo"
      ],
      "metadata": {
        "id": "SmfSBNLWy91k"
      }
    },
    {
      "cell_type": "markdown",
      "source": [
        "Crear variables con el tipo de combustible"
      ],
      "metadata": {
        "id": "yGRjnyx7zAug"
      }
    },
    {
      "cell_type": "code",
      "source": [
        "# Usar dummies variables para generar las columnas binarias\n",
        "# Eliminamos primera columna \"combustible_1\", por lo que si el resto valen 0, quiere decir que se trata de\n",
        "# coche con combustible tipo 1 (diésel)\n",
        "coches['tipo_combustible'] = coches['combustible']\n",
        "coches['modelo_tipo'] = coches['tipo']\n",
        "coches = pd.get_dummies(coches, prefix = 'combustible', columns = ['combustible'], drop_first = True)\n",
        "coches = pd.get_dummies(coches, prefix = 'tipo', columns = ['tipo'], drop_first = True)\n",
        "coches.sample(1)"
      ],
      "metadata": {
        "colab": {
          "base_uri": "https://localhost:8080/",
          "height": 330
        },
        "id": "mPR4Y0PnzPRK",
        "outputId": "57879d7e-2038-4ee7-a1cf-70d00e44b5eb"
      },
      "execution_count": 193,
      "outputs": [
        {
          "output_type": "execute_result",
          "data": {
            "text/plain": [
              "                                       titulo  precio  kilometros   año  \\\n",
              "1448  MERCEDES-BENZ Clase C C Coupe 220 d 2p.   35900       82073  2018   \n",
              "\n",
              "        ciudad  garantia  \\\n",
              "1448  Valencia      True   \n",
              "\n",
              "                                                                                     url  \\\n",
              "1448  /mercedes-benz-clase-c-c-coupe-220-d-2p-diesel-2018-en-valencia-51313101-covo.aspx   \n",
              "\n",
              "                                                                                                           web  \\\n",
              "1448  https://www.coches.net/mercedes-benz-clase-c-c-coupe-220-d-2p-diesel-2018-en-valencia-51313101-covo.aspx   \n",
              "\n",
              "        AMG  lat_ciudad  ...  tipo_220  tipo_250  tipo_300  tipo_350 tipo_400  \\\n",
              "1448  False   39.469707  ...         1         0         0         0        0   \n",
              "\n",
              "      tipo_43  tipo_45  tipo_450  tipo_63  tipo_NoInfo  \n",
              "1448        0        0         0        0            0  \n",
              "\n",
              "[1 rows x 29 columns]"
            ],
            "text/html": [
              "\n",
              "  <div id=\"df-07b0f496-3303-42c1-bc29-a0823b7eb12e\">\n",
              "    <div class=\"colab-df-container\">\n",
              "      <div>\n",
              "<style scoped>\n",
              "    .dataframe tbody tr th:only-of-type {\n",
              "        vertical-align: middle;\n",
              "    }\n",
              "\n",
              "    .dataframe tbody tr th {\n",
              "        vertical-align: top;\n",
              "    }\n",
              "\n",
              "    .dataframe thead th {\n",
              "        text-align: right;\n",
              "    }\n",
              "</style>\n",
              "<table border=\"1\" class=\"dataframe\">\n",
              "  <thead>\n",
              "    <tr style=\"text-align: right;\">\n",
              "      <th></th>\n",
              "      <th>titulo</th>\n",
              "      <th>precio</th>\n",
              "      <th>kilometros</th>\n",
              "      <th>año</th>\n",
              "      <th>ciudad</th>\n",
              "      <th>garantia</th>\n",
              "      <th>url</th>\n",
              "      <th>web</th>\n",
              "      <th>AMG</th>\n",
              "      <th>lat_ciudad</th>\n",
              "      <th>...</th>\n",
              "      <th>tipo_220</th>\n",
              "      <th>tipo_250</th>\n",
              "      <th>tipo_300</th>\n",
              "      <th>tipo_350</th>\n",
              "      <th>tipo_400</th>\n",
              "      <th>tipo_43</th>\n",
              "      <th>tipo_45</th>\n",
              "      <th>tipo_450</th>\n",
              "      <th>tipo_63</th>\n",
              "      <th>tipo_NoInfo</th>\n",
              "    </tr>\n",
              "  </thead>\n",
              "  <tbody>\n",
              "    <tr>\n",
              "      <th>1448</th>\n",
              "      <td>MERCEDES-BENZ Clase C C Coupe 220 d 2p.</td>\n",
              "      <td>35900</td>\n",
              "      <td>82073</td>\n",
              "      <td>2018</td>\n",
              "      <td>Valencia</td>\n",
              "      <td>True</td>\n",
              "      <td>/mercedes-benz-clase-c-c-coupe-220-d-2p-diesel-2018-en-valencia-51313101-covo.aspx</td>\n",
              "      <td>https://www.coches.net/mercedes-benz-clase-c-c-coupe-220-d-2p-diesel-2018-en-valencia-51313101-covo.aspx</td>\n",
              "      <td>False</td>\n",
              "      <td>39.469707</td>\n",
              "      <td>...</td>\n",
              "      <td>1</td>\n",
              "      <td>0</td>\n",
              "      <td>0</td>\n",
              "      <td>0</td>\n",
              "      <td>0</td>\n",
              "      <td>0</td>\n",
              "      <td>0</td>\n",
              "      <td>0</td>\n",
              "      <td>0</td>\n",
              "      <td>0</td>\n",
              "    </tr>\n",
              "  </tbody>\n",
              "</table>\n",
              "<p>1 rows × 29 columns</p>\n",
              "</div>\n",
              "      <button class=\"colab-df-convert\" onclick=\"convertToInteractive('df-07b0f496-3303-42c1-bc29-a0823b7eb12e')\"\n",
              "              title=\"Convert this dataframe to an interactive table.\"\n",
              "              style=\"display:none;\">\n",
              "        \n",
              "  <svg xmlns=\"http://www.w3.org/2000/svg\" height=\"24px\"viewBox=\"0 0 24 24\"\n",
              "       width=\"24px\">\n",
              "    <path d=\"M0 0h24v24H0V0z\" fill=\"none\"/>\n",
              "    <path d=\"M18.56 5.44l.94 2.06.94-2.06 2.06-.94-2.06-.94-.94-2.06-.94 2.06-2.06.94zm-11 1L8.5 8.5l.94-2.06 2.06-.94-2.06-.94L8.5 2.5l-.94 2.06-2.06.94zm10 10l.94 2.06.94-2.06 2.06-.94-2.06-.94-.94-2.06-.94 2.06-2.06.94z\"/><path d=\"M17.41 7.96l-1.37-1.37c-.4-.4-.92-.59-1.43-.59-.52 0-1.04.2-1.43.59L10.3 9.45l-7.72 7.72c-.78.78-.78 2.05 0 2.83L4 21.41c.39.39.9.59 1.41.59.51 0 1.02-.2 1.41-.59l7.78-7.78 2.81-2.81c.8-.78.8-2.07 0-2.86zM5.41 20L4 18.59l7.72-7.72 1.47 1.35L5.41 20z\"/>\n",
              "  </svg>\n",
              "      </button>\n",
              "      \n",
              "  <style>\n",
              "    .colab-df-container {\n",
              "      display:flex;\n",
              "      flex-wrap:wrap;\n",
              "      gap: 12px;\n",
              "    }\n",
              "\n",
              "    .colab-df-convert {\n",
              "      background-color: #E8F0FE;\n",
              "      border: none;\n",
              "      border-radius: 50%;\n",
              "      cursor: pointer;\n",
              "      display: none;\n",
              "      fill: #1967D2;\n",
              "      height: 32px;\n",
              "      padding: 0 0 0 0;\n",
              "      width: 32px;\n",
              "    }\n",
              "\n",
              "    .colab-df-convert:hover {\n",
              "      background-color: #E2EBFA;\n",
              "      box-shadow: 0px 1px 2px rgba(60, 64, 67, 0.3), 0px 1px 3px 1px rgba(60, 64, 67, 0.15);\n",
              "      fill: #174EA6;\n",
              "    }\n",
              "\n",
              "    [theme=dark] .colab-df-convert {\n",
              "      background-color: #3B4455;\n",
              "      fill: #D2E3FC;\n",
              "    }\n",
              "\n",
              "    [theme=dark] .colab-df-convert:hover {\n",
              "      background-color: #434B5C;\n",
              "      box-shadow: 0px 1px 3px 1px rgba(0, 0, 0, 0.15);\n",
              "      filter: drop-shadow(0px 1px 2px rgba(0, 0, 0, 0.3));\n",
              "      fill: #FFFFFF;\n",
              "    }\n",
              "  </style>\n",
              "\n",
              "      <script>\n",
              "        const buttonEl =\n",
              "          document.querySelector('#df-07b0f496-3303-42c1-bc29-a0823b7eb12e button.colab-df-convert');\n",
              "        buttonEl.style.display =\n",
              "          google.colab.kernel.accessAllowed ? 'block' : 'none';\n",
              "\n",
              "        async function convertToInteractive(key) {\n",
              "          const element = document.querySelector('#df-07b0f496-3303-42c1-bc29-a0823b7eb12e');\n",
              "          const dataTable =\n",
              "            await google.colab.kernel.invokeFunction('convertToInteractive',\n",
              "                                                     [key], {});\n",
              "          if (!dataTable) return;\n",
              "\n",
              "          const docLinkHtml = 'Like what you see? Visit the ' +\n",
              "            '<a target=\"_blank\" href=https://colab.research.google.com/notebooks/data_table.ipynb>data table notebook</a>'\n",
              "            + ' to learn more about interactive tables.';\n",
              "          element.innerHTML = '';\n",
              "          dataTable['output_type'] = 'display_data';\n",
              "          await google.colab.output.renderOutput(dataTable, element);\n",
              "          const docLink = document.createElement('div');\n",
              "          docLink.innerHTML = docLinkHtml;\n",
              "          element.appendChild(docLink);\n",
              "        }\n",
              "      </script>\n",
              "    </div>\n",
              "  </div>\n",
              "  "
            ]
          },
          "metadata": {},
          "execution_count": 193
        }
      ]
    },
    {
      "cell_type": "markdown",
      "source": [
        "Salvaguardar DataFrame"
      ],
      "metadata": {
        "id": "tSB1TjBW4mfC"
      }
    },
    {
      "cell_type": "code",
      "source": [
        "coches_copy = coches.copy()"
      ],
      "metadata": {
        "id": "VsTh1wH11twT"
      },
      "execution_count": 194,
      "outputs": []
    },
    {
      "cell_type": "markdown",
      "source": [
        "### Box plot de características."
      ],
      "metadata": {
        "id": "VZQfL7U-486K"
      }
    },
    {
      "cell_type": "markdown",
      "source": [
        "Mostrar varibles categóricas en diagramas de caja y bigotes"
      ],
      "metadata": {
        "id": "BZe84OBC542o"
      }
    },
    {
      "cell_type": "code",
      "source": [
        "# Function from the example of the course. (Thaks to the author).\n",
        "# Codigo utilizado durante la formación recibida por \"Udacity\"\n",
        "def boxgrid(x, y, **kwargs):\n",
        "    \"\"\" Quick hack for creating box plots with seaborn's PairGrid. \"\"\"\n",
        "    default_color = sns.color_palette()[0]\n",
        "    sns.boxplot(x, y, color = default_color)\n",
        "    plt.xticks(rotation = 30)\n",
        "    \n",
        "# Plotting the graph\n",
        "plt.figure(figsize = [20, 20])\n",
        "g = sns.PairGrid(data = coches, y_vars = ['precio', 'kilometros'], \n",
        "                x_vars = ['año', 'garantia', 'modelo_tipo', 'AMG', 'tipo_combustible'], height = 3, aspect = 1.5)\n",
        "\n",
        "g.fig.subplots_adjust(top=0.95)\n",
        "g.fig.suptitle('Variables categóricas frente a numéricas')\n",
        "g.map(boxgrid)\n",
        "plt.show();"
      ],
      "metadata": {
        "colab": {
          "base_uri": "https://localhost:8080/",
          "height": 477
        },
        "id": "p31o2D5K477x",
        "outputId": "b386c592-e0e7-400e-eb05-28a9e24b641a"
      },
      "execution_count": 196,
      "outputs": [
        {
          "output_type": "display_data",
          "data": {
            "text/plain": [
              "<Figure size 1440x1440 with 0 Axes>"
            ]
          },
          "metadata": {}
        },
        {
          "output_type": "display_data",
          "data": {
            "text/plain": [
              "<Figure size 1620x432 with 10 Axes>"
            ],
            "image/png": "[encoded data removed]"
          },
          "metadata": {
            "needs_background": "light"
          }
        }
      ]
    },
    {
      "cell_type": "markdown",
      "source": [
        "### Análisis por agrupación"
      ],
      "metadata": {
        "id": "Gfuki5tJ9Lvt"
      }
    },
    {
      "cell_type": "markdown",
      "source": [
        "Analizar media y mediana de precios por ciudad"
      ],
      "metadata": {
        "id": "wyyemHJe9cAq"
      }
    },
    {
      "cell_type": "code",
      "source": [
        "# Agrupar datos\n",
        "coches_city_price_mean = coches.groupby('ciudad')['precio'].mean().reset_index()\n",
        "coches_city_price_median = coches.groupby('ciudad')['precio'].median().reset_index()"
      ],
      "metadata": {
        "id": "1MpYzCF44ugL"
      },
      "execution_count": 214,
      "outputs": []
    },
    {
      "cell_type": "code",
      "source": [
        "# Crear gráfico\n",
        "plt.figure(figsize = (30,20))\n",
        "bars_precio = plt.bar(coches_city_price_mean.ciudad,coches_city_price_mean.precio, label = 'precio medio')\n",
        "median_precio = plt.plot(coches_city_price_median.ciudad, coches_city_price_median.precio, color = 'red', label = 'precio mediana')\n",
        "plt.tick_params(axis = 'x',labelrotation = 45, labelsize = 10)\n",
        "plt.tick_params(axis = 'y', labelsize = 20)\n",
        "plt.ylabel('Precio, euros',fontdict = {'fontsize': 40})\n",
        "plt.xlabel('Ciudad',fontdict = {'fontsize': 40})\n",
        "plt.title('Media y mediana de los precios por ciudad',fontdict = {'fontsize': 40},pad = 0)\n",
        "plt.legend(prop = {'size': 20})\n",
        "plt.show();"
      ],
      "metadata": {
        "colab": {
          "base_uri": "https://localhost:8080/",
          "height": 1000
        },
        "id": "kWc7CZVm9x2V",
        "outputId": "05f48c88-fe3b-404f-d895-84ba27e5b6dd"
      },
      "execution_count": 226,
      "outputs": [
        {
          "output_type": "display_data",
          "data": {
            "text/plain": [
              "<Figure size 2160x1440 with 1 Axes>"
            ],
            "image/png": "[encoded data removed]"
          },
          "metadata": {
            "needs_background": "light"
          }
        }
      ]
    },
    {
      "cell_type": "markdown",
      "source": [
        "### Estudio de las distintas distribuciones."
      ],
      "metadata": {
        "id": "MMUDGakfEdm1"
      }
    },
    {
      "cell_type": "markdown",
      "source": [
        "Distribución de la variable precio"
      ],
      "metadata": {
        "id": "gUc49GK-Ef0t"
      }
    },
    {
      "cell_type": "code",
      "source": [
        "# Creando el histograma\n",
        "binsize = 500\n",
        "bins = np.arange(0, coches['precio'].max()+binsize, binsize)\n",
        "\n",
        "plt.figure(figsize=[15, 10])\n",
        "plt.hist(data = coches, x = 'precio', bins = bins)\n",
        "plt.xlabel('Precio (€)')\n",
        "plt.title('Número de vehículos por precio')\n",
        "plt.show();"
      ],
      "metadata": {
        "colab": {
          "base_uri": "https://localhost:8080/",
          "height": 621
        },
        "id": "p41imGLw_e8F",
        "outputId": "00e5ee6e-e138-43ad-a7f1-a14864dd008e"
      },
      "execution_count": 234,
      "outputs": [
        {
          "output_type": "display_data",
          "data": {
            "text/plain": [
              "<Figure size 1080x720 with 1 Axes>"
            ],
            "image/png": "[encoded data removed]"
          },
          "metadata": {
            "needs_background": "light"
          }
        }
      ]
    },
    {
      "cell_type": "markdown",
      "source": [
        "Distribución de la variable kilómetros"
      ],
      "metadata": {
        "id": "tsSqwLZvFoha"
      }
    },
    {
      "cell_type": "code",
      "source": [
        "# Creando el histograma\n",
        "binsize = 1000\n",
        "bins = np.arange(0, coches['kilometros'].max()+binsize, binsize)\n",
        "\n",
        "plt.figure(figsize=[15, 10])\n",
        "plt.hist(data = coches, x = 'kilometros', bins = bins)\n",
        "plt.xlabel('Kilómetros')\n",
        "plt.title('Cantidad de vehículos por kilómetros')\n",
        "plt.show();"
      ],
      "metadata": {
        "colab": {
          "base_uri": "https://localhost:8080/",
          "height": 621
        },
        "id": "KUUzScZBAY2L",
        "outputId": "e27a419a-a79d-45d5-af04-28ca0d79c8c5"
      },
      "execution_count": 235,
      "outputs": [
        {
          "output_type": "display_data",
          "data": {
            "text/plain": [
              "<Figure size 1080x720 with 1 Axes>"
            ],
            "image/png": "[encoded data removed]"
          },
          "metadata": {
            "needs_background": "light"
          }
        }
      ]
    },
    {
      "cell_type": "markdown",
      "source": [
        "### Estudio de correlaciones entre las variables."
      ],
      "metadata": {
        "id": "FS-Pp0vNGaJz"
      }
    },
    {
      "cell_type": "code",
      "source": [
        "## Poner matriz de correlación con heatmap"
      ],
      "metadata": {
        "id": "IETyJ6OrFvyZ"
      },
      "execution_count": 236,
      "outputs": []
    },
    {
      "cell_type": "code",
      "source": [
        ""
      ],
      "metadata": {
        "id": "_5V7jiYrGgus"
      },
      "execution_count": null,
      "outputs": []
    }
  ]
}