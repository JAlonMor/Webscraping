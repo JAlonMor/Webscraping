{
  "cells": [
    {
      "cell_type": "markdown",
      "metadata": {
        "id": "view-in-github",
        "colab_type": "text"
      },
      "source": [
        "<a href=\"https://colab.research.google.com/github/JAlonMor/Webscraping/blob/main/Copia_de_03_03_feature_selection_wrapper_embedded_methods.ipynb\" target=\"_parent\"><img src=\"https://colab.research.google.com/assets/colab-badge.svg\" alt=\"Open In Colab\"/></a>"
      ]
    },
    {
      "cell_type": "markdown",
      "metadata": {
        "id": "4hlgFV1vzodk"
      },
      "source": [
        "<!--NAVIGATION-->\n",
        "\n",
        "_______________\n",
        "Este documento puede ser utilizado de forma interactiva en las siguientes plataformas: \n",
        "\n",
        "- [Google Colab](https://colab.research.google.com/github/masdeseiscaracteres/ml_course/blob/master/material/03_03_feature_selection_wrapper_embedded_methods.ipynb)\n",
        "- [MyBinder](https://mybinder.org/v2/gh/masdeseiscaracteres/ml_course/master)\n",
        "- [Deepnote](https://deepnote.com/launch?template=python_3.6&url=https%3A%2F%2Fgithub.com%2Fmasdeseiscaracteres%2Fml_course%2Fblob%2Fmaster%2Fmaterial%2F03_03_feature_selection_wrapper_embedded_methods.ipynb)\n",
        "\n",
        "\n",
        "_______________"
      ]
    },
    {
      "cell_type": "markdown",
      "metadata": {
        "id": "r-2Mege-zodo"
      },
      "source": [
        "# Métodos Wrapper y Embedded\n",
        "\n",
        "En este notebook se revisarán los conceptos de:\n",
        "\n",
        "1. Métodos *wrapper* para selección de características\n",
        "2. Métodos *embedded* para selección de características\n",
        "\n",
        "Primero cargamos librerías y funciones necesarias.\n"
      ]
    },
    {
      "cell_type": "markdown",
      "metadata": {
        "id": "YJbPHquZzodq"
      },
      "source": [
        "## 0. Configuración del entorno"
      ]
    },
    {
      "cell_type": "code",
      "execution_count": 1,
      "metadata": {
        "id": "YQGkzTr2zodr",
        "colab": {
          "base_uri": "https://localhost:8080/"
        },
        "outputId": "4bd10669-ff65-45f4-dea7-40c123e81c4b"
      },
      "outputs": [
        {
          "output_type": "stream",
          "name": "stdout",
          "text": [
            "Cloning into 'ml_course'...\n",
            "remote: Enumerating objects: 228, done.\u001b[K\n",
            "remote: Counting objects: 100% (13/13), done.\u001b[K\n",
            "remote: Compressing objects: 100% (10/10), done.\u001b[K\n",
            "remote: Total 228 (delta 4), reused 3 (delta 3), pack-reused 215\u001b[K\n",
            "Receiving objects: 100% (228/228), 12.89 MiB | 20.33 MiB/s, done.\n",
            "Resolving deltas: 100% (115/115), done.\n"
          ]
        }
      ],
      "source": [
        "# clonar el resto del repositorio si no está disponible\n",
        "import os\n",
        "curr_dir = os.getcwd()\n",
        "if not os.path.exists(os.path.join(curr_dir, '../.ROOT_DIR')):\n",
        "    !git clone https://github.com/masdeseiscaracteres/ml_course.git ml_course\n",
        "    os.chdir(os.path.join(curr_dir, 'ml_course/material'))"
      ]
    },
    {
      "cell_type": "code",
      "execution_count": 2,
      "metadata": {
        "id": "W7g-y_YIzodu"
      },
      "outputs": [],
      "source": [
        "import numpy as np\n",
        "import pandas as pd\n",
        "\n",
        "import matplotlib.pyplot as plt\n",
        "from matplotlib.colors import ListedColormap\n",
        "%matplotlib inline\n",
        "\n",
        "cm = plt.cm.RdBu\n",
        "cm_bright = ListedColormap(['#FF0000', '#0000FF'])\n",
        "\n",
        "import warnings\n",
        "warnings.filterwarnings('ignore')"
      ]
    },
    {
      "cell_type": "markdown",
      "metadata": {
        "id": "Hjb2agFEzodw"
      },
      "source": [
        "# 1. Métodos *wrapper*\n",
        "\n",
        "Estos métodos utilizan un algoritmo de machine learning como caja negra para ordenar distintos subconjuntos de variables de acuerdo a su capacidad predictiva. Normalmente se usan procedimientos \"hacia delante/atrás\" en combinación con validación cruzada.\n",
        "\n",
        "### *The wrong and right way to do cross-validation*\n",
        "\n",
        "Este ejemplo ha sido inspirado en la Sección 7.10.2 *The Wrong and Right Way to Do Cross-validation* del libro\n",
        "\"*The Elements of Statistical Learning*\" de Hastie, Tibshirani y Friedman."
      ]
    },
    {
      "cell_type": "code",
      "execution_count": 3,
      "metadata": {
        "id": "W5OlEoIOzody",
        "outputId": "45dfd7c1-67d4-4587-c457-2b0abf345727",
        "colab": {
          "base_uri": "https://localhost:8080/",
          "height": 282
        }
      },
      "outputs": [
        {
          "output_type": "stream",
          "name": "stdout",
          "text": [
            "Average error rate (%): 3.5719999999999974\n"
          ]
        },
        {
          "output_type": "display_data",
          "data": {
            "text/plain": [
              "<Figure size 432x288 with 1 Axes>"
            ],
            "image/png": "[encoded data removed]"
          },
          "metadata": {
            "needs_background": "light"
          }
        }
      ],
      "source": [
        "from sklearn.neighbors import KNeighborsClassifier\n",
        "from sklearn.model_selection import KFold\n",
        "from sklearn.feature_selection import f_classif\n",
        "\n",
        "\n",
        "# This is the WRONG way\n",
        "\n",
        "np.random.seed(0)\n",
        "score = []\n",
        "\n",
        "for i in range(500): # This is run for a number of experiments. Montecarlo simulation\n",
        "    \n",
        "    # Create toy example\n",
        "    N = 50\n",
        "    y = np.concatenate([-1*np.ones(int(N/2)), np.ones(int(N/2))]) # target\n",
        "    X = np.random.randn(N, 5000)                       # predictors are random variables!!\n",
        "    \n",
        "    \n",
        "    # Note here, the ranking and selection is performed outside the CV loop\n",
        "    f_test, _ = f_classif(X, y)\n",
        "    f_test /= np.max(f_test)\n",
        "    \n",
        "    ranking = np.argsort(f_test)[::-1] \n",
        "    selected = ranking[0:50]\n",
        "    Xs = X[:, selected]\n",
        "    \n",
        "    # 1-neighbor classifier\n",
        "    knn = KNeighborsClassifier(n_neighbors=1)\n",
        "    \n",
        "    # 5-fold CV\n",
        "    kf  = KFold(n_splits=5, shuffle = True)\n",
        "    score_i = []\n",
        "    \n",
        "    for train_idx, val_idx in kf.split(Xs):\n",
        "        knn.fit(Xs[train_idx,:], y[train_idx])\n",
        "        accuracy = knn.score(Xs[val_idx,:], y[val_idx])\n",
        "        score_i.append(accuracy) \n",
        "    \n",
        "    score.append(np.mean(score_i))\n",
        "\n",
        "print(\"Average error rate (%): \" + str((1 - np.mean(score))*100))\n",
        "\n",
        "plt.hist(score)\n",
        "plt.show()"
      ]
    },
    {
      "cell_type": "markdown",
      "metadata": {
        "id": "cPFYzvIwzod2"
      },
      "source": [
        "En una situación como esta, en la que las features no tienen ningún tipo de relación con la variable objetivo, esperamos un error de clasificación medio del 50%. Sin embargo, hemos obtenido un error de clasificación medio del 3.5%. Esto es un indicador claro de que hemos realizado mal el experimento. Pero, ¿por qué ocurre esto?\n",
        "- Como solo tenemos 50 ejemplos y un total de 5000 variables, es normal que alguna de las variables esté muy correlada con la variable objetivo.\n",
        "- Estamos haciendo la selección de variables con la totalidad de los datos, por tanto, las variables que seleccionamos tienen alguna relación con la variable objetivo en cualquiera de los folds de la validación cruzada.\n",
        "\n",
        "Para hacer la evaluación correctamente deben utilizarse solamente las muestras en el conjunto de entrenamiento como se muestra a continuación:"
      ]
    },
    {
      "cell_type": "code",
      "execution_count": 4,
      "metadata": {
        "id": "XxHGQ1HWzod3",
        "outputId": "2cdf9a1f-6b60-494c-ebc3-062b26f66183",
        "colab": {
          "base_uri": "https://localhost:8080/",
          "height": 282
        }
      },
      "outputs": [
        {
          "output_type": "stream",
          "name": "stdout",
          "text": [
            "Error rate (%): 52.664\n"
          ]
        },
        {
          "output_type": "display_data",
          "data": {
            "text/plain": [
              "<Figure size 432x288 with 1 Axes>"
            ],
            "image/png": "[encoded data removed]"
          },
          "metadata": {
            "needs_background": "light"
          }
        }
      ],
      "source": [
        "# This is the RIGHT way\n",
        "\n",
        "np.random.seed(0)\n",
        "score = []\n",
        "\n",
        "for i in range(500): # This runs for a number of experiments. Montecarlo simulation\n",
        "    \n",
        "    # Create toy example\n",
        "    N = 50\n",
        "    y = np.concatenate([-1*np.ones(int(N/2)), np.ones(int(N/2))]) # target\n",
        "    X = np.random.randn(N, 5000)                       # predictors, again random variables\n",
        "    \n",
        "    # 1-neighbor classifier\n",
        "    knn = KNeighborsClassifier(n_neighbors=1)\n",
        "    \n",
        "    # 5-fold CV\n",
        "    kf  = KFold(n_splits=5, shuffle = True)\n",
        "    score_i = []\n",
        "    \n",
        "    for train_idx, val_idx in kf.split(Xs):\n",
        "        \n",
        "        # Note here, the ranking and selection is performed inside the CV loop\n",
        "        f_test, _ = f_classif(X[train_idx,:], y[train_idx])\n",
        "        f_test /= np.max(f_test)\n",
        "        ranking = np.argsort(f_test)[::-1] \n",
        "        selected = ranking[0:50]\n",
        "        \n",
        "        Xs = X[:, selected]\n",
        "           \n",
        "        knn.fit(Xs[train_idx,:], y[train_idx])\n",
        "        accuracy = knn.score(Xs[val_idx,:], y[val_idx])\n",
        "        \n",
        "        score_i.append(accuracy) \n",
        "    \n",
        "    score.append(np.mean(score_i))\n",
        "\n",
        "print(\"Error rate (%): \" + str((1 - np.mean(score))*100))\n",
        "\n",
        "plt.hist(score)\n",
        "plt.show()"
      ]
    },
    {
      "cell_type": "markdown",
      "metadata": {
        "id": "ph_lSwyZzod6"
      },
      "source": [
        "En este caso sí que obtenemos una probabilidad cercana al 50%. Por tanto, estamos realizando correctamente la selección de variables.\n",
        "\n",
        "Este es el procedimiento general que se debe seguir cuando se implementa validación cruzada con métodos wrapper. Además puedes apoyarte en algunas funciones ya implementadas en `sklearn` para hacer la tarea más fácil:\n",
        "- [`sklearn.feature_selection.SelectFromModel`](https://scikit-learn.org/stable/modules/generated/sklearn.feature_selection.SelectFromModel.html#sklearn.feature_selection.SelectFromModel)\n",
        "- [`sklearn.feature_selection.RFE`](https://scikit-learn.org/stable/modules/generated/sklearn.feature_selection.RFE.html#sklearn.feature_selection.RFE)\n",
        "\n"
      ]
    },
    {
      "cell_type": "markdown",
      "metadata": {
        "id": "Ho1Lv__Uzod8"
      },
      "source": [
        "# 2. Métodos *embedded*\n",
        "\n",
        "Vamos a trabajar directamente sobre la base de datos  de viviendas [House Sales in King County, USA](https://www.kaggle.com/harlfoxem/housesalesprediction), así que lo primero es cargar los datos:"
      ]
    },
    {
      "cell_type": "code",
      "execution_count": 5,
      "metadata": {
        "id": "0BkAHXrXzod-",
        "outputId": "5a6a264b-e3b1-4f07-a9c8-bd0c1e00b126",
        "colab": {
          "base_uri": "https://localhost:8080/",
          "height": 270
        }
      },
      "outputs": [
        {
          "output_type": "execute_result",
          "data": {
            "text/plain": [
              "      price  bedrooms  bathrooms  sqm_living     sqm_lot  floors  waterfront  \\\n",
              "0  221900.0         3       1.00  109.625587  524.902176     1.0           0   \n",
              "1  538000.0         3       2.25  238.760813  672.803816     2.0           0   \n",
              "2  180000.0         2       1.00   71.535341  929.030400     1.0           0   \n",
              "3  604000.0         4       3.00  182.089958  464.515200     1.0           0   \n",
              "4  510000.0         3       2.00  156.077107  750.656563     1.0           0   \n",
              "\n",
              "   view  condition  grade  sqm_basement  yr_renovated  zip_code      lat  \\\n",
              "0     0          3      7      0.000000             0     98178  47.5112   \n",
              "1     0          3      7     37.161216          1991     98125  47.7210   \n",
              "2     0          3      6      0.000000             0     98028  47.7379   \n",
              "3     0          5      7     84.541766             0     98136  47.5208   \n",
              "4     0          3      8      0.000000             0     98074  47.6168   \n",
              "\n",
              "      long  sqm_living15   sqm_lot15  years  bed_bath_rooms  \n",
              "0 -122.257    124.490074  524.902176     64            3.00  \n",
              "1 -122.319    157.006138  709.686323     68            6.75  \n",
              "2 -122.233    252.696269  748.984308     86            2.00  \n",
              "3 -122.393    126.348134  464.515200     54           12.00  \n",
              "4 -122.045    167.225472  697.051509     32            6.00  "
            ],
            "text/html": [
              "\n",
              "  <div id=\"df-c60d8121-1aaa-41ef-92fc-e5ef9bd3a93d\">\n",
              "    <div class=\"colab-df-container\">\n",
              "      <div>\n",
              "<style scoped>\n",
              "    .dataframe tbody tr th:only-of-type {\n",
              "        vertical-align: middle;\n",
              "    }\n",
              "\n",
              "    .dataframe tbody tr th {\n",
              "        vertical-align: top;\n",
              "    }\n",
              "\n",
              "    .dataframe thead th {\n",
              "        text-align: right;\n",
              "    }\n",
              "</style>\n",
              "<table border=\"1\" class=\"dataframe\">\n",
              "  <thead>\n",
              "    <tr style=\"text-align: right;\">\n",
              "      <th></th>\n",
              "      <th>price</th>\n",
              "      <th>bedrooms</th>\n",
              "      <th>bathrooms</th>\n",
              "      <th>sqm_living</th>\n",
              "      <th>sqm_lot</th>\n",
              "      <th>floors</th>\n",
              "      <th>waterfront</th>\n",
              "      <th>view</th>\n",
              "      <th>condition</th>\n",
              "      <th>grade</th>\n",
              "      <th>sqm_basement</th>\n",
              "      <th>yr_renovated</th>\n",
              "      <th>zip_code</th>\n",
              "      <th>lat</th>\n",
              "      <th>long</th>\n",
              "      <th>sqm_living15</th>\n",
              "      <th>sqm_lot15</th>\n",
              "      <th>years</th>\n",
              "      <th>bed_bath_rooms</th>\n",
              "    </tr>\n",
              "  </thead>\n",
              "  <tbody>\n",
              "    <tr>\n",
              "      <th>0</th>\n",
              "      <td>221900.0</td>\n",
              "      <td>3</td>\n",
              "      <td>1.00</td>\n",
              "      <td>109.625587</td>\n",
              "      <td>524.902176</td>\n",
              "      <td>1.0</td>\n",
              "      <td>0</td>\n",
              "      <td>0</td>\n",
              "      <td>3</td>\n",
              "      <td>7</td>\n",
              "      <td>0.000000</td>\n",
              "      <td>0</td>\n",
              "      <td>98178</td>\n",
              "      <td>47.5112</td>\n",
              "      <td>-122.257</td>\n",
              "      <td>124.490074</td>\n",
              "      <td>524.902176</td>\n",
              "      <td>64</td>\n",
              "      <td>3.00</td>\n",
              "    </tr>\n",
              "    <tr>\n",
              "      <th>1</th>\n",
              "      <td>538000.0</td>\n",
              "      <td>3</td>\n",
              "      <td>2.25</td>\n",
              "      <td>238.760813</td>\n",
              "      <td>672.803816</td>\n",
              "      <td>2.0</td>\n",
              "      <td>0</td>\n",
              "      <td>0</td>\n",
              "      <td>3</td>\n",
              "      <td>7</td>\n",
              "      <td>37.161216</td>\n",
              "      <td>1991</td>\n",
              "      <td>98125</td>\n",
              "      <td>47.7210</td>\n",
              "      <td>-122.319</td>\n",
              "      <td>157.006138</td>\n",
              "      <td>709.686323</td>\n",
              "      <td>68</td>\n",
              "      <td>6.75</td>\n",
              "    </tr>\n",
              "    <tr>\n",
              "      <th>2</th>\n",
              "      <td>180000.0</td>\n",
              "      <td>2</td>\n",
              "      <td>1.00</td>\n",
              "      <td>71.535341</td>\n",
              "      <td>929.030400</td>\n",
              "      <td>1.0</td>\n",
              "      <td>0</td>\n",
              "      <td>0</td>\n",
              "      <td>3</td>\n",
              "      <td>6</td>\n",
              "      <td>0.000000</td>\n",
              "      <td>0</td>\n",
              "      <td>98028</td>\n",
              "      <td>47.7379</td>\n",
              "      <td>-122.233</td>\n",
              "      <td>252.696269</td>\n",
              "      <td>748.984308</td>\n",
              "      <td>86</td>\n",
              "      <td>2.00</td>\n",
              "    </tr>\n",
              "    <tr>\n",
              "      <th>3</th>\n",
              "      <td>604000.0</td>\n",
              "      <td>4</td>\n",
              "      <td>3.00</td>\n",
              "      <td>182.089958</td>\n",
              "      <td>464.515200</td>\n",
              "      <td>1.0</td>\n",
              "      <td>0</td>\n",
              "      <td>0</td>\n",
              "      <td>5</td>\n",
              "      <td>7</td>\n",
              "      <td>84.541766</td>\n",
              "      <td>0</td>\n",
              "      <td>98136</td>\n",
              "      <td>47.5208</td>\n",
              "      <td>-122.393</td>\n",
              "      <td>126.348134</td>\n",
              "      <td>464.515200</td>\n",
              "      <td>54</td>\n",
              "      <td>12.00</td>\n",
              "    </tr>\n",
              "    <tr>\n",
              "      <th>4</th>\n",
              "      <td>510000.0</td>\n",
              "      <td>3</td>\n",
              "      <td>2.00</td>\n",
              "      <td>156.077107</td>\n",
              "      <td>750.656563</td>\n",
              "      <td>1.0</td>\n",
              "      <td>0</td>\n",
              "      <td>0</td>\n",
              "      <td>3</td>\n",
              "      <td>8</td>\n",
              "      <td>0.000000</td>\n",
              "      <td>0</td>\n",
              "      <td>98074</td>\n",
              "      <td>47.6168</td>\n",
              "      <td>-122.045</td>\n",
              "      <td>167.225472</td>\n",
              "      <td>697.051509</td>\n",
              "      <td>32</td>\n",
              "      <td>6.00</td>\n",
              "    </tr>\n",
              "  </tbody>\n",
              "</table>\n",
              "</div>\n",
              "      <button class=\"colab-df-convert\" onclick=\"convertToInteractive('df-c60d8121-1aaa-41ef-92fc-e5ef9bd3a93d')\"\n",
              "              title=\"Convert this dataframe to an interactive table.\"\n",
              "              style=\"display:none;\">\n",
              "        \n",
              "  <svg xmlns=\"http://www.w3.org/2000/svg\" height=\"24px\"viewBox=\"0 0 24 24\"\n",
              "       width=\"24px\">\n",
              "    <path d=\"M0 0h24v24H0V0z\" fill=\"none\"/>\n",
              "    <path d=\"M18.56 5.44l.94 2.06.94-2.06 2.06-.94-2.06-.94-.94-2.06-.94 2.06-2.06.94zm-11 1L8.5 8.5l.94-2.06 2.06-.94-2.06-.94L8.5 2.5l-.94 2.06-2.06.94zm10 10l.94 2.06.94-2.06 2.06-.94-2.06-.94-.94-2.06-.94 2.06-2.06.94z\"/><path d=\"M17.41 7.96l-1.37-1.37c-.4-.4-.92-.59-1.43-.59-.52 0-1.04.2-1.43.59L10.3 9.45l-7.72 7.72c-.78.78-.78 2.05 0 2.83L4 21.41c.39.39.9.59 1.41.59.51 0 1.02-.2 1.41-.59l7.78-7.78 2.81-2.81c.8-.78.8-2.07 0-2.86zM5.41 20L4 18.59l7.72-7.72 1.47 1.35L5.41 20z\"/>\n",
              "  </svg>\n",
              "      </button>\n",
              "      \n",
              "  <style>\n",
              "    .colab-df-container {\n",
              "      display:flex;\n",
              "      flex-wrap:wrap;\n",
              "      gap: 12px;\n",
              "    }\n",
              "\n",
              "    .colab-df-convert {\n",
              "      background-color: #E8F0FE;\n",
              "      border: none;\n",
              "      border-radius: 50%;\n",
              "      cursor: pointer;\n",
              "      display: none;\n",
              "      fill: #1967D2;\n",
              "      height: 32px;\n",
              "      padding: 0 0 0 0;\n",
              "      width: 32px;\n",
              "    }\n",
              "\n",
              "    .colab-df-convert:hover {\n",
              "      background-color: #E2EBFA;\n",
              "      box-shadow: 0px 1px 2px rgba(60, 64, 67, 0.3), 0px 1px 3px 1px rgba(60, 64, 67, 0.15);\n",
              "      fill: #174EA6;\n",
              "    }\n",
              "\n",
              "    [theme=dark] .colab-df-convert {\n",
              "      background-color: #3B4455;\n",
              "      fill: #D2E3FC;\n",
              "    }\n",
              "\n",
              "    [theme=dark] .colab-df-convert:hover {\n",
              "      background-color: #434B5C;\n",
              "      box-shadow: 0px 1px 3px 1px rgba(0, 0, 0, 0.15);\n",
              "      filter: drop-shadow(0px 1px 2px rgba(0, 0, 0, 0.3));\n",
              "      fill: #FFFFFF;\n",
              "    }\n",
              "  </style>\n",
              "\n",
              "      <script>\n",
              "        const buttonEl =\n",
              "          document.querySelector('#df-c60d8121-1aaa-41ef-92fc-e5ef9bd3a93d button.colab-df-convert');\n",
              "        buttonEl.style.display =\n",
              "          google.colab.kernel.accessAllowed ? 'block' : 'none';\n",
              "\n",
              "        async function convertToInteractive(key) {\n",
              "          const element = document.querySelector('#df-c60d8121-1aaa-41ef-92fc-e5ef9bd3a93d');\n",
              "          const dataTable =\n",
              "            await google.colab.kernel.invokeFunction('convertToInteractive',\n",
              "                                                     [key], {});\n",
              "          if (!dataTable) return;\n",
              "\n",
              "          const docLinkHtml = 'Like what you see? Visit the ' +\n",
              "            '<a target=\"_blank\" href=https://colab.research.google.com/notebooks/data_table.ipynb>data table notebook</a>'\n",
              "            + ' to learn more about interactive tables.';\n",
              "          element.innerHTML = '';\n",
              "          dataTable['output_type'] = 'display_data';\n",
              "          await google.colab.output.renderOutput(dataTable, element);\n",
              "          const docLink = document.createElement('div');\n",
              "          docLink.innerHTML = docLinkHtml;\n",
              "          element.appendChild(docLink);\n",
              "        }\n",
              "      </script>\n",
              "    </div>\n",
              "  </div>\n",
              "  "
            ]
          },
          "metadata": {},
          "execution_count": 5
        }
      ],
      "source": [
        "# cargamos datos\n",
        "house_data = pd.read_csv(\"./data/kc_house_data.csv\") # cargamos fichero\n",
        "\n",
        "# Eliminamos las columnas id y date \n",
        "house_data = house_data.drop(['id','date'], axis=1)\n",
        "\n",
        "# convertir las variables en pies al cuadrado en metros al cuadrado \n",
        "feetFeatures = ['sqft_living','sqft_lot','sqft_above','sqft_basement','sqft_living15','sqft_lot15']\n",
        "house_data[feetFeatures] = house_data[feetFeatures].apply(lambda x: x * 0.3048 * 0.3048)\n",
        "\n",
        "# renombramos\n",
        "house_data.columns = ['price','bedrooms','bathrooms','sqm_living','sqm_lot','floors','waterfront','view','condition',\n",
        "                      'grade','sqm_above','sqm_basement','yr_built','yr_renovated','zip_code','lat','long',\n",
        "                      'sqm_living15','sqm_lot15']\n",
        "\n",
        "# añadimos las nuevas variables\n",
        "house_data['years'] = 2019 - house_data['yr_built']\n",
        "house_data = house_data.drop(['yr_built','sqm_above'], axis=1)\n",
        "house_data = house_data[house_data.sqm_living <= 600]\n",
        "\n",
        "\n",
        "#house_data['bedrooms_squared'] = house_data['bedrooms'].apply(lambda x: x**2)\n",
        "house_data['bed_bath_rooms']   = house_data['bedrooms']*house_data['bathrooms']\n",
        "#house_data['log_sqm_living']   = house_data['sqm_living'].apply(lambda x: np.log(x))\n",
        "#house_data['lat_plus_long']    = house_data['lat']*house_data['long']\n",
        "\n",
        "house_data.head()"
      ]
    },
    {
      "cell_type": "code",
      "execution_count": null,
      "metadata": {
        "id": "rBuyY4e2zod_",
        "outputId": "9ab13312-97c4-4d26-8f76-8015ec099290",
        "colab": {
          "base_uri": "https://localhost:8080/",
          "height": 513
        }
      },
      "outputs": [
        {
          "output_type": "display_data",
          "data": {
            "text/plain": [
              "<Figure size 432x288 with 1 Axes>"
            ],
            "image/png": "[encoded data removed]"
          },
          "metadata": {
            "needs_background": "light"
          }
        },
        {
          "output_type": "display_data",
          "data": {
            "text/plain": [
              "<Figure size 432x288 with 1 Axes>"
            ],
            "image/png": "[encoded data removed]"
          },
          "metadata": {
            "needs_background": "light"
          }
        }
      ],
      "source": [
        "plt.hist(np.log10(house_data.price), bins=30)\n",
        "plt.show()\n",
        "\n",
        "plt.scatter(house_data.sqm_living, np.log10(house_data.price), alpha=0.1)\n",
        "plt.show()"
      ]
    },
    {
      "cell_type": "code",
      "execution_count": null,
      "metadata": {
        "id": "LpkJCrbwzoeA",
        "outputId": "1c04364e-9be3-4abb-bf93-7d60394705b0",
        "colab": {
          "base_uri": "https://localhost:8080/",
          "height": 709
        }
      },
      "outputs": [
        {
          "output_type": "execute_result",
          "data": {
            "text/plain": [
              "                  count           mean            std           min  \\\n",
              "price           21568.0  534959.642433  341357.402350  75000.000000   \n",
              "bedrooms        21568.0       3.367350       0.926683      0.000000   \n",
              "bathrooms       21568.0       2.108436       0.756119      0.000000   \n",
              "sqm_living      21568.0     192.148022      81.843245     26.941882   \n",
              "sqm_lot         21568.0    1389.661587    3791.006065     48.309581   \n",
              "floors          21568.0       1.493231       0.539595      1.000000   \n",
              "waterfront      21568.0       0.007233       0.084741      0.000000   \n",
              "view            21568.0       0.230759       0.758944      0.000000   \n",
              "condition       21568.0       3.409774       0.651011      1.000000   \n",
              "grade           21568.0       7.648322       1.160938      1.000000   \n",
              "sqm_basement    21568.0      26.802471      40.402986      0.000000   \n",
              "yr_renovated    21568.0      84.022302     400.811921      0.000000   \n",
              "zip_code        21568.0   98077.991098      53.496889  98001.000000   \n",
              "lat             21568.0      47.559964       0.138644     47.155900   \n",
              "long            21568.0    -122.214027       0.140784   -122.519000   \n",
              "sqm_living15    21568.0     184.202744      63.099866     37.068313   \n",
              "sqm_lot15       21568.0    1176.613082    2465.086786     60.479879   \n",
              "years           21568.0      48.030786      29.367176      4.000000   \n",
              "bed_bath_rooms  21568.0       7.458411       4.117985      0.000000   \n",
              "\n",
              "                          25%            50%            75%           max  \n",
              "price           321000.000000  450000.000000  641000.000000  4.489000e+06  \n",
              "bedrooms             3.000000       3.000000       4.000000  3.300000e+01  \n",
              "bathrooms            1.500000       2.250000       2.500000  7.500000e+00  \n",
              "sqm_living         131.922317     177.444806     235.973722  5.973665e+02  \n",
              "sqm_lot            468.231322     706.620522     988.256088  1.534163e+05  \n",
              "floors               1.000000       1.500000       2.000000  3.500000e+00  \n",
              "waterfront           0.000000       0.000000       0.000000  1.000000e+00  \n",
              "view                 0.000000       0.000000       0.000000  4.000000e+00  \n",
              "condition            3.000000       3.000000       4.000000  5.000000e+00  \n",
              "grade                7.000000       7.000000       8.000000  1.300000e+01  \n",
              "sqm_basement         0.000000       0.000000      52.025702  2.647737e+02  \n",
              "yr_renovated         0.000000       0.000000       0.000000  2.015000e+03  \n",
              "zip_code         98033.000000   98065.000000   98118.000000  9.819900e+04  \n",
              "lat                 47.470575      47.571700      47.678025  4.777760e+01  \n",
              "long              -122.328000    -122.231000    -122.125000 -1.213150e+02  \n",
              "sqm_living15       138.425530     170.941594     219.251174  5.379086e+02  \n",
              "sqm_lot15          473.805504     707.921165     935.998128  8.093713e+04  \n",
              "years               22.000000      44.000000      68.000000  1.190000e+02  \n",
              "bed_bath_rooms       4.500000       7.000000      10.000000  6.750000e+01  "
            ],
            "text/html": [
              "\n",
              "  <div id=\"df-e18b4298-d4c2-4735-9ebe-65314afe21ef\">\n",
              "    <div class=\"colab-df-container\">\n",
              "      <div>\n",
              "<style scoped>\n",
              "    .dataframe tbody tr th:only-of-type {\n",
              "        vertical-align: middle;\n",
              "    }\n",
              "\n",
              "    .dataframe tbody tr th {\n",
              "        vertical-align: top;\n",
              "    }\n",
              "\n",
              "    .dataframe thead th {\n",
              "        text-align: right;\n",
              "    }\n",
              "</style>\n",
              "<table border=\"1\" class=\"dataframe\">\n",
              "  <thead>\n",
              "    <tr style=\"text-align: right;\">\n",
              "      <th></th>\n",
              "      <th>count</th>\n",
              "      <th>mean</th>\n",
              "      <th>std</th>\n",
              "      <th>min</th>\n",
              "      <th>25%</th>\n",
              "      <th>50%</th>\n",
              "      <th>75%</th>\n",
              "      <th>max</th>\n",
              "    </tr>\n",
              "  </thead>\n",
              "  <tbody>\n",
              "    <tr>\n",
              "      <th>price</th>\n",
              "      <td>21568.0</td>\n",
              "      <td>534959.642433</td>\n",
              "      <td>341357.402350</td>\n",
              "      <td>75000.000000</td>\n",
              "      <td>321000.000000</td>\n",
              "      <td>450000.000000</td>\n",
              "      <td>641000.000000</td>\n",
              "      <td>4.489000e+06</td>\n",
              "    </tr>\n",
              "    <tr>\n",
              "      <th>bedrooms</th>\n",
              "      <td>21568.0</td>\n",
              "      <td>3.367350</td>\n",
              "      <td>0.926683</td>\n",
              "      <td>0.000000</td>\n",
              "      <td>3.000000</td>\n",
              "      <td>3.000000</td>\n",
              "      <td>4.000000</td>\n",
              "      <td>3.300000e+01</td>\n",
              "    </tr>\n",
              "    <tr>\n",
              "      <th>bathrooms</th>\n",
              "      <td>21568.0</td>\n",
              "      <td>2.108436</td>\n",
              "      <td>0.756119</td>\n",
              "      <td>0.000000</td>\n",
              "      <td>1.500000</td>\n",
              "      <td>2.250000</td>\n",
              "      <td>2.500000</td>\n",
              "      <td>7.500000e+00</td>\n",
              "    </tr>\n",
              "    <tr>\n",
              "      <th>sqm_living</th>\n",
              "      <td>21568.0</td>\n",
              "      <td>192.148022</td>\n",
              "      <td>81.843245</td>\n",
              "      <td>26.941882</td>\n",
              "      <td>131.922317</td>\n",
              "      <td>177.444806</td>\n",
              "      <td>235.973722</td>\n",
              "      <td>5.973665e+02</td>\n",
              "    </tr>\n",
              "    <tr>\n",
              "      <th>sqm_lot</th>\n",
              "      <td>21568.0</td>\n",
              "      <td>1389.661587</td>\n",
              "      <td>3791.006065</td>\n",
              "      <td>48.309581</td>\n",
              "      <td>468.231322</td>\n",
              "      <td>706.620522</td>\n",
              "      <td>988.256088</td>\n",
              "      <td>1.534163e+05</td>\n",
              "    </tr>\n",
              "    <tr>\n",
              "      <th>floors</th>\n",
              "      <td>21568.0</td>\n",
              "      <td>1.493231</td>\n",
              "      <td>0.539595</td>\n",
              "      <td>1.000000</td>\n",
              "      <td>1.000000</td>\n",
              "      <td>1.500000</td>\n",
              "      <td>2.000000</td>\n",
              "      <td>3.500000e+00</td>\n",
              "    </tr>\n",
              "    <tr>\n",
              "      <th>waterfront</th>\n",
              "      <td>21568.0</td>\n",
              "      <td>0.007233</td>\n",
              "      <td>0.084741</td>\n",
              "      <td>0.000000</td>\n",
              "      <td>0.000000</td>\n",
              "      <td>0.000000</td>\n",
              "      <td>0.000000</td>\n",
              "      <td>1.000000e+00</td>\n",
              "    </tr>\n",
              "    <tr>\n",
              "      <th>view</th>\n",
              "      <td>21568.0</td>\n",
              "      <td>0.230759</td>\n",
              "      <td>0.758944</td>\n",
              "      <td>0.000000</td>\n",
              "      <td>0.000000</td>\n",
              "      <td>0.000000</td>\n",
              "      <td>0.000000</td>\n",
              "      <td>4.000000e+00</td>\n",
              "    </tr>\n",
              "    <tr>\n",
              "      <th>condition</th>\n",
              "      <td>21568.0</td>\n",
              "      <td>3.409774</td>\n",
              "      <td>0.651011</td>\n",
              "      <td>1.000000</td>\n",
              "      <td>3.000000</td>\n",
              "      <td>3.000000</td>\n",
              "      <td>4.000000</td>\n",
              "      <td>5.000000e+00</td>\n",
              "    </tr>\n",
              "    <tr>\n",
              "      <th>grade</th>\n",
              "      <td>21568.0</td>\n",
              "      <td>7.648322</td>\n",
              "      <td>1.160938</td>\n",
              "      <td>1.000000</td>\n",
              "      <td>7.000000</td>\n",
              "      <td>7.000000</td>\n",
              "      <td>8.000000</td>\n",
              "      <td>1.300000e+01</td>\n",
              "    </tr>\n",
              "    <tr>\n",
              "      <th>sqm_basement</th>\n",
              "      <td>21568.0</td>\n",
              "      <td>26.802471</td>\n",
              "      <td>40.402986</td>\n",
              "      <td>0.000000</td>\n",
              "      <td>0.000000</td>\n",
              "      <td>0.000000</td>\n",
              "      <td>52.025702</td>\n",
              "      <td>2.647737e+02</td>\n",
              "    </tr>\n",
              "    <tr>\n",
              "      <th>yr_renovated</th>\n",
              "      <td>21568.0</td>\n",
              "      <td>84.022302</td>\n",
              "      <td>400.811921</td>\n",
              "      <td>0.000000</td>\n",
              "      <td>0.000000</td>\n",
              "      <td>0.000000</td>\n",
              "      <td>0.000000</td>\n",
              "      <td>2.015000e+03</td>\n",
              "    </tr>\n",
              "    <tr>\n",
              "      <th>zip_code</th>\n",
              "      <td>21568.0</td>\n",
              "      <td>98077.991098</td>\n",
              "      <td>53.496889</td>\n",
              "      <td>98001.000000</td>\n",
              "      <td>98033.000000</td>\n",
              "      <td>98065.000000</td>\n",
              "      <td>98118.000000</td>\n",
              "      <td>9.819900e+04</td>\n",
              "    </tr>\n",
              "    <tr>\n",
              "      <th>lat</th>\n",
              "      <td>21568.0</td>\n",
              "      <td>47.559964</td>\n",
              "      <td>0.138644</td>\n",
              "      <td>47.155900</td>\n",
              "      <td>47.470575</td>\n",
              "      <td>47.571700</td>\n",
              "      <td>47.678025</td>\n",
              "      <td>4.777760e+01</td>\n",
              "    </tr>\n",
              "    <tr>\n",
              "      <th>long</th>\n",
              "      <td>21568.0</td>\n",
              "      <td>-122.214027</td>\n",
              "      <td>0.140784</td>\n",
              "      <td>-122.519000</td>\n",
              "      <td>-122.328000</td>\n",
              "      <td>-122.231000</td>\n",
              "      <td>-122.125000</td>\n",
              "      <td>-1.213150e+02</td>\n",
              "    </tr>\n",
              "    <tr>\n",
              "      <th>sqm_living15</th>\n",
              "      <td>21568.0</td>\n",
              "      <td>184.202744</td>\n",
              "      <td>63.099866</td>\n",
              "      <td>37.068313</td>\n",
              "      <td>138.425530</td>\n",
              "      <td>170.941594</td>\n",
              "      <td>219.251174</td>\n",
              "      <td>5.379086e+02</td>\n",
              "    </tr>\n",
              "    <tr>\n",
              "      <th>sqm_lot15</th>\n",
              "      <td>21568.0</td>\n",
              "      <td>1176.613082</td>\n",
              "      <td>2465.086786</td>\n",
              "      <td>60.479879</td>\n",
              "      <td>473.805504</td>\n",
              "      <td>707.921165</td>\n",
              "      <td>935.998128</td>\n",
              "      <td>8.093713e+04</td>\n",
              "    </tr>\n",
              "    <tr>\n",
              "      <th>years</th>\n",
              "      <td>21568.0</td>\n",
              "      <td>48.030786</td>\n",
              "      <td>29.367176</td>\n",
              "      <td>4.000000</td>\n",
              "      <td>22.000000</td>\n",
              "      <td>44.000000</td>\n",
              "      <td>68.000000</td>\n",
              "      <td>1.190000e+02</td>\n",
              "    </tr>\n",
              "    <tr>\n",
              "      <th>bed_bath_rooms</th>\n",
              "      <td>21568.0</td>\n",
              "      <td>7.458411</td>\n",
              "      <td>4.117985</td>\n",
              "      <td>0.000000</td>\n",
              "      <td>4.500000</td>\n",
              "      <td>7.000000</td>\n",
              "      <td>10.000000</td>\n",
              "      <td>6.750000e+01</td>\n",
              "    </tr>\n",
              "  </tbody>\n",
              "</table>\n",
              "</div>\n",
              "      <button class=\"colab-df-convert\" onclick=\"convertToInteractive('df-e18b4298-d4c2-4735-9ebe-65314afe21ef')\"\n",
              "              title=\"Convert this dataframe to an interactive table.\"\n",
              "              style=\"display:none;\">\n",
              "        \n",
              "  <svg xmlns=\"http://www.w3.org/2000/svg\" height=\"24px\"viewBox=\"0 0 24 24\"\n",
              "       width=\"24px\">\n",
              "    <path d=\"M0 0h24v24H0V0z\" fill=\"none\"/>\n",
              "    <path d=\"M18.56 5.44l.94 2.06.94-2.06 2.06-.94-2.06-.94-.94-2.06-.94 2.06-2.06.94zm-11 1L8.5 8.5l.94-2.06 2.06-.94-2.06-.94L8.5 2.5l-.94 2.06-2.06.94zm10 10l.94 2.06.94-2.06 2.06-.94-2.06-.94-.94-2.06-.94 2.06-2.06.94z\"/><path d=\"M17.41 7.96l-1.37-1.37c-.4-.4-.92-.59-1.43-.59-.52 0-1.04.2-1.43.59L10.3 9.45l-7.72 7.72c-.78.78-.78 2.05 0 2.83L4 21.41c.39.39.9.59 1.41.59.51 0 1.02-.2 1.41-.59l7.78-7.78 2.81-2.81c.8-.78.8-2.07 0-2.86zM5.41 20L4 18.59l7.72-7.72 1.47 1.35L5.41 20z\"/>\n",
              "  </svg>\n",
              "      </button>\n",
              "      \n",
              "  <style>\n",
              "    .colab-df-container {\n",
              "      display:flex;\n",
              "      flex-wrap:wrap;\n",
              "      gap: 12px;\n",
              "    }\n",
              "\n",
              "    .colab-df-convert {\n",
              "      background-color: #E8F0FE;\n",
              "      border: none;\n",
              "      border-radius: 50%;\n",
              "      cursor: pointer;\n",
              "      display: none;\n",
              "      fill: #1967D2;\n",
              "      height: 32px;\n",
              "      padding: 0 0 0 0;\n",
              "      width: 32px;\n",
              "    }\n",
              "\n",
              "    .colab-df-convert:hover {\n",
              "      background-color: #E2EBFA;\n",
              "      box-shadow: 0px 1px 2px rgba(60, 64, 67, 0.3), 0px 1px 3px 1px rgba(60, 64, 67, 0.15);\n",
              "      fill: #174EA6;\n",
              "    }\n",
              "\n",
              "    [theme=dark] .colab-df-convert {\n",
              "      background-color: #3B4455;\n",
              "      fill: #D2E3FC;\n",
              "    }\n",
              "\n",
              "    [theme=dark] .colab-df-convert:hover {\n",
              "      background-color: #434B5C;\n",
              "      box-shadow: 0px 1px 3px 1px rgba(0, 0, 0, 0.15);\n",
              "      filter: drop-shadow(0px 1px 2px rgba(0, 0, 0, 0.3));\n",
              "      fill: #FFFFFF;\n",
              "    }\n",
              "  </style>\n",
              "\n",
              "      <script>\n",
              "        const buttonEl =\n",
              "          document.querySelector('#df-e18b4298-d4c2-4735-9ebe-65314afe21ef button.colab-df-convert');\n",
              "        buttonEl.style.display =\n",
              "          google.colab.kernel.accessAllowed ? 'block' : 'none';\n",
              "\n",
              "        async function convertToInteractive(key) {\n",
              "          const element = document.querySelector('#df-e18b4298-d4c2-4735-9ebe-65314afe21ef');\n",
              "          const dataTable =\n",
              "            await google.colab.kernel.invokeFunction('convertToInteractive',\n",
              "                                                     [key], {});\n",
              "          if (!dataTable) return;\n",
              "\n",
              "          const docLinkHtml = 'Like what you see? Visit the ' +\n",
              "            '<a target=\"_blank\" href=https://colab.research.google.com/notebooks/data_table.ipynb>data table notebook</a>'\n",
              "            + ' to learn more about interactive tables.';\n",
              "          element.innerHTML = '';\n",
              "          dataTable['output_type'] = 'display_data';\n",
              "          await google.colab.output.renderOutput(dataTable, element);\n",
              "          const docLink = document.createElement('div');\n",
              "          docLink.innerHTML = docLinkHtml;\n",
              "          element.appendChild(docLink);\n",
              "        }\n",
              "      </script>\n",
              "    </div>\n",
              "  </div>\n",
              "  "
            ]
          },
          "metadata": {},
          "execution_count": 20
        }
      ],
      "source": [
        "house_data.describe().T"
      ]
    },
    {
      "cell_type": "code",
      "execution_count": null,
      "metadata": {
        "id": "8Sf6Yb9KzoeB"
      },
      "outputs": [],
      "source": [
        "# convertimos el DataFrame al formato necesario para scikit-learn\n",
        "data = house_data.values.copy()\n",
        "\n",
        "#y = data[:, 0]     # nos quedamos con la 1ª columna, price\n",
        "y = np.log10(data[:, 0])     # nos quedamos con la 1ª columna, log-price. Importante para juntar más los datos\n",
        "X = data[:, 1:]      # nos quedamos con el resto\n",
        "\n",
        "feature_names = house_data.columns[1:]"
      ]
    },
    {
      "cell_type": "code",
      "execution_count": null,
      "metadata": {
        "id": "pBwoNymZzoeC",
        "outputId": "14ff79f2-8dba-47ff-fe38-32876d4ac1ef",
        "colab": {
          "base_uri": "https://localhost:8080/"
        }
      },
      "outputs": [
        {
          "output_type": "stream",
          "name": "stdout",
          "text": [
            "Datos entrenamiento:  (16176, 18)\n",
            "Datos test:  (5392, 18)\n"
          ]
        }
      ],
      "source": [
        "from sklearn import preprocessing\n",
        "from sklearn.model_selection import train_test_split\n",
        "\n",
        "# Escalar todos los datos en este punto es INCORRECTO!! \n",
        "# X_mal = preprocessing.StandardScaler().fit_transform(X)\n",
        "\n",
        "# Dividimos los datos en entrenamiento y test (75% training, 25% test)\n",
        "X_train, X_test, y_train, y_test = train_test_split(X, y, test_size=.25, random_state = 2)\n",
        "\n",
        "print('Datos entrenamiento: ', X_train.shape)\n",
        "print('Datos test: ', X_test.shape)\n",
        "\n",
        "# Escalamos (obtenemos la transformación con los datos de train y la aplicamos a train y a test). Muy importante escalado\n",
        "scaler = preprocessing.StandardScaler().fit(X_train)\n",
        "X_train_scaled = scaler.transform(X_train)\n",
        "X_test_scaled = scaler.transform(X_test)"
      ]
    },
    {
      "cell_type": "code",
      "execution_count": null,
      "metadata": {
        "id": "Ad2RdcV9zoeI",
        "outputId": "16089a51-9d91-4967-afce-69febcbef263",
        "colab": {
          "base_uri": "https://localhost:8080/",
          "height": 265
        }
      },
      "outputs": [
        {
          "output_type": "display_data",
          "data": {
            "text/plain": [
              "<Figure size 432x288 with 1 Axes>"
            ],
            "image/png": "[encoded data removed]"
          },
          "metadata": {
            "needs_background": "light"
          }
        }
      ],
      "source": [
        "plt.hist(X_train_scaled[:,2], range = [-3, 3], bins=30)\n",
        "plt.show()"
      ]
    },
    {
      "cell_type": "markdown",
      "metadata": {
        "id": "kX2SFicGzoeK"
      },
      "source": [
        "En este caso, utilizamos la capacidad de LASSO para seleccionar variables. Recordemos que, para que los coeficientes de LASSO reflejen adecuadamente la importancia real de las variables, estas tiene que haber sido normalizadas con anterioridad."
      ]
    },
    {
      "cell_type": "code",
      "execution_count": null,
      "metadata": {
        "id": "M0XHr8pmzoeL",
        "outputId": "8f7fc77d-6a37-4335-dab3-cd83528bdbb0",
        "colab": {
          "base_uri": "https://localhost:8080/",
          "height": 334
        }
      },
      "outputs": [
        {
          "output_type": "stream",
          "name": "stdout",
          "text": [
            "best mean cross-validation score: -0.012\n",
            "best parameters: {'alpha': 3.856620421163472e-05}\n"
          ]
        },
        {
          "output_type": "display_data",
          "data": {
            "text/plain": [
              "<Figure size 432x288 with 1 Axes>"
            ],
            "image/png": "[encoded data removed]"
          },
          "metadata": {
            "needs_background": "light"
          }
        }
      ],
      "source": [
        "from sklearn.model_selection import GridSearchCV\n",
        "from sklearn.linear_model import Lasso\n",
        "\n",
        "K = 5 # número de folds, particiones del dataset\n",
        "\n",
        "# Rango de búsqueda del parámetro de regularización (mejor en escala logarítmica)\n",
        "# primera iteración\n",
        "# alpha_vector = np.logspace(-7, 10, 50)\n",
        "# segunda iteración (zoom)\n",
        "# alpha_vector = np.logspace(-7, -2, 20)\n",
        "# tercera iteración (zoom)\n",
        "alpha_vector = np.logspace(-7, -4, 30)\n",
        "\n",
        "param_grid = {'alpha': alpha_vector}\n",
        "grid = GridSearchCV(Lasso(), scoring= 'neg_mean_squared_error', param_grid=param_grid, cv = K)\n",
        "grid.fit(X_train_scaled, y_train)\n",
        "print(\"best mean cross-validation score: {:.3f}\".format(grid.best_score_))\n",
        "print(\"best parameters: {}\".format(grid.best_params_))\n",
        "\n",
        "scores = -1*np.array(grid.cv_results_['mean_test_score'])\n",
        "plt.semilogx(alpha_vector, scores,'-o')\n",
        "plt.xlabel('alpha', fontsize=16)\n",
        "plt.ylabel('{}-Fold MSE'.format(K))\n",
        "#plt.ylim((-1, 0))\n",
        "plt.show()"
      ]
    },
    {
      "cell_type": "code",
      "execution_count": null,
      "metadata": {
        "id": "iHifqU9hzoeM",
        "outputId": "0e031f72-0f9c-4fab-dac6-f739e1127e32",
        "colab": {
          "base_uri": "https://localhost:8080/"
        }
      },
      "outputs": [
        {
          "output_type": "stream",
          "name": "stdout",
          "text": [
            "alpha: 3.86e-05\n",
            "MSE Modelo Lasso (train): 0.012\n",
            "MSE Modelo Lasso (test) : 0.0116\n",
            "RMSE Modelo Lasso (train): 0.11\n",
            "RMSE Modelo Lasso (test) : 0.108\n",
            "bedrooms: -0.0009635646963028518\n",
            "bathrooms: 0.029626807946157897\n",
            "sqm_living: 0.05805031473146202\n",
            "sqm_lot: 0.007808518978018957\n",
            "floors: 0.017201280961150082\n",
            "waterfront: 0.01330369138180648\n",
            "view: 0.020616284151485743\n",
            "condition: 0.017351891569488173\n",
            "grade: 0.07800590327151845\n",
            "sqm_basement: 0.002256948894140616\n",
            "yr_renovated: 0.006404272226372353\n",
            "zip_code: -0.014766125853516355\n",
            "lat: 0.08396147348986466\n",
            "long: -0.010226765867101832\n",
            "sqm_living15: 0.02752216840151596\n",
            "sqm_lot15: -0.001963810149814881\n",
            "years: 0.043796276173191144\n",
            "bed_bath_rooms: -0.010902114793609117\n"
          ]
        }
      ],
      "source": [
        "from sklearn.metrics import mean_squared_error \n",
        "\n",
        "alpha_optimo = grid.best_params_['alpha']\n",
        "\n",
        "lasso = Lasso(alpha = alpha_optimo).fit(X_train_scaled, y_train)\n",
        "\n",
        "ytrainLasso = lasso.predict(X_train_scaled)\n",
        "ytestLasso  = lasso.predict(X_test_scaled)\n",
        "mseTrainModelLasso = mean_squared_error(y_train, ytrainLasso)\n",
        "mseTestModelLasso = mean_squared_error(y_test, ytestLasso)\n",
        "\n",
        "print('alpha: %0.3g' % alpha_optimo)\n",
        "\n",
        "print('MSE Modelo Lasso (train): %0.3g' % mseTrainModelLasso)\n",
        "print('MSE Modelo Lasso (test) : %0.3g' % mseTestModelLasso)\n",
        "\n",
        "print('RMSE Modelo Lasso (train): %0.3g' % np.sqrt(mseTrainModelLasso))\n",
        "print('RMSE Modelo Lasso (test) : %0.3g' % np.sqrt(mseTestModelLasso))\n",
        "\n",
        "w = lasso.coef_\n",
        "for f, wi in zip(feature_names, w):\n",
        "    print(\"{}: {}\".format(f, wi))"
      ]
    },
    {
      "cell_type": "markdown",
      "metadata": {
        "id": "PFIt0CgCzoeN"
      },
      "source": [
        "Como puede apreciarse, aparecen algunas incoherencias con respecto al valor esperado de los coeficientes, como por ejemplo el asociado a la variable `bedrooms` que tiene valor negativo. No tiene sentido que el precio de la vivienda disminuya si aumenta el número de habitaciones.\n",
        "\n",
        "Vamos a aumentar el parámetro de regularización y observar los resultados obtenidos:"
      ]
    },
    {
      "cell_type": "code",
      "execution_count": null,
      "metadata": {
        "id": "sy3Nv0ymzoeO",
        "outputId": "c1bb603f-1056-4a7d-a272-e3131f588657",
        "colab": {
          "base_uri": "https://localhost:8080/"
        }
      },
      "outputs": [
        {
          "output_type": "stream",
          "name": "stdout",
          "text": [
            "alpha: 0.01\n",
            "MSE Modelo Lasso (train): 0.013\n",
            "MSE Modelo Lasso (test) : 0.0126\n",
            "RMSE Modelo Lasso (train): 0.114\n",
            "RMSE Modelo Lasso (test) : 0.112\n",
            "bedrooms: 0.0\n",
            "bathrooms: 0.011077110559891008\n",
            "sqm_living: 0.06381332434681627\n",
            "sqm_lot: 0.0\n",
            "floors: 0.000923861483362773\n",
            "waterfront: 0.006818684134718059\n",
            "view: 0.018781382429581127\n",
            "condition: 0.009131466384560421\n",
            "grade: 0.07572023663115746\n",
            "sqm_basement: 0.0\n",
            "yr_renovated: 0.0015884059734067306\n",
            "zip_code: -0.0\n",
            "lat: 0.07562223333430598\n",
            "long: -0.0\n",
            "sqm_living15: 0.019104233003169394\n",
            "sqm_lot15: 0.0\n",
            "years: 0.023236472378938295\n",
            "bed_bath_rooms: 0.0\n"
          ]
        }
      ],
      "source": [
        "alpha_optimo = 1e-2\n",
        "lasso = Lasso(alpha = alpha_optimo).fit(X_train_scaled, y_train)\n",
        "\n",
        "ytrainLasso = lasso.predict(X_train_scaled)\n",
        "ytestLasso  = lasso.predict(X_test_scaled)\n",
        "mseTrainModelLasso = mean_squared_error(y_train, ytrainLasso)\n",
        "mseTestModelLasso = mean_squared_error(y_test, ytestLasso)\n",
        "\n",
        "print('alpha: %0.3g' % alpha_optimo)\n",
        "\n",
        "print('MSE Modelo Lasso (train): %0.3g' % mseTrainModelLasso)\n",
        "print('MSE Modelo Lasso (test) : %0.3g' % mseTestModelLasso)\n",
        "\n",
        "print('RMSE Modelo Lasso (train): %0.3g' % np.sqrt(mseTrainModelLasso))\n",
        "print('RMSE Modelo Lasso (test) : %0.3g' % np.sqrt(mseTestModelLasso))\n",
        "\n",
        "w = lasso.coef_\n",
        "for f, wi in zip(feature_names, w):\n",
        "    print(\"{}: {}\".format(f, wi))"
      ]
    },
    {
      "cell_type": "markdown",
      "metadata": {
        "id": "MzaP4tZOzoeP"
      },
      "source": [
        "Hemos aumentado el error ligeramente, pero a cambio:\n",
        "\n",
        "1. Tenemos un modelo más sencillo (menos variables al haber muchos coeficientes nulos) y, por tanto, menos susceptible a sufrir *overfitting*.\n",
        "2. Mejoramos la interpretabilidad del modelo: las variables supervivientes (con coeficientes distintos de cero) parecen concordar con nuestra intuición sobre el problema a resolver.\n",
        "\n",
        "Y una vez llegados a este punto, ¿qué podemos hacer? El error de entrenamiento/validación y test es similar, pero todavía es muy alto, así que: \n",
        "\n",
        "1. Se podrían definir nuevas variables que nos ayuden a mejorar el error de predicción.\n",
        "2. Jugar con el parámetro de regularización, para mantener el compromiso entre sencillez/interpretabilidad del modelo y error de predicción.\n",
        "3. Utilizar un modelo un modelo más expresivo, pero no debemos olvidar que debemos seguir controlando el sobreajuste.\n",
        "\n"
      ]
    }
  ],
  "metadata": {
    "kernelspec": {
      "display_name": "Python 3",
      "language": "python",
      "name": "python3"
    },
    "language_info": {
      "codemirror_mode": {
        "name": "ipython",
        "version": 3
      },
      "file_extension": ".py",
      "mimetype": "text/x-python",
      "name": "python",
      "nbconvert_exporter": "python",
      "pygments_lexer": "ipython3",
      "version": "3.7.4"
    },
    "colab": {
      "name": "Copia de 03_03_feature_selection_wrapper_embedded_methods.ipynb",
      "provenance": [],
      "collapsed_sections": [],
      "include_colab_link": true
    }
  },
  "nbformat": 4,
  "nbformat_minor": 0
}